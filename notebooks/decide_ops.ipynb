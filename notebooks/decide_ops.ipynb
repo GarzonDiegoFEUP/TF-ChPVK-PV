{
 "cells": [
  {
   "cell_type": "code",
   "execution_count": 1,
   "metadata": {},
   "outputs": [
    {
     "name": "stderr",
     "output_type": "stream",
     "text": [
      "\u001b[32m2025-03-06 14:01:22.827\u001b[0m | \u001b[1mINFO    \u001b[0m | \u001b[36mtf_chpvk_pv.config\u001b[0m:\u001b[36m<module>\u001b[0m:\u001b[36m11\u001b[0m - \u001b[1mPROJ_ROOT path is: /home/nomad-lanasc/Documents/Diego Garzon/TF-ChPVK-PV\u001b[0m\n"
     ]
    },
    {
     "name": "stdout",
     "output_type": "stream",
     "text": [
      "\u001b[32m2025-03-06 14:01:23.392\u001b[0m | \u001b[1mINFO    \u001b[0m | \u001b[36mtf_chpvk_pv.dataset\u001b[0m:\u001b[36mcreate_dataset\u001b[0m:\u001b[36m38\u001b[0m - \u001b[1mProcessing dataset...\u001b[0m\n",
      "\u001b[32m2025-03-06 14:01:24.530\u001b[0m | \u001b[32m\u001b[1mSUCCESS \u001b[0m | \u001b[36mtf_chpvk_pv.dataset\u001b[0m:\u001b[36mcreate_dataset\u001b[0m:\u001b[36m163\u001b[0m - \u001b[32m\u001b[1mProcessing dataset complete.\u001b[0m\n",
      "\u001b[32m2025-03-06 14:01:24.719\u001b[0m | \u001b[1mINFO    \u001b[0m | \u001b[36mtf_chpvk_pv.dataset\u001b[0m:\u001b[36mtrain_test_split_\u001b[0m:\u001b[36m177\u001b[0m - \u001b[1mCreating train and test dataset...\u001b[0m\n",
      "\u001b[32m2025-03-06 14:01:24.734\u001b[0m | \u001b[32m\u001b[1mSUCCESS \u001b[0m | \u001b[36mtf_chpvk_pv.dataset\u001b[0m:\u001b[36mtrain_test_split_\u001b[0m:\u001b[36m211\u001b[0m - \u001b[32m\u001b[1mCreating train and test dataset complete.\u001b[0m\n"
     ]
    }
   ],
   "source": [
    "from tf_chpvk_pv.dataset import *\n",
    "import pandas as pd\n",
    "\n",
    "df = create_dataset()\n",
    "\n",
    "train_df, test_df = train_test_split_()"
   ]
  },
  {
   "cell_type": "code",
   "execution_count": 2,
   "metadata": {},
   "outputs": [
    {
     "name": "stdout",
     "output_type": "stream",
     "text": [
      "In the training set, 141 compositions are unstable and 85 are stable.\n",
      "The distribution in the training set by anions is the following\n"
     ]
    },
    {
     "data": {
      "text/html": [
       "<div>\n",
       "<style scoped>\n",
       "    .dataframe tbody tr th:only-of-type {\n",
       "        vertical-align: middle;\n",
       "    }\n",
       "\n",
       "    .dataframe tbody tr th {\n",
       "        vertical-align: top;\n",
       "    }\n",
       "\n",
       "    .dataframe thead th {\n",
       "        text-align: right;\n",
       "    }\n",
       "</style>\n",
       "<table border=\"1\" class=\"dataframe\">\n",
       "  <thead>\n",
       "    <tr style=\"text-align: right;\">\n",
       "      <th></th>\n",
       "      <th></th>\n",
       "      <th>count</th>\n",
       "    </tr>\n",
       "    <tr>\n",
       "      <th>X</th>\n",
       "      <th>exp_label</th>\n",
       "      <th></th>\n",
       "    </tr>\n",
       "  </thead>\n",
       "  <tbody>\n",
       "    <tr>\n",
       "      <th rowspan=\"2\" valign=\"top\">Br</th>\n",
       "      <th>0.0</th>\n",
       "      <td>17</td>\n",
       "    </tr>\n",
       "    <tr>\n",
       "      <th>1.0</th>\n",
       "      <td>4</td>\n",
       "    </tr>\n",
       "    <tr>\n",
       "      <th rowspan=\"2\" valign=\"top\">Cl</th>\n",
       "      <th>0.0</th>\n",
       "      <td>43</td>\n",
       "    </tr>\n",
       "    <tr>\n",
       "      <th>1.0</th>\n",
       "      <td>14</td>\n",
       "    </tr>\n",
       "    <tr>\n",
       "      <th rowspan=\"2\" valign=\"top\">F</th>\n",
       "      <th>1.0</th>\n",
       "      <td>40</td>\n",
       "    </tr>\n",
       "    <tr>\n",
       "      <th>0.0</th>\n",
       "      <td>13</td>\n",
       "    </tr>\n",
       "    <tr>\n",
       "      <th rowspan=\"2\" valign=\"top\">I</th>\n",
       "      <th>0.0</th>\n",
       "      <td>29</td>\n",
       "    </tr>\n",
       "    <tr>\n",
       "      <th>1.0</th>\n",
       "      <td>5</td>\n",
       "    </tr>\n",
       "    <tr>\n",
       "      <th rowspan=\"2\" valign=\"top\">S</th>\n",
       "      <th>0.0</th>\n",
       "      <td>26</td>\n",
       "    </tr>\n",
       "    <tr>\n",
       "      <th>1.0</th>\n",
       "      <td>21</td>\n",
       "    </tr>\n",
       "    <tr>\n",
       "      <th rowspan=\"2\" valign=\"top\">Se</th>\n",
       "      <th>0.0</th>\n",
       "      <td>13</td>\n",
       "    </tr>\n",
       "    <tr>\n",
       "      <th>1.0</th>\n",
       "      <td>1</td>\n",
       "    </tr>\n",
       "  </tbody>\n",
       "</table>\n",
       "</div>"
      ],
      "text/plain": [
       "              count\n",
       "X  exp_label       \n",
       "Br 0.0           17\n",
       "   1.0            4\n",
       "Cl 0.0           43\n",
       "   1.0           14\n",
       "F  1.0           40\n",
       "   0.0           13\n",
       "I  0.0           29\n",
       "   1.0            5\n",
       "S  0.0           26\n",
       "   1.0           21\n",
       "Se 0.0           13\n",
       "   1.0            1"
      ]
     },
     "metadata": {},
     "output_type": "display_data"
    },
    {
     "name": "stdout",
     "output_type": "stream",
     "text": [
      "In the test set, 34 compositions are unstable and 23 are stable.\n",
      "The distribution in the test set by anions is the following\n"
     ]
    },
    {
     "data": {
      "text/html": [
       "<div>\n",
       "<style scoped>\n",
       "    .dataframe tbody tr th:only-of-type {\n",
       "        vertical-align: middle;\n",
       "    }\n",
       "\n",
       "    .dataframe tbody tr th {\n",
       "        vertical-align: top;\n",
       "    }\n",
       "\n",
       "    .dataframe thead th {\n",
       "        text-align: right;\n",
       "    }\n",
       "</style>\n",
       "<table border=\"1\" class=\"dataframe\">\n",
       "  <thead>\n",
       "    <tr style=\"text-align: right;\">\n",
       "      <th></th>\n",
       "      <th></th>\n",
       "      <th>count</th>\n",
       "    </tr>\n",
       "    <tr>\n",
       "      <th>X</th>\n",
       "      <th>exp_label</th>\n",
       "      <th></th>\n",
       "    </tr>\n",
       "  </thead>\n",
       "  <tbody>\n",
       "    <tr>\n",
       "      <th rowspan=\"2\" valign=\"top\">Br</th>\n",
       "      <th>0.0</th>\n",
       "      <td>5</td>\n",
       "    </tr>\n",
       "    <tr>\n",
       "      <th>1.0</th>\n",
       "      <td>1</td>\n",
       "    </tr>\n",
       "    <tr>\n",
       "      <th rowspan=\"2\" valign=\"top\">Cl</th>\n",
       "      <th>0.0</th>\n",
       "      <td>10</td>\n",
       "    </tr>\n",
       "    <tr>\n",
       "      <th>1.0</th>\n",
       "      <td>4</td>\n",
       "    </tr>\n",
       "    <tr>\n",
       "      <th rowspan=\"2\" valign=\"top\">F</th>\n",
       "      <th>1.0</th>\n",
       "      <td>11</td>\n",
       "    </tr>\n",
       "    <tr>\n",
       "      <th>0.0</th>\n",
       "      <td>2</td>\n",
       "    </tr>\n",
       "    <tr>\n",
       "      <th rowspan=\"2\" valign=\"top\">I</th>\n",
       "      <th>0.0</th>\n",
       "      <td>7</td>\n",
       "    </tr>\n",
       "    <tr>\n",
       "      <th>1.0</th>\n",
       "      <td>2</td>\n",
       "    </tr>\n",
       "    <tr>\n",
       "      <th rowspan=\"2\" valign=\"top\">S</th>\n",
       "      <th>0.0</th>\n",
       "      <td>7</td>\n",
       "    </tr>\n",
       "    <tr>\n",
       "      <th>1.0</th>\n",
       "      <td>5</td>\n",
       "    </tr>\n",
       "    <tr>\n",
       "      <th>Se</th>\n",
       "      <th>0.0</th>\n",
       "      <td>3</td>\n",
       "    </tr>\n",
       "  </tbody>\n",
       "</table>\n",
       "</div>"
      ],
      "text/plain": [
       "              count\n",
       "X  exp_label       \n",
       "Br 0.0            5\n",
       "   1.0            1\n",
       "Cl 0.0           10\n",
       "   1.0            4\n",
       "F  1.0           11\n",
       "   0.0            2\n",
       "I  0.0            7\n",
       "   1.0            2\n",
       "S  0.0            7\n",
       "   1.0            5\n",
       "Se 0.0            3"
      ]
     },
     "metadata": {},
     "output_type": "display_data"
    }
   ],
   "source": [
    "#count the number of material in each class in the training/test sets\n",
    "dict_ch = {133.15:'F',\n",
    "           180.61:'Cl',\n",
    "           198.14:'Se',\n",
    "           195.56:'Br',\n",
    "           184.40:'S',\n",
    "           219.49:'I'\n",
    "          }\n",
    "\n",
    "train_df['X'] = train_df.replace({'rX':dict_ch})['rX']\n",
    "test_df['X'] = test_df.replace({'rX':dict_ch})['rX']\n",
    "\n",
    "train_vc = pd.DataFrame(train_df[['X', 'exp_label']].groupby('X')['exp_label'].value_counts())\n",
    "test_vc = pd.DataFrame(test_df[['X', 'exp_label']].groupby('X')['exp_label'].value_counts())\n",
    "\n",
    "print('In the training set, %s compositions are unstable and %s are stable.' % (train_df['exp_label'].value_counts().values[0], train_df['exp_label'].value_counts().values[1]))\n",
    "print('The distribution in the training set by anions is the following')\n",
    "display(train_vc)\n",
    "\n",
    "print('In the test set, %s compositions are unstable and %s are stable.' % (test_df['exp_label'].value_counts().values[0], test_df['exp_label'].value_counts().values[1]))\n",
    "print('The distribution in the test set by anions is the following')\n",
    "display(test_vc)"
   ]
  },
  {
   "cell_type": "code",
   "execution_count": 3,
   "metadata": {},
   "outputs": [],
   "source": [
    "import glob as gl\n",
    "\n",
    "files = gl.glob('/home/nomad-lanasc/Documents/Diego Garzon/TF-ChPVK-PV/data/features_space/features/features/*.csv')"
   ]
  },
  {
   "cell_type": "code",
   "execution_count": 4,
   "metadata": {},
   "outputs": [
    {
     "name": "stdout",
     "output_type": "stream",
     "text": [
      "Classification tree accuracy (for t) on the train set: 0.637168.\n",
      "Classification tree accuracy (for t) on the train set (5 fold CV): 0.606280.\n",
      "Classification tree accuracy (for t) on the test set: 0.596491.\n",
      "0.868341 < t < 0.909563 indicates stable perovskites.\n",
      "Classification tree accuracy (for tau) on the train set: 0.884956.\n",
      "Classification tree accuracy (for tau) on the train set (5 fold CV): 0.880290.\n",
      "Classification tree accuracy (for tau) on the test set: 0.824561.\n",
      "tau < 4.180000 indicates stable perovskites.\n",
      "Classification tree accuracy (for t_jess) on the train set: 0.725664.\n",
      "Classification tree accuracy (for t_jess) on the train set (5 fold CV): 0.685990.\n",
      "Classification tree accuracy (for t_jess) on the test set: 0.631579.\n",
      "0.835219 < t_jess < 1.022730 indicates stable perovskites.\n",
      "\u001b[32m2025-03-06 14:01:25.544\u001b[0m | \u001b[1mINFO    \u001b[0m | \u001b[36mtf_chpvk_pv.modeling.train\u001b[0m:\u001b[36mtrain_tree_sis_features\u001b[0m:\u001b[36m81\u001b[0m - \u001b[1mTraining tree model with SISSO features...\u001b[0m\n",
      "Identified expression for t_sisso: (((rA_rX_ratio / log_rA_rB_ratio) + (log_rA_rB_ratio / rA_rX_ratio)) / ((rB_rX_ratio / chi_BX_ratio) + (rB_rX_ratio + chi_BX_ratio)))\n",
      "Classification tree accuracy (for t_sisso_68) on the train set: 0.831858.\n",
      "Classification tree accuracy (for t_sisso_68) on the train set (5 fold CV): 0.822802.\n",
      "Classification tree accuracy (for t_sisso_68) on the test set: 0.842105.\n",
      "t_sisso_68 < 1.157727 indicates stable perovskites.\n",
      "\u001b[32m2025-03-06 14:01:48.305\u001b[0m | \u001b[1mINFO    \u001b[0m | \u001b[36mtf_chpvk_pv.modeling.train\u001b[0m:\u001b[36mtrain_tree_sis_features\u001b[0m:\u001b[36m81\u001b[0m - \u001b[1mTraining tree model with SISSO features...\u001b[0m\n",
      "Identified expression for t_sisso: (((chi_BX_ratio / EA_A) * (chi_BX_ratio**3)) * ((chi_BX_ratio**3)**3))\n",
      "Classification tree accuracy (for t_sisso_269) on the train set: 0.769912.\n",
      "Classification tree accuracy (for t_sisso_269) on the train set (5 fold CV): 0.770048.\n",
      "Classification tree accuracy (for t_sisso_269) on the test set: 0.736842.\n",
      "t_sisso_269 < -23.105671 indicates stable perovskites.\n",
      "\u001b[32m2025-03-06 14:02:10.743\u001b[0m | \u001b[1mINFO    \u001b[0m | \u001b[36mtf_chpvk_pv.modeling.train\u001b[0m:\u001b[36mtrain_tree_sis_features\u001b[0m:\u001b[36m81\u001b[0m - \u001b[1mTraining tree model with SISSO features...\u001b[0m\n",
      "Identified expression for t_sisso: ((sqrt(rB_rX_ratio) + exp(chi_BX_ratio)) + (sqrt(log_rA_rB_ratio) + chi_BX_ratio))\n",
      "Classification tree accuracy (for t_sisso_107) on the train set: 0.787611.\n",
      "Classification tree accuracy (for t_sisso_107) on the train set (5 fold CV): 0.787729.\n",
      "Classification tree accuracy (for t_sisso_107) on the test set: 0.754386.\n",
      "t_sisso_107 < 6.203067 indicates stable perovskites.\n",
      "\u001b[32m2025-03-06 14:02:33.308\u001b[0m | \u001b[1mINFO    \u001b[0m | \u001b[36mtf_chpvk_pv.modeling.train\u001b[0m:\u001b[36mtrain_tree_sis_features\u001b[0m:\u001b[36m81\u001b[0m - \u001b[1mTraining tree model with SISSO features...\u001b[0m\n",
      "Identified expression for t_sisso: (|(exp(rA_rX_ratio) / exp(rB_rX_ratio)) - ((log_rA_rB_ratio**2)**2)|)\n",
      "Classification tree accuracy (for t_sisso_226) on the train set: 0.849558.\n",
      "Classification tree accuracy (for t_sisso_226) on the train set (5 fold CV): 0.849179.\n",
      "Classification tree accuracy (for t_sisso_226) on the test set: 0.877193.\n",
      "t_sisso_226 < 1.334092 indicates stable perovskites.\n",
      "\u001b[32m2025-03-06 14:02:55.868\u001b[0m | \u001b[1mINFO    \u001b[0m | \u001b[36mtf_chpvk_pv.modeling.train\u001b[0m:\u001b[36mtrain_tree_sis_features\u001b[0m:\u001b[36m81\u001b[0m - \u001b[1mTraining tree model with SISSO features...\u001b[0m\n",
      "Identified expression for t_sisso: (((|rA_rX_ratio - log_rA_rB_ratio|) - (rB_rX_ratio / log_rA_rB_ratio)) - exp((log_rA_rB_ratio / rA_rX_ratio)))\n",
      "Classification tree accuracy (for t_sisso_127) on the train set: 0.858407.\n",
      "Classification tree accuracy (for t_sisso_127) on the train set (5 fold CV): 0.858068.\n",
      "Classification tree accuracy (for t_sisso_127) on the test set: 0.912281.\n",
      "t_sisso_127 < -2.573866 indicates stable perovskites.\n",
      "\u001b[32m2025-03-06 14:03:18.612\u001b[0m | \u001b[1mINFO    \u001b[0m | \u001b[36mtf_chpvk_pv.modeling.train\u001b[0m:\u001b[36mtrain_tree_sis_features\u001b[0m:\u001b[36m81\u001b[0m - \u001b[1mTraining tree model with SISSO features...\u001b[0m\n",
      "Identified expression for t_sisso: ((log_rA_rB_ratio / exp(log_rA_rB_ratio)) / exp((log_rA_rB_ratio / rA_rX_ratio)))\n",
      "Classification tree accuracy (for t_sisso_299) on the train set: 0.805310.\n",
      "Classification tree accuracy (for t_sisso_299) on the train set (5 fold CV): 0.778551.\n",
      "Classification tree accuracy (for t_sisso_299) on the test set: 0.859649.\n",
      "t_sisso_299 < 0.160311 indicates stable perovskites.\n",
      "\u001b[32m2025-03-06 14:03:41.195\u001b[0m | \u001b[1mINFO    \u001b[0m | \u001b[36mtf_chpvk_pv.modeling.train\u001b[0m:\u001b[36mtrain_tree_sis_features\u001b[0m:\u001b[36m81\u001b[0m - \u001b[1mTraining tree model with SISSO features...\u001b[0m\n",
      "Identified expression for t_sisso: (((rA_rX_ratio - rB_rX_ratio) + (1.0 / log_rA_rB_ratio)) - ((rB_rX_ratio - log_rA_rB_ratio) + rB_rX_ratio))\n",
      "Classification tree accuracy (for t_sisso_29) on the train set: 0.840708.\n",
      "Classification tree accuracy (for t_sisso_29) on the train set (5 fold CV): 0.840580.\n",
      "Classification tree accuracy (for t_sisso_29) on the test set: 0.842105.\n",
      "t_sisso_29 < 1.711579 indicates stable perovskites.\n",
      "\u001b[32m2025-03-06 14:04:03.726\u001b[0m | \u001b[1mINFO    \u001b[0m | \u001b[36mtf_chpvk_pv.modeling.train\u001b[0m:\u001b[36mtrain_tree_sis_features\u001b[0m:\u001b[36m81\u001b[0m - \u001b[1mTraining tree model with SISSO features...\u001b[0m\n",
      "Identified expression for t_sisso: (((rA_rX_ratio * log_rA_rB_ratio) * rA_rX_ratio) * (|sqrt(rB_rX_ratio) - (|rB_rX_ratio - log_rA_rB_ratio|)|))\n",
      "Error in /home/nomad-lanasc/Documents/Diego Garzon/TF-ChPVK-PV/data/features_space/features/features/features_sisso_222.csv\n",
      "\u001b[32m2025-03-06 14:04:26.300\u001b[0m | \u001b[1mINFO    \u001b[0m | \u001b[36mtf_chpvk_pv.modeling.train\u001b[0m:\u001b[36mtrain_tree_sis_features\u001b[0m:\u001b[36m81\u001b[0m - \u001b[1mTraining tree model with SISSO features...\u001b[0m\n",
      "Identified expression for t_sisso: (|(|sqrt(rB_rX_ratio) - sqrt(log_rA_rB_ratio)|) - (sqrt(rB_rX_ratio) + sqrt(log_rA_rB_ratio))|)\n",
      "Error in /home/nomad-lanasc/Documents/Diego Garzon/TF-ChPVK-PV/data/features_space/features/features/features_sisso_59.csv\n",
      "\u001b[32m2025-03-06 14:04:48.720\u001b[0m | \u001b[1mINFO    \u001b[0m | \u001b[36mtf_chpvk_pv.modeling.train\u001b[0m:\u001b[36mtrain_tree_sis_features\u001b[0m:\u001b[36m81\u001b[0m - \u001b[1mTraining tree model with SISSO features...\u001b[0m\n",
      "Identified expression for t_sisso: (((rA_rX_ratio + rB_rX_ratio) + (rA_rX_ratio + log_rA_rB_ratio)) + ((chi_BX_ratio**3)**3))\n",
      "Classification tree accuracy (for t_sisso_79) on the train set: 0.783186.\n",
      "Classification tree accuracy (for t_sisso_79) on the train set (5 fold CV): 0.783382.\n",
      "Classification tree accuracy (for t_sisso_79) on the test set: 0.754386.\n",
      "t_sisso_79 < 9.868897 indicates stable perovskites.\n",
      "\u001b[32m2025-03-06 14:05:11.322\u001b[0m | \u001b[1mINFO    \u001b[0m | \u001b[36mtf_chpvk_pv.modeling.train\u001b[0m:\u001b[36mtrain_tree_sis_features\u001b[0m:\u001b[36m81\u001b[0m - \u001b[1mTraining tree model with SISSO features...\u001b[0m\n",
      "Identified expression for t_sisso: (((EA_A / rB_rX_ratio) * log(rA_rX_ratio)) * ((rA_rX_ratio**3) / log(rB_rX_ratio)))\n",
      "Classification tree accuracy (for t_sisso_273) on the train set: 0.800885.\n",
      "Classification tree accuracy (for t_sisso_273) on the train set (5 fold CV): 0.800870.\n",
      "Classification tree accuracy (for t_sisso_273) on the test set: 0.736842.\n",
      "t_sisso_273 < 0.066390 indicates stable perovskites.\n",
      "\u001b[32m2025-03-06 14:05:33.881\u001b[0m | \u001b[1mINFO    \u001b[0m | \u001b[36mtf_chpvk_pv.modeling.train\u001b[0m:\u001b[36mtrain_tree_sis_features\u001b[0m:\u001b[36m81\u001b[0m - \u001b[1mTraining tree model with SISSO features...\u001b[0m\n",
      "Identified expression for t_sisso: (((rA_rX_ratio - chi_BX_ratio) - (1.0 / rA_rX_ratio)) + ((1.0 / rB_rX_ratio) + (1.0 / log_rA_rB_ratio)))\n",
      "Classification tree accuracy (for t_sisso_10) on the train set: 0.796460.\n",
      "Classification tree accuracy (for t_sisso_10) on the train set (5 fold CV): 0.796425.\n",
      "Classification tree accuracy (for t_sisso_10) on the test set: 0.807018.\n",
      "t_sisso_10 < 2.651120 indicates stable perovskites.\n",
      "\u001b[32m2025-03-06 14:05:56.583\u001b[0m | \u001b[1mINFO    \u001b[0m | \u001b[36mtf_chpvk_pv.modeling.train\u001b[0m:\u001b[36mtrain_tree_sis_features\u001b[0m:\u001b[36m81\u001b[0m - \u001b[1mTraining tree model with SISSO features...\u001b[0m\n",
      "Identified expression for t_sisso: ((|(1.0 / rA_rX_ratio) - (|rB_rX_ratio - log_rA_rB_ratio|)|) - ((1.0 / rA_rX_ratio) - (rB_rX_ratio + log_rA_rB_ratio)))\n",
      "Error in /home/nomad-lanasc/Documents/Diego Garzon/TF-ChPVK-PV/data/features_space/features/features/features_sisso_3.csv\n",
      "\u001b[32m2025-03-06 14:06:19.005\u001b[0m | \u001b[1mINFO    \u001b[0m | \u001b[36mtf_chpvk_pv.modeling.train\u001b[0m:\u001b[36mtrain_tree_sis_features\u001b[0m:\u001b[36m81\u001b[0m - \u001b[1mTraining tree model with SISSO features...\u001b[0m\n",
      "Identified expression for t_sisso: (((rA_rX_ratio - chi_BX_ratio)**3) + (|(|rB_rX_ratio - log_rA_rB_ratio|) - (rB_rX_ratio + log_rA_rB_ratio)|))\n",
      "Error in /home/nomad-lanasc/Documents/Diego Garzon/TF-ChPVK-PV/data/features_space/features/features/features_sisso_5.csv\n",
      "\u001b[32m2025-03-06 14:06:41.600\u001b[0m | \u001b[1mINFO    \u001b[0m | \u001b[36mtf_chpvk_pv.modeling.train\u001b[0m:\u001b[36mtrain_tree_sis_features\u001b[0m:\u001b[36m81\u001b[0m - \u001b[1mTraining tree model with SISSO features...\u001b[0m\n",
      "Identified expression for t_sisso: (((|rA_rX_ratio - chi_BX_ratio|) * (|rB_rX_ratio - chi_BX_ratio|)) + (|(|rB_rX_ratio - log_rA_rB_ratio|) - (rB_rX_ratio + log_rA_rB_ratio)|))\n",
      "Error in /home/nomad-lanasc/Documents/Diego Garzon/TF-ChPVK-PV/data/features_space/features/features/features_sisso_38.csv\n",
      "\u001b[32m2025-03-06 14:07:03.840\u001b[0m | \u001b[1mINFO    \u001b[0m | \u001b[36mtf_chpvk_pv.modeling.train\u001b[0m:\u001b[36mtrain_tree_sis_features\u001b[0m:\u001b[36m81\u001b[0m - \u001b[1mTraining tree model with SISSO features...\u001b[0m\n",
      "Identified expression for t_sisso: (exp((rA_rX_ratio / log_rA_rB_ratio)) / (rB_rX_ratio**3))\n",
      "Classification tree accuracy (for t_sisso_303) on the train set: 0.853982.\n",
      "Classification tree accuracy (for t_sisso_303) on the train set (5 fold CV): 0.836039.\n",
      "Classification tree accuracy (for t_sisso_303) on the test set: 0.877193.\n",
      "t_sisso_303 < 40.338545 indicates stable perovskites.\n",
      "\u001b[32m2025-03-06 14:07:26.320\u001b[0m | \u001b[1mINFO    \u001b[0m | \u001b[36mtf_chpvk_pv.modeling.train\u001b[0m:\u001b[36mtrain_tree_sis_features\u001b[0m:\u001b[36m81\u001b[0m - \u001b[1mTraining tree model with SISSO features...\u001b[0m\n",
      "Identified expression for t_sisso: (((rA_rX_ratio + log_rA_rB_ratio) + (1.0 / log_rA_rB_ratio)) + ((1.0 / rB_rX_ratio) + sqrt(chi_BX_ratio)))\n",
      "Classification tree accuracy (for t_sisso_77) on the train set: 0.809735.\n",
      "Classification tree accuracy (for t_sisso_77) on the train set (5 fold CV): 0.800966.\n",
      "Classification tree accuracy (for t_sisso_77) on the test set: 0.824561.\n",
      "t_sisso_77 < 6.298115 indicates stable perovskites.\n",
      "\u001b[32m2025-03-06 14:07:48.698\u001b[0m | \u001b[1mINFO    \u001b[0m | \u001b[36mtf_chpvk_pv.modeling.train\u001b[0m:\u001b[36mtrain_tree_sis_features\u001b[0m:\u001b[36m81\u001b[0m - \u001b[1mTraining tree model with SISSO features...\u001b[0m\n",
      "Identified expression for t_sisso: ((|(rA_rX_ratio * log_rA_rB_ratio) - exp(log_rA_rB_ratio)|) * (|(|rB_rX_ratio - log_rA_rB_ratio|) - rA_rX_ratio|))\n",
      "Error in /home/nomad-lanasc/Documents/Diego Garzon/TF-ChPVK-PV/data/features_space/features/features/features_sisso_210.csv\n",
      "\u001b[32m2025-03-06 14:08:11.218\u001b[0m | \u001b[1mINFO    \u001b[0m | \u001b[36mtf_chpvk_pv.modeling.train\u001b[0m:\u001b[36mtrain_tree_sis_features\u001b[0m:\u001b[36m81\u001b[0m - \u001b[1mTraining tree model with SISSO features...\u001b[0m\n",
      "Identified expression for t_sisso: ((sqrt(rA_rX_ratio) / rB_rX_ratio) / (|(|rB_rX_ratio - log_rA_rB_ratio|) - exp(log_rA_rB_ratio)|))\n",
      "Error in /home/nomad-lanasc/Documents/Diego Garzon/TF-ChPVK-PV/data/features_space/features/features/features_sisso_228.csv\n",
      "\u001b[32m2025-03-06 14:08:33.484\u001b[0m | \u001b[1mINFO    \u001b[0m | \u001b[36mtf_chpvk_pv.modeling.train\u001b[0m:\u001b[36mtrain_tree_sis_features\u001b[0m:\u001b[36m81\u001b[0m - \u001b[1mTraining tree model with SISSO features...\u001b[0m\n",
      "Identified expression for t_sisso: ((exp(rA_rX_ratio) - (rA_rX_ratio - log_rA_rB_ratio)) - (|exp(rB_rX_ratio) - exp(log_rA_rB_ratio)|))\n",
      "Classification tree accuracy (for t_sisso_134) on the train set: 0.867257.\n",
      "Classification tree accuracy (for t_sisso_134) on the train set (5 fold CV): 0.866957.\n",
      "Classification tree accuracy (for t_sisso_134) on the test set: 0.877193.\n",
      "t_sisso_134 < 1.849680 indicates stable perovskites.\n",
      "\u001b[32m2025-03-06 14:08:56.060\u001b[0m | \u001b[1mINFO    \u001b[0m | \u001b[36mtf_chpvk_pv.modeling.train\u001b[0m:\u001b[36mtrain_tree_sis_features\u001b[0m:\u001b[36m81\u001b[0m - \u001b[1mTraining tree model with SISSO features...\u001b[0m\n",
      "Identified expression for t_sisso: (((rB_rX_ratio / rA_rX_ratio) / log(rB_rX_ratio)) / exp((rB_rX_ratio / log_rA_rB_ratio)))\n",
      "Classification tree accuracy (for t_sisso_298) on the train set: 0.867257.\n",
      "Classification tree accuracy (for t_sisso_298) on the train set (5 fold CV): 0.862512.\n",
      "Classification tree accuracy (for t_sisso_298) on the test set: 0.877193.\n",
      "t_sisso_298 < -0.322617 indicates stable perovskites.\n",
      "\u001b[32m2025-03-06 14:09:18.409\u001b[0m | \u001b[1mINFO    \u001b[0m | \u001b[36mtf_chpvk_pv.modeling.train\u001b[0m:\u001b[36mtrain_tree_sis_features\u001b[0m:\u001b[36m81\u001b[0m - \u001b[1mTraining tree model with SISSO features...\u001b[0m\n",
      "Identified expression for t_sisso: (|(|(rA_rX_ratio - rB_rX_ratio) - rB_rX_ratio|) - (|(|rB_rX_ratio - log_rA_rB_ratio|) - rA_rX_ratio|)|)\n",
      "Error in /home/nomad-lanasc/Documents/Diego Garzon/TF-ChPVK-PV/data/features_space/features/features/features_sisso_139.csv\n",
      "\u001b[32m2025-03-06 14:09:40.866\u001b[0m | \u001b[1mINFO    \u001b[0m | \u001b[36mtf_chpvk_pv.modeling.train\u001b[0m:\u001b[36mtrain_tree_sis_features\u001b[0m:\u001b[36m81\u001b[0m - \u001b[1mTraining tree model with SISSO features...\u001b[0m\n",
      "Identified expression for t_sisso: (((rA_rX_ratio - log_rA_rB_ratio) * (log_rA_rB_ratio**3)) * ((log_rA_rB_ratio**3) - log_rA_rB_ratio))\n",
      "Classification tree accuracy (for t_sisso_12) on the train set: 0.831858.\n",
      "Classification tree accuracy (for t_sisso_12) on the train set (5 fold CV): 0.827343.\n",
      "Classification tree accuracy (for t_sisso_12) on the test set: 0.824561.\n",
      "t_sisso_12 < -0.017103 indicates stable perovskites.\n",
      "\u001b[32m2025-03-06 14:10:03.232\u001b[0m | \u001b[1mINFO    \u001b[0m | \u001b[36mtf_chpvk_pv.modeling.train\u001b[0m:\u001b[36mtrain_tree_sis_features\u001b[0m:\u001b[36m81\u001b[0m - \u001b[1mTraining tree model with SISSO features...\u001b[0m\n",
      "Identified expression for t_sisso: (((rA_rX_ratio / log_rA_rB_ratio) + (log_rA_rB_ratio / chi_BX_ratio)) / ((rA_rX_ratio + rB_rX_ratio) + (rB_rX_ratio / chi_BX_ratio)))\n",
      "Classification tree accuracy (for t_sisso_93) on the train set: 0.840708.\n",
      "Classification tree accuracy (for t_sisso_93) on the train set (5 fold CV): 0.831884.\n",
      "Classification tree accuracy (for t_sisso_93) on the test set: 0.859649.\n",
      "t_sisso_93 < 1.151516 indicates stable perovskites.\n",
      "\u001b[32m2025-03-06 14:10:25.975\u001b[0m | \u001b[1mINFO    \u001b[0m | \u001b[36mtf_chpvk_pv.modeling.train\u001b[0m:\u001b[36mtrain_tree_sis_features\u001b[0m:\u001b[36m81\u001b[0m - \u001b[1mTraining tree model with SISSO features...\u001b[0m\n",
      "Identified expression for t_sisso: (((rA_rX_ratio * log_rA_rB_ratio) * rA_rX_ratio) * (|sqrt(rB_rX_ratio) - (|rB_rX_ratio - log_rA_rB_ratio|)|))\n",
      "Error in /home/nomad-lanasc/Documents/Diego Garzon/TF-ChPVK-PV/data/features_space/features/features/features_sisso_217.csv\n",
      "\u001b[32m2025-03-06 14:10:48.349\u001b[0m | \u001b[1mINFO    \u001b[0m | \u001b[36mtf_chpvk_pv.modeling.train\u001b[0m:\u001b[36mtrain_tree_sis_features\u001b[0m:\u001b[36m81\u001b[0m - \u001b[1mTraining tree model with SISSO features...\u001b[0m\n",
      "Identified expression for t_sisso: (((rA_rX_ratio * rB_rX_ratio) * (rA_rX_ratio - log_rA_rB_ratio)) * (exp(rA_rX_ratio) - (1.0 / log_rA_rB_ratio)))\n",
      "Classification tree accuracy (for t_sisso_154) on the train set: 0.831858.\n",
      "Classification tree accuracy (for t_sisso_154) on the train set (5 fold CV): 0.831594.\n",
      "Classification tree accuracy (for t_sisso_154) on the test set: 0.824561.\n",
      "t_sisso_154 < 0.065328 indicates stable perovskites.\n",
      "\u001b[32m2025-03-06 14:11:10.863\u001b[0m | \u001b[1mINFO    \u001b[0m | \u001b[36mtf_chpvk_pv.modeling.train\u001b[0m:\u001b[36mtrain_tree_sis_features\u001b[0m:\u001b[36m81\u001b[0m - \u001b[1mTraining tree model with SISSO features...\u001b[0m\n",
      "Identified expression for t_sisso: (((rA_rX_ratio * rB_rX_ratio) - (rA_rX_ratio - log_rA_rB_ratio)) * ((rA_rX_ratio - log_rA_rB_ratio) * exp(rB_rX_ratio)))\n",
      "Classification tree accuracy (for t_sisso_155) on the train set: 0.831858.\n",
      "Classification tree accuracy (for t_sisso_155) on the train set (5 fold CV): 0.831594.\n",
      "Classification tree accuracy (for t_sisso_155) on the test set: 0.807018.\n",
      "t_sisso_155 < 0.055345 indicates stable perovskites.\n",
      "\u001b[32m2025-03-06 14:11:33.287\u001b[0m | \u001b[1mINFO    \u001b[0m | \u001b[36mtf_chpvk_pv.modeling.train\u001b[0m:\u001b[36mtrain_tree_sis_features\u001b[0m:\u001b[36m81\u001b[0m - \u001b[1mTraining tree model with SISSO features...\u001b[0m\n",
      "Identified expression for t_sisso: (((rA_rX_ratio * rB_rX_ratio) * (rA_rX_ratio - rB_rX_ratio)) + ((rA_rX_ratio - rB_rX_ratio) - (|rB_rX_ratio - log_rA_rB_ratio|)))\n",
      "Classification tree accuracy (for t_sisso_0) on the train set: 0.862832.\n",
      "Classification tree accuracy (for t_sisso_0) on the train set (5 fold CV): 0.858164.\n",
      "Classification tree accuracy (for t_sisso_0) on the test set: 0.859649.\n",
      "t_sisso_0 < 0.397033 indicates stable perovskites.\n",
      "\u001b[32m2025-03-06 14:11:55.675\u001b[0m | \u001b[1mINFO    \u001b[0m | \u001b[36mtf_chpvk_pv.modeling.train\u001b[0m:\u001b[36mtrain_tree_sis_features\u001b[0m:\u001b[36m81\u001b[0m - \u001b[1mTraining tree model with SISSO features...\u001b[0m\n",
      "Identified expression for t_sisso: (|((rA_rX_ratio * rB_rX_ratio) * (rB_rX_ratio**2)) - (|(rA_rX_ratio**2) - (|rB_rX_ratio - log_rA_rB_ratio|)|)|)\n",
      "Error in /home/nomad-lanasc/Documents/Diego Garzon/TF-ChPVK-PV/data/features_space/features/features/features_sisso_215.csv\n",
      "\u001b[32m2025-03-06 14:12:17.897\u001b[0m | \u001b[1mINFO    \u001b[0m | \u001b[36mtf_chpvk_pv.modeling.train\u001b[0m:\u001b[36mtrain_tree_sis_features\u001b[0m:\u001b[36m81\u001b[0m - \u001b[1mTraining tree model with SISSO features...\u001b[0m\n",
      "Identified expression for t_sisso: (((rA_rX_ratio + rB_rX_ratio) + (rA_rX_ratio + log_rA_rB_ratio)) + ((chi_BX_ratio**3)**3))\n",
      "Classification tree accuracy (for t_sisso_72) on the train set: 0.783186.\n",
      "Classification tree accuracy (for t_sisso_72) on the train set (5 fold CV): 0.783382.\n",
      "Classification tree accuracy (for t_sisso_72) on the test set: 0.754386.\n",
      "t_sisso_72 < 9.868897 indicates stable perovskites.\n",
      "\u001b[32m2025-03-06 14:12:40.445\u001b[0m | \u001b[1mINFO    \u001b[0m | \u001b[36mtf_chpvk_pv.modeling.train\u001b[0m:\u001b[36mtrain_tree_sis_features\u001b[0m:\u001b[36m81\u001b[0m - \u001b[1mTraining tree model with SISSO features...\u001b[0m\n",
      "Identified expression for t_sisso: (((rA_rX_ratio / log_rA_rB_ratio) + (log_rA_rB_ratio / rB_rX_ratio)) / ((rA_rX_ratio / chi_BX_ratio) + (chi_BX_ratio**3)))\n",
      "Classification tree accuracy (for t_sisso_67) on the train set: 0.827434.\n",
      "Classification tree accuracy (for t_sisso_67) on the train set (5 fold CV): 0.822705.\n",
      "Classification tree accuracy (for t_sisso_67) on the test set: 0.789474.\n",
      "t_sisso_67 < 1.723119 indicates stable perovskites.\n",
      "\u001b[32m2025-03-06 14:13:02.872\u001b[0m | \u001b[1mINFO    \u001b[0m | \u001b[36mtf_chpvk_pv.modeling.train\u001b[0m:\u001b[36mtrain_tree_sis_features\u001b[0m:\u001b[36m81\u001b[0m - \u001b[1mTraining tree model with SISSO features...\u001b[0m\n",
      "Identified expression for t_sisso: (((chi_BX_ratio**3) - (chi_BX_ratio / log_rA_rB_ratio)) - ((log_rA_rB_ratio / rB_rX_ratio) / exp(rB_rX_ratio)))\n",
      "Classification tree accuracy (for t_sisso_171) on the train set: 0.867257.\n",
      "Classification tree accuracy (for t_sisso_171) on the train set (5 fold CV): 0.858261.\n",
      "Classification tree accuracy (for t_sisso_171) on the test set: 0.859649.\n",
      "t_sisso_171 < -1.626950 indicates stable perovskites.\n",
      "\u001b[32m2025-03-06 14:13:25.393\u001b[0m | \u001b[1mINFO    \u001b[0m | \u001b[36mtf_chpvk_pv.modeling.train\u001b[0m:\u001b[36mtrain_tree_sis_features\u001b[0m:\u001b[36m81\u001b[0m - \u001b[1mTraining tree model with SISSO features...\u001b[0m\n",
      "Identified expression for t_sisso: (((rA_rX_ratio / log_rA_rB_ratio) + log_rA_rB_ratio) / (|(rA_rX_ratio**2) - (|rB_rX_ratio - log_rA_rB_ratio|)|))\n",
      "Error in /home/nomad-lanasc/Documents/Diego Garzon/TF-ChPVK-PV/data/features_space/features/features/features_sisso_45.csv\n",
      "\u001b[32m2025-03-06 14:13:47.606\u001b[0m | \u001b[1mINFO    \u001b[0m | \u001b[36mtf_chpvk_pv.modeling.train\u001b[0m:\u001b[36mtrain_tree_sis_features\u001b[0m:\u001b[36m81\u001b[0m - \u001b[1mTraining tree model with SISSO features...\u001b[0m\n",
      "Identified expression for t_sisso: (|(|(rA_rX_ratio - rB_rX_ratio) - rB_rX_ratio|) - (|(|rB_rX_ratio - log_rA_rB_ratio|) - rA_rX_ratio|)|)\n",
      "Error in /home/nomad-lanasc/Documents/Diego Garzon/TF-ChPVK-PV/data/features_space/features/features/features_sisso_147.csv\n",
      "\u001b[32m2025-03-06 14:14:10.188\u001b[0m | \u001b[1mINFO    \u001b[0m | \u001b[36mtf_chpvk_pv.modeling.train\u001b[0m:\u001b[36mtrain_tree_sis_features\u001b[0m:\u001b[36m81\u001b[0m - \u001b[1mTraining tree model with SISSO features...\u001b[0m\n",
      "Identified expression for t_sisso: (|(|(|rB_rX_ratio - log_rA_rB_ratio|) - rA_rX_ratio|) - (|(log_rA_rB_ratio**2) - log_rA_rB_ratio|)|)\n",
      "Error in /home/nomad-lanasc/Documents/Diego Garzon/TF-ChPVK-PV/data/features_space/features/features/features_sisso_250.csv\n",
      "\u001b[32m2025-03-06 14:14:32.383\u001b[0m | \u001b[1mINFO    \u001b[0m | \u001b[36mtf_chpvk_pv.modeling.train\u001b[0m:\u001b[36mtrain_tree_sis_features\u001b[0m:\u001b[36m81\u001b[0m - \u001b[1mTraining tree model with SISSO features...\u001b[0m\n",
      "Identified expression for t_sisso: (((rA_rX_ratio + log_rA_rB_ratio) + (1.0 / rB_rX_ratio)) + (1.0 / log_rA_rB_ratio))\n",
      "Classification tree accuracy (for t_sisso_110) on the train set: 0.871681.\n",
      "Classification tree accuracy (for t_sisso_110) on the train set (5 fold CV): 0.862512.\n",
      "Classification tree accuracy (for t_sisso_110) on the test set: 0.877193.\n",
      "t_sisso_110 < 5.321800 indicates stable perovskites.\n",
      "\u001b[32m2025-03-06 14:14:54.965\u001b[0m | \u001b[1mINFO    \u001b[0m | \u001b[36mtf_chpvk_pv.modeling.train\u001b[0m:\u001b[36mtrain_tree_sis_features\u001b[0m:\u001b[36m81\u001b[0m - \u001b[1mTraining tree model with SISSO features...\u001b[0m\n",
      "Identified expression for t_sisso: (((1.0 / rB_rX_ratio) + (1.0 / log_rA_rB_ratio)) + (rA_rX_ratio + log_rA_rB_ratio))\n",
      "Classification tree accuracy (for t_sisso_111) on the train set: 0.871681.\n",
      "Classification tree accuracy (for t_sisso_111) on the train set (5 fold CV): 0.862512.\n",
      "Classification tree accuracy (for t_sisso_111) on the test set: 0.877193.\n",
      "t_sisso_111 < 5.321800 indicates stable perovskites.\n",
      "\u001b[32m2025-03-06 14:15:17.345\u001b[0m | \u001b[1mINFO    \u001b[0m | \u001b[36mtf_chpvk_pv.modeling.train\u001b[0m:\u001b[36mtrain_tree_sis_features\u001b[0m:\u001b[36m81\u001b[0m - \u001b[1mTraining tree model with SISSO features...\u001b[0m\n",
      "Identified expression for t_sisso: (((chi_BX_ratio / log_rA_rB_ratio) + (log_rA_rB_ratio / rB_rX_ratio)) / (exp(chi_BX_ratio) + (chi_BX_ratio + log_rA_rB_ratio)))\n",
      "Classification tree accuracy (for t_sisso_64) on the train set: 0.853982.\n",
      "Classification tree accuracy (for t_sisso_64) on the train set (5 fold CV): 0.849565.\n",
      "Classification tree accuracy (for t_sisso_64) on the test set: 0.894737.\n",
      "t_sisso_64 < 0.724561 indicates stable perovskites.\n",
      "\u001b[32m2025-03-06 14:15:39.927\u001b[0m | \u001b[1mINFO    \u001b[0m | \u001b[36mtf_chpvk_pv.modeling.train\u001b[0m:\u001b[36mtrain_tree_sis_features\u001b[0m:\u001b[36m81\u001b[0m - \u001b[1mTraining tree model with SISSO features...\u001b[0m\n",
      "Identified expression for t_sisso: (|(|(rA_rX_ratio**2) - (|rB_rX_ratio - log_rA_rB_ratio|)|) - (|sqrt(log_rA_rB_ratio) - rA_rX_ratio|)|)\n",
      "Error in /home/nomad-lanasc/Documents/Diego Garzon/TF-ChPVK-PV/data/features_space/features/features/features_sisso_245.csv\n",
      "\u001b[32m2025-03-06 14:16:02.206\u001b[0m | \u001b[1mINFO    \u001b[0m | \u001b[36mtf_chpvk_pv.modeling.train\u001b[0m:\u001b[36mtrain_tree_sis_features\u001b[0m:\u001b[36m81\u001b[0m - \u001b[1mTraining tree model with SISSO features...\u001b[0m\n",
      "Identified expression for t_sisso: ((sqrt(rB_rX_ratio) - (rB_rX_ratio - log_rA_rB_ratio)) - ((rB_rX_ratio - log_rA_rB_ratio) - (1.0 / log_rA_rB_ratio)))\n",
      "Classification tree accuracy (for t_sisso_195) on the train set: 0.858407.\n",
      "Classification tree accuracy (for t_sisso_195) on the train set (5 fold CV): 0.853720.\n",
      "Classification tree accuracy (for t_sisso_195) on the test set: 0.877193.\n",
      "t_sisso_195 < 2.627082 indicates stable perovskites.\n",
      "\u001b[32m2025-03-06 14:16:24.864\u001b[0m | \u001b[1mINFO    \u001b[0m | \u001b[36mtf_chpvk_pv.modeling.train\u001b[0m:\u001b[36mtrain_tree_sis_features\u001b[0m:\u001b[36m81\u001b[0m - \u001b[1mTraining tree model with SISSO features...\u001b[0m\n",
      "Identified expression for t_sisso: (((rA_rX_ratio**2) - (rB_rX_ratio - log_rA_rB_ratio)) - ((rB_rX_ratio**2) + exp(log_rA_rB_ratio)))\n",
      "Classification tree accuracy (for t_sisso_22) on the train set: 0.818584.\n",
      "Classification tree accuracy (for t_sisso_22) on the train set (5 fold CV): 0.814010.\n",
      "Classification tree accuracy (for t_sisso_22) on the test set: 0.771930.\n",
      "t_sisso_22 < -1.211032 indicates stable perovskites.\n",
      "\u001b[32m2025-03-06 14:16:47.335\u001b[0m | \u001b[1mINFO    \u001b[0m | \u001b[36mtf_chpvk_pv.modeling.train\u001b[0m:\u001b[36mtrain_tree_sis_features\u001b[0m:\u001b[36m81\u001b[0m - \u001b[1mTraining tree model with SISSO features...\u001b[0m\n",
      "Identified expression for t_sisso: ((sqrt(rB_rX_ratio) * chi_BX_ratio) + (exp(chi_BX_ratio) + sqrt(log_rA_rB_ratio)))\n",
      "Classification tree accuracy (for t_sisso_73) on the train set: 0.787611.\n",
      "Classification tree accuracy (for t_sisso_73) on the train set (5 fold CV): 0.787729.\n",
      "Classification tree accuracy (for t_sisso_73) on the test set: 0.754386.\n",
      "t_sisso_73 < 5.171396 indicates stable perovskites.\n",
      "\u001b[32m2025-03-06 14:17:09.974\u001b[0m | \u001b[1mINFO    \u001b[0m | \u001b[36mtf_chpvk_pv.modeling.train\u001b[0m:\u001b[36mtrain_tree_sis_features\u001b[0m:\u001b[36m81\u001b[0m - \u001b[1mTraining tree model with SISSO features...\u001b[0m\n",
      "Identified expression for t_sisso: (((rA_rX_ratio * rB_rX_ratio) * (rB_rX_ratio**2)) - ((rA_rX_ratio**2) - (|rB_rX_ratio - log_rA_rB_ratio|)))\n",
      "Classification tree accuracy (for t_sisso_123) on the train set: 0.858407.\n",
      "Classification tree accuracy (for t_sisso_123) on the train set (5 fold CV): 0.858164.\n",
      "Classification tree accuracy (for t_sisso_123) on the test set: 0.877193.\n",
      "t_sisso_123 < -0.496468 indicates stable perovskites.\n",
      "\u001b[32m2025-03-06 14:17:32.442\u001b[0m | \u001b[1mINFO    \u001b[0m | \u001b[36mtf_chpvk_pv.modeling.train\u001b[0m:\u001b[36mtrain_tree_sis_features\u001b[0m:\u001b[36m81\u001b[0m - \u001b[1mTraining tree model with SISSO features...\u001b[0m\n",
      "Identified expression for t_sisso: (|(|(rA_rX_ratio / log_rA_rB_ratio) - (|rB_rX_ratio - log_rA_rB_ratio|)|) - (|(rB_rX_ratio / log_rA_rB_ratio) - (log_rA_rB_ratio**3)|)|)\n",
      "Error in /home/nomad-lanasc/Documents/Diego Garzon/TF-ChPVK-PV/data/features_space/features/features/features_sisso_231.csv\n",
      "\u001b[32m2025-03-06 14:17:54.934\u001b[0m | \u001b[1mINFO    \u001b[0m | \u001b[36mtf_chpvk_pv.modeling.train\u001b[0m:\u001b[36mtrain_tree_sis_features\u001b[0m:\u001b[36m81\u001b[0m - \u001b[1mTraining tree model with SISSO features...\u001b[0m\n",
      "Identified expression for t_sisso: (((EA_A * rB_rX_ratio) * exp(chi_BX_ratio)) * log((rA_rX_ratio * chi_BX_ratio)))\n",
      "Classification tree accuracy (for t_sisso_283) on the train set: 0.805310.\n",
      "Classification tree accuracy (for t_sisso_283) on the train set (5 fold CV): 0.805314.\n",
      "Classification tree accuracy (for t_sisso_283) on the test set: 0.719298.\n",
      "t_sisso_283 < -0.100853 indicates stable perovskites.\n",
      "\u001b[32m2025-03-06 14:18:17.221\u001b[0m | \u001b[1mINFO    \u001b[0m | \u001b[36mtf_chpvk_pv.modeling.train\u001b[0m:\u001b[36mtrain_tree_sis_features\u001b[0m:\u001b[36m81\u001b[0m - \u001b[1mTraining tree model with SISSO features...\u001b[0m\n",
      "Identified expression for t_sisso: (|(|(rA_rX_ratio - rB_rX_ratio) - rB_rX_ratio|) - (|(|rB_rX_ratio - log_rA_rB_ratio|) - rA_rX_ratio|)|)\n",
      "Error in /home/nomad-lanasc/Documents/Diego Garzon/TF-ChPVK-PV/data/features_space/features/features/features_sisso_142.csv\n",
      "\u001b[32m2025-03-06 14:18:39.698\u001b[0m | \u001b[1mINFO    \u001b[0m | \u001b[36mtf_chpvk_pv.modeling.train\u001b[0m:\u001b[36mtrain_tree_sis_features\u001b[0m:\u001b[36m81\u001b[0m - \u001b[1mTraining tree model with SISSO features...\u001b[0m\n",
      "Identified expression for t_sisso: ((chi_BX_ratio / sqrt(rA_rX_ratio)) / exp((chi_BX_ratio**3)))\n",
      "Classification tree accuracy (for t_sisso_302) on the train set: 0.783186.\n",
      "Classification tree accuracy (for t_sisso_302) on the train set (5 fold CV): 0.778937.\n",
      "Classification tree accuracy (for t_sisso_302) on the test set: 0.736842.\n",
      "t_sisso_302 < 0.171524 indicates stable perovskites.\n",
      "\u001b[32m2025-03-06 14:19:01.960\u001b[0m | \u001b[1mINFO    \u001b[0m | \u001b[36mtf_chpvk_pv.modeling.train\u001b[0m:\u001b[36mtrain_tree_sis_features\u001b[0m:\u001b[36m81\u001b[0m - \u001b[1mTraining tree model with SISSO features...\u001b[0m\n",
      "Identified expression for t_sisso: (|(|(rA_rX_ratio**2) - (|rB_rX_ratio - log_rA_rB_ratio|)|) - ((rB_rX_ratio**3) * rA_rX_ratio)|)\n",
      "Error in /home/nomad-lanasc/Documents/Diego Garzon/TF-ChPVK-PV/data/features_space/features/features/features_sisso_219.csv\n",
      "\u001b[32m2025-03-06 14:19:24.488\u001b[0m | \u001b[1mINFO    \u001b[0m | \u001b[36mtf_chpvk_pv.modeling.train\u001b[0m:\u001b[36mtrain_tree_sis_features\u001b[0m:\u001b[36m81\u001b[0m - \u001b[1mTraining tree model with SISSO features...\u001b[0m\n",
      "Identified expression for t_sisso: (((chi_BX_ratio / EA_A) * (chi_BX_ratio**3)) * ((chi_BX_ratio**3)**3))\n",
      "Classification tree accuracy (for t_sisso_272) on the train set: 0.769912.\n",
      "Classification tree accuracy (for t_sisso_272) on the train set (5 fold CV): 0.770048.\n",
      "Classification tree accuracy (for t_sisso_272) on the test set: 0.736842.\n",
      "t_sisso_272 < -23.105671 indicates stable perovskites.\n",
      "\u001b[32m2025-03-06 14:19:46.868\u001b[0m | \u001b[1mINFO    \u001b[0m | \u001b[36mtf_chpvk_pv.modeling.train\u001b[0m:\u001b[36mtrain_tree_sis_features\u001b[0m:\u001b[36m81\u001b[0m - \u001b[1mTraining tree model with SISSO features...\u001b[0m\n",
      "Identified expression for t_sisso: (((rB_rX_ratio + log_rA_rB_ratio) - (log_rA_rB_ratio**3)) + ((chi_BX_ratio**3) - (chi_BX_ratio - log_rA_rB_ratio)))\n",
      "Classification tree accuracy (for t_sisso_23) on the train set: 0.787611.\n",
      "Classification tree accuracy (for t_sisso_23) on the train set (5 fold CV): 0.787729.\n",
      "Classification tree accuracy (for t_sisso_23) on the test set: 0.736842.\n",
      "t_sisso_23 < 2.228706 indicates stable perovskites.\n",
      "\u001b[32m2025-03-06 14:20:09.595\u001b[0m | \u001b[1mINFO    \u001b[0m | \u001b[36mtf_chpvk_pv.modeling.train\u001b[0m:\u001b[36mtrain_tree_sis_features\u001b[0m:\u001b[36m81\u001b[0m - \u001b[1mTraining tree model with SISSO features...\u001b[0m\n",
      "Identified expression for t_sisso: (((rA_rX_ratio + log_rA_rB_ratio) + (1.0 / rB_rX_ratio)) + ((1.0 / log_rA_rB_ratio) - chi_BX_ratio))\n",
      "Classification tree accuracy (for t_sisso_21) on the train set: 0.827434.\n",
      "Classification tree accuracy (for t_sisso_21) on the train set (5 fold CV): 0.818551.\n",
      "Classification tree accuracy (for t_sisso_21) on the test set: 0.859649.\n",
      "t_sisso_21 < 4.464338 indicates stable perovskites.\n",
      "\u001b[32m2025-03-06 14:20:31.966\u001b[0m | \u001b[1mINFO    \u001b[0m | \u001b[36mtf_chpvk_pv.modeling.train\u001b[0m:\u001b[36mtrain_tree_sis_features\u001b[0m:\u001b[36m81\u001b[0m - \u001b[1mTraining tree model with SISSO features...\u001b[0m\n",
      "Identified expression for t_sisso: (((EA_A * rB_rX_ratio) * sqrt(chi_BX_ratio)) * log((rA_rX_ratio * chi_BX_ratio)))\n",
      "Classification tree accuracy (for t_sisso_293) on the train set: 0.805310.\n",
      "Classification tree accuracy (for t_sisso_293) on the train set (5 fold CV): 0.805314.\n",
      "Classification tree accuracy (for t_sisso_293) on the test set: 0.719298.\n",
      "t_sisso_293 < -0.042964 indicates stable perovskites.\n",
      "\u001b[32m2025-03-06 14:20:54.632\u001b[0m | \u001b[1mINFO    \u001b[0m | \u001b[36mtf_chpvk_pv.modeling.train\u001b[0m:\u001b[36mtrain_tree_sis_features\u001b[0m:\u001b[36m81\u001b[0m - \u001b[1mTraining tree model with SISSO features...\u001b[0m\n",
      "Identified expression for t_sisso: (((rA_rX_ratio / log_rA_rB_ratio) / rB_rX_ratio) / (|(|rB_rX_ratio - log_rA_rB_ratio|) - rA_rX_ratio|))\n",
      "Error in /home/nomad-lanasc/Documents/Diego Garzon/TF-ChPVK-PV/data/features_space/features/features/features_sisso_233.csv\n",
      "\u001b[32m2025-03-06 14:21:17.002\u001b[0m | \u001b[1mINFO    \u001b[0m | \u001b[36mtf_chpvk_pv.modeling.train\u001b[0m:\u001b[36mtrain_tree_sis_features\u001b[0m:\u001b[36m81\u001b[0m - \u001b[1mTraining tree model with SISSO features...\u001b[0m\n",
      "Identified expression for t_sisso: (((chi_BX_ratio**3) + log_rA_rB_ratio) - ((chi_BX_ratio / log_rA_rB_ratio) + (log_rA_rB_ratio / rB_rX_ratio)))\n",
      "Classification tree accuracy (for t_sisso_18) on the train set: 0.853982.\n",
      "Classification tree accuracy (for t_sisso_18) on the train set (5 fold CV): 0.853816.\n",
      "Classification tree accuracy (for t_sisso_18) on the test set: 0.859649.\n",
      "t_sisso_18 < -1.511530 indicates stable perovskites.\n",
      "\u001b[32m2025-03-06 14:21:39.674\u001b[0m | \u001b[1mINFO    \u001b[0m | \u001b[36mtf_chpvk_pv.modeling.train\u001b[0m:\u001b[36mtrain_tree_sis_features\u001b[0m:\u001b[36m81\u001b[0m - \u001b[1mTraining tree model with SISSO features...\u001b[0m\n",
      "Identified expression for t_sisso: ((|(1.0 / rB_rX_ratio) - (1.0 / log_rA_rB_ratio)|) + ((1.0 / rB_rX_ratio) + (1.0 / log_rA_rB_ratio)))\n",
      "Classification tree accuracy (for t_sisso_56) on the train set: 0.853982.\n",
      "Classification tree accuracy (for t_sisso_56) on the train set (5 fold CV): 0.853623.\n",
      "Classification tree accuracy (for t_sisso_56) on the test set: 0.912281.\n",
      "t_sisso_56 < 4.377569 indicates stable perovskites.\n",
      "\u001b[32m2025-03-06 14:22:02.088\u001b[0m | \u001b[1mINFO    \u001b[0m | \u001b[36mtf_chpvk_pv.modeling.train\u001b[0m:\u001b[36mtrain_tree_sis_features\u001b[0m:\u001b[36m81\u001b[0m - \u001b[1mTraining tree model with SISSO features...\u001b[0m\n",
      "Identified expression for t_sisso: (((rA_rX_ratio / log_rA_rB_ratio) + (log_rA_rB_ratio / rA_rX_ratio)) / ((rB_rX_ratio / chi_BX_ratio) + (rB_rX_ratio + chi_BX_ratio)))\n",
      "Classification tree accuracy (for t_sisso_96) on the train set: 0.831858.\n",
      "Classification tree accuracy (for t_sisso_96) on the train set (5 fold CV): 0.822802.\n",
      "Classification tree accuracy (for t_sisso_96) on the test set: 0.842105.\n",
      "t_sisso_96 < 1.157727 indicates stable perovskites.\n",
      "\u001b[32m2025-03-06 14:22:24.807\u001b[0m | \u001b[1mINFO    \u001b[0m | \u001b[36mtf_chpvk_pv.modeling.train\u001b[0m:\u001b[36mtrain_tree_sis_features\u001b[0m:\u001b[36m81\u001b[0m - \u001b[1mTraining tree model with SISSO features...\u001b[0m\n",
      "Identified expression for t_sisso: (((EA_A * rB_rX_ratio) * sqrt(chi_BX_ratio)) * log((rA_rX_ratio * chi_BX_ratio)))\n",
      "Classification tree accuracy (for t_sisso_290) on the train set: 0.805310.\n",
      "Classification tree accuracy (for t_sisso_290) on the train set (5 fold CV): 0.805314.\n",
      "Classification tree accuracy (for t_sisso_290) on the test set: 0.719298.\n",
      "t_sisso_290 < -0.042964 indicates stable perovskites.\n",
      "\u001b[32m2025-03-06 14:22:47.331\u001b[0m | \u001b[1mINFO    \u001b[0m | \u001b[36mtf_chpvk_pv.modeling.train\u001b[0m:\u001b[36mtrain_tree_sis_features\u001b[0m:\u001b[36m81\u001b[0m - \u001b[1mTraining tree model with SISSO features...\u001b[0m\n",
      "Identified expression for t_sisso: (((rA_rX_ratio - chi_BX_ratio) - (|rB_rX_ratio - log_rA_rB_ratio|)) + (|(rB_rX_ratio / rA_rX_ratio) - chi_BX_ratio|))\n",
      "Classification tree accuracy (for t_sisso_1) on the train set: 0.862832.\n",
      "Classification tree accuracy (for t_sisso_1) on the train set (5 fold CV): 0.862609.\n",
      "Classification tree accuracy (for t_sisso_1) on the test set: 0.842105.\n",
      "t_sisso_1 < 0.160049 indicates stable perovskites.\n",
      "\u001b[32m2025-03-06 14:23:10.033\u001b[0m | \u001b[1mINFO    \u001b[0m | \u001b[36mtf_chpvk_pv.modeling.train\u001b[0m:\u001b[36mtrain_tree_sis_features\u001b[0m:\u001b[36m81\u001b[0m - \u001b[1mTraining tree model with SISSO features...\u001b[0m\n"
     ]
    },
    {
     "name": "stderr",
     "output_type": "stream",
     "text": [
      "/home/nomad-lanasc/.pyenv/lib/python3.11/site-packages/sklearn/utils/_array_api.py:745: RuntimeWarning: overflow encountered in cast\n",
      "  array = numpy.asarray(array, order=order, dtype=dtype)\n",
      "/home/nomad-lanasc/.pyenv/lib/python3.11/site-packages/sklearn/utils/_array_api.py:745: RuntimeWarning: overflow encountered in cast\n",
      "  array = numpy.asarray(array, order=order, dtype=dtype)\n",
      "/home/nomad-lanasc/.pyenv/lib/python3.11/site-packages/sklearn/utils/_array_api.py:745: RuntimeWarning: overflow encountered in cast\n",
      "  array = numpy.asarray(array, order=order, dtype=dtype)\n",
      "/home/nomad-lanasc/.pyenv/lib/python3.11/site-packages/sklearn/utils/_array_api.py:745: RuntimeWarning: overflow encountered in cast\n",
      "  array = numpy.asarray(array, order=order, dtype=dtype)\n",
      "/home/nomad-lanasc/.pyenv/lib/python3.11/site-packages/sklearn/utils/_array_api.py:745: RuntimeWarning: overflow encountered in cast\n",
      "  array = numpy.asarray(array, order=order, dtype=dtype)\n"
     ]
    },
    {
     "name": "stdout",
     "output_type": "stream",
     "text": [
      "Error in /home/nomad-lanasc/Documents/Diego Garzon/TF-ChPVK-PV/data/features_space/features/features/features_sisso_261.csv\n",
      "\u001b[32m2025-03-06 14:23:14.722\u001b[0m | \u001b[1mINFO    \u001b[0m | \u001b[36mtf_chpvk_pv.modeling.train\u001b[0m:\u001b[36mtrain_tree_sis_features\u001b[0m:\u001b[36m81\u001b[0m - \u001b[1mTraining tree model with SISSO features...\u001b[0m\n",
      "Identified expression for t_sisso: ((rB_rX_ratio / log(rB_rX_ratio)) / exp((rA_rX_ratio / log_rA_rB_ratio)))\n",
      "Classification tree accuracy (for t_sisso_304) on the train set: 0.831858.\n",
      "Classification tree accuracy (for t_sisso_304) on the train set (5 fold CV): 0.822802.\n",
      "Classification tree accuracy (for t_sisso_304) on the test set: 0.842105.\n",
      "t_sisso_304 < -0.149007 indicates stable perovskites.\n",
      "\u001b[32m2025-03-06 14:23:37.443\u001b[0m | \u001b[1mINFO    \u001b[0m | \u001b[36mtf_chpvk_pv.modeling.train\u001b[0m:\u001b[36mtrain_tree_sis_features\u001b[0m:\u001b[36m81\u001b[0m - \u001b[1mTraining tree model with SISSO features...\u001b[0m\n",
      "Identified expression for t_sisso: (|((|rB_rX_ratio - log_rA_rB_ratio|) - (log_rA_rB_ratio**2)) - (|(rB_rX_ratio + log_rA_rB_ratio) - (log_rA_rB_ratio**2)|)|)\n",
      "Error in /home/nomad-lanasc/Documents/Diego Garzon/TF-ChPVK-PV/data/features_space/features/features/features_sisso_4.csv\n",
      "\u001b[32m2025-03-06 14:23:59.745\u001b[0m | \u001b[1mINFO    \u001b[0m | \u001b[36mtf_chpvk_pv.modeling.train\u001b[0m:\u001b[36mtrain_tree_sis_features\u001b[0m:\u001b[36m81\u001b[0m - \u001b[1mTraining tree model with SISSO features...\u001b[0m\n",
      "Identified expression for t_sisso: (|((rB_rX_ratio**3) / (rA_rX_ratio**2)) - (|(|rB_rX_ratio - log_rA_rB_ratio|) - rA_rX_ratio|)|)\n",
      "Error in /home/nomad-lanasc/Documents/Diego Garzon/TF-ChPVK-PV/data/features_space/features/features/features_sisso_234.csv\n",
      "\u001b[32m2025-03-06 14:24:22.313\u001b[0m | \u001b[1mINFO    \u001b[0m | \u001b[36mtf_chpvk_pv.modeling.train\u001b[0m:\u001b[36mtrain_tree_sis_features\u001b[0m:\u001b[36m81\u001b[0m - \u001b[1mTraining tree model with SISSO features...\u001b[0m\n",
      "Identified expression for t_sisso: (((rA_rX_ratio / log_rA_rB_ratio) + (log_rA_rB_ratio / chi_BX_ratio)) / ((rA_rX_ratio + rB_rX_ratio) + (rB_rX_ratio / chi_BX_ratio)))\n",
      "Classification tree accuracy (for t_sisso_95) on the train set: 0.840708.\n",
      "Classification tree accuracy (for t_sisso_95) on the train set (5 fold CV): 0.831884.\n",
      "Classification tree accuracy (for t_sisso_95) on the test set: 0.859649.\n",
      "t_sisso_95 < 1.151516 indicates stable perovskites.\n",
      "\u001b[32m2025-03-06 14:24:44.849\u001b[0m | \u001b[1mINFO    \u001b[0m | \u001b[36mtf_chpvk_pv.modeling.train\u001b[0m:\u001b[36mtrain_tree_sis_features\u001b[0m:\u001b[36m81\u001b[0m - \u001b[1mTraining tree model with SISSO features...\u001b[0m\n",
      "Identified expression for t_sisso: (((rB_rX_ratio - log_rA_rB_ratio) - sqrt(chi_BX_ratio)) + ((chi_BX_ratio - log_rA_rB_ratio) - (1.0 / log_rA_rB_ratio)))\n",
      "Classification tree accuracy (for t_sisso_28) on the train set: 0.827434.\n",
      "Classification tree accuracy (for t_sisso_28) on the train set (5 fold CV): 0.822995.\n",
      "Classification tree accuracy (for t_sisso_28) on the test set: 0.859649.\n",
      "t_sisso_28 < -2.492885 indicates stable perovskites.\n",
      "\u001b[32m2025-03-06 14:25:07.529\u001b[0m | \u001b[1mINFO    \u001b[0m | \u001b[36mtf_chpvk_pv.modeling.train\u001b[0m:\u001b[36mtrain_tree_sis_features\u001b[0m:\u001b[36m81\u001b[0m - \u001b[1mTraining tree model with SISSO features...\u001b[0m\n",
      "Identified expression for t_sisso: ((log(rB_rX_ratio)**3) + (log(log_rA_rB_ratio)**3))\n",
      "Classification tree accuracy (for t_sisso_108) on the train set: 0.858407.\n",
      "Classification tree accuracy (for t_sisso_108) on the train set (5 fold CV): 0.849275.\n",
      "Classification tree accuracy (for t_sisso_108) on the test set: 0.842105.\n",
      "t_sisso_108 < -0.662716 indicates stable perovskites.\n",
      "\u001b[32m2025-03-06 14:25:29.967\u001b[0m | \u001b[1mINFO    \u001b[0m | \u001b[36mtf_chpvk_pv.modeling.train\u001b[0m:\u001b[36mtrain_tree_sis_features\u001b[0m:\u001b[36m81\u001b[0m - \u001b[1mTraining tree model with SISSO features...\u001b[0m\n",
      "Identified expression for t_sisso: ((log(rB_rX_ratio) - (1.0 / log_rA_rB_ratio)) - (log(log_rA_rB_ratio) / rA_rX_ratio))\n",
      "Classification tree accuracy (for t_sisso_177) on the train set: 0.853982.\n",
      "Classification tree accuracy (for t_sisso_177) on the train set (5 fold CV): 0.844831.\n",
      "Classification tree accuracy (for t_sisso_177) on the test set: 0.877193.\n",
      "t_sisso_177 < -1.844274 indicates stable perovskites.\n",
      "\u001b[32m2025-03-06 14:25:52.651\u001b[0m | \u001b[1mINFO    \u001b[0m | \u001b[36mtf_chpvk_pv.modeling.train\u001b[0m:\u001b[36mtrain_tree_sis_features\u001b[0m:\u001b[36m81\u001b[0m - \u001b[1mTraining tree model with SISSO features...\u001b[0m\n",
      "Identified expression for t_sisso: (|(|(rA_rX_ratio - rB_rX_ratio) - rB_rX_ratio|) - (|(|rB_rX_ratio - log_rA_rB_ratio|) - rA_rX_ratio|)|)\n",
      "Error in /home/nomad-lanasc/Documents/Diego Garzon/TF-ChPVK-PV/data/features_space/features/features/features_sisso_146.csv\n",
      "\u001b[32m2025-03-06 14:26:15.057\u001b[0m | \u001b[1mINFO    \u001b[0m | \u001b[36mtf_chpvk_pv.modeling.train\u001b[0m:\u001b[36mtrain_tree_sis_features\u001b[0m:\u001b[36m81\u001b[0m - \u001b[1mTraining tree model with SISSO features...\u001b[0m\n",
      "Identified expression for t_sisso: (((rA_rX_ratio + log_rA_rB_ratio) + (rB_rX_ratio + log_rA_rB_ratio)) * log((rB_rX_ratio * log_rA_rB_ratio)))\n",
      "Classification tree accuracy (for t_sisso_74) on the train set: 0.827434.\n",
      "Classification tree accuracy (for t_sisso_74) on the train set (5 fold CV): 0.822705.\n",
      "Classification tree accuracy (for t_sisso_74) on the test set: 0.807018.\n",
      "t_sisso_74 < -3.214773 indicates stable perovskites.\n",
      "\u001b[32m2025-03-06 14:26:37.743\u001b[0m | \u001b[1mINFO    \u001b[0m | \u001b[36mtf_chpvk_pv.modeling.train\u001b[0m:\u001b[36mtrain_tree_sis_features\u001b[0m:\u001b[36m81\u001b[0m - \u001b[1mTraining tree model with SISSO features...\u001b[0m\n",
      "Identified expression for t_sisso: (((rB_rX_ratio / log_rA_rB_ratio) + exp(log_rA_rB_ratio)) / (exp(rA_rX_ratio) + (rB_rX_ratio / rA_rX_ratio)))\n",
      "Classification tree accuracy (for t_sisso_85) on the train set: 0.862832.\n",
      "Classification tree accuracy (for t_sisso_85) on the train set (5 fold CV): 0.858164.\n",
      "Classification tree accuracy (for t_sisso_85) on the test set: 0.842105.\n",
      "t_sisso_85 < 0.915715 indicates stable perovskites.\n",
      "\u001b[32m2025-03-06 14:27:00.128\u001b[0m | \u001b[1mINFO    \u001b[0m | \u001b[36mtf_chpvk_pv.modeling.train\u001b[0m:\u001b[36mtrain_tree_sis_features\u001b[0m:\u001b[36m81\u001b[0m - \u001b[1mTraining tree model with SISSO features...\u001b[0m\n",
      "Identified expression for t_sisso: (((rA_rX_ratio * log_rA_rB_ratio) - exp(log_rA_rB_ratio)) - (exp(rB_rX_ratio) - rA_rX_ratio))\n",
      "Classification tree accuracy (for t_sisso_158) on the train set: 0.840708.\n",
      "Classification tree accuracy (for t_sisso_158) on the train set (5 fold CV): 0.818551.\n",
      "Classification tree accuracy (for t_sisso_158) on the test set: 0.842105.\n",
      "t_sisso_158 < -2.062076 indicates stable perovskites.\n",
      "\u001b[32m2025-03-06 14:27:22.807\u001b[0m | \u001b[1mINFO    \u001b[0m | \u001b[36mtf_chpvk_pv.modeling.train\u001b[0m:\u001b[36mtrain_tree_sis_features\u001b[0m:\u001b[36m81\u001b[0m - \u001b[1mTraining tree model with SISSO features...\u001b[0m\n",
      "Identified expression for t_sisso: ((|(rA_rX_ratio * log_rA_rB_ratio) - exp(log_rA_rB_ratio)|) * (|(|rB_rX_ratio - log_rA_rB_ratio|) - rA_rX_ratio|))\n",
      "Error in /home/nomad-lanasc/Documents/Diego Garzon/TF-ChPVK-PV/data/features_space/features/features/features_sisso_214.csv\n",
      "\u001b[32m2025-03-06 14:27:45.154\u001b[0m | \u001b[1mINFO    \u001b[0m | \u001b[36mtf_chpvk_pv.modeling.train\u001b[0m:\u001b[36mtrain_tree_sis_features\u001b[0m:\u001b[36m81\u001b[0m - \u001b[1mTraining tree model with SISSO features...\u001b[0m\n",
      "Identified expression for t_sisso: ((|log(rA_rX_ratio) - (|rB_rX_ratio - log_rA_rB_ratio|)|) / (|(rA_rX_ratio / chi_BX_ratio) - (chi_BX_ratio**3)|))\n",
      "Error in /home/nomad-lanasc/Documents/Diego Garzon/TF-ChPVK-PV/data/features_space/features/features/features_sisso_238.csv\n",
      "\u001b[32m2025-03-06 14:28:07.806\u001b[0m | \u001b[1mINFO    \u001b[0m | \u001b[36mtf_chpvk_pv.modeling.train\u001b[0m:\u001b[36mtrain_tree_sis_features\u001b[0m:\u001b[36m81\u001b[0m - \u001b[1mTraining tree model with SISSO features...\u001b[0m\n",
      "Identified expression for t_sisso: (|(|(rA_rX_ratio - rB_rX_ratio) - rB_rX_ratio|) - (|(|rB_rX_ratio - log_rA_rB_ratio|) - rA_rX_ratio|)|)\n",
      "Error in /home/nomad-lanasc/Documents/Diego Garzon/TF-ChPVK-PV/data/features_space/features/features/features_sisso_132.csv\n",
      "\u001b[32m2025-03-06 14:28:30.181\u001b[0m | \u001b[1mINFO    \u001b[0m | \u001b[36mtf_chpvk_pv.modeling.train\u001b[0m:\u001b[36mtrain_tree_sis_features\u001b[0m:\u001b[36m81\u001b[0m - \u001b[1mTraining tree model with SISSO features...\u001b[0m\n",
      "Identified expression for t_sisso: (((1.0 / rB_rX_ratio) + log_rA_rB_ratio) + ((1.0 / log_rA_rB_ratio) + rA_rX_ratio))\n",
      "Classification tree accuracy (for t_sisso_100) on the train set: 0.871681.\n",
      "Classification tree accuracy (for t_sisso_100) on the train set (5 fold CV): 0.862512.\n",
      "Classification tree accuracy (for t_sisso_100) on the test set: 0.877193.\n",
      "t_sisso_100 < 5.321800 indicates stable perovskites.\n",
      "\u001b[32m2025-03-06 14:28:52.909\u001b[0m | \u001b[1mINFO    \u001b[0m | \u001b[36mtf_chpvk_pv.modeling.train\u001b[0m:\u001b[36mtrain_tree_sis_features\u001b[0m:\u001b[36m81\u001b[0m - \u001b[1mTraining tree model with SISSO features...\u001b[0m\n",
      "Identified expression for t_sisso: ((log(rB_rX_ratio)**3) + (log(log_rA_rB_ratio)**3))\n",
      "Classification tree accuracy (for t_sisso_117) on the train set: 0.858407.\n",
      "Classification tree accuracy (for t_sisso_117) on the train set (5 fold CV): 0.849275.\n",
      "Classification tree accuracy (for t_sisso_117) on the test set: 0.842105.\n",
      "t_sisso_117 < -0.662716 indicates stable perovskites.\n",
      "\u001b[32m2025-03-06 14:29:15.373\u001b[0m | \u001b[1mINFO    \u001b[0m | \u001b[36mtf_chpvk_pv.modeling.train\u001b[0m:\u001b[36mtrain_tree_sis_features\u001b[0m:\u001b[36m81\u001b[0m - \u001b[1mTraining tree model with SISSO features...\u001b[0m\n",
      "Identified expression for t_sisso: (((rA_rX_ratio * rB_rX_ratio) * (|rA_rX_ratio - chi_BX_ratio|)) + (|(|rB_rX_ratio - log_rA_rB_ratio|) - (rB_rX_ratio + log_rA_rB_ratio)|))\n",
      "Error in /home/nomad-lanasc/Documents/Diego Garzon/TF-ChPVK-PV/data/features_space/features/features/features_sisso_40.csv\n",
      "\u001b[32m2025-03-06 14:29:37.956\u001b[0m | \u001b[1mINFO    \u001b[0m | \u001b[36mtf_chpvk_pv.modeling.train\u001b[0m:\u001b[36mtrain_tree_sis_features\u001b[0m:\u001b[36m81\u001b[0m - \u001b[1mTraining tree model with SISSO features...\u001b[0m\n",
      "Identified expression for t_sisso: ((log(rB_rX_ratio) - log_rA_rB_ratio) - (log(log_rA_rB_ratio)**2))\n",
      "Classification tree accuracy (for t_sisso_190) on the train set: 0.858407.\n",
      "Classification tree accuracy (for t_sisso_190) on the train set (5 fold CV): 0.844734.\n",
      "Classification tree accuracy (for t_sisso_190) on the test set: 0.877193.\n",
      "t_sisso_190 < -1.644901 indicates stable perovskites.\n",
      "\u001b[32m2025-03-06 14:30:00.434\u001b[0m | \u001b[1mINFO    \u001b[0m | \u001b[36mtf_chpvk_pv.modeling.train\u001b[0m:\u001b[36mtrain_tree_sis_features\u001b[0m:\u001b[36m81\u001b[0m - \u001b[1mTraining tree model with SISSO features...\u001b[0m\n",
      "Identified expression for t_sisso: ((exp(chi_BX_ratio) - (chi_BX_ratio / log_rA_rB_ratio)) / exp((log_rA_rB_ratio / rB_rX_ratio)))\n",
      "Classification tree accuracy (for t_sisso_172) on the train set: 0.867257.\n",
      "Classification tree accuracy (for t_sisso_172) on the train set (5 fold CV): 0.858164.\n",
      "Classification tree accuracy (for t_sisso_172) on the test set: 0.859649.\n",
      "t_sisso_172 < 0.228876 indicates stable perovskites.\n",
      "\u001b[32m2025-03-06 14:30:23.138\u001b[0m | \u001b[1mINFO    \u001b[0m | \u001b[36mtf_chpvk_pv.modeling.train\u001b[0m:\u001b[36mtrain_tree_sis_features\u001b[0m:\u001b[36m81\u001b[0m - \u001b[1mTraining tree model with SISSO features...\u001b[0m\n",
      "Identified expression for t_sisso: (((rA_rX_ratio - log_rA_rB_ratio) * (log_rA_rB_ratio**2)) * (log(log_rA_rB_ratio) * (log_rA_rB_ratio**2)))\n",
      "Classification tree accuracy (for t_sisso_165) on the train set: 0.845133.\n",
      "Classification tree accuracy (for t_sisso_165) on the train set (5 fold CV): 0.840580.\n",
      "Classification tree accuracy (for t_sisso_165) on the test set: 0.877193.\n",
      "t_sisso_165 < -0.014747 indicates stable perovskites.\n",
      "\u001b[32m2025-03-06 14:30:45.572\u001b[0m | \u001b[1mINFO    \u001b[0m | \u001b[36mtf_chpvk_pv.modeling.train\u001b[0m:\u001b[36mtrain_tree_sis_features\u001b[0m:\u001b[36m81\u001b[0m - \u001b[1mTraining tree model with SISSO features...\u001b[0m\n",
      "Identified expression for t_sisso: ((|(1.0 / rB_rX_ratio) - (1.0 / log_rA_rB_ratio)|) + ((1.0 / rB_rX_ratio) + (1.0 / log_rA_rB_ratio)))\n",
      "Classification tree accuracy (for t_sisso_55) on the train set: 0.853982.\n",
      "Classification tree accuracy (for t_sisso_55) on the train set (5 fold CV): 0.853623.\n",
      "Classification tree accuracy (for t_sisso_55) on the test set: 0.912281.\n",
      "t_sisso_55 < 4.377569 indicates stable perovskites.\n",
      "\u001b[32m2025-03-06 14:31:08.243\u001b[0m | \u001b[1mINFO    \u001b[0m | \u001b[36mtf_chpvk_pv.modeling.train\u001b[0m:\u001b[36mtrain_tree_sis_features\u001b[0m:\u001b[36m81\u001b[0m - \u001b[1mTraining tree model with SISSO features...\u001b[0m\n",
      "Identified expression for t_sisso: (|(|log(rA_rX_ratio) - (|rB_rX_ratio - log_rA_rB_ratio|)|) - (|log(rB_rX_ratio) - rB_rX_ratio|)|)\n",
      "Error in /home/nomad-lanasc/Documents/Diego Garzon/TF-ChPVK-PV/data/features_space/features/features/features_sisso_243.csv\n",
      "\u001b[32m2025-03-06 14:31:30.615\u001b[0m | \u001b[1mINFO    \u001b[0m | \u001b[36mtf_chpvk_pv.modeling.train\u001b[0m:\u001b[36mtrain_tree_sis_features\u001b[0m:\u001b[36m81\u001b[0m - \u001b[1mTraining tree model with SISSO features...\u001b[0m\n",
      "Identified expression for t_sisso: ((exp(chi_BX_ratio) - (chi_BX_ratio / log_rA_rB_ratio)) / exp((log_rA_rB_ratio / rB_rX_ratio)))\n",
      "Classification tree accuracy (for t_sisso_173) on the train set: 0.867257.\n",
      "Classification tree accuracy (for t_sisso_173) on the train set (5 fold CV): 0.858164.\n",
      "Classification tree accuracy (for t_sisso_173) on the test set: 0.859649.\n",
      "t_sisso_173 < 0.228876 indicates stable perovskites.\n",
      "\u001b[32m2025-03-06 14:31:53.278\u001b[0m | \u001b[1mINFO    \u001b[0m | \u001b[36mtf_chpvk_pv.modeling.train\u001b[0m:\u001b[36mtrain_tree_sis_features\u001b[0m:\u001b[36m81\u001b[0m - \u001b[1mTraining tree model with SISSO features...\u001b[0m\n",
      "Identified expression for t_sisso: (|(|(rA_rX_ratio - rB_rX_ratio) - rB_rX_ratio|) - (|(|rB_rX_ratio - log_rA_rB_ratio|) - rA_rX_ratio|)|)\n",
      "Error in /home/nomad-lanasc/Documents/Diego Garzon/TF-ChPVK-PV/data/features_space/features/features/features_sisso_138.csv\n",
      "\u001b[32m2025-03-06 14:32:15.635\u001b[0m | \u001b[1mINFO    \u001b[0m | \u001b[36mtf_chpvk_pv.modeling.train\u001b[0m:\u001b[36mtrain_tree_sis_features\u001b[0m:\u001b[36m81\u001b[0m - \u001b[1mTraining tree model with SISSO features...\u001b[0m\n",
      "Identified expression for t_sisso: ((log(rB_rX_ratio) / (log_rA_rB_ratio**3)) / log(log_rA_rB_ratio))\n",
      "Classification tree accuracy (for t_sisso_314) on the train set: 0.805310.\n",
      "Classification tree accuracy (for t_sisso_314) on the train set (5 fold CV): 0.800773.\n",
      "Classification tree accuracy (for t_sisso_314) on the test set: 0.842105.\n",
      "t_sisso_314 < 7.087222 indicates stable perovskites.\n",
      "\u001b[32m2025-03-06 14:32:38.315\u001b[0m | \u001b[1mINFO    \u001b[0m | \u001b[36mtf_chpvk_pv.modeling.train\u001b[0m:\u001b[36mtrain_tree_sis_features\u001b[0m:\u001b[36m81\u001b[0m - \u001b[1mTraining tree model with SISSO features...\u001b[0m\n",
      "Identified expression for t_sisso: (log((rA_rX_ratio / log_rA_rB_ratio)) / (log(log_rA_rB_ratio)**2))\n",
      "Classification tree accuracy (for t_sisso_307) on the train set: 0.809735.\n",
      "Classification tree accuracy (for t_sisso_307) on the train set (5 fold CV): 0.800870.\n",
      "Classification tree accuracy (for t_sisso_307) on the test set: 0.754386.\n",
      "t_sisso_307 < 1.095769 indicates stable perovskites.\n",
      "\u001b[32m2025-03-06 14:33:00.674\u001b[0m | \u001b[1mINFO    \u001b[0m | \u001b[36mtf_chpvk_pv.modeling.train\u001b[0m:\u001b[36mtrain_tree_sis_features\u001b[0m:\u001b[36m81\u001b[0m - \u001b[1mTraining tree model with SISSO features...\u001b[0m\n",
      "Identified expression for t_sisso: ((|sqrt(rB_rX_ratio) - log_rA_rB_ratio|) / (|(rA_rX_ratio**3) - (|rB_rX_ratio - log_rA_rB_ratio|)|))\n",
      "Error in /home/nomad-lanasc/Documents/Diego Garzon/TF-ChPVK-PV/data/features_space/features/features/features_sisso_237.csv\n",
      "\u001b[32m2025-03-06 14:33:23.167\u001b[0m | \u001b[1mINFO    \u001b[0m | \u001b[36mtf_chpvk_pv.modeling.train\u001b[0m:\u001b[36mtrain_tree_sis_features\u001b[0m:\u001b[36m81\u001b[0m - \u001b[1mTraining tree model with SISSO features...\u001b[0m\n",
      "Identified expression for t_sisso: ((exp(rB_rX_ratio) * exp(log_rA_rB_ratio)) * log((rB_rX_ratio * log_rA_rB_ratio)))\n",
      "Classification tree accuracy (for t_sisso_281) on the train set: 0.836283.\n",
      "Classification tree accuracy (for t_sisso_281) on the train set (5 fold CV): 0.822899.\n",
      "Classification tree accuracy (for t_sisso_281) on the test set: 0.824561.\n",
      "t_sisso_281 < -3.718539 indicates stable perovskites.\n",
      "\u001b[32m2025-03-06 14:33:45.468\u001b[0m | \u001b[1mINFO    \u001b[0m | \u001b[36mtf_chpvk_pv.modeling.train\u001b[0m:\u001b[36mtrain_tree_sis_features\u001b[0m:\u001b[36m81\u001b[0m - \u001b[1mTraining tree model with SISSO features...\u001b[0m\n",
      "Identified expression for t_sisso: ((|(rA_rX_ratio / chi_BX_ratio) - log_rA_rB_ratio|) + (|(|rB_rX_ratio - log_rA_rB_ratio|) - (chi_BX_ratio + log_rA_rB_ratio)|))\n",
      "Error in /home/nomad-lanasc/Documents/Diego Garzon/TF-ChPVK-PV/data/features_space/features/features/features_sisso_36.csv\n",
      "\u001b[32m2025-03-06 14:34:07.929\u001b[0m | \u001b[1mINFO    \u001b[0m | \u001b[36mtf_chpvk_pv.modeling.train\u001b[0m:\u001b[36mtrain_tree_sis_features\u001b[0m:\u001b[36m81\u001b[0m - \u001b[1mTraining tree model with SISSO features...\u001b[0m\n",
      "Identified expression for t_sisso: (((rB_rX_ratio - log_rA_rB_ratio) - log_rA_rB_ratio) - ((1.0 / log_rA_rB_ratio) - rB_rX_ratio))\n",
      "Classification tree accuracy (for t_sisso_187) on the train set: 0.862832.\n",
      "Classification tree accuracy (for t_sisso_187) on the train set (5 fold CV): 0.853623.\n",
      "Classification tree accuracy (for t_sisso_187) on the test set: 0.877193.\n",
      "t_sisso_187 < -1.975124 indicates stable perovskites.\n",
      "\u001b[32m2025-03-06 14:34:30.300\u001b[0m | \u001b[1mINFO    \u001b[0m | \u001b[36mtf_chpvk_pv.modeling.train\u001b[0m:\u001b[36mtrain_tree_sis_features\u001b[0m:\u001b[36m81\u001b[0m - \u001b[1mTraining tree model with SISSO features...\u001b[0m\n",
      "Identified expression for t_sisso: (log((rA_rX_ratio + rB_rX_ratio)) + (|(|rB_rX_ratio - log_rA_rB_ratio|) - sqrt(log_rA_rB_ratio)|))\n",
      "Error in /home/nomad-lanasc/Documents/Diego Garzon/TF-ChPVK-PV/data/features_space/features/features/features_sisso_63.csv\n",
      "\u001b[32m2025-03-06 14:34:52.894\u001b[0m | \u001b[1mINFO    \u001b[0m | \u001b[36mtf_chpvk_pv.modeling.train\u001b[0m:\u001b[36mtrain_tree_sis_features\u001b[0m:\u001b[36m81\u001b[0m - \u001b[1mTraining tree model with SISSO features...\u001b[0m\n",
      "Identified expression for t_sisso: (((rB_rX_ratio - log_rA_rB_ratio) - log_rA_rB_ratio) - ((1.0 / log_rA_rB_ratio) - rB_rX_ratio))\n",
      "Classification tree accuracy (for t_sisso_184) on the train set: 0.862832.\n",
      "Classification tree accuracy (for t_sisso_184) on the train set (5 fold CV): 0.853623.\n",
      "Classification tree accuracy (for t_sisso_184) on the test set: 0.877193.\n",
      "t_sisso_184 < -1.975124 indicates stable perovskites.\n",
      "\u001b[32m2025-03-06 14:35:15.288\u001b[0m | \u001b[1mINFO    \u001b[0m | \u001b[36mtf_chpvk_pv.modeling.train\u001b[0m:\u001b[36mtrain_tree_sis_features\u001b[0m:\u001b[36m81\u001b[0m - \u001b[1mTraining tree model with SISSO features...\u001b[0m\n",
      "Identified expression for t_sisso: (((rB_rX_ratio * log_rA_rB_ratio) + exp(chi_BX_ratio)) + (1.0 / (chi_BX_ratio + log_rA_rB_ratio)))\n",
      "Classification tree accuracy (for t_sisso_70) on the train set: 0.783186.\n",
      "Classification tree accuracy (for t_sisso_70) on the train set (5 fold CV): 0.774493.\n",
      "Classification tree accuracy (for t_sisso_70) on the test set: 0.754386.\n",
      "t_sisso_70 < 4.355039 indicates stable perovskites.\n",
      "\u001b[32m2025-03-06 14:35:38.110\u001b[0m | \u001b[1mINFO    \u001b[0m | \u001b[36mtf_chpvk_pv.modeling.train\u001b[0m:\u001b[36mtrain_tree_sis_features\u001b[0m:\u001b[36m81\u001b[0m - \u001b[1mTraining tree model with SISSO features...\u001b[0m\n",
      "Identified expression for t_sisso: (((rA_rX_ratio / rB_rX_ratio) / log_rA_rB_ratio) / sqrt(rB_rX_ratio))\n",
      "Classification tree accuracy (for t_sisso_306) on the train set: 0.805310.\n",
      "Classification tree accuracy (for t_sisso_306) on the train set (5 fold CV): 0.796425.\n",
      "Classification tree accuracy (for t_sisso_306) on the test set: 0.771930.\n",
      "t_sisso_306 < 4.470306 indicates stable perovskites.\n",
      "\u001b[32m2025-03-06 14:36:00.535\u001b[0m | \u001b[1mINFO    \u001b[0m | \u001b[36mtf_chpvk_pv.modeling.train\u001b[0m:\u001b[36mtrain_tree_sis_features\u001b[0m:\u001b[36m81\u001b[0m - \u001b[1mTraining tree model with SISSO features...\u001b[0m\n",
      "Identified expression for t_sisso: (((|rB_rX_ratio - chi_BX_ratio|) - (|rB_rX_ratio - log_rA_rB_ratio|)) + ((rB_rX_ratio - chi_BX_ratio) + (rB_rX_ratio + log_rA_rB_ratio)))\n",
      "Classification tree accuracy (for t_sisso_6) on the train set: 0.853982.\n",
      "Classification tree accuracy (for t_sisso_6) on the train set (5 fold CV): 0.853720.\n",
      "Classification tree accuracy (for t_sisso_6) on the test set: 0.894737.\n",
      "t_sisso_6 < 0.913750 indicates stable perovskites.\n",
      "\u001b[32m2025-03-06 14:36:23.218\u001b[0m | \u001b[1mINFO    \u001b[0m | \u001b[36mtf_chpvk_pv.modeling.train\u001b[0m:\u001b[36mtrain_tree_sis_features\u001b[0m:\u001b[36m81\u001b[0m - \u001b[1mTraining tree model with SISSO features...\u001b[0m\n",
      "Identified expression for t_sisso: (((rA_rX_ratio + log_rA_rB_ratio) + (1.0 / log_rA_rB_ratio)) + (1.0 / rB_rX_ratio))\n",
      "Classification tree accuracy (for t_sisso_101) on the train set: 0.871681.\n",
      "Classification tree accuracy (for t_sisso_101) on the train set (5 fold CV): 0.862512.\n",
      "Classification tree accuracy (for t_sisso_101) on the test set: 0.877193.\n",
      "t_sisso_101 < 5.321800 indicates stable perovskites.\n",
      "\u001b[32m2025-03-06 14:36:45.593\u001b[0m | \u001b[1mINFO    \u001b[0m | \u001b[36mtf_chpvk_pv.modeling.train\u001b[0m:\u001b[36mtrain_tree_sis_features\u001b[0m:\u001b[36m81\u001b[0m - \u001b[1mTraining tree model with SISSO features...\u001b[0m\n",
      "Identified expression for t_sisso: (((1.0 / rB_rX_ratio) - (chi_BX_ratio - log_rA_rB_ratio)) + ((1.0 / log_rA_rB_ratio) + rA_rX_ratio))\n",
      "Classification tree accuracy (for t_sisso_27) on the train set: 0.827434.\n",
      "Classification tree accuracy (for t_sisso_27) on the train set (5 fold CV): 0.818551.\n",
      "Classification tree accuracy (for t_sisso_27) on the test set: 0.859649.\n",
      "t_sisso_27 < 4.464338 indicates stable perovskites.\n",
      "\u001b[32m2025-03-06 14:37:08.133\u001b[0m | \u001b[1mINFO    \u001b[0m | \u001b[36mtf_chpvk_pv.modeling.train\u001b[0m:\u001b[36mtrain_tree_sis_features\u001b[0m:\u001b[36m81\u001b[0m - \u001b[1mTraining tree model with SISSO features...\u001b[0m\n",
      "Identified expression for t_sisso: (|(|(|rB_rX_ratio - log_rA_rB_ratio|) - rA_rX_ratio|) - (|(log_rA_rB_ratio**2) - log_rA_rB_ratio|)|)\n",
      "Error in /home/nomad-lanasc/Documents/Diego Garzon/TF-ChPVK-PV/data/features_space/features/features/features_sisso_252.csv\n",
      "\u001b[32m2025-03-06 14:37:30.381\u001b[0m | \u001b[1mINFO    \u001b[0m | \u001b[36mtf_chpvk_pv.modeling.train\u001b[0m:\u001b[36mtrain_tree_sis_features\u001b[0m:\u001b[36m81\u001b[0m - \u001b[1mTraining tree model with SISSO features...\u001b[0m\n",
      "Identified expression for t_sisso: (((rA_rX_ratio - log_rA_rB_ratio) + log(log_rA_rB_ratio)) - log((rA_rX_ratio + log_rA_rB_ratio)))\n",
      "Classification tree accuracy (for t_sisso_32) on the train set: 0.840708.\n",
      "Classification tree accuracy (for t_sisso_32) on the train set (5 fold CV): 0.827246.\n",
      "Classification tree accuracy (for t_sisso_32) on the test set: 0.824561.\n",
      "t_sisso_32 < -0.644826 indicates stable perovskites.\n",
      "\u001b[32m2025-03-06 14:37:52.996\u001b[0m | \u001b[1mINFO    \u001b[0m | \u001b[36mtf_chpvk_pv.modeling.train\u001b[0m:\u001b[36mtrain_tree_sis_features\u001b[0m:\u001b[36m81\u001b[0m - \u001b[1mTraining tree model with SISSO features...\u001b[0m\n",
      "Identified expression for t_sisso: (((rA_rX_ratio - log_rA_rB_ratio) * (log_rA_rB_ratio**3)) * (log(log_rA_rB_ratio) * log_rA_rB_ratio))\n",
      "Classification tree accuracy (for t_sisso_167) on the train set: 0.845133.\n",
      "Classification tree accuracy (for t_sisso_167) on the train set (5 fold CV): 0.840580.\n",
      "Classification tree accuracy (for t_sisso_167) on the test set: 0.877193.\n",
      "t_sisso_167 < -0.014747 indicates stable perovskites.\n",
      "\u001b[32m2025-03-06 14:38:15.334\u001b[0m | \u001b[1mINFO    \u001b[0m | \u001b[36mtf_chpvk_pv.modeling.train\u001b[0m:\u001b[36mtrain_tree_sis_features\u001b[0m:\u001b[36m81\u001b[0m - \u001b[1mTraining tree model with SISSO features...\u001b[0m\n",
      "Identified expression for t_sisso: (((rB_rX_ratio / log_rA_rB_ratio) / sqrt(rA_rX_ratio)) / exp((1.0 / log_rA_rB_ratio)))\n",
      "Classification tree accuracy (for t_sisso_297) on the train set: 0.853982.\n",
      "Classification tree accuracy (for t_sisso_297) on the train set (5 fold CV): 0.853720.\n",
      "Classification tree accuracy (for t_sisso_297) on the test set: 0.877193.\n",
      "t_sisso_297 < 0.158088 indicates stable perovskites.\n",
      "\u001b[32m2025-03-06 14:38:37.906\u001b[0m | \u001b[1mINFO    \u001b[0m | \u001b[36mtf_chpvk_pv.modeling.train\u001b[0m:\u001b[36mtrain_tree_sis_features\u001b[0m:\u001b[36m81\u001b[0m - \u001b[1mTraining tree model with SISSO features...\u001b[0m\n",
      "Identified expression for t_sisso: (((1.0 / rB_rX_ratio) + (1.0 / log_rA_rB_ratio)) - ((chi_BX_ratio - log_rA_rB_ratio) - rA_rX_ratio))\n",
      "Classification tree accuracy (for t_sisso_26) on the train set: 0.827434.\n",
      "Classification tree accuracy (for t_sisso_26) on the train set (5 fold CV): 0.818551.\n",
      "Classification tree accuracy (for t_sisso_26) on the test set: 0.859649.\n",
      "t_sisso_26 < 4.464338 indicates stable perovskites.\n",
      "\u001b[32m2025-03-06 14:39:00.221\u001b[0m | \u001b[1mINFO    \u001b[0m | \u001b[36mtf_chpvk_pv.modeling.train\u001b[0m:\u001b[36mtrain_tree_sis_features\u001b[0m:\u001b[36m81\u001b[0m - \u001b[1mTraining tree model with SISSO features...\u001b[0m\n",
      "Identified expression for t_sisso: (((rA_rX_ratio - log_rA_rB_ratio) * log(log_rA_rB_ratio)) + (rA_rX_ratio - log_rA_rB_ratio))\n",
      "Classification tree accuracy (for t_sisso_14) on the train set: 0.858407.\n",
      "Classification tree accuracy (for t_sisso_14) on the train set (5 fold CV): 0.853816.\n",
      "Classification tree accuracy (for t_sisso_14) on the test set: 0.842105.\n",
      "t_sisso_14 < 0.104711 indicates stable perovskites.\n",
      "\u001b[32m2025-03-06 14:39:22.915\u001b[0m | \u001b[1mINFO    \u001b[0m | \u001b[36mtf_chpvk_pv.modeling.train\u001b[0m:\u001b[36mtrain_tree_sis_features\u001b[0m:\u001b[36m81\u001b[0m - \u001b[1mTraining tree model with SISSO features...\u001b[0m\n",
      "Identified expression for t_sisso: (((rA_rX_ratio / log_rA_rB_ratio) - (rA_rX_ratio - log_rA_rB_ratio)) - ((rA_rX_ratio - log_rA_rB_ratio) / sqrt(log_rA_rB_ratio)))\n",
      "Classification tree accuracy (for t_sisso_176) on the train set: 0.858407.\n",
      "Classification tree accuracy (for t_sisso_176) on the train set (5 fold CV): 0.849275.\n",
      "Classification tree accuracy (for t_sisso_176) on the test set: 0.859649.\n",
      "t_sisso_176 < 0.871024 indicates stable perovskites.\n",
      "\u001b[32m2025-03-06 14:39:45.196\u001b[0m | \u001b[1mINFO    \u001b[0m | \u001b[36mtf_chpvk_pv.modeling.train\u001b[0m:\u001b[36mtrain_tree_sis_features\u001b[0m:\u001b[36m81\u001b[0m - \u001b[1mTraining tree model with SISSO features...\u001b[0m\n",
      "Identified expression for t_sisso: ((log(rB_rX_ratio) / (log_rA_rB_ratio**3)) / log(log_rA_rB_ratio))\n",
      "Classification tree accuracy (for t_sisso_312) on the train set: 0.805310.\n",
      "Classification tree accuracy (for t_sisso_312) on the train set (5 fold CV): 0.800773.\n",
      "Classification tree accuracy (for t_sisso_312) on the test set: 0.842105.\n",
      "t_sisso_312 < 7.087222 indicates stable perovskites.\n",
      "\u001b[32m2025-03-06 14:40:07.725\u001b[0m | \u001b[1mINFO    \u001b[0m | \u001b[36mtf_chpvk_pv.modeling.train\u001b[0m:\u001b[36mtrain_tree_sis_features\u001b[0m:\u001b[36m81\u001b[0m - \u001b[1mTraining tree model with SISSO features...\u001b[0m\n",
      "Identified expression for t_sisso: (((chi_BX_ratio / log_rA_rB_ratio) + log(log_rA_rB_ratio)) / ((chi_BX_ratio**3) + rB_rX_ratio))\n",
      "Classification tree accuracy (for t_sisso_98) on the train set: 0.836283.\n",
      "Classification tree accuracy (for t_sisso_98) on the train set (5 fold CV): 0.836135.\n",
      "Classification tree accuracy (for t_sisso_98) on the test set: 0.807018.\n",
      "t_sisso_98 < 0.819758 indicates stable perovskites.\n",
      "\u001b[32m2025-03-06 14:40:30.015\u001b[0m | \u001b[1mINFO    \u001b[0m | \u001b[36mtf_chpvk_pv.modeling.train\u001b[0m:\u001b[36mtrain_tree_sis_features\u001b[0m:\u001b[36m81\u001b[0m - \u001b[1mTraining tree model with SISSO features...\u001b[0m\n",
      "Identified expression for t_sisso: (((rB_rX_ratio / rA_rX_ratio) * (|rB_rX_ratio - log_rA_rB_ratio|)) / (rA_rX_ratio**3))\n",
      "Classification tree accuracy (for t_sisso_207) on the train set: 0.836283.\n",
      "Classification tree accuracy (for t_sisso_207) on the train set (5 fold CV): 0.836039.\n",
      "Classification tree accuracy (for t_sisso_207) on the test set: 0.859649.\n",
      "t_sisso_207 < 0.154442 indicates stable perovskites.\n",
      "\u001b[32m2025-03-06 14:40:52.545\u001b[0m | \u001b[1mINFO    \u001b[0m | \u001b[36mtf_chpvk_pv.modeling.train\u001b[0m:\u001b[36mtrain_tree_sis_features\u001b[0m:\u001b[36m81\u001b[0m - \u001b[1mTraining tree model with SISSO features...\u001b[0m\n",
      "Identified expression for t_sisso: (log((rA_rX_ratio * chi_BX_ratio)) * ((rB_rX_ratio * chi_BX_ratio) * EA_A))\n",
      "Classification tree accuracy (for t_sisso_289) on the train set: 0.805310.\n",
      "Classification tree accuracy (for t_sisso_289) on the train set (5 fold CV): 0.800870.\n",
      "Classification tree accuracy (for t_sisso_289) on the test set: 0.736842.\n",
      "t_sisso_289 < -0.033733 indicates stable perovskites.\n",
      "\u001b[32m2025-03-06 14:41:14.815\u001b[0m | \u001b[1mINFO    \u001b[0m | \u001b[36mtf_chpvk_pv.modeling.train\u001b[0m:\u001b[36mtrain_tree_sis_features\u001b[0m:\u001b[36m81\u001b[0m - \u001b[1mTraining tree model with SISSO features...\u001b[0m\n",
      "Identified expression for t_sisso: (((rA_rX_ratio - rB_rX_ratio) - (log_rA_rB_ratio / rA_rX_ratio)) - ((rA_rX_ratio**2) - (|rB_rX_ratio - log_rA_rB_ratio|)))\n",
      "Classification tree accuracy (for t_sisso_129) on the train set: 0.858407.\n",
      "Classification tree accuracy (for t_sisso_129) on the train set (5 fold CV): 0.853623.\n",
      "Classification tree accuracy (for t_sisso_129) on the test set: 0.877193.\n",
      "t_sisso_129 < -0.902567 indicates stable perovskites.\n",
      "\u001b[32m2025-03-06 14:41:37.399\u001b[0m | \u001b[1mINFO    \u001b[0m | \u001b[36mtf_chpvk_pv.modeling.train\u001b[0m:\u001b[36mtrain_tree_sis_features\u001b[0m:\u001b[36m81\u001b[0m - \u001b[1mTraining tree model with SISSO features...\u001b[0m\n",
      "Identified expression for t_sisso: (((rA_rX_ratio / log_rA_rB_ratio) + (log_rA_rB_ratio / chi_BX_ratio)) / ((rA_rX_ratio + rB_rX_ratio) + (rB_rX_ratio / chi_BX_ratio)))\n",
      "Classification tree accuracy (for t_sisso_92) on the train set: 0.840708.\n",
      "Classification tree accuracy (for t_sisso_92) on the train set (5 fold CV): 0.831884.\n",
      "Classification tree accuracy (for t_sisso_92) on the test set: 0.859649.\n",
      "t_sisso_92 < 1.151516 indicates stable perovskites.\n",
      "\u001b[32m2025-03-06 14:41:59.890\u001b[0m | \u001b[1mINFO    \u001b[0m | \u001b[36mtf_chpvk_pv.modeling.train\u001b[0m:\u001b[36mtrain_tree_sis_features\u001b[0m:\u001b[36m81\u001b[0m - \u001b[1mTraining tree model with SISSO features...\u001b[0m\n",
      "Identified expression for t_sisso: (((rA_rX_ratio + log_rA_rB_ratio) + (rB_rX_ratio + log_rA_rB_ratio)) * log((rB_rX_ratio * log_rA_rB_ratio)))\n",
      "Classification tree accuracy (for t_sisso_84) on the train set: 0.827434.\n",
      "Classification tree accuracy (for t_sisso_84) on the train set (5 fold CV): 0.822705.\n",
      "Classification tree accuracy (for t_sisso_84) on the test set: 0.807018.\n",
      "t_sisso_84 < -3.214773 indicates stable perovskites.\n",
      "\u001b[32m2025-03-06 14:42:22.670\u001b[0m | \u001b[1mINFO    \u001b[0m | \u001b[36mtf_chpvk_pv.modeling.train\u001b[0m:\u001b[36mtrain_tree_sis_features\u001b[0m:\u001b[36m81\u001b[0m - \u001b[1mTraining tree model with SISSO features...\u001b[0m\n",
      "Identified expression for t_sisso: log((|(|rB_rX_ratio - log_rA_rB_ratio|) - (rB_rX_ratio + log_rA_rB_ratio)|))\n",
      "Error in /home/nomad-lanasc/Documents/Diego Garzon/TF-ChPVK-PV/data/features_space/features/features/features_sisso_53.csv\n",
      "\u001b[32m2025-03-06 14:42:45.001\u001b[0m | \u001b[1mINFO    \u001b[0m | \u001b[36mtf_chpvk_pv.modeling.train\u001b[0m:\u001b[36mtrain_tree_sis_features\u001b[0m:\u001b[36m81\u001b[0m - \u001b[1mTraining tree model with SISSO features...\u001b[0m\n",
      "Identified expression for t_sisso: (|(|log(rA_rX_ratio) - (|rB_rX_ratio - log_rA_rB_ratio|)|) - (|sqrt(rA_rX_ratio) - sqrt(chi_BX_ratio)|)|)\n",
      "Error in /home/nomad-lanasc/Documents/Diego Garzon/TF-ChPVK-PV/data/features_space/features/features/features_sisso_259.csv\n",
      "\u001b[32m2025-03-06 14:43:07.544\u001b[0m | \u001b[1mINFO    \u001b[0m | \u001b[36mtf_chpvk_pv.modeling.train\u001b[0m:\u001b[36mtrain_tree_sis_features\u001b[0m:\u001b[36m81\u001b[0m - \u001b[1mTraining tree model with SISSO features...\u001b[0m\n",
      "Identified expression for t_sisso: (|(|(rA_rX_ratio * log_rA_rB_ratio) - (log_rA_rB_ratio**3)|) - ((rB_rX_ratio**3) * (rB_rX_ratio * log_rA_rB_ratio))|)\n",
      "Error in /home/nomad-lanasc/Documents/Diego Garzon/TF-ChPVK-PV/data/features_space/features/features/features_sisso_216.csv\n",
      "\u001b[32m2025-03-06 14:43:29.826\u001b[0m | \u001b[1mINFO    \u001b[0m | \u001b[36mtf_chpvk_pv.modeling.train\u001b[0m:\u001b[36mtrain_tree_sis_features\u001b[0m:\u001b[36m81\u001b[0m - \u001b[1mTraining tree model with SISSO features...\u001b[0m\n",
      "Identified expression for t_sisso: (((rB_rX_ratio * chi_BX_ratio) * (chi_BX_ratio**2)) * ((chi_BX_ratio * log_rA_rB_ratio) * chi_BX_ratio))\n",
      "Classification tree accuracy (for t_sisso_286) on the train set: 0.787611.\n",
      "Classification tree accuracy (for t_sisso_286) on the train set (5 fold CV): 0.787729.\n",
      "Classification tree accuracy (for t_sisso_286) on the test set: 0.754386.\n",
      "t_sisso_286 < 1.072620 indicates stable perovskites.\n",
      "\u001b[32m2025-03-06 14:43:52.441\u001b[0m | \u001b[1mINFO    \u001b[0m | \u001b[36mtf_chpvk_pv.modeling.train\u001b[0m:\u001b[36mtrain_tree_sis_features\u001b[0m:\u001b[36m81\u001b[0m - \u001b[1mTraining tree model with SISSO features...\u001b[0m\n",
      "Identified expression for t_sisso: (|(|(rA_rX_ratio - rB_rX_ratio) - rB_rX_ratio|) - (|(|rB_rX_ratio - log_rA_rB_ratio|) - rA_rX_ratio|)|)\n",
      "Error in /home/nomad-lanasc/Documents/Diego Garzon/TF-ChPVK-PV/data/features_space/features/features/features_sisso_140.csv\n",
      "\u001b[32m2025-03-06 14:44:14.633\u001b[0m | \u001b[1mINFO    \u001b[0m | \u001b[36mtf_chpvk_pv.modeling.train\u001b[0m:\u001b[36mtrain_tree_sis_features\u001b[0m:\u001b[36m81\u001b[0m - \u001b[1mTraining tree model with SISSO features...\u001b[0m\n",
      "Identified expression for t_sisso: ((log(rB_rX_ratio)**3) + (log(log_rA_rB_ratio)**3))\n",
      "Classification tree accuracy (for t_sisso_119) on the train set: 0.858407.\n",
      "Classification tree accuracy (for t_sisso_119) on the train set (5 fold CV): 0.849275.\n",
      "Classification tree accuracy (for t_sisso_119) on the test set: 0.842105.\n",
      "t_sisso_119 < -0.662716 indicates stable perovskites.\n",
      "\u001b[32m2025-03-06 14:44:37.183\u001b[0m | \u001b[1mINFO    \u001b[0m | \u001b[36mtf_chpvk_pv.modeling.train\u001b[0m:\u001b[36mtrain_tree_sis_features\u001b[0m:\u001b[36m81\u001b[0m - \u001b[1mTraining tree model with SISSO features...\u001b[0m\n",
      "Identified expression for t_sisso: (|(|sqrt(rB_rX_ratio) - sqrt(log_rA_rB_ratio)|) - (sqrt(rB_rX_ratio) + sqrt(log_rA_rB_ratio))|)\n",
      "Error in /home/nomad-lanasc/Documents/Diego Garzon/TF-ChPVK-PV/data/features_space/features/features/features_sisso_52.csv\n",
      "\u001b[32m2025-03-06 14:44:59.460\u001b[0m | \u001b[1mINFO    \u001b[0m | \u001b[36mtf_chpvk_pv.modeling.train\u001b[0m:\u001b[36mtrain_tree_sis_features\u001b[0m:\u001b[36m81\u001b[0m - \u001b[1mTraining tree model with SISSO features...\u001b[0m\n",
      "Identified expression for t_sisso: ((sqrt(rA_rX_ratio) - sqrt(rB_rX_ratio)) + (sqrt(log_rA_rB_ratio) - log_rA_rB_ratio))\n",
      "Classification tree accuracy (for t_sisso_35) on the train set: 0.840708.\n",
      "Classification tree accuracy (for t_sisso_35) on the train set (5 fold CV): 0.836039.\n",
      "Classification tree accuracy (for t_sisso_35) on the test set: 0.842105.\n",
      "t_sisso_35 < 0.413743 indicates stable perovskites.\n",
      "\u001b[32m2025-03-06 14:45:22.218\u001b[0m | \u001b[1mINFO    \u001b[0m | \u001b[36mtf_chpvk_pv.modeling.train\u001b[0m:\u001b[36mtrain_tree_sis_features\u001b[0m:\u001b[36m81\u001b[0m - \u001b[1mTraining tree model with SISSO features...\u001b[0m\n",
      "Identified expression for t_sisso: (|(log(log_rA_rB_ratio)**3) - (1.0 / rB_rX_ratio)|)\n",
      "Classification tree accuracy (for t_sisso_254) on the train set: 0.858407.\n",
      "Classification tree accuracy (for t_sisso_254) on the train set (5 fold CV): 0.858164.\n",
      "Classification tree accuracy (for t_sisso_254) on the test set: 0.877193.\n",
      "t_sisso_254 < 2.287754 indicates stable perovskites.\n",
      "\u001b[32m2025-03-06 14:45:44.621\u001b[0m | \u001b[1mINFO    \u001b[0m | \u001b[36mtf_chpvk_pv.modeling.train\u001b[0m:\u001b[36mtrain_tree_sis_features\u001b[0m:\u001b[36m81\u001b[0m - \u001b[1mTraining tree model with SISSO features...\u001b[0m\n",
      "Identified expression for t_sisso: (((rA_rX_ratio * chi_BX_ratio) + exp(chi_BX_ratio)) * ((chi_BX_ratio**2)**2))\n",
      "Classification tree accuracy (for t_sisso_71) on the train set: 0.783186.\n",
      "Classification tree accuracy (for t_sisso_71) on the train set (5 fold CV): 0.783382.\n",
      "Classification tree accuracy (for t_sisso_71) on the test set: 0.754386.\n",
      "t_sisso_71 < 10.998234 indicates stable perovskites.\n",
      "\u001b[32m2025-03-06 14:46:07.369\u001b[0m | \u001b[1mINFO    \u001b[0m | \u001b[36mtf_chpvk_pv.modeling.train\u001b[0m:\u001b[36mtrain_tree_sis_features\u001b[0m:\u001b[36m81\u001b[0m - \u001b[1mTraining tree model with SISSO features...\u001b[0m\n",
      "Identified expression for t_sisso: (((rA_rX_ratio - log_rA_rB_ratio) * (log_rA_rB_ratio**3)) * ((log_rA_rB_ratio**3) - log_rA_rB_ratio))\n",
      "Classification tree accuracy (for t_sisso_160) on the train set: 0.831858.\n",
      "Classification tree accuracy (for t_sisso_160) on the train set (5 fold CV): 0.827343.\n",
      "Classification tree accuracy (for t_sisso_160) on the test set: 0.824561.\n",
      "t_sisso_160 < -0.017103 indicates stable perovskites.\n",
      "\u001b[32m2025-03-06 14:46:29.727\u001b[0m | \u001b[1mINFO    \u001b[0m | \u001b[36mtf_chpvk_pv.modeling.train\u001b[0m:\u001b[36mtrain_tree_sis_features\u001b[0m:\u001b[36m81\u001b[0m - \u001b[1mTraining tree model with SISSO features...\u001b[0m\n",
      "Identified expression for t_sisso: (exp((rB_rX_ratio / rA_rX_ratio)) / (|(|rB_rX_ratio - log_rA_rB_ratio|) - rA_rX_ratio|))\n",
      "Error in /home/nomad-lanasc/Documents/Diego Garzon/TF-ChPVK-PV/data/features_space/features/features/features_sisso_229.csv\n",
      "\u001b[32m2025-03-06 14:46:52.183\u001b[0m | \u001b[1mINFO    \u001b[0m | \u001b[36mtf_chpvk_pv.modeling.train\u001b[0m:\u001b[36mtrain_tree_sis_features\u001b[0m:\u001b[36m81\u001b[0m - \u001b[1mTraining tree model with SISSO features...\u001b[0m\n",
      "Identified expression for t_sisso: ((sqrt(rA_rX_ratio) + chi_BX_ratio) * ((chi_BX_ratio**2)**2))\n",
      "Classification tree accuracy (for t_sisso_80) on the train set: 0.783186.\n",
      "Classification tree accuracy (for t_sisso_80) on the train set (5 fold CV): 0.783382.\n",
      "Classification tree accuracy (for t_sisso_80) on the test set: 0.754386.\n",
      "t_sisso_80 < 5.211787 indicates stable perovskites.\n",
      "\u001b[32m2025-03-06 14:47:14.521\u001b[0m | \u001b[1mINFO    \u001b[0m | \u001b[36mtf_chpvk_pv.modeling.train\u001b[0m:\u001b[36mtrain_tree_sis_features\u001b[0m:\u001b[36m81\u001b[0m - \u001b[1mTraining tree model with SISSO features...\u001b[0m\n",
      "Identified expression for t_sisso: ((exp(rA_rX_ratio) - (rA_rX_ratio - log_rA_rB_ratio)) - (|exp(rB_rX_ratio) - exp(log_rA_rB_ratio)|))\n",
      "Classification tree accuracy (for t_sisso_135) on the train set: 0.867257.\n",
      "Classification tree accuracy (for t_sisso_135) on the train set (5 fold CV): 0.866957.\n",
      "Classification tree accuracy (for t_sisso_135) on the test set: 0.877193.\n",
      "t_sisso_135 < 1.849680 indicates stable perovskites.\n",
      "\u001b[32m2025-03-06 14:47:37.134\u001b[0m | \u001b[1mINFO    \u001b[0m | \u001b[36mtf_chpvk_pv.modeling.train\u001b[0m:\u001b[36mtrain_tree_sis_features\u001b[0m:\u001b[36m81\u001b[0m - \u001b[1mTraining tree model with SISSO features...\u001b[0m\n",
      "Identified expression for t_sisso: ((exp(rB_rX_ratio) * exp(log_rA_rB_ratio)) * log((rB_rX_ratio * log_rA_rB_ratio)))\n",
      "Classification tree accuracy (for t_sisso_284) on the train set: 0.836283.\n",
      "Classification tree accuracy (for t_sisso_284) on the train set (5 fold CV): 0.822899.\n",
      "Classification tree accuracy (for t_sisso_284) on the test set: 0.824561.\n",
      "t_sisso_284 < -3.718539 indicates stable perovskites.\n",
      "\u001b[32m2025-03-06 14:47:59.448\u001b[0m | \u001b[1mINFO    \u001b[0m | \u001b[36mtf_chpvk_pv.modeling.train\u001b[0m:\u001b[36mtrain_tree_sis_features\u001b[0m:\u001b[36m81\u001b[0m - \u001b[1mTraining tree model with SISSO features...\u001b[0m\n",
      "Identified expression for t_sisso: (((rA_rX_ratio**2) - (rB_rX_ratio**3)) - ((rB_rX_ratio - log_rA_rB_ratio)**2))\n",
      "Classification tree accuracy (for t_sisso_188) on the train set: 0.818584.\n",
      "Classification tree accuracy (for t_sisso_188) on the train set (5 fold CV): 0.818454.\n",
      "Classification tree accuracy (for t_sisso_188) on the test set: 0.824561.\n",
      "t_sisso_188 < 0.639108 indicates stable perovskites.\n",
      "\u001b[32m2025-03-06 14:48:22.037\u001b[0m | \u001b[1mINFO    \u001b[0m | \u001b[36mtf_chpvk_pv.modeling.train\u001b[0m:\u001b[36mtrain_tree_sis_features\u001b[0m:\u001b[36m81\u001b[0m - \u001b[1mTraining tree model with SISSO features...\u001b[0m\n",
      "Identified expression for t_sisso: (1.0 / (|(|rB_rX_ratio - log_rA_rB_ratio|) - rA_rX_ratio|))\n",
      "Error in /home/nomad-lanasc/Documents/Diego Garzon/TF-ChPVK-PV/data/features_space/features/features/features_sisso_242.csv\n",
      "\u001b[32m2025-03-06 14:48:44.273\u001b[0m | \u001b[1mINFO    \u001b[0m | \u001b[36mtf_chpvk_pv.modeling.train\u001b[0m:\u001b[36mtrain_tree_sis_features\u001b[0m:\u001b[36m81\u001b[0m - \u001b[1mTraining tree model with SISSO features...\u001b[0m\n",
      "Identified expression for t_sisso: (|(|(rA_rX_ratio - rB_rX_ratio) - rB_rX_ratio|) - (|(|rB_rX_ratio - log_rA_rB_ratio|) - rA_rX_ratio|)|)\n",
      "Error in /home/nomad-lanasc/Documents/Diego Garzon/TF-ChPVK-PV/data/features_space/features/features/features_sisso_144.csv\n",
      "\u001b[32m2025-03-06 14:49:06.832\u001b[0m | \u001b[1mINFO    \u001b[0m | \u001b[36mtf_chpvk_pv.modeling.train\u001b[0m:\u001b[36mtrain_tree_sis_features\u001b[0m:\u001b[36m81\u001b[0m - \u001b[1mTraining tree model with SISSO features...\u001b[0m\n",
      "Identified expression for t_sisso: (log((rA_rX_ratio / log_rA_rB_ratio)) / (log(log_rA_rB_ratio)**2))\n",
      "Classification tree accuracy (for t_sisso_313) on the train set: 0.809735.\n",
      "Classification tree accuracy (for t_sisso_313) on the train set (5 fold CV): 0.800870.\n",
      "Classification tree accuracy (for t_sisso_313) on the test set: 0.754386.\n",
      "t_sisso_313 < 1.095769 indicates stable perovskites.\n",
      "\u001b[32m2025-03-06 14:49:29.275\u001b[0m | \u001b[1mINFO    \u001b[0m | \u001b[36mtf_chpvk_pv.modeling.train\u001b[0m:\u001b[36mtrain_tree_sis_features\u001b[0m:\u001b[36m81\u001b[0m - \u001b[1mTraining tree model with SISSO features...\u001b[0m\n",
      "Identified expression for t_sisso: (((rB_rX_ratio - log_rA_rB_ratio) - log_rA_rB_ratio) - ((1.0 / log_rA_rB_ratio) - rB_rX_ratio))\n",
      "Classification tree accuracy (for t_sisso_196) on the train set: 0.862832.\n",
      "Classification tree accuracy (for t_sisso_196) on the train set (5 fold CV): 0.853623.\n",
      "Classification tree accuracy (for t_sisso_196) on the test set: 0.877193.\n",
      "t_sisso_196 < -1.975124 indicates stable perovskites.\n",
      "\u001b[32m2025-03-06 14:49:51.975\u001b[0m | \u001b[1mINFO    \u001b[0m | \u001b[36mtf_chpvk_pv.modeling.train\u001b[0m:\u001b[36mtrain_tree_sis_features\u001b[0m:\u001b[36m81\u001b[0m - \u001b[1mTraining tree model with SISSO features...\u001b[0m\n",
      "Identified expression for t_sisso: (((rA_rX_ratio**3) - (log_rA_rB_ratio**3)) - ((rA_rX_ratio - log_rA_rB_ratio) + sqrt(rB_rX_ratio)))\n",
      "Classification tree accuracy (for t_sisso_33) on the train set: 0.796460.\n",
      "Classification tree accuracy (for t_sisso_33) on the train set (5 fold CV): 0.791981.\n",
      "Classification tree accuracy (for t_sisso_33) on the test set: 0.701754.\n",
      "t_sisso_33 < -0.561837 indicates stable perovskites.\n",
      "\u001b[32m2025-03-06 14:50:14.388\u001b[0m | \u001b[1mINFO    \u001b[0m | \u001b[36mtf_chpvk_pv.modeling.train\u001b[0m:\u001b[36mtrain_tree_sis_features\u001b[0m:\u001b[36m81\u001b[0m - \u001b[1mTraining tree model with SISSO features...\u001b[0m\n",
      "Identified expression for t_sisso: (((rB_rX_ratio / log_rA_rB_ratio) + (log_rA_rB_ratio / chi_BX_ratio)) / ((rA_rX_ratio * rB_rX_ratio) + (rB_rX_ratio / chi_BX_ratio)))\n",
      "Classification tree accuracy (for t_sisso_69) on the train set: 0.840708.\n",
      "Classification tree accuracy (for t_sisso_69) on the train set (5 fold CV): 0.818261.\n",
      "Classification tree accuracy (for t_sisso_69) on the test set: 0.877193.\n",
      "t_sisso_69 < 1.574975 indicates stable perovskites.\n",
      "\u001b[32m2025-03-06 14:50:36.982\u001b[0m | \u001b[1mINFO    \u001b[0m | \u001b[36mtf_chpvk_pv.modeling.train\u001b[0m:\u001b[36mtrain_tree_sis_features\u001b[0m:\u001b[36m81\u001b[0m - \u001b[1mTraining tree model with SISSO features...\u001b[0m\n",
      "Identified expression for t_sisso: (((rA_rX_ratio**2) + (rB_rX_ratio - log_rA_rB_ratio)) - ((rA_rX_ratio / log_rA_rB_ratio) - (rB_rX_ratio - log_rA_rB_ratio)))\n",
      "Classification tree accuracy (for t_sisso_17) on the train set: 0.849558.\n",
      "Classification tree accuracy (for t_sisso_17) on the train set (5 fold CV): 0.840386.\n",
      "Classification tree accuracy (for t_sisso_17) on the test set: 0.877193.\n",
      "t_sisso_17 < -0.959333 indicates stable perovskites.\n",
      "\u001b[32m2025-03-06 14:50:59.337\u001b[0m | \u001b[1mINFO    \u001b[0m | \u001b[36mtf_chpvk_pv.modeling.train\u001b[0m:\u001b[36mtrain_tree_sis_features\u001b[0m:\u001b[36m81\u001b[0m - \u001b[1mTraining tree model with SISSO features...\u001b[0m\n",
      "Identified expression for t_sisso: (((rA_rX_ratio / log_rA_rB_ratio) / log_rA_rB_ratio) * (exp(chi_BX_ratio) - (chi_BX_ratio / log_rA_rB_ratio)))\n",
      "Classification tree accuracy (for t_sisso_148) on the train set: 0.853982.\n",
      "Classification tree accuracy (for t_sisso_148) on the train set (5 fold CV): 0.840676.\n",
      "Classification tree accuracy (for t_sisso_148) on the test set: 0.842105.\n",
      "t_sisso_148 < 2.043626 indicates stable perovskites.\n",
      "\u001b[32m2025-03-06 14:51:21.970\u001b[0m | \u001b[1mINFO    \u001b[0m | \u001b[36mtf_chpvk_pv.modeling.train\u001b[0m:\u001b[36mtrain_tree_sis_features\u001b[0m:\u001b[36m81\u001b[0m - \u001b[1mTraining tree model with SISSO features...\u001b[0m\n",
      "Identified expression for t_sisso: ((|(rA_rX_ratio * log_rA_rB_ratio) - exp(log_rA_rB_ratio)|) * (|(|rB_rX_ratio - log_rA_rB_ratio|) - rA_rX_ratio|))\n",
      "Error in /home/nomad-lanasc/Documents/Diego Garzon/TF-ChPVK-PV/data/features_space/features/features/features_sisso_213.csv\n",
      "\u001b[32m2025-03-06 14:51:44.208\u001b[0m | \u001b[1mINFO    \u001b[0m | \u001b[36mtf_chpvk_pv.modeling.train\u001b[0m:\u001b[36mtrain_tree_sis_features\u001b[0m:\u001b[36m81\u001b[0m - \u001b[1mTraining tree model with SISSO features...\u001b[0m\n",
      "Identified expression for t_sisso: (((rA_rX_ratio * rB_rX_ratio) * (|rA_rX_ratio - chi_BX_ratio|)) + (|(|rB_rX_ratio - log_rA_rB_ratio|) - (rB_rX_ratio + log_rA_rB_ratio)|))\n",
      "Error in /home/nomad-lanasc/Documents/Diego Garzon/TF-ChPVK-PV/data/features_space/features/features/features_sisso_37.csv\n",
      "\u001b[32m2025-03-06 14:52:06.613\u001b[0m | \u001b[1mINFO    \u001b[0m | \u001b[36mtf_chpvk_pv.modeling.train\u001b[0m:\u001b[36mtrain_tree_sis_features\u001b[0m:\u001b[36m81\u001b[0m - \u001b[1mTraining tree model with SISSO features...\u001b[0m\n",
      "Identified expression for t_sisso: ((|(rA_rX_ratio / chi_BX_ratio) - log_rA_rB_ratio|) + (|(|rB_rX_ratio - log_rA_rB_ratio|) - (chi_BX_ratio + log_rA_rB_ratio)|))\n",
      "Error in /home/nomad-lanasc/Documents/Diego Garzon/TF-ChPVK-PV/data/features_space/features/features/features_sisso_44.csv\n",
      "\u001b[32m2025-03-06 14:52:28.801\u001b[0m | \u001b[1mINFO    \u001b[0m | \u001b[36mtf_chpvk_pv.modeling.train\u001b[0m:\u001b[36mtrain_tree_sis_features\u001b[0m:\u001b[36m81\u001b[0m - \u001b[1mTraining tree model with SISSO features...\u001b[0m\n",
      "Identified expression for t_sisso: ((|(|rA_rX_ratio - chi_BX_ratio|) - (1.0 / rA_rX_ratio)|) * ((|rB_rX_ratio - log_rA_rB_ratio|) / (chi_BX_ratio * log_rA_rB_ratio)))\n",
      "Error in /home/nomad-lanasc/Documents/Diego Garzon/TF-ChPVK-PV/data/features_space/features/features/features_sisso_205.csv\n",
      "\u001b[32m2025-03-06 14:52:51.279\u001b[0m | \u001b[1mINFO    \u001b[0m | \u001b[36mtf_chpvk_pv.modeling.train\u001b[0m:\u001b[36mtrain_tree_sis_features\u001b[0m:\u001b[36m81\u001b[0m - \u001b[1mTraining tree model with SISSO features...\u001b[0m\n",
      "Identified expression for t_sisso: (|(|(rA_rX_ratio - rB_rX_ratio) - rB_rX_ratio|) - (|(|rB_rX_ratio - log_rA_rB_ratio|) - rA_rX_ratio|)|)\n",
      "Error in /home/nomad-lanasc/Documents/Diego Garzon/TF-ChPVK-PV/data/features_space/features/features/features_sisso_143.csv\n",
      "\u001b[32m2025-03-06 14:53:13.563\u001b[0m | \u001b[1mINFO    \u001b[0m | \u001b[36mtf_chpvk_pv.modeling.train\u001b[0m:\u001b[36mtrain_tree_sis_features\u001b[0m:\u001b[36m81\u001b[0m - \u001b[1mTraining tree model with SISSO features...\u001b[0m\n",
      "Identified expression for t_sisso: (|(|(rA_rX_ratio - rB_rX_ratio) - rB_rX_ratio|) - (|(|rB_rX_ratio - log_rA_rB_ratio|) - rA_rX_ratio|)|)\n",
      "Error in /home/nomad-lanasc/Documents/Diego Garzon/TF-ChPVK-PV/data/features_space/features/features/features_sisso_122.csv\n",
      "\u001b[32m2025-03-06 14:53:36.103\u001b[0m | \u001b[1mINFO    \u001b[0m | \u001b[36mtf_chpvk_pv.modeling.train\u001b[0m:\u001b[36mtrain_tree_sis_features\u001b[0m:\u001b[36m81\u001b[0m - \u001b[1mTraining tree model with SISSO features...\u001b[0m\n",
      "Identified expression for t_sisso: (((rA_rX_ratio * rB_rX_ratio) * (rA_rX_ratio - rB_rX_ratio)) - ((|rB_rX_ratio - log_rA_rB_ratio|) * rB_rX_ratio))\n",
      "Classification tree accuracy (for t_sisso_120) on the train set: 0.849558.\n",
      "Classification tree accuracy (for t_sisso_120) on the train set (5 fold CV): 0.844928.\n",
      "Classification tree accuracy (for t_sisso_120) on the test set: 0.859649.\n",
      "t_sisso_120 < 0.110411 indicates stable perovskites.\n",
      "\u001b[32m2025-03-06 14:53:58.431\u001b[0m | \u001b[1mINFO    \u001b[0m | \u001b[36mtf_chpvk_pv.modeling.train\u001b[0m:\u001b[36mtrain_tree_sis_features\u001b[0m:\u001b[36m81\u001b[0m - \u001b[1mTraining tree model with SISSO features...\u001b[0m\n",
      "Identified expression for t_sisso: ((|log(log_rA_rB_ratio) - sqrt(log_rA_rB_ratio)|) / (|(|rB_rX_ratio - log_rA_rB_ratio|) - rA_rX_ratio|))\n",
      "Error in /home/nomad-lanasc/Documents/Diego Garzon/TF-ChPVK-PV/data/features_space/features/features/features_sisso_239.csv\n",
      "\u001b[32m2025-03-06 14:54:20.971\u001b[0m | \u001b[1mINFO    \u001b[0m | \u001b[36mtf_chpvk_pv.modeling.train\u001b[0m:\u001b[36mtrain_tree_sis_features\u001b[0m:\u001b[36m81\u001b[0m - \u001b[1mTraining tree model with SISSO features...\u001b[0m\n",
      "Identified expression for t_sisso: ((sqrt(rA_rX_ratio) - log(log_rA_rB_ratio)) - (log(log_rA_rB_ratio)**2))\n",
      "Classification tree accuracy (for t_sisso_202) on the train set: 0.853982.\n",
      "Classification tree accuracy (for t_sisso_202) on the train set (5 fold CV): 0.849275.\n",
      "Classification tree accuracy (for t_sisso_202) on the test set: 0.877193.\n",
      "t_sisso_202 < 1.166891 indicates stable perovskites.\n",
      "\u001b[32m2025-03-06 14:54:43.218\u001b[0m | \u001b[1mINFO    \u001b[0m | \u001b[36mtf_chpvk_pv.modeling.train\u001b[0m:\u001b[36mtrain_tree_sis_features\u001b[0m:\u001b[36m81\u001b[0m - \u001b[1mTraining tree model with SISSO features...\u001b[0m\n",
      "Identified expression for t_sisso: (|(|rB_rX_ratio - log_rA_rB_ratio|) - (rB_rX_ratio + log_rA_rB_ratio)|)\n",
      "Error in /home/nomad-lanasc/Documents/Diego Garzon/TF-ChPVK-PV/data/features_space/features/features/features_sisso_50.csv\n",
      "\u001b[32m2025-03-06 14:55:05.697\u001b[0m | \u001b[1mINFO    \u001b[0m | \u001b[36mtf_chpvk_pv.modeling.train\u001b[0m:\u001b[36mtrain_tree_sis_features\u001b[0m:\u001b[36m81\u001b[0m - \u001b[1mTraining tree model with SISSO features...\u001b[0m\n",
      "Identified expression for t_sisso: (((chi_BX_ratio**2) - (log_rA_rB_ratio / rB_rX_ratio)) - ((chi_BX_ratio / log_rA_rB_ratio) - (chi_BX_ratio * log_rA_rB_ratio)))\n",
      "Classification tree accuracy (for t_sisso_150) on the train set: 0.845133.\n",
      "Classification tree accuracy (for t_sisso_150) on the train set (5 fold CV): 0.831884.\n",
      "Classification tree accuracy (for t_sisso_150) on the test set: 0.877193.\n",
      "t_sisso_150 < -1.483408 indicates stable perovskites.\n",
      "\u001b[32m2025-03-06 14:55:28.019\u001b[0m | \u001b[1mINFO    \u001b[0m | \u001b[36mtf_chpvk_pv.modeling.train\u001b[0m:\u001b[36mtrain_tree_sis_features\u001b[0m:\u001b[36m81\u001b[0m - \u001b[1mTraining tree model with SISSO features...\u001b[0m\n",
      "Identified expression for t_sisso: (|(|(|rA_rX_ratio - log_rA_rB_ratio|) - (rB_rX_ratio**2)|) - (|(|rB_rX_ratio - log_rA_rB_ratio|) - rA_rX_ratio|)|)\n",
      "Error in /home/nomad-lanasc/Documents/Diego Garzon/TF-ChPVK-PV/data/features_space/features/features/features_sisso_246.csv\n",
      "\u001b[32m2025-03-06 14:55:50.526\u001b[0m | \u001b[1mINFO    \u001b[0m | \u001b[36mtf_chpvk_pv.modeling.train\u001b[0m:\u001b[36mtrain_tree_sis_features\u001b[0m:\u001b[36m81\u001b[0m - \u001b[1mTraining tree model with SISSO features...\u001b[0m\n",
      "Identified expression for t_sisso: (((rA_rX_ratio * rB_rX_ratio) - (rA_rX_ratio - log_rA_rB_ratio)) * (sqrt(rA_rX_ratio) - sqrt(log_rA_rB_ratio)))\n",
      "Classification tree accuracy (for t_sisso_161) on the train set: 0.840708.\n",
      "Classification tree accuracy (for t_sisso_161) on the train set (5 fold CV): 0.836039.\n",
      "Classification tree accuracy (for t_sisso_161) on the test set: 0.789474.\n",
      "t_sisso_161 < 0.018465 indicates stable perovskites.\n",
      "\u001b[32m2025-03-06 14:56:12.876\u001b[0m | \u001b[1mINFO    \u001b[0m | \u001b[36mtf_chpvk_pv.modeling.train\u001b[0m:\u001b[36mtrain_tree_sis_features\u001b[0m:\u001b[36m81\u001b[0m - \u001b[1mTraining tree model with SISSO features...\u001b[0m\n",
      "Identified expression for t_sisso: ((|(|rA_rX_ratio - log_rA_rB_ratio|) - log(log_rA_rB_ratio)|) * (log_rA_rB_ratio**2))\n",
      "Error in /home/nomad-lanasc/Documents/Diego Garzon/TF-ChPVK-PV/data/features_space/features/features/features_sisso_221.csv\n",
      "\u001b[32m2025-03-06 14:56:35.452\u001b[0m | \u001b[1mINFO    \u001b[0m | \u001b[36mtf_chpvk_pv.modeling.train\u001b[0m:\u001b[36mtrain_tree_sis_features\u001b[0m:\u001b[36m81\u001b[0m - \u001b[1mTraining tree model with SISSO features...\u001b[0m\n",
      "Identified expression for t_sisso: ((sqrt(rA_rX_ratio) - log_rA_rB_ratio) - (sqrt(rB_rX_ratio) - sqrt(log_rA_rB_ratio)))\n",
      "Classification tree accuracy (for t_sisso_200) on the train set: 0.840708.\n",
      "Classification tree accuracy (for t_sisso_200) on the train set (5 fold CV): 0.836039.\n",
      "Classification tree accuracy (for t_sisso_200) on the test set: 0.842105.\n",
      "t_sisso_200 < 0.413743 indicates stable perovskites.\n",
      "\u001b[32m2025-03-06 14:56:57.974\u001b[0m | \u001b[1mINFO    \u001b[0m | \u001b[36mtf_chpvk_pv.modeling.train\u001b[0m:\u001b[36mtrain_tree_sis_features\u001b[0m:\u001b[36m81\u001b[0m - \u001b[1mTraining tree model with SISSO features...\u001b[0m\n",
      "Identified expression for t_sisso: (((rA_rX_ratio * rB_rX_ratio) - (rA_rX_ratio - log_rA_rB_ratio)) * (sqrt(rA_rX_ratio) - sqrt(log_rA_rB_ratio)))\n",
      "Classification tree accuracy (for t_sisso_13) on the train set: 0.840708.\n",
      "Classification tree accuracy (for t_sisso_13) on the train set (5 fold CV): 0.836039.\n",
      "Classification tree accuracy (for t_sisso_13) on the test set: 0.789474.\n",
      "t_sisso_13 < 0.018465 indicates stable perovskites.\n"
     ]
    },
    {
     "name": "stderr",
     "output_type": "stream",
     "text": [
      "/home/nomad-lanasc/Documents/Diego Garzon/TF-ChPVK-PV/tf_chpvk_pv/modeling/train.py:248: PerformanceWarning: DataFrame is highly fragmented.  This is usually the result of calling `frame.insert` many times, which has poor performance.  Consider joining all columns at once using pd.concat(axis=1) instead. To get a de-fragmented frame, use `newframe = frame.copy()`\n",
      "  df_acc.loc['train_data', t] = acc_train\n"
     ]
    },
    {
     "name": "stdout",
     "output_type": "stream",
     "text": [
      "\u001b[32m2025-03-06 14:57:20.670\u001b[0m | \u001b[1mINFO    \u001b[0m | \u001b[36mtf_chpvk_pv.modeling.train\u001b[0m:\u001b[36mtrain_tree_sis_features\u001b[0m:\u001b[36m81\u001b[0m - \u001b[1mTraining tree model with SISSO features...\u001b[0m\n",
      "Identified expression for t_sisso: ((sqrt(rA_rX_ratio) - log_rA_rB_ratio) - (sqrt(rB_rX_ratio) - sqrt(log_rA_rB_ratio)))\n",
      "Classification tree accuracy (for t_sisso_193) on the train set: 0.840708.\n",
      "Classification tree accuracy (for t_sisso_193) on the train set (5 fold CV): 0.836039.\n",
      "Classification tree accuracy (for t_sisso_193) on the test set: 0.842105.\n",
      "t_sisso_193 < 0.413743 indicates stable perovskites.\n"
     ]
    },
    {
     "name": "stderr",
     "output_type": "stream",
     "text": [
      "/home/nomad-lanasc/Documents/Diego Garzon/TF-ChPVK-PV/tf_chpvk_pv/modeling/train.py:248: PerformanceWarning: DataFrame is highly fragmented.  This is usually the result of calling `frame.insert` many times, which has poor performance.  Consider joining all columns at once using pd.concat(axis=1) instead. To get a de-fragmented frame, use `newframe = frame.copy()`\n",
      "  df_acc.loc['train_data', t] = acc_train\n"
     ]
    },
    {
     "name": "stdout",
     "output_type": "stream",
     "text": [
      "\u001b[32m2025-03-06 14:57:43.218\u001b[0m | \u001b[1mINFO    \u001b[0m | \u001b[36mtf_chpvk_pv.modeling.train\u001b[0m:\u001b[36mtrain_tree_sis_features\u001b[0m:\u001b[36m81\u001b[0m - \u001b[1mTraining tree model with SISSO features...\u001b[0m\n",
      "Identified expression for t_sisso: (((rB_rX_ratio**3) * rA_rX_ratio) - ((|rB_rX_ratio - log_rA_rB_ratio|) - log_rA_rB_ratio))\n",
      "Classification tree accuracy (for t_sisso_124) on the train set: 0.853982.\n",
      "Classification tree accuracy (for t_sisso_124) on the train set (5 fold CV): 0.853720.\n",
      "Classification tree accuracy (for t_sisso_124) on the test set: 0.894737.\n",
      "t_sisso_124 < 0.543744 indicates stable perovskites.\n"
     ]
    },
    {
     "name": "stderr",
     "output_type": "stream",
     "text": [
      "/home/nomad-lanasc/Documents/Diego Garzon/TF-ChPVK-PV/tf_chpvk_pv/modeling/train.py:248: PerformanceWarning: DataFrame is highly fragmented.  This is usually the result of calling `frame.insert` many times, which has poor performance.  Consider joining all columns at once using pd.concat(axis=1) instead. To get a de-fragmented frame, use `newframe = frame.copy()`\n",
      "  df_acc.loc['train_data', t] = acc_train\n"
     ]
    },
    {
     "name": "stdout",
     "output_type": "stream",
     "text": [
      "\u001b[32m2025-03-06 14:58:05.900\u001b[0m | \u001b[1mINFO    \u001b[0m | \u001b[36mtf_chpvk_pv.modeling.train\u001b[0m:\u001b[36mtrain_tree_sis_features\u001b[0m:\u001b[36m81\u001b[0m - \u001b[1mTraining tree model with SISSO features...\u001b[0m\n",
      "Identified expression for t_sisso: (|(|(|rA_rX_ratio - log_rA_rB_ratio|) - (rB_rX_ratio * log_rA_rB_ratio)|) - (sqrt(rB_rX_ratio) * rA_rX_ratio)|)\n",
      "Error in /home/nomad-lanasc/Documents/Diego Garzon/TF-ChPVK-PV/data/features_space/features/features/features_sisso_208.csv\n",
      "\u001b[32m2025-03-06 14:58:28.259\u001b[0m | \u001b[1mINFO    \u001b[0m | \u001b[36mtf_chpvk_pv.modeling.train\u001b[0m:\u001b[36mtrain_tree_sis_features\u001b[0m:\u001b[36m81\u001b[0m - \u001b[1mTraining tree model with SISSO features...\u001b[0m\n",
      "Identified expression for t_sisso: (((rA_rX_ratio - log_rA_rB_ratio) + log(log_rA_rB_ratio)) - log((rA_rX_ratio + log_rA_rB_ratio)))\n",
      "Classification tree accuracy (for t_sisso_25) on the train set: 0.840708.\n",
      "Classification tree accuracy (for t_sisso_25) on the train set (5 fold CV): 0.827246.\n",
      "Classification tree accuracy (for t_sisso_25) on the test set: 0.824561.\n",
      "t_sisso_25 < -0.644826 indicates stable perovskites.\n"
     ]
    },
    {
     "name": "stderr",
     "output_type": "stream",
     "text": [
      "/home/nomad-lanasc/Documents/Diego Garzon/TF-ChPVK-PV/tf_chpvk_pv/modeling/train.py:248: PerformanceWarning: DataFrame is highly fragmented.  This is usually the result of calling `frame.insert` many times, which has poor performance.  Consider joining all columns at once using pd.concat(axis=1) instead. To get a de-fragmented frame, use `newframe = frame.copy()`\n",
      "  df_acc.loc['train_data', t] = acc_train\n"
     ]
    },
    {
     "name": "stdout",
     "output_type": "stream",
     "text": [
      "\u001b[32m2025-03-06 14:58:50.912\u001b[0m | \u001b[1mINFO    \u001b[0m | \u001b[36mtf_chpvk_pv.modeling.train\u001b[0m:\u001b[36mtrain_tree_sis_features\u001b[0m:\u001b[36m81\u001b[0m - \u001b[1mTraining tree model with SISSO features...\u001b[0m\n",
      "Identified expression for t_sisso: ((exp(rA_rX_ratio) - (rA_rX_ratio - log_rA_rB_ratio)) - (|exp(rB_rX_ratio) - exp(log_rA_rB_ratio)|))\n",
      "Classification tree accuracy (for t_sisso_136) on the train set: 0.867257.\n",
      "Classification tree accuracy (for t_sisso_136) on the train set (5 fold CV): 0.866957.\n",
      "Classification tree accuracy (for t_sisso_136) on the test set: 0.877193.\n",
      "t_sisso_136 < 1.849680 indicates stable perovskites.\n"
     ]
    },
    {
     "name": "stderr",
     "output_type": "stream",
     "text": [
      "/home/nomad-lanasc/Documents/Diego Garzon/TF-ChPVK-PV/tf_chpvk_pv/modeling/train.py:248: PerformanceWarning: DataFrame is highly fragmented.  This is usually the result of calling `frame.insert` many times, which has poor performance.  Consider joining all columns at once using pd.concat(axis=1) instead. To get a de-fragmented frame, use `newframe = frame.copy()`\n",
      "  df_acc.loc['train_data', t] = acc_train\n"
     ]
    },
    {
     "name": "stdout",
     "output_type": "stream",
     "text": [
      "\u001b[32m2025-03-06 14:59:13.281\u001b[0m | \u001b[1mINFO    \u001b[0m | \u001b[36mtf_chpvk_pv.modeling.train\u001b[0m:\u001b[36mtrain_tree_sis_features\u001b[0m:\u001b[36m81\u001b[0m - \u001b[1mTraining tree model with SISSO features...\u001b[0m\n",
      "Identified expression for t_sisso: (((chi_BX_ratio / rB_rX_ratio) / (log_rA_rB_ratio**2)) / ((rB_rX_ratio**3)**3))\n",
      "Classification tree accuracy (for t_sisso_311) on the train set: 0.761062.\n",
      "Classification tree accuracy (for t_sisso_311) on the train set (5 fold CV): 0.756329.\n",
      "Classification tree accuracy (for t_sisso_311) on the test set: 0.807018.\n",
      "t_sisso_311 < 4043.921265 indicates stable perovskites.\n"
     ]
    },
    {
     "name": "stderr",
     "output_type": "stream",
     "text": [
      "/home/nomad-lanasc/Documents/Diego Garzon/TF-ChPVK-PV/tf_chpvk_pv/modeling/train.py:248: PerformanceWarning: DataFrame is highly fragmented.  This is usually the result of calling `frame.insert` many times, which has poor performance.  Consider joining all columns at once using pd.concat(axis=1) instead. To get a de-fragmented frame, use `newframe = frame.copy()`\n",
      "  df_acc.loc['train_data', t] = acc_train\n"
     ]
    },
    {
     "name": "stdout",
     "output_type": "stream",
     "text": [
      "\u001b[32m2025-03-06 14:59:35.877\u001b[0m | \u001b[1mINFO    \u001b[0m | \u001b[36mtf_chpvk_pv.modeling.train\u001b[0m:\u001b[36mtrain_tree_sis_features\u001b[0m:\u001b[36m81\u001b[0m - \u001b[1mTraining tree model with SISSO features...\u001b[0m\n",
      "Identified expression for t_sisso: (((chi_BX_ratio / log_rA_rB_ratio) + (log_rA_rB_ratio / rB_rX_ratio)) / (exp(chi_BX_ratio) + (chi_BX_ratio + log_rA_rB_ratio)))\n",
      "Classification tree accuracy (for t_sisso_87) on the train set: 0.853982.\n",
      "Classification tree accuracy (for t_sisso_87) on the train set (5 fold CV): 0.849565.\n",
      "Classification tree accuracy (for t_sisso_87) on the test set: 0.894737.\n",
      "t_sisso_87 < 0.724561 indicates stable perovskites.\n"
     ]
    },
    {
     "name": "stderr",
     "output_type": "stream",
     "text": [
      "/home/nomad-lanasc/Documents/Diego Garzon/TF-ChPVK-PV/tf_chpvk_pv/modeling/train.py:248: PerformanceWarning: DataFrame is highly fragmented.  This is usually the result of calling `frame.insert` many times, which has poor performance.  Consider joining all columns at once using pd.concat(axis=1) instead. To get a de-fragmented frame, use `newframe = frame.copy()`\n",
      "  df_acc.loc['train_data', t] = acc_train\n"
     ]
    },
    {
     "name": "stdout",
     "output_type": "stream",
     "text": [
      "\u001b[32m2025-03-06 14:59:58.241\u001b[0m | \u001b[1mINFO    \u001b[0m | \u001b[36mtf_chpvk_pv.modeling.train\u001b[0m:\u001b[36mtrain_tree_sis_features\u001b[0m:\u001b[36m81\u001b[0m - \u001b[1mTraining tree model with SISSO features...\u001b[0m\n",
      "Identified expression for t_sisso: (|(|rB_rX_ratio - log_rA_rB_ratio|) - (rB_rX_ratio + log_rA_rB_ratio)|)\n",
      "Error in /home/nomad-lanasc/Documents/Diego Garzon/TF-ChPVK-PV/data/features_space/features/features/features_sisso_58.csv\n",
      "\u001b[32m2025-03-06 15:00:20.782\u001b[0m | \u001b[1mINFO    \u001b[0m | \u001b[36mtf_chpvk_pv.modeling.train\u001b[0m:\u001b[36mtrain_tree_sis_features\u001b[0m:\u001b[36m81\u001b[0m - \u001b[1mTraining tree model with SISSO features...\u001b[0m\n",
      "Identified expression for t_sisso: (((rA_rX_ratio * rB_rX_ratio) * (|rA_rX_ratio - chi_BX_ratio|)) + (|(|rB_rX_ratio - log_rA_rB_ratio|) - (rB_rX_ratio + log_rA_rB_ratio)|))\n",
      "Error in /home/nomad-lanasc/Documents/Diego Garzon/TF-ChPVK-PV/data/features_space/features/features/features_sisso_39.csv\n",
      "\u001b[32m2025-03-06 15:00:42.992\u001b[0m | \u001b[1mINFO    \u001b[0m | \u001b[36mtf_chpvk_pv.modeling.train\u001b[0m:\u001b[36mtrain_tree_sis_features\u001b[0m:\u001b[36m81\u001b[0m - \u001b[1mTraining tree model with SISSO features...\u001b[0m\n",
      "Identified expression for t_sisso: (((chi_BX_ratio**2)**2) + (sqrt(log_rA_rB_ratio) + rA_rX_ratio))\n",
      "Classification tree accuracy (for t_sisso_116) on the train set: 0.787611.\n",
      "Classification tree accuracy (for t_sisso_116) on the train set (5 fold CV): 0.787729.\n",
      "Classification tree accuracy (for t_sisso_116) on the test set: 0.736842.\n",
      "t_sisso_116 < 4.203563 indicates stable perovskites.\n"
     ]
    },
    {
     "name": "stderr",
     "output_type": "stream",
     "text": [
      "/home/nomad-lanasc/Documents/Diego Garzon/TF-ChPVK-PV/tf_chpvk_pv/modeling/train.py:248: PerformanceWarning: DataFrame is highly fragmented.  This is usually the result of calling `frame.insert` many times, which has poor performance.  Consider joining all columns at once using pd.concat(axis=1) instead. To get a de-fragmented frame, use `newframe = frame.copy()`\n",
      "  df_acc.loc['train_data', t] = acc_train\n"
     ]
    },
    {
     "name": "stdout",
     "output_type": "stream",
     "text": [
      "\u001b[32m2025-03-06 15:01:05.485\u001b[0m | \u001b[1mINFO    \u001b[0m | \u001b[36mtf_chpvk_pv.modeling.train\u001b[0m:\u001b[36mtrain_tree_sis_features\u001b[0m:\u001b[36m81\u001b[0m - \u001b[1mTraining tree model with SISSO features...\u001b[0m\n",
      "Identified expression for t_sisso: ((|(rA_rX_ratio * log_rA_rB_ratio) - exp(log_rA_rB_ratio)|) * (|(|rB_rX_ratio - log_rA_rB_ratio|) - rA_rX_ratio|))\n",
      "Error in /home/nomad-lanasc/Documents/Diego Garzon/TF-ChPVK-PV/data/features_space/features/features/features_sisso_212.csv\n",
      "\u001b[32m2025-03-06 15:01:27.871\u001b[0m | \u001b[1mINFO    \u001b[0m | \u001b[36mtf_chpvk_pv.modeling.train\u001b[0m:\u001b[36mtrain_tree_sis_features\u001b[0m:\u001b[36m81\u001b[0m - \u001b[1mTraining tree model with SISSO features...\u001b[0m\n",
      "Identified expression for t_sisso: (((1.0 / rB_rX_ratio) + (1.0 / log_rA_rB_ratio)) + (rA_rX_ratio + log_rA_rB_ratio))\n",
      "Classification tree accuracy (for t_sisso_115) on the train set: 0.871681.\n",
      "Classification tree accuracy (for t_sisso_115) on the train set (5 fold CV): 0.862512.\n",
      "Classification tree accuracy (for t_sisso_115) on the test set: 0.877193.\n",
      "t_sisso_115 < 5.321800 indicates stable perovskites.\n"
     ]
    },
    {
     "name": "stderr",
     "output_type": "stream",
     "text": [
      "/home/nomad-lanasc/Documents/Diego Garzon/TF-ChPVK-PV/tf_chpvk_pv/modeling/train.py:248: PerformanceWarning: DataFrame is highly fragmented.  This is usually the result of calling `frame.insert` many times, which has poor performance.  Consider joining all columns at once using pd.concat(axis=1) instead. To get a de-fragmented frame, use `newframe = frame.copy()`\n",
      "  df_acc.loc['train_data', t] = acc_train\n"
     ]
    },
    {
     "name": "stdout",
     "output_type": "stream",
     "text": [
      "\u001b[32m2025-03-06 15:01:50.478\u001b[0m | \u001b[1mINFO    \u001b[0m | \u001b[36mtf_chpvk_pv.modeling.train\u001b[0m:\u001b[36mtrain_tree_sis_features\u001b[0m:\u001b[36m81\u001b[0m - \u001b[1mTraining tree model with SISSO features...\u001b[0m\n",
      "Identified expression for t_sisso: ((sqrt(rB_rX_ratio) * (rB_rX_ratio * log_rA_rB_ratio)) * ((chi_BX_ratio**3)**3))\n",
      "Classification tree accuracy (for t_sisso_288) on the train set: 0.787611.\n",
      "Classification tree accuracy (for t_sisso_288) on the train set (5 fold CV): 0.787729.\n",
      "Classification tree accuracy (for t_sisso_288) on the test set: 0.736842.\n",
      "t_sisso_288 < 1.955000 indicates stable perovskites.\n"
     ]
    },
    {
     "name": "stderr",
     "output_type": "stream",
     "text": [
      "/home/nomad-lanasc/Documents/Diego Garzon/TF-ChPVK-PV/tf_chpvk_pv/modeling/train.py:248: PerformanceWarning: DataFrame is highly fragmented.  This is usually the result of calling `frame.insert` many times, which has poor performance.  Consider joining all columns at once using pd.concat(axis=1) instead. To get a de-fragmented frame, use `newframe = frame.copy()`\n",
      "  df_acc.loc['train_data', t] = acc_train\n"
     ]
    },
    {
     "name": "stdout",
     "output_type": "stream",
     "text": [
      "\u001b[32m2025-03-06 15:02:12.878\u001b[0m | \u001b[1mINFO    \u001b[0m | \u001b[36mtf_chpvk_pv.modeling.train\u001b[0m:\u001b[36mtrain_tree_sis_features\u001b[0m:\u001b[36m81\u001b[0m - \u001b[1mTraining tree model with SISSO features...\u001b[0m\n",
      "Identified expression for t_sisso: ((|(1.0 / rB_rX_ratio) - (1.0 / log_rA_rB_ratio)|) + ((1.0 / rB_rX_ratio) + (1.0 / log_rA_rB_ratio)))\n",
      "Classification tree accuracy (for t_sisso_49) on the train set: 0.853982.\n",
      "Classification tree accuracy (for t_sisso_49) on the train set (5 fold CV): 0.853623.\n",
      "Classification tree accuracy (for t_sisso_49) on the test set: 0.912281.\n",
      "t_sisso_49 < 4.377569 indicates stable perovskites.\n"
     ]
    },
    {
     "name": "stderr",
     "output_type": "stream",
     "text": [
      "/home/nomad-lanasc/Documents/Diego Garzon/TF-ChPVK-PV/tf_chpvk_pv/modeling/train.py:248: PerformanceWarning: DataFrame is highly fragmented.  This is usually the result of calling `frame.insert` many times, which has poor performance.  Consider joining all columns at once using pd.concat(axis=1) instead. To get a de-fragmented frame, use `newframe = frame.copy()`\n",
      "  df_acc.loc['train_data', t] = acc_train\n"
     ]
    },
    {
     "name": "stdout",
     "output_type": "stream",
     "text": [
      "\u001b[32m2025-03-06 15:02:35.479\u001b[0m | \u001b[1mINFO    \u001b[0m | \u001b[36mtf_chpvk_pv.modeling.train\u001b[0m:\u001b[36mtrain_tree_sis_features\u001b[0m:\u001b[36m81\u001b[0m - \u001b[1mTraining tree model with SISSO features...\u001b[0m\n",
      "Identified expression for t_sisso: (((rA_rX_ratio * rB_rX_ratio) - (rA_rX_ratio - log_rA_rB_ratio)) * (sqrt(rA_rX_ratio) - sqrt(log_rA_rB_ratio)))\n",
      "Classification tree accuracy (for t_sisso_164) on the train set: 0.840708.\n",
      "Classification tree accuracy (for t_sisso_164) on the train set (5 fold CV): 0.836039.\n",
      "Classification tree accuracy (for t_sisso_164) on the test set: 0.789474.\n",
      "t_sisso_164 < 0.018465 indicates stable perovskites.\n"
     ]
    },
    {
     "name": "stderr",
     "output_type": "stream",
     "text": [
      "/home/nomad-lanasc/Documents/Diego Garzon/TF-ChPVK-PV/tf_chpvk_pv/modeling/train.py:248: PerformanceWarning: DataFrame is highly fragmented.  This is usually the result of calling `frame.insert` many times, which has poor performance.  Consider joining all columns at once using pd.concat(axis=1) instead. To get a de-fragmented frame, use `newframe = frame.copy()`\n",
      "  df_acc.loc['train_data', t] = acc_train\n"
     ]
    },
    {
     "name": "stdout",
     "output_type": "stream",
     "text": [
      "\u001b[32m2025-03-06 15:02:57.850\u001b[0m | \u001b[1mINFO    \u001b[0m | \u001b[36mtf_chpvk_pv.modeling.train\u001b[0m:\u001b[36mtrain_tree_sis_features\u001b[0m:\u001b[36m81\u001b[0m - \u001b[1mTraining tree model with SISSO features...\u001b[0m\n",
      "Identified expression for t_sisso: (((log_rA_rB_ratio / rB_rX_ratio) * log(log_rA_rB_ratio)) / (log(rA_rX_ratio) - (rB_rX_ratio / rA_rX_ratio)))\n",
      "Classification tree accuracy (for t_sisso_153) on the train set: 0.867257.\n",
      "Classification tree accuracy (for t_sisso_153) on the train set (5 fold CV): 0.849179.\n",
      "Classification tree accuracy (for t_sisso_153) on the test set: 0.877193.\n",
      "t_sisso_153 < 0.884001 indicates stable perovskites.\n"
     ]
    },
    {
     "name": "stderr",
     "output_type": "stream",
     "text": [
      "/home/nomad-lanasc/Documents/Diego Garzon/TF-ChPVK-PV/tf_chpvk_pv/modeling/train.py:248: PerformanceWarning: DataFrame is highly fragmented.  This is usually the result of calling `frame.insert` many times, which has poor performance.  Consider joining all columns at once using pd.concat(axis=1) instead. To get a de-fragmented frame, use `newframe = frame.copy()`\n",
      "  df_acc.loc['train_data', t] = acc_train\n"
     ]
    },
    {
     "name": "stdout",
     "output_type": "stream",
     "text": [
      "\u001b[32m2025-03-06 15:03:20.546\u001b[0m | \u001b[1mINFO    \u001b[0m | \u001b[36mtf_chpvk_pv.modeling.train\u001b[0m:\u001b[36mtrain_tree_sis_features\u001b[0m:\u001b[36m81\u001b[0m - \u001b[1mTraining tree model with SISSO features...\u001b[0m\n",
      "Identified expression for t_sisso: ((sqrt(rA_rX_ratio) + sqrt(log_rA_rB_ratio)) - (sqrt(rB_rX_ratio) + log_rA_rB_ratio))\n",
      "Classification tree accuracy (for t_sisso_31) on the train set: 0.840708.\n",
      "Classification tree accuracy (for t_sisso_31) on the train set (5 fold CV): 0.836039.\n",
      "Classification tree accuracy (for t_sisso_31) on the test set: 0.842105.\n",
      "t_sisso_31 < 0.413743 indicates stable perovskites.\n"
     ]
    },
    {
     "name": "stderr",
     "output_type": "stream",
     "text": [
      "/home/nomad-lanasc/Documents/Diego Garzon/TF-ChPVK-PV/tf_chpvk_pv/modeling/train.py:248: PerformanceWarning: DataFrame is highly fragmented.  This is usually the result of calling `frame.insert` many times, which has poor performance.  Consider joining all columns at once using pd.concat(axis=1) instead. To get a de-fragmented frame, use `newframe = frame.copy()`\n",
      "  df_acc.loc['train_data', t] = acc_train\n"
     ]
    },
    {
     "name": "stdout",
     "output_type": "stream",
     "text": [
      "\u001b[32m2025-03-06 15:03:43.007\u001b[0m | \u001b[1mINFO    \u001b[0m | \u001b[36mtf_chpvk_pv.modeling.train\u001b[0m:\u001b[36mtrain_tree_sis_features\u001b[0m:\u001b[36m81\u001b[0m - \u001b[1mTraining tree model with SISSO features...\u001b[0m\n",
      "Identified expression for t_sisso: (((chi_BX_ratio / EA_A) * (chi_BX_ratio**2)) * ((chi_BX_ratio**2)**2))\n",
      "Classification tree accuracy (for t_sisso_270) on the train set: 0.756637.\n",
      "Classification tree accuracy (for t_sisso_270) on the train set (5 fold CV): 0.734686.\n",
      "Classification tree accuracy (for t_sisso_270) on the test set: 0.736842.\n",
      "t_sisso_270 < -7.101659 indicates stable perovskites.\n"
     ]
    },
    {
     "name": "stderr",
     "output_type": "stream",
     "text": [
      "/home/nomad-lanasc/Documents/Diego Garzon/TF-ChPVK-PV/tf_chpvk_pv/modeling/train.py:248: PerformanceWarning: DataFrame is highly fragmented.  This is usually the result of calling `frame.insert` many times, which has poor performance.  Consider joining all columns at once using pd.concat(axis=1) instead. To get a de-fragmented frame, use `newframe = frame.copy()`\n",
      "  df_acc.loc['train_data', t] = acc_train\n"
     ]
    },
    {
     "name": "stdout",
     "output_type": "stream",
     "text": [
      "\u001b[32m2025-03-06 15:04:05.788\u001b[0m | \u001b[1mINFO    \u001b[0m | \u001b[36mtf_chpvk_pv.modeling.train\u001b[0m:\u001b[36mtrain_tree_sis_features\u001b[0m:\u001b[36m81\u001b[0m - \u001b[1mTraining tree model with SISSO features...\u001b[0m\n",
      "Identified expression for t_sisso: (|log((rA_rX_ratio * log_rA_rB_ratio)) - ((|rB_rX_ratio - log_rA_rB_ratio|) / (rA_rX_ratio * rB_rX_ratio))|)\n",
      "Error in /home/nomad-lanasc/Documents/Diego Garzon/TF-ChPVK-PV/data/features_space/features/features/features_sisso_209.csv\n",
      "\u001b[32m2025-03-06 15:04:28.167\u001b[0m | \u001b[1mINFO    \u001b[0m | \u001b[36mtf_chpvk_pv.modeling.train\u001b[0m:\u001b[36mtrain_tree_sis_features\u001b[0m:\u001b[36m81\u001b[0m - \u001b[1mTraining tree model with SISSO features...\u001b[0m\n",
      "Identified expression for t_sisso: ((exp(rA_rX_ratio) - (rA_rX_ratio - log_rA_rB_ratio)) - (|exp(rB_rX_ratio) - exp(log_rA_rB_ratio)|))\n",
      "Classification tree accuracy (for t_sisso_133) on the train set: 0.867257.\n",
      "Classification tree accuracy (for t_sisso_133) on the train set (5 fold CV): 0.866957.\n",
      "Classification tree accuracy (for t_sisso_133) on the test set: 0.877193.\n",
      "t_sisso_133 < 1.849680 indicates stable perovskites.\n"
     ]
    },
    {
     "name": "stderr",
     "output_type": "stream",
     "text": [
      "/home/nomad-lanasc/Documents/Diego Garzon/TF-ChPVK-PV/tf_chpvk_pv/modeling/train.py:248: PerformanceWarning: DataFrame is highly fragmented.  This is usually the result of calling `frame.insert` many times, which has poor performance.  Consider joining all columns at once using pd.concat(axis=1) instead. To get a de-fragmented frame, use `newframe = frame.copy()`\n",
      "  df_acc.loc['train_data', t] = acc_train\n"
     ]
    },
    {
     "name": "stdout",
     "output_type": "stream",
     "text": [
      "\u001b[32m2025-03-06 15:04:50.935\u001b[0m | \u001b[1mINFO    \u001b[0m | \u001b[36mtf_chpvk_pv.modeling.train\u001b[0m:\u001b[36mtrain_tree_sis_features\u001b[0m:\u001b[36m81\u001b[0m - \u001b[1mTraining tree model with SISSO features...\u001b[0m\n",
      "Identified expression for t_sisso: ((rB_rX_ratio / log(rB_rX_ratio)) / exp((rA_rX_ratio / log_rA_rB_ratio)))\n",
      "Classification tree accuracy (for t_sisso_301) on the train set: 0.831858.\n",
      "Classification tree accuracy (for t_sisso_301) on the train set (5 fold CV): 0.822802.\n",
      "Classification tree accuracy (for t_sisso_301) on the test set: 0.842105.\n",
      "t_sisso_301 < -0.149007 indicates stable perovskites.\n"
     ]
    },
    {
     "name": "stderr",
     "output_type": "stream",
     "text": [
      "/home/nomad-lanasc/Documents/Diego Garzon/TF-ChPVK-PV/tf_chpvk_pv/modeling/train.py:248: PerformanceWarning: DataFrame is highly fragmented.  This is usually the result of calling `frame.insert` many times, which has poor performance.  Consider joining all columns at once using pd.concat(axis=1) instead. To get a de-fragmented frame, use `newframe = frame.copy()`\n",
      "  df_acc.loc['train_data', t] = acc_train\n"
     ]
    },
    {
     "name": "stdout",
     "output_type": "stream",
     "text": [
      "\u001b[32m2025-03-06 15:05:13.355\u001b[0m | \u001b[1mINFO    \u001b[0m | \u001b[36mtf_chpvk_pv.modeling.train\u001b[0m:\u001b[36mtrain_tree_sis_features\u001b[0m:\u001b[36m81\u001b[0m - \u001b[1mTraining tree model with SISSO features...\u001b[0m\n",
      "Identified expression for t_sisso: ((sqrt(rB_rX_ratio) + chi_BX_ratio) + (exp(chi_BX_ratio) + sqrt(log_rA_rB_ratio)))\n",
      "Classification tree accuracy (for t_sisso_105) on the train set: 0.787611.\n",
      "Classification tree accuracy (for t_sisso_105) on the train set (5 fold CV): 0.787729.\n",
      "Classification tree accuracy (for t_sisso_105) on the test set: 0.754386.\n",
      "t_sisso_105 < 6.203067 indicates stable perovskites.\n"
     ]
    },
    {
     "name": "stderr",
     "output_type": "stream",
     "text": [
      "/home/nomad-lanasc/Documents/Diego Garzon/TF-ChPVK-PV/tf_chpvk_pv/modeling/train.py:248: PerformanceWarning: DataFrame is highly fragmented.  This is usually the result of calling `frame.insert` many times, which has poor performance.  Consider joining all columns at once using pd.concat(axis=1) instead. To get a de-fragmented frame, use `newframe = frame.copy()`\n",
      "  df_acc.loc['train_data', t] = acc_train\n"
     ]
    },
    {
     "name": "stdout",
     "output_type": "stream",
     "text": [
      "\u001b[32m2025-03-06 15:05:36.028\u001b[0m | \u001b[1mINFO    \u001b[0m | \u001b[36mtf_chpvk_pv.modeling.train\u001b[0m:\u001b[36mtrain_tree_sis_features\u001b[0m:\u001b[36m81\u001b[0m - \u001b[1mTraining tree model with SISSO features...\u001b[0m\n",
      "Identified expression for t_sisso: (|(|(rA_rX_ratio - rB_rX_ratio) - rB_rX_ratio|) - (|(|rB_rX_ratio - log_rA_rB_ratio|) - rA_rX_ratio|)|)\n",
      "Error in /home/nomad-lanasc/Documents/Diego Garzon/TF-ChPVK-PV/data/features_space/features/features/features_sisso_145.csv\n",
      "\u001b[32m2025-03-06 15:05:58.371\u001b[0m | \u001b[1mINFO    \u001b[0m | \u001b[36mtf_chpvk_pv.modeling.train\u001b[0m:\u001b[36mtrain_tree_sis_features\u001b[0m:\u001b[36m81\u001b[0m - \u001b[1mTraining tree model with SISSO features...\u001b[0m\n",
      "Identified expression for t_sisso: ((sqrt(rA_rX_ratio) - log_rA_rB_ratio) - (sqrt(rB_rX_ratio) - sqrt(log_rA_rB_ratio)))\n",
      "Classification tree accuracy (for t_sisso_189) on the train set: 0.840708.\n",
      "Classification tree accuracy (for t_sisso_189) on the train set (5 fold CV): 0.836039.\n",
      "Classification tree accuracy (for t_sisso_189) on the test set: 0.842105.\n",
      "t_sisso_189 < 0.413743 indicates stable perovskites.\n"
     ]
    },
    {
     "name": "stderr",
     "output_type": "stream",
     "text": [
      "/home/nomad-lanasc/Documents/Diego Garzon/TF-ChPVK-PV/tf_chpvk_pv/modeling/train.py:248: PerformanceWarning: DataFrame is highly fragmented.  This is usually the result of calling `frame.insert` many times, which has poor performance.  Consider joining all columns at once using pd.concat(axis=1) instead. To get a de-fragmented frame, use `newframe = frame.copy()`\n",
      "  df_acc.loc['train_data', t] = acc_train\n"
     ]
    },
    {
     "name": "stdout",
     "output_type": "stream",
     "text": [
      "\u001b[32m2025-03-06 15:06:20.950\u001b[0m | \u001b[1mINFO    \u001b[0m | \u001b[36mtf_chpvk_pv.modeling.train\u001b[0m:\u001b[36mtrain_tree_sis_features\u001b[0m:\u001b[36m81\u001b[0m - \u001b[1mTraining tree model with SISSO features...\u001b[0m\n",
      "Identified expression for t_sisso: ((|(rA_rX_ratio / chi_BX_ratio) - log_rA_rB_ratio|) + (|(|rB_rX_ratio - log_rA_rB_ratio|) - (chi_BX_ratio + log_rA_rB_ratio)|))\n",
      "Error in /home/nomad-lanasc/Documents/Diego Garzon/TF-ChPVK-PV/data/features_space/features/features/features_sisso_48.csv\n",
      "\u001b[32m2025-03-06 15:06:43.201\u001b[0m | \u001b[1mINFO    \u001b[0m | \u001b[36mtf_chpvk_pv.modeling.train\u001b[0m:\u001b[36mtrain_tree_sis_features\u001b[0m:\u001b[36m81\u001b[0m - \u001b[1mTraining tree model with SISSO features...\u001b[0m\n",
      "Identified expression for t_sisso: (((rB_rX_ratio**2) / exp(log_rA_rB_ratio)) / exp((1.0 / log_rA_rB_ratio)))\n",
      "Classification tree accuracy (for t_sisso_295) on the train set: 0.836283.\n",
      "Classification tree accuracy (for t_sisso_295) on the train set (5 fold CV): 0.836039.\n",
      "Classification tree accuracy (for t_sisso_295) on the test set: 0.842105.\n",
      "t_sisso_295 < 0.022619 indicates stable perovskites.\n"
     ]
    },
    {
     "name": "stderr",
     "output_type": "stream",
     "text": [
      "/home/nomad-lanasc/Documents/Diego Garzon/TF-ChPVK-PV/tf_chpvk_pv/modeling/train.py:248: PerformanceWarning: DataFrame is highly fragmented.  This is usually the result of calling `frame.insert` many times, which has poor performance.  Consider joining all columns at once using pd.concat(axis=1) instead. To get a de-fragmented frame, use `newframe = frame.copy()`\n",
      "  df_acc.loc['train_data', t] = acc_train\n"
     ]
    },
    {
     "name": "stdout",
     "output_type": "stream",
     "text": [
      "\u001b[32m2025-03-06 15:07:05.852\u001b[0m | \u001b[1mINFO    \u001b[0m | \u001b[36mtf_chpvk_pv.modeling.train\u001b[0m:\u001b[36mtrain_tree_sis_features\u001b[0m:\u001b[36m81\u001b[0m - \u001b[1mTraining tree model with SISSO features...\u001b[0m\n",
      "Identified expression for t_sisso: (((chi_BX_ratio**3) - (chi_BX_ratio / log_rA_rB_ratio)) - ((log_rA_rB_ratio / rB_rX_ratio) - log_rA_rB_ratio))\n",
      "Classification tree accuracy (for t_sisso_151) on the train set: 0.853982.\n",
      "Classification tree accuracy (for t_sisso_151) on the train set (5 fold CV): 0.853816.\n",
      "Classification tree accuracy (for t_sisso_151) on the test set: 0.859649.\n",
      "t_sisso_151 < -1.511530 indicates stable perovskites.\n"
     ]
    },
    {
     "name": "stderr",
     "output_type": "stream",
     "text": [
      "/home/nomad-lanasc/Documents/Diego Garzon/TF-ChPVK-PV/tf_chpvk_pv/modeling/train.py:248: PerformanceWarning: DataFrame is highly fragmented.  This is usually the result of calling `frame.insert` many times, which has poor performance.  Consider joining all columns at once using pd.concat(axis=1) instead. To get a de-fragmented frame, use `newframe = frame.copy()`\n",
      "  df_acc.loc['train_data', t] = acc_train\n"
     ]
    },
    {
     "name": "stdout",
     "output_type": "stream",
     "text": [
      "\u001b[32m2025-03-06 15:07:28.246\u001b[0m | \u001b[1mINFO    \u001b[0m | \u001b[36mtf_chpvk_pv.modeling.train\u001b[0m:\u001b[36mtrain_tree_sis_features\u001b[0m:\u001b[36m81\u001b[0m - \u001b[1mTraining tree model with SISSO features...\u001b[0m\n",
      "Identified expression for t_sisso: ((sqrt(rB_rX_ratio) - (rB_rX_ratio - log_rA_rB_ratio)) - ((rB_rX_ratio - log_rA_rB_ratio) - (1.0 / log_rA_rB_ratio)))\n",
      "Classification tree accuracy (for t_sisso_186) on the train set: 0.858407.\n",
      "Classification tree accuracy (for t_sisso_186) on the train set (5 fold CV): 0.853720.\n",
      "Classification tree accuracy (for t_sisso_186) on the test set: 0.877193.\n",
      "t_sisso_186 < 2.627082 indicates stable perovskites.\n"
     ]
    },
    {
     "name": "stderr",
     "output_type": "stream",
     "text": [
      "/home/nomad-lanasc/Documents/Diego Garzon/TF-ChPVK-PV/tf_chpvk_pv/modeling/train.py:248: PerformanceWarning: DataFrame is highly fragmented.  This is usually the result of calling `frame.insert` many times, which has poor performance.  Consider joining all columns at once using pd.concat(axis=1) instead. To get a de-fragmented frame, use `newframe = frame.copy()`\n",
      "  df_acc.loc['train_data', t] = acc_train\n"
     ]
    },
    {
     "name": "stdout",
     "output_type": "stream",
     "text": [
      "\u001b[32m2025-03-06 15:07:50.918\u001b[0m | \u001b[1mINFO    \u001b[0m | \u001b[36mtf_chpvk_pv.modeling.train\u001b[0m:\u001b[36mtrain_tree_sis_features\u001b[0m:\u001b[36m81\u001b[0m - \u001b[1mTraining tree model with SISSO features...\u001b[0m\n",
      "Identified expression for t_sisso: (|(|(|rA_rX_ratio - log_rA_rB_ratio|) - (rB_rX_ratio**2)|) - (|(|rB_rX_ratio - log_rA_rB_ratio|) - rA_rX_ratio|)|)\n",
      "Error in /home/nomad-lanasc/Documents/Diego Garzon/TF-ChPVK-PV/data/features_space/features/features/features_sisso_257.csv\n",
      "\u001b[32m2025-03-06 15:08:13.245\u001b[0m | \u001b[1mINFO    \u001b[0m | \u001b[36mtf_chpvk_pv.modeling.train\u001b[0m:\u001b[36mtrain_tree_sis_features\u001b[0m:\u001b[36m81\u001b[0m - \u001b[1mTraining tree model with SISSO features...\u001b[0m\n",
      "Identified expression for t_sisso: (|(log(rA_rX_ratio) + (rB_rX_ratio**3)) - ((|rA_rX_ratio - log_rA_rB_ratio|) + (|rB_rX_ratio - log_rA_rB_ratio|))|)\n",
      "Error in /home/nomad-lanasc/Documents/Diego Garzon/TF-ChPVK-PV/data/features_space/features/features/features_sisso_62.csv\n",
      "\u001b[32m2025-03-06 15:08:35.787\u001b[0m | \u001b[1mINFO    \u001b[0m | \u001b[36mtf_chpvk_pv.modeling.train\u001b[0m:\u001b[36mtrain_tree_sis_features\u001b[0m:\u001b[36m81\u001b[0m - \u001b[1mTraining tree model with SISSO features...\u001b[0m\n",
      "Identified expression for t_sisso: (((rB_rX_ratio / log_rA_rB_ratio) + exp(log_rA_rB_ratio)) / (exp(rA_rX_ratio) + (rB_rX_ratio / rA_rX_ratio)))\n",
      "Classification tree accuracy (for t_sisso_89) on the train set: 0.862832.\n",
      "Classification tree accuracy (for t_sisso_89) on the train set (5 fold CV): 0.858164.\n",
      "Classification tree accuracy (for t_sisso_89) on the test set: 0.842105.\n",
      "t_sisso_89 < 0.915715 indicates stable perovskites.\n"
     ]
    },
    {
     "name": "stderr",
     "output_type": "stream",
     "text": [
      "/home/nomad-lanasc/Documents/Diego Garzon/TF-ChPVK-PV/tf_chpvk_pv/modeling/train.py:248: PerformanceWarning: DataFrame is highly fragmented.  This is usually the result of calling `frame.insert` many times, which has poor performance.  Consider joining all columns at once using pd.concat(axis=1) instead. To get a de-fragmented frame, use `newframe = frame.copy()`\n",
      "  df_acc.loc['train_data', t] = acc_train\n"
     ]
    },
    {
     "name": "stdout",
     "output_type": "stream",
     "text": [
      "\u001b[32m2025-03-06 15:08:58.044\u001b[0m | \u001b[1mINFO    \u001b[0m | \u001b[36mtf_chpvk_pv.modeling.train\u001b[0m:\u001b[36mtrain_tree_sis_features\u001b[0m:\u001b[36m81\u001b[0m - \u001b[1mTraining tree model with SISSO features...\u001b[0m\n",
      "Identified expression for t_sisso: (((rB_rX_ratio**3) / exp(rB_rX_ratio)) / exp((rB_rX_ratio / log_rA_rB_ratio)))\n",
      "Classification tree accuracy (for t_sisso_296) on the train set: 0.845133.\n",
      "Classification tree accuracy (for t_sisso_296) on the train set (5 fold CV): 0.836135.\n",
      "Classification tree accuracy (for t_sisso_296) on the test set: 0.842105.\n",
      "t_sisso_296 < 0.028827 indicates stable perovskites.\n"
     ]
    },
    {
     "name": "stderr",
     "output_type": "stream",
     "text": [
      "/home/nomad-lanasc/Documents/Diego Garzon/TF-ChPVK-PV/tf_chpvk_pv/modeling/train.py:248: PerformanceWarning: DataFrame is highly fragmented.  This is usually the result of calling `frame.insert` many times, which has poor performance.  Consider joining all columns at once using pd.concat(axis=1) instead. To get a de-fragmented frame, use `newframe = frame.copy()`\n",
      "  df_acc.loc['train_data', t] = acc_train\n"
     ]
    },
    {
     "name": "stdout",
     "output_type": "stream",
     "text": [
      "\u001b[32m2025-03-06 15:09:20.669\u001b[0m | \u001b[1mINFO    \u001b[0m | \u001b[36mtf_chpvk_pv.modeling.train\u001b[0m:\u001b[36mtrain_tree_sis_features\u001b[0m:\u001b[36m81\u001b[0m - \u001b[1mTraining tree model with SISSO features...\u001b[0m\n",
      "Identified expression for t_sisso: ((exp(rB_rX_ratio) * sqrt(log_rA_rB_ratio)) * ((chi_BX_ratio**3)**3))\n",
      "Classification tree accuracy (for t_sisso_282) on the train set: 0.787611.\n",
      "Classification tree accuracy (for t_sisso_282) on the train set (5 fold CV): 0.787729.\n",
      "Classification tree accuracy (for t_sisso_282) on the test set: 0.754386.\n",
      "t_sisso_282 < 9.194284 indicates stable perovskites.\n"
     ]
    },
    {
     "name": "stderr",
     "output_type": "stream",
     "text": [
      "/home/nomad-lanasc/Documents/Diego Garzon/TF-ChPVK-PV/tf_chpvk_pv/modeling/train.py:248: PerformanceWarning: DataFrame is highly fragmented.  This is usually the result of calling `frame.insert` many times, which has poor performance.  Consider joining all columns at once using pd.concat(axis=1) instead. To get a de-fragmented frame, use `newframe = frame.copy()`\n",
      "  df_acc.loc['train_data', t] = acc_train\n"
     ]
    },
    {
     "name": "stdout",
     "output_type": "stream",
     "text": [
      "\u001b[32m2025-03-06 15:09:43.029\u001b[0m | \u001b[1mINFO    \u001b[0m | \u001b[36mtf_chpvk_pv.modeling.train\u001b[0m:\u001b[36mtrain_tree_sis_features\u001b[0m:\u001b[36m81\u001b[0m - \u001b[1mTraining tree model with SISSO features...\u001b[0m\n",
      "Identified expression for t_sisso: (((rA_rX_ratio * rB_rX_ratio) * (rB_rX_ratio**2)) - ((rA_rX_ratio - log_rA_rB_ratio) * (rB_rX_ratio - log_rA_rB_ratio)))\n",
      "Classification tree accuracy (for t_sisso_11) on the train set: 0.823009.\n",
      "Classification tree accuracy (for t_sisso_11) on the train set (5 fold CV): 0.822802.\n",
      "Classification tree accuracy (for t_sisso_11) on the test set: 0.789474.\n",
      "t_sisso_11 < 0.117668 indicates stable perovskites.\n"
     ]
    },
    {
     "name": "stderr",
     "output_type": "stream",
     "text": [
      "/home/nomad-lanasc/Documents/Diego Garzon/TF-ChPVK-PV/tf_chpvk_pv/modeling/train.py:248: PerformanceWarning: DataFrame is highly fragmented.  This is usually the result of calling `frame.insert` many times, which has poor performance.  Consider joining all columns at once using pd.concat(axis=1) instead. To get a de-fragmented frame, use `newframe = frame.copy()`\n",
      "  df_acc.loc['train_data', t] = acc_train\n"
     ]
    },
    {
     "name": "stdout",
     "output_type": "stream",
     "text": [
      "\u001b[32m2025-03-06 15:10:05.656\u001b[0m | \u001b[1mINFO    \u001b[0m | \u001b[36mtf_chpvk_pv.modeling.train\u001b[0m:\u001b[36mtrain_tree_sis_features\u001b[0m:\u001b[36m81\u001b[0m - \u001b[1mTraining tree model with SISSO features...\u001b[0m\n",
      "Identified expression for t_sisso: (((rB_rX_ratio / log_rA_rB_ratio) + exp(log_rA_rB_ratio)) / (exp(rA_rX_ratio) + (rB_rX_ratio / rA_rX_ratio)))\n",
      "Classification tree accuracy (for t_sisso_86) on the train set: 0.862832.\n",
      "Classification tree accuracy (for t_sisso_86) on the train set (5 fold CV): 0.858164.\n",
      "Classification tree accuracy (for t_sisso_86) on the test set: 0.842105.\n",
      "t_sisso_86 < 0.915715 indicates stable perovskites.\n"
     ]
    },
    {
     "name": "stderr",
     "output_type": "stream",
     "text": [
      "/home/nomad-lanasc/Documents/Diego Garzon/TF-ChPVK-PV/tf_chpvk_pv/modeling/train.py:248: PerformanceWarning: DataFrame is highly fragmented.  This is usually the result of calling `frame.insert` many times, which has poor performance.  Consider joining all columns at once using pd.concat(axis=1) instead. To get a de-fragmented frame, use `newframe = frame.copy()`\n",
      "  df_acc.loc['train_data', t] = acc_train\n"
     ]
    },
    {
     "name": "stdout",
     "output_type": "stream",
     "text": [
      "\u001b[32m2025-03-06 15:10:28.062\u001b[0m | \u001b[1mINFO    \u001b[0m | \u001b[36mtf_chpvk_pv.modeling.train\u001b[0m:\u001b[36mtrain_tree_sis_features\u001b[0m:\u001b[36m81\u001b[0m - \u001b[1mTraining tree model with SISSO features...\u001b[0m\n",
      "Identified expression for t_sisso: (exp((1.0 / rB_rX_ratio)) * exp((1.0 / log_rA_rB_ratio)))\n",
      "Classification tree accuracy (for t_sisso_276) on the train set: 0.814159.\n",
      "Classification tree accuracy (for t_sisso_276) on the train set (5 fold CV): 0.814106.\n",
      "Classification tree accuracy (for t_sisso_276) on the test set: 0.771930.\n",
      "t_sisso_276 < 46.304499 indicates stable perovskites.\n"
     ]
    },
    {
     "name": "stderr",
     "output_type": "stream",
     "text": [
      "/home/nomad-lanasc/Documents/Diego Garzon/TF-ChPVK-PV/tf_chpvk_pv/modeling/train.py:248: PerformanceWarning: DataFrame is highly fragmented.  This is usually the result of calling `frame.insert` many times, which has poor performance.  Consider joining all columns at once using pd.concat(axis=1) instead. To get a de-fragmented frame, use `newframe = frame.copy()`\n",
      "  df_acc.loc['train_data', t] = acc_train\n"
     ]
    },
    {
     "name": "stdout",
     "output_type": "stream",
     "text": [
      "\u001b[32m2025-03-06 15:10:50.758\u001b[0m | \u001b[1mINFO    \u001b[0m | \u001b[36mtf_chpvk_pv.modeling.train\u001b[0m:\u001b[36mtrain_tree_sis_features\u001b[0m:\u001b[36m81\u001b[0m - \u001b[1mTraining tree model with SISSO features...\u001b[0m\n",
      "Identified expression for t_sisso: (((rA_rX_ratio**2) * log_rA_rB_ratio) * (|sqrt(rB_rX_ratio) - (|rB_rX_ratio - log_rA_rB_ratio|)|))\n",
      "Error in /home/nomad-lanasc/Documents/Diego Garzon/TF-ChPVK-PV/data/features_space/features/features/features_sisso_220.csv\n",
      "\u001b[32m2025-03-06 15:11:13.176\u001b[0m | \u001b[1mINFO    \u001b[0m | \u001b[36mtf_chpvk_pv.modeling.train\u001b[0m:\u001b[36mtrain_tree_sis_features\u001b[0m:\u001b[36m81\u001b[0m - \u001b[1mTraining tree model with SISSO features...\u001b[0m\n",
      "Identified expression for t_sisso: (((rB_rX_ratio * log_rA_rB_ratio) / (EA_A * rA_rX_ratio)) * ((chi_BX_ratio**3)**3))\n",
      "Classification tree accuracy (for t_sisso_266) on the train set: 0.778761.\n",
      "Classification tree accuracy (for t_sisso_266) on the train set (5 fold CV): 0.778841.\n",
      "Classification tree accuracy (for t_sisso_266) on the test set: 0.736842.\n",
      "t_sisso_266 < -2.886807 indicates stable perovskites.\n"
     ]
    },
    {
     "name": "stderr",
     "output_type": "stream",
     "text": [
      "/home/nomad-lanasc/Documents/Diego Garzon/TF-ChPVK-PV/tf_chpvk_pv/modeling/train.py:248: PerformanceWarning: DataFrame is highly fragmented.  This is usually the result of calling `frame.insert` many times, which has poor performance.  Consider joining all columns at once using pd.concat(axis=1) instead. To get a de-fragmented frame, use `newframe = frame.copy()`\n",
      "  df_acc.loc['train_data', t] = acc_train\n"
     ]
    },
    {
     "name": "stdout",
     "output_type": "stream",
     "text": [
      "\u001b[32m2025-03-06 15:11:35.855\u001b[0m | \u001b[1mINFO    \u001b[0m | \u001b[36mtf_chpvk_pv.modeling.train\u001b[0m:\u001b[36mtrain_tree_sis_features\u001b[0m:\u001b[36m81\u001b[0m - \u001b[1mTraining tree model with SISSO features...\u001b[0m\n",
      "Identified expression for t_sisso: ((log(rB_rX_ratio)**2) + (log(log_rA_rB_ratio)**2))\n",
      "Classification tree accuracy (for t_sisso_106) on the train set: 0.827434.\n",
      "Classification tree accuracy (for t_sisso_106) on the train set (5 fold CV): 0.814010.\n",
      "Classification tree accuracy (for t_sisso_106) on the test set: 0.771930.\n",
      "t_sisso_106 < 0.928798 indicates stable perovskites.\n"
     ]
    },
    {
     "name": "stderr",
     "output_type": "stream",
     "text": [
      "/home/nomad-lanasc/Documents/Diego Garzon/TF-ChPVK-PV/tf_chpvk_pv/modeling/train.py:248: PerformanceWarning: DataFrame is highly fragmented.  This is usually the result of calling `frame.insert` many times, which has poor performance.  Consider joining all columns at once using pd.concat(axis=1) instead. To get a de-fragmented frame, use `newframe = frame.copy()`\n",
      "  df_acc.loc['train_data', t] = acc_train\n"
     ]
    },
    {
     "name": "stdout",
     "output_type": "stream",
     "text": [
      "\u001b[32m2025-03-06 15:11:58.284\u001b[0m | \u001b[1mINFO    \u001b[0m | \u001b[36mtf_chpvk_pv.modeling.train\u001b[0m:\u001b[36mtrain_tree_sis_features\u001b[0m:\u001b[36m81\u001b[0m - \u001b[1mTraining tree model with SISSO features...\u001b[0m\n",
      "Identified expression for t_sisso: ((log(rA_rX_ratio) + log_rA_rB_ratio) + ((1.0 / rB_rX_ratio) + (1.0 / log_rA_rB_ratio)))\n",
      "Classification tree accuracy (for t_sisso_114) on the train set: 0.871681.\n",
      "Classification tree accuracy (for t_sisso_114) on the train set (5 fold CV): 0.866957.\n",
      "Classification tree accuracy (for t_sisso_114) on the test set: 0.877193.\n",
      "t_sisso_114 < 4.297867 indicates stable perovskites.\n"
     ]
    },
    {
     "name": "stderr",
     "output_type": "stream",
     "text": [
      "/home/nomad-lanasc/Documents/Diego Garzon/TF-ChPVK-PV/tf_chpvk_pv/modeling/train.py:248: PerformanceWarning: DataFrame is highly fragmented.  This is usually the result of calling `frame.insert` many times, which has poor performance.  Consider joining all columns at once using pd.concat(axis=1) instead. To get a de-fragmented frame, use `newframe = frame.copy()`\n",
      "  df_acc.loc['train_data', t] = acc_train\n"
     ]
    },
    {
     "name": "stdout",
     "output_type": "stream",
     "text": [
      "\u001b[32m2025-03-06 15:12:21.014\u001b[0m | \u001b[1mINFO    \u001b[0m | \u001b[36mtf_chpvk_pv.modeling.train\u001b[0m:\u001b[36mtrain_tree_sis_features\u001b[0m:\u001b[36m81\u001b[0m - \u001b[1mTraining tree model with SISSO features...\u001b[0m\n",
      "Identified expression for t_sisso: (((rB_rX_ratio - log_rA_rB_ratio) - log_rA_rB_ratio) - ((1.0 / log_rA_rB_ratio) - rB_rX_ratio))\n",
      "Classification tree accuracy (for t_sisso_185) on the train set: 0.862832.\n",
      "Classification tree accuracy (for t_sisso_185) on the train set (5 fold CV): 0.853623.\n",
      "Classification tree accuracy (for t_sisso_185) on the test set: 0.877193.\n",
      "t_sisso_185 < -1.975124 indicates stable perovskites.\n"
     ]
    },
    {
     "name": "stderr",
     "output_type": "stream",
     "text": [
      "/home/nomad-lanasc/Documents/Diego Garzon/TF-ChPVK-PV/tf_chpvk_pv/modeling/train.py:248: PerformanceWarning: DataFrame is highly fragmented.  This is usually the result of calling `frame.insert` many times, which has poor performance.  Consider joining all columns at once using pd.concat(axis=1) instead. To get a de-fragmented frame, use `newframe = frame.copy()`\n",
      "  df_acc.loc['train_data', t] = acc_train\n"
     ]
    },
    {
     "name": "stdout",
     "output_type": "stream",
     "text": [
      "\u001b[32m2025-03-06 15:12:43.393\u001b[0m | \u001b[1mINFO    \u001b[0m | \u001b[36mtf_chpvk_pv.modeling.train\u001b[0m:\u001b[36mtrain_tree_sis_features\u001b[0m:\u001b[36m81\u001b[0m - \u001b[1mTraining tree model with SISSO features...\u001b[0m\n",
      "Identified expression for t_sisso: (((rA_rX_ratio / log_rA_rB_ratio) - (rA_rX_ratio - log_rA_rB_ratio)) - ((rA_rX_ratio - log_rA_rB_ratio) / sqrt(log_rA_rB_ratio)))\n",
      "Classification tree accuracy (for t_sisso_183) on the train set: 0.858407.\n",
      "Classification tree accuracy (for t_sisso_183) on the train set (5 fold CV): 0.849275.\n",
      "Classification tree accuracy (for t_sisso_183) on the test set: 0.859649.\n",
      "t_sisso_183 < 0.871024 indicates stable perovskites.\n"
     ]
    },
    {
     "name": "stderr",
     "output_type": "stream",
     "text": [
      "/home/nomad-lanasc/Documents/Diego Garzon/TF-ChPVK-PV/tf_chpvk_pv/modeling/train.py:248: PerformanceWarning: DataFrame is highly fragmented.  This is usually the result of calling `frame.insert` many times, which has poor performance.  Consider joining all columns at once using pd.concat(axis=1) instead. To get a de-fragmented frame, use `newframe = frame.copy()`\n",
      "  df_acc.loc['train_data', t] = acc_train\n"
     ]
    },
    {
     "name": "stdout",
     "output_type": "stream",
     "text": [
      "\u001b[32m2025-03-06 15:13:06.071\u001b[0m | \u001b[1mINFO    \u001b[0m | \u001b[36mtf_chpvk_pv.modeling.train\u001b[0m:\u001b[36mtrain_tree_sis_features\u001b[0m:\u001b[36m81\u001b[0m - \u001b[1mTraining tree model with SISSO features...\u001b[0m\n",
      "Identified expression for t_sisso: ((exp(chi_BX_ratio) - (chi_BX_ratio / log_rA_rB_ratio)) / exp((log_rA_rB_ratio / rB_rX_ratio)))\n",
      "Classification tree accuracy (for t_sisso_169) on the train set: 0.867257.\n",
      "Classification tree accuracy (for t_sisso_169) on the train set (5 fold CV): 0.858164.\n",
      "Classification tree accuracy (for t_sisso_169) on the test set: 0.859649.\n",
      "t_sisso_169 < 0.228876 indicates stable perovskites.\n"
     ]
    },
    {
     "name": "stderr",
     "output_type": "stream",
     "text": [
      "/home/nomad-lanasc/Documents/Diego Garzon/TF-ChPVK-PV/tf_chpvk_pv/modeling/train.py:248: PerformanceWarning: DataFrame is highly fragmented.  This is usually the result of calling `frame.insert` many times, which has poor performance.  Consider joining all columns at once using pd.concat(axis=1) instead. To get a de-fragmented frame, use `newframe = frame.copy()`\n",
      "  df_acc.loc['train_data', t] = acc_train\n"
     ]
    },
    {
     "name": "stdout",
     "output_type": "stream",
     "text": [
      "\u001b[32m2025-03-06 15:13:28.433\u001b[0m | \u001b[1mINFO    \u001b[0m | \u001b[36mtf_chpvk_pv.modeling.train\u001b[0m:\u001b[36mtrain_tree_sis_features\u001b[0m:\u001b[36m81\u001b[0m - \u001b[1mTraining tree model with SISSO features...\u001b[0m\n",
      "Identified expression for t_sisso: ((log(rA_rX_ratio) + log_rA_rB_ratio) + ((1.0 / rB_rX_ratio) + (1.0 / log_rA_rB_ratio)))\n",
      "Classification tree accuracy (for t_sisso_103) on the train set: 0.871681.\n",
      "Classification tree accuracy (for t_sisso_103) on the train set (5 fold CV): 0.866957.\n",
      "Classification tree accuracy (for t_sisso_103) on the test set: 0.877193.\n",
      "t_sisso_103 < 4.297867 indicates stable perovskites.\n"
     ]
    },
    {
     "name": "stderr",
     "output_type": "stream",
     "text": [
      "/home/nomad-lanasc/Documents/Diego Garzon/TF-ChPVK-PV/tf_chpvk_pv/modeling/train.py:248: PerformanceWarning: DataFrame is highly fragmented.  This is usually the result of calling `frame.insert` many times, which has poor performance.  Consider joining all columns at once using pd.concat(axis=1) instead. To get a de-fragmented frame, use `newframe = frame.copy()`\n",
      "  df_acc.loc['train_data', t] = acc_train\n"
     ]
    },
    {
     "name": "stdout",
     "output_type": "stream",
     "text": [
      "\u001b[32m2025-03-06 15:13:51.091\u001b[0m | \u001b[1mINFO    \u001b[0m | \u001b[36mtf_chpvk_pv.modeling.train\u001b[0m:\u001b[36mtrain_tree_sis_features\u001b[0m:\u001b[36m81\u001b[0m - \u001b[1mTraining tree model with SISSO features...\u001b[0m\n",
      "Identified expression for t_sisso: ((|(rA_rX_ratio * log_rA_rB_ratio) - exp(log_rA_rB_ratio)|) * (|(|rB_rX_ratio - log_rA_rB_ratio|) - rA_rX_ratio|))\n",
      "Error in /home/nomad-lanasc/Documents/Diego Garzon/TF-ChPVK-PV/data/features_space/features/features/features_sisso_211.csv\n",
      "\u001b[32m2025-03-06 15:14:13.392\u001b[0m | \u001b[1mINFO    \u001b[0m | \u001b[36mtf_chpvk_pv.modeling.train\u001b[0m:\u001b[36mtrain_tree_sis_features\u001b[0m:\u001b[36m81\u001b[0m - \u001b[1mTraining tree model with SISSO features...\u001b[0m\n",
      "Identified expression for t_sisso: (|(sqrt(log_rA_rB_ratio) * rA_rX_ratio) - (|rB_rX_ratio - log_rA_rB_ratio|)|)\n",
      "Error in /home/nomad-lanasc/Documents/Diego Garzon/TF-ChPVK-PV/data/features_space/features/features/features_sisso_224.csv\n",
      "\u001b[32m2025-03-06 15:14:35.920\u001b[0m | \u001b[1mINFO    \u001b[0m | \u001b[36mtf_chpvk_pv.modeling.train\u001b[0m:\u001b[36mtrain_tree_sis_features\u001b[0m:\u001b[36m81\u001b[0m - \u001b[1mTraining tree model with SISSO features...\u001b[0m\n",
      "Identified expression for t_sisso: (((rA_rX_ratio + log_rA_rB_ratio) + (rB_rX_ratio + log_rA_rB_ratio)) * log((rB_rX_ratio * log_rA_rB_ratio)))\n",
      "Classification tree accuracy (for t_sisso_83) on the train set: 0.827434.\n",
      "Classification tree accuracy (for t_sisso_83) on the train set (5 fold CV): 0.822705.\n",
      "Classification tree accuracy (for t_sisso_83) on the test set: 0.807018.\n",
      "t_sisso_83 < -3.214773 indicates stable perovskites.\n"
     ]
    },
    {
     "name": "stderr",
     "output_type": "stream",
     "text": [
      "/home/nomad-lanasc/Documents/Diego Garzon/TF-ChPVK-PV/tf_chpvk_pv/modeling/train.py:248: PerformanceWarning: DataFrame is highly fragmented.  This is usually the result of calling `frame.insert` many times, which has poor performance.  Consider joining all columns at once using pd.concat(axis=1) instead. To get a de-fragmented frame, use `newframe = frame.copy()`\n",
      "  df_acc.loc['train_data', t] = acc_train\n"
     ]
    },
    {
     "name": "stdout",
     "output_type": "stream",
     "text": [
      "\u001b[32m2025-03-06 15:14:58.370\u001b[0m | \u001b[1mINFO    \u001b[0m | \u001b[36mtf_chpvk_pv.modeling.train\u001b[0m:\u001b[36mtrain_tree_sis_features\u001b[0m:\u001b[36m81\u001b[0m - \u001b[1mTraining tree model with SISSO features...\u001b[0m\n",
      "Identified expression for t_sisso: (((rA_rX_ratio / log_rA_rB_ratio) + (log_rA_rB_ratio / rA_rX_ratio)) / ((rB_rX_ratio / chi_BX_ratio) + (rB_rX_ratio + chi_BX_ratio)))\n",
      "Classification tree accuracy (for t_sisso_65) on the train set: 0.831858.\n",
      "Classification tree accuracy (for t_sisso_65) on the train set (5 fold CV): 0.822802.\n",
      "Classification tree accuracy (for t_sisso_65) on the test set: 0.842105.\n",
      "t_sisso_65 < 1.157727 indicates stable perovskites.\n"
     ]
    },
    {
     "name": "stderr",
     "output_type": "stream",
     "text": [
      "/home/nomad-lanasc/Documents/Diego Garzon/TF-ChPVK-PV/tf_chpvk_pv/modeling/train.py:248: PerformanceWarning: DataFrame is highly fragmented.  This is usually the result of calling `frame.insert` many times, which has poor performance.  Consider joining all columns at once using pd.concat(axis=1) instead. To get a de-fragmented frame, use `newframe = frame.copy()`\n",
      "  df_acc.loc['train_data', t] = acc_train\n"
     ]
    },
    {
     "name": "stdout",
     "output_type": "stream",
     "text": [
      "\u001b[32m2025-03-06 15:15:20.995\u001b[0m | \u001b[1mINFO    \u001b[0m | \u001b[36mtf_chpvk_pv.modeling.train\u001b[0m:\u001b[36mtrain_tree_sis_features\u001b[0m:\u001b[36m81\u001b[0m - \u001b[1mTraining tree model with SISSO features...\u001b[0m\n",
      "Identified expression for t_sisso: (((rB_rX_ratio**2) / sqrt(rA_rX_ratio)) / exp((rB_rX_ratio / log_rA_rB_ratio)))\n",
      "Classification tree accuracy (for t_sisso_300) on the train set: 0.823009.\n",
      "Classification tree accuracy (for t_sisso_300) on the train set (5 fold CV): 0.822705.\n",
      "Classification tree accuracy (for t_sisso_300) on the test set: 0.807018.\n",
      "t_sisso_300 < 0.107408 indicates stable perovskites.\n"
     ]
    },
    {
     "name": "stderr",
     "output_type": "stream",
     "text": [
      "/home/nomad-lanasc/Documents/Diego Garzon/TF-ChPVK-PV/tf_chpvk_pv/modeling/train.py:248: PerformanceWarning: DataFrame is highly fragmented.  This is usually the result of calling `frame.insert` many times, which has poor performance.  Consider joining all columns at once using pd.concat(axis=1) instead. To get a de-fragmented frame, use `newframe = frame.copy()`\n",
      "  df_acc.loc['train_data', t] = acc_train\n"
     ]
    },
    {
     "name": "stdout",
     "output_type": "stream",
     "text": [
      "\u001b[32m2025-03-06 15:15:43.526\u001b[0m | \u001b[1mINFO    \u001b[0m | \u001b[36mtf_chpvk_pv.modeling.train\u001b[0m:\u001b[36mtrain_tree_sis_features\u001b[0m:\u001b[36m81\u001b[0m - \u001b[1mTraining tree model with SISSO features...\u001b[0m\n",
      "Identified expression for t_sisso: (|(|sqrt(rB_rX_ratio) - log_rA_rB_ratio|) - (|(|rB_rX_ratio - log_rA_rB_ratio|) - rA_rX_ratio|)|)\n",
      "Error in /home/nomad-lanasc/Documents/Diego Garzon/TF-ChPVK-PV/data/features_space/features/features/features_sisso_253.csv\n",
      "\u001b[32m2025-03-06 15:16:06.095\u001b[0m | \u001b[1mINFO    \u001b[0m | \u001b[36mtf_chpvk_pv.modeling.train\u001b[0m:\u001b[36mtrain_tree_sis_features\u001b[0m:\u001b[36m81\u001b[0m - \u001b[1mTraining tree model with SISSO features...\u001b[0m\n",
      "Identified expression for t_sisso: (|(|(rA_rX_ratio * log_rA_rB_ratio) - (log_rA_rB_ratio**3)|) - ((rB_rX_ratio**3) * (rB_rX_ratio * log_rA_rB_ratio))|)\n",
      "Error in /home/nomad-lanasc/Documents/Diego Garzon/TF-ChPVK-PV/data/features_space/features/features/features_sisso_223.csv\n",
      "\u001b[32m2025-03-06 15:16:28.426\u001b[0m | \u001b[1mINFO    \u001b[0m | \u001b[36mtf_chpvk_pv.modeling.train\u001b[0m:\u001b[36mtrain_tree_sis_features\u001b[0m:\u001b[36m81\u001b[0m - \u001b[1mTraining tree model with SISSO features...\u001b[0m\n",
      "Identified expression for t_sisso: (((rA_rX_ratio - log_rA_rB_ratio) - (log_rA_rB_ratio / rA_rX_ratio)) - ((rB_rX_ratio / log_rA_rB_ratio) + (log_rA_rB_ratio / rA_rX_ratio)))\n",
      "Classification tree accuracy (for t_sisso_20) on the train set: 0.845133.\n",
      "Classification tree accuracy (for t_sisso_20) on the train set (5 fold CV): 0.822899.\n",
      "Classification tree accuracy (for t_sisso_20) on the test set: 0.877193.\n",
      "t_sisso_20 < -1.955215 indicates stable perovskites.\n"
     ]
    },
    {
     "name": "stderr",
     "output_type": "stream",
     "text": [
      "/home/nomad-lanasc/Documents/Diego Garzon/TF-ChPVK-PV/tf_chpvk_pv/modeling/train.py:248: PerformanceWarning: DataFrame is highly fragmented.  This is usually the result of calling `frame.insert` many times, which has poor performance.  Consider joining all columns at once using pd.concat(axis=1) instead. To get a de-fragmented frame, use `newframe = frame.copy()`\n",
      "  df_acc.loc['train_data', t] = acc_train\n"
     ]
    },
    {
     "name": "stdout",
     "output_type": "stream",
     "text": [
      "\u001b[32m2025-03-06 15:16:50.989\u001b[0m | \u001b[1mINFO    \u001b[0m | \u001b[36mtf_chpvk_pv.modeling.train\u001b[0m:\u001b[36mtrain_tree_sis_features\u001b[0m:\u001b[36m81\u001b[0m - \u001b[1mTraining tree model with SISSO features...\u001b[0m\n",
      "Identified expression for t_sisso: log((|(|rB_rX_ratio - log_rA_rB_ratio|) - (rB_rX_ratio + log_rA_rB_ratio)|))\n",
      "Error in /home/nomad-lanasc/Documents/Diego Garzon/TF-ChPVK-PV/data/features_space/features/features/features_sisso_60.csv\n",
      "\u001b[32m2025-03-06 15:17:13.391\u001b[0m | \u001b[1mINFO    \u001b[0m | \u001b[36mtf_chpvk_pv.modeling.train\u001b[0m:\u001b[36mtrain_tree_sis_features\u001b[0m:\u001b[36m81\u001b[0m - \u001b[1mTraining tree model with SISSO features...\u001b[0m\n",
      "Identified expression for t_sisso: ((|(1.0 / rB_rX_ratio) - (1.0 / log_rA_rB_ratio)|) + ((1.0 / rB_rX_ratio) + (1.0 / log_rA_rB_ratio)))\n",
      "Classification tree accuracy (for t_sisso_57) on the train set: 0.853982.\n",
      "Classification tree accuracy (for t_sisso_57) on the train set (5 fold CV): 0.853623.\n",
      "Classification tree accuracy (for t_sisso_57) on the test set: 0.912281.\n",
      "t_sisso_57 < 4.377569 indicates stable perovskites.\n"
     ]
    },
    {
     "name": "stderr",
     "output_type": "stream",
     "text": [
      "/home/nomad-lanasc/Documents/Diego Garzon/TF-ChPVK-PV/tf_chpvk_pv/modeling/train.py:248: PerformanceWarning: DataFrame is highly fragmented.  This is usually the result of calling `frame.insert` many times, which has poor performance.  Consider joining all columns at once using pd.concat(axis=1) instead. To get a de-fragmented frame, use `newframe = frame.copy()`\n",
      "  df_acc.loc['train_data', t] = acc_train\n"
     ]
    },
    {
     "name": "stdout",
     "output_type": "stream",
     "text": [
      "\u001b[32m2025-03-06 15:17:36.037\u001b[0m | \u001b[1mINFO    \u001b[0m | \u001b[36mtf_chpvk_pv.modeling.train\u001b[0m:\u001b[36mtrain_tree_sis_features\u001b[0m:\u001b[36m81\u001b[0m - \u001b[1mTraining tree model with SISSO features...\u001b[0m\n",
      "Identified expression for t_sisso: (|(|(rA_rX_ratio - rB_rX_ratio) - rB_rX_ratio|) - (|(|rB_rX_ratio - log_rA_rB_ratio|) - rA_rX_ratio|)|)\n",
      "Error in /home/nomad-lanasc/Documents/Diego Garzon/TF-ChPVK-PV/data/features_space/features/features/features_sisso_128.csv\n",
      "\u001b[32m2025-03-06 15:17:58.514\u001b[0m | \u001b[1mINFO    \u001b[0m | \u001b[36mtf_chpvk_pv.modeling.train\u001b[0m:\u001b[36mtrain_tree_sis_features\u001b[0m:\u001b[36m81\u001b[0m - \u001b[1mTraining tree model with SISSO features...\u001b[0m\n",
      "Identified expression for t_sisso: (((rA_rX_ratio * log_rA_rB_ratio) - exp(rB_rX_ratio)) * ((rA_rX_ratio - log_rA_rB_ratio) * (log_rA_rB_ratio**3)))\n",
      "Classification tree accuracy (for t_sisso_156) on the train set: 0.840708.\n",
      "Classification tree accuracy (for t_sisso_156) on the train set (5 fold CV): 0.835942.\n",
      "Classification tree accuracy (for t_sisso_156) on the test set: 0.842105.\n",
      "t_sisso_156 < -0.053064 indicates stable perovskites.\n"
     ]
    },
    {
     "name": "stderr",
     "output_type": "stream",
     "text": [
      "/home/nomad-lanasc/Documents/Diego Garzon/TF-ChPVK-PV/tf_chpvk_pv/modeling/train.py:248: PerformanceWarning: DataFrame is highly fragmented.  This is usually the result of calling `frame.insert` many times, which has poor performance.  Consider joining all columns at once using pd.concat(axis=1) instead. To get a de-fragmented frame, use `newframe = frame.copy()`\n",
      "  df_acc.loc['train_data', t] = acc_train\n"
     ]
    },
    {
     "name": "stdout",
     "output_type": "stream",
     "text": [
      "\u001b[32m2025-03-06 15:18:21.229\u001b[0m | \u001b[1mINFO    \u001b[0m | \u001b[36mtf_chpvk_pv.modeling.train\u001b[0m:\u001b[36mtrain_tree_sis_features\u001b[0m:\u001b[36m81\u001b[0m - \u001b[1mTraining tree model with SISSO features...\u001b[0m\n",
      "Identified expression for t_sisso: (((EA_A * rA_rX_ratio) * log(rA_rX_ratio)) * ((rA_rX_ratio * log_rA_rB_ratio) / log(rB_rX_ratio)))\n",
      "Classification tree accuracy (for t_sisso_271) on the train set: 0.800885.\n",
      "Classification tree accuracy (for t_sisso_271) on the train set (5 fold CV): 0.800870.\n",
      "Classification tree accuracy (for t_sisso_271) on the test set: 0.736842.\n",
      "t_sisso_271 < 0.023498 indicates stable perovskites.\n"
     ]
    },
    {
     "name": "stderr",
     "output_type": "stream",
     "text": [
      "/home/nomad-lanasc/Documents/Diego Garzon/TF-ChPVK-PV/tf_chpvk_pv/modeling/train.py:248: PerformanceWarning: DataFrame is highly fragmented.  This is usually the result of calling `frame.insert` many times, which has poor performance.  Consider joining all columns at once using pd.concat(axis=1) instead. To get a de-fragmented frame, use `newframe = frame.copy()`\n",
      "  df_acc.loc['train_data', t] = acc_train\n"
     ]
    },
    {
     "name": "stdout",
     "output_type": "stream",
     "text": [
      "\u001b[32m2025-03-06 15:18:43.686\u001b[0m | \u001b[1mINFO    \u001b[0m | \u001b[36mtf_chpvk_pv.modeling.train\u001b[0m:\u001b[36mtrain_tree_sis_features\u001b[0m:\u001b[36m81\u001b[0m - \u001b[1mTraining tree model with SISSO features...\u001b[0m\n",
      "Identified expression for t_sisso: (|(|(|rB_rX_ratio - log_rA_rB_ratio|) - rA_rX_ratio|) - (|(log_rA_rB_ratio**2) - log_rA_rB_ratio|)|)\n",
      "Error in /home/nomad-lanasc/Documents/Diego Garzon/TF-ChPVK-PV/data/features_space/features/features/features_sisso_230.csv\n",
      "\u001b[32m2025-03-06 15:19:06.254\u001b[0m | \u001b[1mINFO    \u001b[0m | \u001b[36mtf_chpvk_pv.modeling.train\u001b[0m:\u001b[36mtrain_tree_sis_features\u001b[0m:\u001b[36m81\u001b[0m - \u001b[1mTraining tree model with SISSO features...\u001b[0m\n",
      "Identified expression for t_sisso: ((sqrt(rA_rX_ratio) - sqrt(rB_rX_ratio)) + (sqrt(log_rA_rB_ratio) - log_rA_rB_ratio))\n",
      "Classification tree accuracy (for t_sisso_24) on the train set: 0.840708.\n",
      "Classification tree accuracy (for t_sisso_24) on the train set (5 fold CV): 0.836039.\n",
      "Classification tree accuracy (for t_sisso_24) on the test set: 0.842105.\n",
      "t_sisso_24 < 0.413743 indicates stable perovskites.\n"
     ]
    },
    {
     "name": "stderr",
     "output_type": "stream",
     "text": [
      "/home/nomad-lanasc/Documents/Diego Garzon/TF-ChPVK-PV/tf_chpvk_pv/modeling/train.py:248: PerformanceWarning: DataFrame is highly fragmented.  This is usually the result of calling `frame.insert` many times, which has poor performance.  Consider joining all columns at once using pd.concat(axis=1) instead. To get a de-fragmented frame, use `newframe = frame.copy()`\n",
      "  df_acc.loc['train_data', t] = acc_train\n"
     ]
    },
    {
     "name": "stdout",
     "output_type": "stream",
     "text": [
      "\u001b[32m2025-03-06 15:19:28.637\u001b[0m | \u001b[1mINFO    \u001b[0m | \u001b[36mtf_chpvk_pv.modeling.train\u001b[0m:\u001b[36mtrain_tree_sis_features\u001b[0m:\u001b[36m81\u001b[0m - \u001b[1mTraining tree model with SISSO features...\u001b[0m\n",
      "Identified expression for t_sisso: ((|(|rA_rX_ratio - log_rA_rB_ratio|) - (rB_rX_ratio / log_rA_rB_ratio)|) + exp((log_rA_rB_ratio / rA_rX_ratio)))\n",
      "Error in /home/nomad-lanasc/Documents/Diego Garzon/TF-ChPVK-PV/data/features_space/features/features/features_sisso_43.csv\n",
      "\u001b[32m2025-03-06 15:19:51.231\u001b[0m | \u001b[1mINFO    \u001b[0m | \u001b[36mtf_chpvk_pv.modeling.train\u001b[0m:\u001b[36mtrain_tree_sis_features\u001b[0m:\u001b[36m81\u001b[0m - \u001b[1mTraining tree model with SISSO features...\u001b[0m\n",
      "Identified expression for t_sisso: (|(|(|rB_rX_ratio - log_rA_rB_ratio|) - rA_rX_ratio|) - (|(log_rA_rB_ratio**2) - log_rA_rB_ratio|)|)\n",
      "Error in /home/nomad-lanasc/Documents/Diego Garzon/TF-ChPVK-PV/data/features_space/features/features/features_sisso_236.csv\n",
      "\u001b[32m2025-03-06 15:20:13.491\u001b[0m | \u001b[1mINFO    \u001b[0m | \u001b[36mtf_chpvk_pv.modeling.train\u001b[0m:\u001b[36mtrain_tree_sis_features\u001b[0m:\u001b[36m81\u001b[0m - \u001b[1mTraining tree model with SISSO features...\u001b[0m\n",
      "Identified expression for t_sisso: (((rA_rX_ratio - rB_rX_ratio)**3) - ((log_rA_rB_ratio**2) - log_rA_rB_ratio))\n",
      "Classification tree accuracy (for t_sisso_30) on the train set: 0.831858.\n",
      "Classification tree accuracy (for t_sisso_30) on the train set (5 fold CV): 0.814010.\n",
      "Classification tree accuracy (for t_sisso_30) on the test set: 0.807018.\n",
      "t_sisso_30 < 0.291294 indicates stable perovskites.\n"
     ]
    },
    {
     "name": "stderr",
     "output_type": "stream",
     "text": [
      "/home/nomad-lanasc/Documents/Diego Garzon/TF-ChPVK-PV/tf_chpvk_pv/modeling/train.py:248: PerformanceWarning: DataFrame is highly fragmented.  This is usually the result of calling `frame.insert` many times, which has poor performance.  Consider joining all columns at once using pd.concat(axis=1) instead. To get a de-fragmented frame, use `newframe = frame.copy()`\n",
      "  df_acc.loc['train_data', t] = acc_train\n"
     ]
    },
    {
     "name": "stdout",
     "output_type": "stream",
     "text": [
      "\u001b[32m2025-03-06 15:20:36.137\u001b[0m | \u001b[1mINFO    \u001b[0m | \u001b[36mtf_chpvk_pv.modeling.train\u001b[0m:\u001b[36mtrain_tree_sis_features\u001b[0m:\u001b[36m81\u001b[0m - \u001b[1mTraining tree model with SISSO features...\u001b[0m\n",
      "Identified expression for t_sisso: (((rA_rX_ratio - log_rA_rB_ratio) * (log_rA_rB_ratio**2)) * ((log_rA_rB_ratio**3) - (log_rA_rB_ratio**2)))\n",
      "Classification tree accuracy (for t_sisso_163) on the train set: 0.840708.\n",
      "Classification tree accuracy (for t_sisso_163) on the train set (5 fold CV): 0.840676.\n",
      "Classification tree accuracy (for t_sisso_163) on the test set: 0.824561.\n",
      "t_sisso_163 < -0.010390 indicates stable perovskites.\n"
     ]
    },
    {
     "name": "stderr",
     "output_type": "stream",
     "text": [
      "/home/nomad-lanasc/Documents/Diego Garzon/TF-ChPVK-PV/tf_chpvk_pv/modeling/train.py:248: PerformanceWarning: DataFrame is highly fragmented.  This is usually the result of calling `frame.insert` many times, which has poor performance.  Consider joining all columns at once using pd.concat(axis=1) instead. To get a de-fragmented frame, use `newframe = frame.copy()`\n",
      "  df_acc.loc['train_data', t] = acc_train\n"
     ]
    },
    {
     "name": "stdout",
     "output_type": "stream",
     "text": [
      "\u001b[32m2025-03-06 15:20:58.593\u001b[0m | \u001b[1mINFO    \u001b[0m | \u001b[36mtf_chpvk_pv.modeling.train\u001b[0m:\u001b[36mtrain_tree_sis_features\u001b[0m:\u001b[36m81\u001b[0m - \u001b[1mTraining tree model with SISSO features...\u001b[0m\n",
      "Identified expression for t_sisso: (((rA_rX_ratio / log_rA_rB_ratio) + (log_rA_rB_ratio / rA_rX_ratio)) / ((rB_rX_ratio / chi_BX_ratio) + (rB_rX_ratio + chi_BX_ratio)))\n",
      "Classification tree accuracy (for t_sisso_94) on the train set: 0.831858.\n",
      "Classification tree accuracy (for t_sisso_94) on the train set (5 fold CV): 0.822802.\n",
      "Classification tree accuracy (for t_sisso_94) on the test set: 0.842105.\n",
      "t_sisso_94 < 1.157727 indicates stable perovskites.\n"
     ]
    },
    {
     "name": "stderr",
     "output_type": "stream",
     "text": [
      "/home/nomad-lanasc/Documents/Diego Garzon/TF-ChPVK-PV/tf_chpvk_pv/modeling/train.py:248: PerformanceWarning: DataFrame is highly fragmented.  This is usually the result of calling `frame.insert` many times, which has poor performance.  Consider joining all columns at once using pd.concat(axis=1) instead. To get a de-fragmented frame, use `newframe = frame.copy()`\n",
      "  df_acc.loc['train_data', t] = acc_train\n"
     ]
    },
    {
     "name": "stdout",
     "output_type": "stream",
     "text": [
      "\u001b[32m2025-03-06 15:21:21.248\u001b[0m | \u001b[1mINFO    \u001b[0m | \u001b[36mtf_chpvk_pv.modeling.train\u001b[0m:\u001b[36mtrain_tree_sis_features\u001b[0m:\u001b[36m81\u001b[0m - \u001b[1mTraining tree model with SISSO features...\u001b[0m\n",
      "Identified expression for t_sisso: (|(|(rA_rX_ratio**2) - (|rB_rX_ratio - log_rA_rB_ratio|)|) - (|sqrt(log_rA_rB_ratio) - rA_rX_ratio|)|)\n",
      "Error in /home/nomad-lanasc/Documents/Diego Garzon/TF-ChPVK-PV/data/features_space/features/features/features_sisso_256.csv\n",
      "\u001b[32m2025-03-06 15:21:43.519\u001b[0m | \u001b[1mINFO    \u001b[0m | \u001b[36mtf_chpvk_pv.modeling.train\u001b[0m:\u001b[36mtrain_tree_sis_features\u001b[0m:\u001b[36m81\u001b[0m - \u001b[1mTraining tree model with SISSO features...\u001b[0m\n",
      "Identified expression for t_sisso: (((rA_rX_ratio + rB_rX_ratio) + (rA_rX_ratio + log_rA_rB_ratio)) + ((chi_BX_ratio**3)**3))\n",
      "Classification tree accuracy (for t_sisso_82) on the train set: 0.783186.\n",
      "Classification tree accuracy (for t_sisso_82) on the train set (5 fold CV): 0.783382.\n",
      "Classification tree accuracy (for t_sisso_82) on the test set: 0.754386.\n",
      "t_sisso_82 < 9.868897 indicates stable perovskites.\n"
     ]
    },
    {
     "name": "stderr",
     "output_type": "stream",
     "text": [
      "/home/nomad-lanasc/Documents/Diego Garzon/TF-ChPVK-PV/tf_chpvk_pv/modeling/train.py:248: PerformanceWarning: DataFrame is highly fragmented.  This is usually the result of calling `frame.insert` many times, which has poor performance.  Consider joining all columns at once using pd.concat(axis=1) instead. To get a de-fragmented frame, use `newframe = frame.copy()`\n",
      "  df_acc.loc['train_data', t] = acc_train\n"
     ]
    },
    {
     "name": "stdout",
     "output_type": "stream",
     "text": [
      "\u001b[32m2025-03-06 15:22:06.150\u001b[0m | \u001b[1mINFO    \u001b[0m | \u001b[36mtf_chpvk_pv.modeling.train\u001b[0m:\u001b[36mtrain_tree_sis_features\u001b[0m:\u001b[36m81\u001b[0m - \u001b[1mTraining tree model with SISSO features...\u001b[0m\n",
      "Identified expression for t_sisso: ((|sqrt(rB_rX_ratio) - (1.0 / log_rA_rB_ratio)|) / (|(|rB_rX_ratio - log_rA_rB_ratio|) - (1.0 / log_rA_rB_ratio)|))\n",
      "Error in /home/nomad-lanasc/Documents/Diego Garzon/TF-ChPVK-PV/data/features_space/features/features/features_sisso_232.csv\n",
      "\u001b[32m2025-03-06 15:22:28.434\u001b[0m | \u001b[1mINFO    \u001b[0m | \u001b[36mtf_chpvk_pv.modeling.train\u001b[0m:\u001b[36mtrain_tree_sis_features\u001b[0m:\u001b[36m81\u001b[0m - \u001b[1mTraining tree model with SISSO features...\u001b[0m\n",
      "Identified expression for t_sisso: (((chi_BX_ratio / rA_rX_ratio) - (chi_BX_ratio * log_rA_rB_ratio)) - ((chi_BX_ratio / rB_rX_ratio) * (chi_BX_ratio - log_rA_rB_ratio)))\n",
      "Classification tree accuracy (for t_sisso_149) on the train set: 0.783186.\n",
      "Classification tree accuracy (for t_sisso_149) on the train set (5 fold CV): 0.783285.\n",
      "Classification tree accuracy (for t_sisso_149) on the test set: 0.754386.\n",
      "t_sisso_149 < -0.961714 indicates stable perovskites.\n"
     ]
    },
    {
     "name": "stderr",
     "output_type": "stream",
     "text": [
      "/home/nomad-lanasc/Documents/Diego Garzon/TF-ChPVK-PV/tf_chpvk_pv/modeling/train.py:248: PerformanceWarning: DataFrame is highly fragmented.  This is usually the result of calling `frame.insert` many times, which has poor performance.  Consider joining all columns at once using pd.concat(axis=1) instead. To get a de-fragmented frame, use `newframe = frame.copy()`\n",
      "  df_acc.loc['train_data', t] = acc_train\n"
     ]
    },
    {
     "name": "stdout",
     "output_type": "stream",
     "text": [
      "\u001b[32m2025-03-06 15:22:51.082\u001b[0m | \u001b[1mINFO    \u001b[0m | \u001b[36mtf_chpvk_pv.modeling.train\u001b[0m:\u001b[36mtrain_tree_sis_features\u001b[0m:\u001b[36m81\u001b[0m - \u001b[1mTraining tree model with SISSO features...\u001b[0m\n",
      "Identified expression for t_sisso: (((rA_rX_ratio + log_rA_rB_ratio) + (rB_rX_ratio + log_rA_rB_ratio)) * log((rB_rX_ratio * log_rA_rB_ratio)))\n",
      "Classification tree accuracy (for t_sisso_81) on the train set: 0.827434.\n",
      "Classification tree accuracy (for t_sisso_81) on the train set (5 fold CV): 0.822705.\n",
      "Classification tree accuracy (for t_sisso_81) on the test set: 0.807018.\n",
      "t_sisso_81 < -3.214773 indicates stable perovskites.\n"
     ]
    },
    {
     "name": "stderr",
     "output_type": "stream",
     "text": [
      "/home/nomad-lanasc/Documents/Diego Garzon/TF-ChPVK-PV/tf_chpvk_pv/modeling/train.py:248: PerformanceWarning: DataFrame is highly fragmented.  This is usually the result of calling `frame.insert` many times, which has poor performance.  Consider joining all columns at once using pd.concat(axis=1) instead. To get a de-fragmented frame, use `newframe = frame.copy()`\n",
      "  df_acc.loc['train_data', t] = acc_train\n"
     ]
    },
    {
     "name": "stdout",
     "output_type": "stream",
     "text": [
      "\u001b[32m2025-03-06 15:23:13.532\u001b[0m | \u001b[1mINFO    \u001b[0m | \u001b[36mtf_chpvk_pv.modeling.train\u001b[0m:\u001b[36mtrain_tree_sis_features\u001b[0m:\u001b[36m81\u001b[0m - \u001b[1mTraining tree model with SISSO features...\u001b[0m\n",
      "Identified expression for t_sisso: (|((|rB_rX_ratio - log_rA_rB_ratio|) / sqrt(rB_rX_ratio)) - (rA_rX_ratio + log_rA_rB_ratio)|)\n",
      "Error in /home/nomad-lanasc/Documents/Diego Garzon/TF-ChPVK-PV/data/features_space/features/features/features_sisso_47.csv\n",
      "\u001b[32m2025-03-06 15:23:36.175\u001b[0m | \u001b[1mINFO    \u001b[0m | \u001b[36mtf_chpvk_pv.modeling.train\u001b[0m:\u001b[36mtrain_tree_sis_features\u001b[0m:\u001b[36m81\u001b[0m - \u001b[1mTraining tree model with SISSO features...\u001b[0m\n",
      "Identified expression for t_sisso: (|(|log(rA_rX_ratio) - (|rB_rX_ratio - log_rA_rB_ratio|)|) - (|sqrt(rA_rX_ratio) - sqrt(chi_BX_ratio)|)|)\n",
      "Error in /home/nomad-lanasc/Documents/Diego Garzon/TF-ChPVK-PV/data/features_space/features/features/features_sisso_258.csv\n",
      "\u001b[32m2025-03-06 15:23:58.530\u001b[0m | \u001b[1mINFO    \u001b[0m | \u001b[36mtf_chpvk_pv.modeling.train\u001b[0m:\u001b[36mtrain_tree_sis_features\u001b[0m:\u001b[36m81\u001b[0m - \u001b[1mTraining tree model with SISSO features...\u001b[0m\n",
      "Identified expression for t_sisso: (exp((rB_rX_ratio / rA_rX_ratio)) / (|(|rB_rX_ratio - log_rA_rB_ratio|) - rA_rX_ratio|))\n",
      "Error in /home/nomad-lanasc/Documents/Diego Garzon/TF-ChPVK-PV/data/features_space/features/features/features_sisso_225.csv\n",
      "\u001b[32m2025-03-06 15:24:21.262\u001b[0m | \u001b[1mINFO    \u001b[0m | \u001b[36mtf_chpvk_pv.modeling.train\u001b[0m:\u001b[36mtrain_tree_sis_features\u001b[0m:\u001b[36m81\u001b[0m - \u001b[1mTraining tree model with SISSO features...\u001b[0m\n",
      "Identified expression for t_sisso: ((sqrt(rB_rX_ratio) - (rB_rX_ratio - log_rA_rB_ratio)) - ((rB_rX_ratio - log_rA_rB_ratio) - (1.0 / log_rA_rB_ratio)))\n",
      "Classification tree accuracy (for t_sisso_197) on the train set: 0.858407.\n",
      "Classification tree accuracy (for t_sisso_197) on the train set (5 fold CV): 0.853720.\n",
      "Classification tree accuracy (for t_sisso_197) on the test set: 0.877193.\n",
      "t_sisso_197 < 2.627082 indicates stable perovskites.\n"
     ]
    },
    {
     "name": "stderr",
     "output_type": "stream",
     "text": [
      "/home/nomad-lanasc/Documents/Diego Garzon/TF-ChPVK-PV/tf_chpvk_pv/modeling/train.py:248: PerformanceWarning: DataFrame is highly fragmented.  This is usually the result of calling `frame.insert` many times, which has poor performance.  Consider joining all columns at once using pd.concat(axis=1) instead. To get a de-fragmented frame, use `newframe = frame.copy()`\n",
      "  df_acc.loc['train_data', t] = acc_train\n"
     ]
    },
    {
     "name": "stdout",
     "output_type": "stream",
     "text": [
      "\u001b[32m2025-03-06 15:24:43.769\u001b[0m | \u001b[1mINFO    \u001b[0m | \u001b[36mtf_chpvk_pv.modeling.train\u001b[0m:\u001b[36mtrain_tree_sis_features\u001b[0m:\u001b[36m81\u001b[0m - \u001b[1mTraining tree model with SISSO features...\u001b[0m\n",
      "Identified expression for t_sisso: (((rA_rX_ratio / rB_rX_ratio) / log_rA_rB_ratio) / sqrt(rB_rX_ratio))\n",
      "Classification tree accuracy (for t_sisso_310) on the train set: 0.805310.\n",
      "Classification tree accuracy (for t_sisso_310) on the train set (5 fold CV): 0.796425.\n",
      "Classification tree accuracy (for t_sisso_310) on the test set: 0.771930.\n",
      "t_sisso_310 < 4.470306 indicates stable perovskites.\n"
     ]
    },
    {
     "name": "stderr",
     "output_type": "stream",
     "text": [
      "/home/nomad-lanasc/Documents/Diego Garzon/TF-ChPVK-PV/tf_chpvk_pv/modeling/train.py:248: PerformanceWarning: DataFrame is highly fragmented.  This is usually the result of calling `frame.insert` many times, which has poor performance.  Consider joining all columns at once using pd.concat(axis=1) instead. To get a de-fragmented frame, use `newframe = frame.copy()`\n",
      "  df_acc.loc['train_data', t] = acc_train\n"
     ]
    },
    {
     "name": "stdout",
     "output_type": "stream",
     "text": [
      "\u001b[32m2025-03-06 15:25:06.479\u001b[0m | \u001b[1mINFO    \u001b[0m | \u001b[36mtf_chpvk_pv.modeling.train\u001b[0m:\u001b[36mtrain_tree_sis_features\u001b[0m:\u001b[36m81\u001b[0m - \u001b[1mTraining tree model with SISSO features...\u001b[0m\n",
      "Identified expression for t_sisso: ((log(rA_rX_ratio) - (|rB_rX_ratio - log_rA_rB_ratio|)) + (|(|rA_rX_ratio - log_rA_rB_ratio|) - rB_rX_ratio|))\n",
      "Error in /home/nomad-lanasc/Documents/Diego Garzon/TF-ChPVK-PV/data/features_space/features/features/features_sisso_7.csv\n",
      "\u001b[32m2025-03-06 15:25:28.861\u001b[0m | \u001b[1mINFO    \u001b[0m | \u001b[36mtf_chpvk_pv.modeling.train\u001b[0m:\u001b[36mtrain_tree_sis_features\u001b[0m:\u001b[36m81\u001b[0m - \u001b[1mTraining tree model with SISSO features...\u001b[0m\n",
      "Identified expression for t_sisso: ((log(log_rA_rB_ratio) - rA_rX_ratio) - (log(log_rA_rB_ratio)**3))\n",
      "Classification tree accuracy (for t_sisso_201) on the train set: 0.876106.\n",
      "Classification tree accuracy (for t_sisso_201) on the train set (5 fold CV): 0.871401.\n",
      "Classification tree accuracy (for t_sisso_201) on the test set: 0.877193.\n",
      "t_sisso_201 < -1.192592 indicates stable perovskites.\n"
     ]
    },
    {
     "name": "stderr",
     "output_type": "stream",
     "text": [
      "/home/nomad-lanasc/Documents/Diego Garzon/TF-ChPVK-PV/tf_chpvk_pv/modeling/train.py:248: PerformanceWarning: DataFrame is highly fragmented.  This is usually the result of calling `frame.insert` many times, which has poor performance.  Consider joining all columns at once using pd.concat(axis=1) instead. To get a de-fragmented frame, use `newframe = frame.copy()`\n",
      "  df_acc.loc['train_data', t] = acc_train\n"
     ]
    },
    {
     "name": "stdout",
     "output_type": "stream",
     "text": [
      "\u001b[32m2025-03-06 15:25:51.539\u001b[0m | \u001b[1mINFO    \u001b[0m | \u001b[36mtf_chpvk_pv.modeling.train\u001b[0m:\u001b[36mtrain_tree_sis_features\u001b[0m:\u001b[36m81\u001b[0m - \u001b[1mTraining tree model with SISSO features...\u001b[0m\n",
      "Identified expression for t_sisso: ((|(rA_rX_ratio * log_rA_rB_ratio) - exp(log_rA_rB_ratio)|) * (|(|rB_rX_ratio - log_rA_rB_ratio|) - rA_rX_ratio|))\n",
      "Error in /home/nomad-lanasc/Documents/Diego Garzon/TF-ChPVK-PV/data/features_space/features/features/features_sisso_204.csv\n",
      "\u001b[32m2025-03-06 15:26:13.874\u001b[0m | \u001b[1mINFO    \u001b[0m | \u001b[36mtf_chpvk_pv.modeling.train\u001b[0m:\u001b[36mtrain_tree_sis_features\u001b[0m:\u001b[36m81\u001b[0m - \u001b[1mTraining tree model with SISSO features...\u001b[0m\n",
      "Identified expression for t_sisso: ((log(log_rA_rB_ratio) - rA_rX_ratio) - (log(log_rA_rB_ratio)**3))\n",
      "Classification tree accuracy (for t_sisso_192) on the train set: 0.876106.\n",
      "Classification tree accuracy (for t_sisso_192) on the train set (5 fold CV): 0.871401.\n",
      "Classification tree accuracy (for t_sisso_192) on the test set: 0.877193.\n",
      "t_sisso_192 < -1.192592 indicates stable perovskites.\n"
     ]
    },
    {
     "name": "stderr",
     "output_type": "stream",
     "text": [
      "/home/nomad-lanasc/Documents/Diego Garzon/TF-ChPVK-PV/tf_chpvk_pv/modeling/train.py:248: PerformanceWarning: DataFrame is highly fragmented.  This is usually the result of calling `frame.insert` many times, which has poor performance.  Consider joining all columns at once using pd.concat(axis=1) instead. To get a de-fragmented frame, use `newframe = frame.copy()`\n",
      "  df_acc.loc['train_data', t] = acc_train\n"
     ]
    },
    {
     "name": "stdout",
     "output_type": "stream",
     "text": [
      "\u001b[32m2025-03-06 15:26:36.546\u001b[0m | \u001b[1mINFO    \u001b[0m | \u001b[36mtf_chpvk_pv.modeling.train\u001b[0m:\u001b[36mtrain_tree_sis_features\u001b[0m:\u001b[36m81\u001b[0m - \u001b[1mTraining tree model with SISSO features...\u001b[0m\n",
      "Identified expression for t_sisso: (((rA_rX_ratio + chi_BX_ratio) - (rB_rX_ratio / log_rA_rB_ratio)) * ((chi_BX_ratio / rA_rX_ratio) - (chi_BX_ratio / log_rA_rB_ratio)))\n",
      "Classification tree accuracy (for t_sisso_8) on the train set: 0.818584.\n",
      "Classification tree accuracy (for t_sisso_8) on the train set (5 fold CV): 0.809469.\n",
      "Classification tree accuracy (for t_sisso_8) on the test set: 0.789474.\n",
      "t_sisso_8 < -0.296357 indicates stable perovskites.\n"
     ]
    },
    {
     "name": "stderr",
     "output_type": "stream",
     "text": [
      "/home/nomad-lanasc/Documents/Diego Garzon/TF-ChPVK-PV/tf_chpvk_pv/modeling/train.py:248: PerformanceWarning: DataFrame is highly fragmented.  This is usually the result of calling `frame.insert` many times, which has poor performance.  Consider joining all columns at once using pd.concat(axis=1) instead. To get a de-fragmented frame, use `newframe = frame.copy()`\n",
      "  df_acc.loc['train_data', t] = acc_train\n"
     ]
    },
    {
     "name": "stdout",
     "output_type": "stream",
     "text": [
      "\u001b[32m2025-03-06 15:26:58.901\u001b[0m | \u001b[1mINFO    \u001b[0m | \u001b[36mtf_chpvk_pv.modeling.train\u001b[0m:\u001b[36mtrain_tree_sis_features\u001b[0m:\u001b[36m81\u001b[0m - \u001b[1mTraining tree model with SISSO features...\u001b[0m\n",
      "Identified expression for t_sisso: ((log(log_rA_rB_ratio) - rA_rX_ratio) - (log(log_rA_rB_ratio)**3))\n",
      "Classification tree accuracy (for t_sisso_203) on the train set: 0.876106.\n",
      "Classification tree accuracy (for t_sisso_203) on the train set (5 fold CV): 0.871401.\n",
      "Classification tree accuracy (for t_sisso_203) on the test set: 0.877193.\n",
      "t_sisso_203 < -1.192592 indicates stable perovskites.\n"
     ]
    },
    {
     "name": "stderr",
     "output_type": "stream",
     "text": [
      "/home/nomad-lanasc/Documents/Diego Garzon/TF-ChPVK-PV/tf_chpvk_pv/modeling/train.py:248: PerformanceWarning: DataFrame is highly fragmented.  This is usually the result of calling `frame.insert` many times, which has poor performance.  Consider joining all columns at once using pd.concat(axis=1) instead. To get a de-fragmented frame, use `newframe = frame.copy()`\n",
      "  df_acc.loc['train_data', t] = acc_train\n"
     ]
    },
    {
     "name": "stdout",
     "output_type": "stream",
     "text": [
      "\u001b[32m2025-03-06 15:27:21.688\u001b[0m | \u001b[1mINFO    \u001b[0m | \u001b[36mtf_chpvk_pv.modeling.train\u001b[0m:\u001b[36mtrain_tree_sis_features\u001b[0m:\u001b[36m81\u001b[0m - \u001b[1mTraining tree model with SISSO features...\u001b[0m\n",
      "Identified expression for t_sisso: (((rA_rX_ratio + log_rA_rB_ratio) + (1.0 / rB_rX_ratio)) + (1.0 / log_rA_rB_ratio))\n",
      "Classification tree accuracy (for t_sisso_113) on the train set: 0.871681.\n",
      "Classification tree accuracy (for t_sisso_113) on the train set (5 fold CV): 0.862512.\n",
      "Classification tree accuracy (for t_sisso_113) on the test set: 0.877193.\n",
      "t_sisso_113 < 5.321800 indicates stable perovskites.\n"
     ]
    },
    {
     "name": "stderr",
     "output_type": "stream",
     "text": [
      "/home/nomad-lanasc/Documents/Diego Garzon/TF-ChPVK-PV/tf_chpvk_pv/modeling/train.py:248: PerformanceWarning: DataFrame is highly fragmented.  This is usually the result of calling `frame.insert` many times, which has poor performance.  Consider joining all columns at once using pd.concat(axis=1) instead. To get a de-fragmented frame, use `newframe = frame.copy()`\n",
      "  df_acc.loc['train_data', t] = acc_train\n"
     ]
    },
    {
     "name": "stdout",
     "output_type": "stream",
     "text": [
      "\u001b[32m2025-03-06 15:27:44.128\u001b[0m | \u001b[1mINFO    \u001b[0m | \u001b[36mtf_chpvk_pv.modeling.train\u001b[0m:\u001b[36mtrain_tree_sis_features\u001b[0m:\u001b[36m81\u001b[0m - \u001b[1mTraining tree model with SISSO features...\u001b[0m\n",
      "Identified expression for t_sisso: (exp((rB_rX_ratio / rA_rX_ratio)) / (|(|rB_rX_ratio - log_rA_rB_ratio|) - rA_rX_ratio|))\n",
      "Error in /home/nomad-lanasc/Documents/Diego Garzon/TF-ChPVK-PV/data/features_space/features/features/features_sisso_227.csv\n",
      "\u001b[32m2025-03-06 15:28:06.839\u001b[0m | \u001b[1mINFO    \u001b[0m | \u001b[36mtf_chpvk_pv.modeling.train\u001b[0m:\u001b[36mtrain_tree_sis_features\u001b[0m:\u001b[36m81\u001b[0m - \u001b[1mTraining tree model with SISSO features...\u001b[0m\n",
      "Identified expression for t_sisso: ((log(rB_rX_ratio) - (rB_rX_ratio / log_rA_rB_ratio)) - ((log_rA_rB_ratio / rB_rX_ratio) - (log_rA_rB_ratio**3)))\n",
      "Classification tree accuracy (for t_sisso_182) on the train set: 0.862832.\n",
      "Classification tree accuracy (for t_sisso_182) on the train set (5 fold CV): 0.862512.\n",
      "Classification tree accuracy (for t_sisso_182) on the test set: 0.894737.\n",
      "t_sisso_182 < -2.631786 indicates stable perovskites.\n"
     ]
    },
    {
     "name": "stderr",
     "output_type": "stream",
     "text": [
      "/home/nomad-lanasc/Documents/Diego Garzon/TF-ChPVK-PV/tf_chpvk_pv/modeling/train.py:248: PerformanceWarning: DataFrame is highly fragmented.  This is usually the result of calling `frame.insert` many times, which has poor performance.  Consider joining all columns at once using pd.concat(axis=1) instead. To get a de-fragmented frame, use `newframe = frame.copy()`\n",
      "  df_acc.loc['train_data', t] = acc_train\n"
     ]
    },
    {
     "name": "stdout",
     "output_type": "stream",
     "text": [
      "\u001b[32m2025-03-06 15:28:29.393\u001b[0m | \u001b[1mINFO    \u001b[0m | \u001b[36mtf_chpvk_pv.modeling.train\u001b[0m:\u001b[36mtrain_tree_sis_features\u001b[0m:\u001b[36m81\u001b[0m - \u001b[1mTraining tree model with SISSO features...\u001b[0m\n",
      "Identified expression for t_sisso: (((rA_rX_ratio / rB_rX_ratio) / sqrt(log_rA_rB_ratio)) - ((rA_rX_ratio - rB_rX_ratio)**3))\n",
      "Classification tree accuracy (for t_sisso_181) on the train set: 0.858407.\n",
      "Classification tree accuracy (for t_sisso_181) on the train set (5 fold CV): 0.858164.\n",
      "Classification tree accuracy (for t_sisso_181) on the test set: 0.842105.\n",
      "t_sisso_181 < 2.298936 indicates stable perovskites.\n"
     ]
    },
    {
     "name": "stderr",
     "output_type": "stream",
     "text": [
      "/home/nomad-lanasc/Documents/Diego Garzon/TF-ChPVK-PV/tf_chpvk_pv/modeling/train.py:248: PerformanceWarning: DataFrame is highly fragmented.  This is usually the result of calling `frame.insert` many times, which has poor performance.  Consider joining all columns at once using pd.concat(axis=1) instead. To get a de-fragmented frame, use `newframe = frame.copy()`\n",
      "  df_acc.loc['train_data', t] = acc_train\n"
     ]
    },
    {
     "name": "stdout",
     "output_type": "stream",
     "text": [
      "\u001b[32m2025-03-06 15:28:52.147\u001b[0m | \u001b[1mINFO    \u001b[0m | \u001b[36mtf_chpvk_pv.modeling.train\u001b[0m:\u001b[36mtrain_tree_sis_features\u001b[0m:\u001b[36m81\u001b[0m - \u001b[1mTraining tree model with SISSO features...\u001b[0m\n",
      "Identified expression for t_sisso: ((|log(rA_rX_ratio) - (|rB_rX_ratio - log_rA_rB_ratio|)|) - (|(chi_BX_ratio * log_rA_rB_ratio) - log_rA_rB_ratio|))\n",
      "Error in /home/nomad-lanasc/Documents/Diego Garzon/TF-ChPVK-PV/data/features_space/features/features/features_sisso_126.csv\n",
      "\u001b[32m2025-03-06 15:29:14.480\u001b[0m | \u001b[1mINFO    \u001b[0m | \u001b[36mtf_chpvk_pv.modeling.train\u001b[0m:\u001b[36mtrain_tree_sis_features\u001b[0m:\u001b[36m81\u001b[0m - \u001b[1mTraining tree model with SISSO features...\u001b[0m\n",
      "Identified expression for t_sisso: (|(|sqrt(rB_rX_ratio) - sqrt(log_rA_rB_ratio)|) - (sqrt(rB_rX_ratio) + sqrt(log_rA_rB_ratio))|)\n",
      "Error in /home/nomad-lanasc/Documents/Diego Garzon/TF-ChPVK-PV/data/features_space/features/features/features_sisso_61.csv\n",
      "\u001b[32m2025-03-06 15:29:37.079\u001b[0m | \u001b[1mINFO    \u001b[0m | \u001b[36mtf_chpvk_pv.modeling.train\u001b[0m:\u001b[36mtrain_tree_sis_features\u001b[0m:\u001b[36m81\u001b[0m - \u001b[1mTraining tree model with SISSO features...\u001b[0m\n",
      "Identified expression for t_sisso: (|(|rB_rX_ratio - log_rA_rB_ratio|) - (rB_rX_ratio + log_rA_rB_ratio)|)\n",
      "Error in /home/nomad-lanasc/Documents/Diego Garzon/TF-ChPVK-PV/data/features_space/features/features/features_sisso_51.csv\n",
      "\u001b[32m2025-03-06 15:29:59.633\u001b[0m | \u001b[1mINFO    \u001b[0m | \u001b[36mtf_chpvk_pv.modeling.train\u001b[0m:\u001b[36mtrain_tree_sis_features\u001b[0m:\u001b[36m81\u001b[0m - \u001b[1mTraining tree model with SISSO features...\u001b[0m\n",
      "Identified expression for t_sisso: (((rB_rX_ratio / log_rA_rB_ratio) + log_rA_rB_ratio) / (exp(rA_rX_ratio) - (rA_rX_ratio + log_rA_rB_ratio)))\n",
      "Classification tree accuracy (for t_sisso_15) on the train set: 0.853982.\n",
      "Classification tree accuracy (for t_sisso_15) on the train set (5 fold CV): 0.849275.\n",
      "Classification tree accuracy (for t_sisso_15) on the test set: 0.859649.\n",
      "t_sisso_15 < 1.551629 indicates stable perovskites.\n"
     ]
    },
    {
     "name": "stderr",
     "output_type": "stream",
     "text": [
      "/home/nomad-lanasc/Documents/Diego Garzon/TF-ChPVK-PV/tf_chpvk_pv/modeling/train.py:248: PerformanceWarning: DataFrame is highly fragmented.  This is usually the result of calling `frame.insert` many times, which has poor performance.  Consider joining all columns at once using pd.concat(axis=1) instead. To get a de-fragmented frame, use `newframe = frame.copy()`\n",
      "  df_acc.loc['train_data', t] = acc_train\n"
     ]
    },
    {
     "name": "stdout",
     "output_type": "stream",
     "text": [
      "\u001b[32m2025-03-06 15:30:22.405\u001b[0m | \u001b[1mINFO    \u001b[0m | \u001b[36mtf_chpvk_pv.modeling.train\u001b[0m:\u001b[36mtrain_tree_sis_features\u001b[0m:\u001b[36m81\u001b[0m - \u001b[1mTraining tree model with SISSO features...\u001b[0m\n",
      "Identified expression for t_sisso: ((log(rB_rX_ratio) / log(log_rA_rB_ratio)) / (log_rA_rB_ratio**3))\n",
      "Classification tree accuracy (for t_sisso_309) on the train set: 0.805310.\n",
      "Classification tree accuracy (for t_sisso_309) on the train set (5 fold CV): 0.800773.\n",
      "Classification tree accuracy (for t_sisso_309) on the test set: 0.842105.\n",
      "t_sisso_309 < 7.087222 indicates stable perovskites.\n"
     ]
    },
    {
     "name": "stderr",
     "output_type": "stream",
     "text": [
      "/home/nomad-lanasc/Documents/Diego Garzon/TF-ChPVK-PV/tf_chpvk_pv/modeling/train.py:248: PerformanceWarning: DataFrame is highly fragmented.  This is usually the result of calling `frame.insert` many times, which has poor performance.  Consider joining all columns at once using pd.concat(axis=1) instead. To get a de-fragmented frame, use `newframe = frame.copy()`\n",
      "  df_acc.loc['train_data', t] = acc_train\n"
     ]
    },
    {
     "name": "stdout",
     "output_type": "stream",
     "text": [
      "\u001b[32m2025-03-06 15:30:44.986\u001b[0m | \u001b[1mINFO    \u001b[0m | \u001b[36mtf_chpvk_pv.modeling.train\u001b[0m:\u001b[36mtrain_tree_sis_features\u001b[0m:\u001b[36m81\u001b[0m - \u001b[1mTraining tree model with SISSO features...\u001b[0m\n",
      "Identified expression for t_sisso: (|(|(|rA_rX_ratio - log_rA_rB_ratio|) - (rB_rX_ratio**2)|) - (|(|rB_rX_ratio - log_rA_rB_ratio|) - rA_rX_ratio|)|)\n",
      "Error in /home/nomad-lanasc/Documents/Diego Garzon/TF-ChPVK-PV/data/features_space/features/features/features_sisso_240.csv\n",
      "\u001b[32m2025-03-06 15:31:07.678\u001b[0m | \u001b[1mINFO    \u001b[0m | \u001b[36mtf_chpvk_pv.modeling.train\u001b[0m:\u001b[36mtrain_tree_sis_features\u001b[0m:\u001b[36m81\u001b[0m - \u001b[1mTraining tree model with SISSO features...\u001b[0m\n",
      "Identified expression for t_sisso: (((EA_A * chi_BX_ratio) / log(rB_rX_ratio)) * log((rA_rX_ratio * chi_BX_ratio)))\n",
      "Classification tree accuracy (for t_sisso_268) on the train set: 0.814159.\n",
      "Classification tree accuracy (for t_sisso_268) on the train set (5 fold CV): 0.805314.\n",
      "Classification tree accuracy (for t_sisso_268) on the test set: 0.736842.\n",
      "t_sisso_268 < 0.097597 indicates stable perovskites.\n"
     ]
    },
    {
     "name": "stderr",
     "output_type": "stream",
     "text": [
      "/home/nomad-lanasc/Documents/Diego Garzon/TF-ChPVK-PV/tf_chpvk_pv/modeling/train.py:248: PerformanceWarning: DataFrame is highly fragmented.  This is usually the result of calling `frame.insert` many times, which has poor performance.  Consider joining all columns at once using pd.concat(axis=1) instead. To get a de-fragmented frame, use `newframe = frame.copy()`\n",
      "  df_acc.loc['train_data', t] = acc_train\n"
     ]
    },
    {
     "name": "stdout",
     "output_type": "stream",
     "text": [
      "\u001b[32m2025-03-06 15:31:30.195\u001b[0m | \u001b[1mINFO    \u001b[0m | \u001b[36mtf_chpvk_pv.modeling.train\u001b[0m:\u001b[36mtrain_tree_sis_features\u001b[0m:\u001b[36m81\u001b[0m - \u001b[1mTraining tree model with SISSO features...\u001b[0m\n",
      "Identified expression for t_sisso: (((chi_BX_ratio**3) * (chi_BX_ratio * log_rA_rB_ratio)) * (rB_rX_ratio * chi_BX_ratio))\n",
      "Classification tree accuracy (for t_sisso_285) on the train set: 0.787611.\n",
      "Classification tree accuracy (for t_sisso_285) on the train set (5 fold CV): 0.787729.\n",
      "Classification tree accuracy (for t_sisso_285) on the test set: 0.754386.\n",
      "t_sisso_285 < 1.072620 indicates stable perovskites.\n"
     ]
    },
    {
     "name": "stderr",
     "output_type": "stream",
     "text": [
      "/home/nomad-lanasc/Documents/Diego Garzon/TF-ChPVK-PV/tf_chpvk_pv/modeling/train.py:248: PerformanceWarning: DataFrame is highly fragmented.  This is usually the result of calling `frame.insert` many times, which has poor performance.  Consider joining all columns at once using pd.concat(axis=1) instead. To get a de-fragmented frame, use `newframe = frame.copy()`\n",
      "  df_acc.loc['train_data', t] = acc_train\n"
     ]
    },
    {
     "name": "stdout",
     "output_type": "stream",
     "text": [
      "\u001b[32m2025-03-06 15:31:52.973\u001b[0m | \u001b[1mINFO    \u001b[0m | \u001b[36mtf_chpvk_pv.modeling.train\u001b[0m:\u001b[36mtrain_tree_sis_features\u001b[0m:\u001b[36m81\u001b[0m - \u001b[1mTraining tree model with SISSO features...\u001b[0m\n",
      "Identified expression for t_sisso: (|(|log(rA_rX_ratio) - (|rB_rX_ratio - log_rA_rB_ratio|)|) - (|sqrt(rA_rX_ratio) - sqrt(chi_BX_ratio)|)|)\n",
      "Error in /home/nomad-lanasc/Documents/Diego Garzon/TF-ChPVK-PV/data/features_space/features/features/features_sisso_255.csv\n",
      "\u001b[32m2025-03-06 15:32:15.336\u001b[0m | \u001b[1mINFO    \u001b[0m | \u001b[36mtf_chpvk_pv.modeling.train\u001b[0m:\u001b[36mtrain_tree_sis_features\u001b[0m:\u001b[36m81\u001b[0m - \u001b[1mTraining tree model with SISSO features...\u001b[0m\n",
      "Identified expression for t_sisso: (((rA_rX_ratio * rB_rX_ratio) - (rA_rX_ratio - log_rA_rB_ratio)) * (sqrt(rA_rX_ratio) - sqrt(log_rA_rB_ratio)))\n",
      "Classification tree accuracy (for t_sisso_168) on the train set: 0.840708.\n",
      "Classification tree accuracy (for t_sisso_168) on the train set (5 fold CV): 0.836039.\n",
      "Classification tree accuracy (for t_sisso_168) on the test set: 0.789474.\n",
      "t_sisso_168 < 0.018465 indicates stable perovskites.\n"
     ]
    },
    {
     "name": "stderr",
     "output_type": "stream",
     "text": [
      "/home/nomad-lanasc/Documents/Diego Garzon/TF-ChPVK-PV/tf_chpvk_pv/modeling/train.py:248: PerformanceWarning: DataFrame is highly fragmented.  This is usually the result of calling `frame.insert` many times, which has poor performance.  Consider joining all columns at once using pd.concat(axis=1) instead. To get a de-fragmented frame, use `newframe = frame.copy()`\n",
      "  df_acc.loc['train_data', t] = acc_train\n"
     ]
    },
    {
     "name": "stdout",
     "output_type": "stream",
     "text": [
      "\u001b[32m2025-03-06 15:32:38.049\u001b[0m | \u001b[1mINFO    \u001b[0m | \u001b[36mtf_chpvk_pv.modeling.train\u001b[0m:\u001b[36mtrain_tree_sis_features\u001b[0m:\u001b[36m81\u001b[0m - \u001b[1mTraining tree model with SISSO features...\u001b[0m\n",
      "Identified expression for t_sisso: (|(|(rA_rX_ratio - rB_rX_ratio) - rB_rX_ratio|) - (|(|rB_rX_ratio - log_rA_rB_ratio|) - rA_rX_ratio|)|)\n",
      "Error in /home/nomad-lanasc/Documents/Diego Garzon/TF-ChPVK-PV/data/features_space/features/features/features_sisso_131.csv\n",
      "\u001b[32m2025-03-06 15:33:00.411\u001b[0m | \u001b[1mINFO    \u001b[0m | \u001b[36mtf_chpvk_pv.modeling.train\u001b[0m:\u001b[36mtrain_tree_sis_features\u001b[0m:\u001b[36m81\u001b[0m - \u001b[1mTraining tree model with SISSO features...\u001b[0m\n",
      "Identified expression for t_sisso: ((sqrt(rA_rX_ratio) - log_rA_rB_ratio) - (sqrt(rB_rX_ratio) - sqrt(log_rA_rB_ratio)))\n",
      "Classification tree accuracy (for t_sisso_191) on the train set: 0.840708.\n",
      "Classification tree accuracy (for t_sisso_191) on the train set (5 fold CV): 0.836039.\n",
      "Classification tree accuracy (for t_sisso_191) on the test set: 0.842105.\n",
      "t_sisso_191 < 0.413743 indicates stable perovskites.\n"
     ]
    },
    {
     "name": "stderr",
     "output_type": "stream",
     "text": [
      "/home/nomad-lanasc/Documents/Diego Garzon/TF-ChPVK-PV/tf_chpvk_pv/modeling/train.py:248: PerformanceWarning: DataFrame is highly fragmented.  This is usually the result of calling `frame.insert` many times, which has poor performance.  Consider joining all columns at once using pd.concat(axis=1) instead. To get a de-fragmented frame, use `newframe = frame.copy()`\n",
      "  df_acc.loc['train_data', t] = acc_train\n"
     ]
    },
    {
     "name": "stdout",
     "output_type": "stream",
     "text": [
      "\u001b[32m2025-03-06 15:33:23.161\u001b[0m | \u001b[1mINFO    \u001b[0m | \u001b[36mtf_chpvk_pv.modeling.train\u001b[0m:\u001b[36mtrain_tree_sis_features\u001b[0m:\u001b[36m81\u001b[0m - \u001b[1mTraining tree model with SISSO features...\u001b[0m\n"
     ]
    },
    {
     "name": "stderr",
     "output_type": "stream",
     "text": [
      "/home/nomad-lanasc/.pyenv/lib/python3.11/site-packages/sklearn/utils/_array_api.py:745: RuntimeWarning: overflow encountered in cast\n",
      "  array = numpy.asarray(array, order=order, dtype=dtype)\n",
      "/home/nomad-lanasc/.pyenv/lib/python3.11/site-packages/sklearn/utils/_array_api.py:745: RuntimeWarning: overflow encountered in cast\n",
      "  array = numpy.asarray(array, order=order, dtype=dtype)\n",
      "/home/nomad-lanasc/.pyenv/lib/python3.11/site-packages/sklearn/utils/_array_api.py:745: RuntimeWarning: overflow encountered in cast\n",
      "  array = numpy.asarray(array, order=order, dtype=dtype)\n",
      "/home/nomad-lanasc/.pyenv/lib/python3.11/site-packages/sklearn/utils/_array_api.py:745: RuntimeWarning: overflow encountered in cast\n",
      "  array = numpy.asarray(array, order=order, dtype=dtype)\n",
      "/home/nomad-lanasc/.pyenv/lib/python3.11/site-packages/sklearn/utils/_array_api.py:745: RuntimeWarning: overflow encountered in cast\n",
      "  array = numpy.asarray(array, order=order, dtype=dtype)\n"
     ]
    },
    {
     "name": "stdout",
     "output_type": "stream",
     "text": [
      "Error in /home/nomad-lanasc/Documents/Diego Garzon/TF-ChPVK-PV/data/features_space/features/features/features_sisso_260.csv\n",
      "\u001b[32m2025-03-06 15:33:26.843\u001b[0m | \u001b[1mINFO    \u001b[0m | \u001b[36mtf_chpvk_pv.modeling.train\u001b[0m:\u001b[36mtrain_tree_sis_features\u001b[0m:\u001b[36m81\u001b[0m - \u001b[1mTraining tree model with SISSO features...\u001b[0m\n",
      "Identified expression for t_sisso: (((rA_rX_ratio + rB_rX_ratio) + (rA_rX_ratio + log_rA_rB_ratio)) + ((chi_BX_ratio**3)**3))\n",
      "Classification tree accuracy (for t_sisso_104) on the train set: 0.783186.\n",
      "Classification tree accuracy (for t_sisso_104) on the train set (5 fold CV): 0.783382.\n",
      "Classification tree accuracy (for t_sisso_104) on the test set: 0.754386.\n",
      "t_sisso_104 < 9.868897 indicates stable perovskites.\n"
     ]
    },
    {
     "name": "stderr",
     "output_type": "stream",
     "text": [
      "/home/nomad-lanasc/Documents/Diego Garzon/TF-ChPVK-PV/tf_chpvk_pv/modeling/train.py:248: PerformanceWarning: DataFrame is highly fragmented.  This is usually the result of calling `frame.insert` many times, which has poor performance.  Consider joining all columns at once using pd.concat(axis=1) instead. To get a de-fragmented frame, use `newframe = frame.copy()`\n",
      "  df_acc.loc['train_data', t] = acc_train\n"
     ]
    },
    {
     "name": "stdout",
     "output_type": "stream",
     "text": [
      "\u001b[32m2025-03-06 15:33:49.628\u001b[0m | \u001b[1mINFO    \u001b[0m | \u001b[36mtf_chpvk_pv.modeling.train\u001b[0m:\u001b[36mtrain_tree_sis_features\u001b[0m:\u001b[36m81\u001b[0m - \u001b[1mTraining tree model with SISSO features...\u001b[0m\n",
      "Identified expression for t_sisso: (((rA_rX_ratio - log_rA_rB_ratio) - (log_rA_rB_ratio / rA_rX_ratio)) - ((rB_rX_ratio / log_rA_rB_ratio) + (log_rA_rB_ratio / rA_rX_ratio)))\n",
      "Classification tree accuracy (for t_sisso_19) on the train set: 0.845133.\n",
      "Classification tree accuracy (for t_sisso_19) on the train set (5 fold CV): 0.822899.\n",
      "Classification tree accuracy (for t_sisso_19) on the test set: 0.877193.\n",
      "t_sisso_19 < -1.955215 indicates stable perovskites.\n"
     ]
    },
    {
     "name": "stderr",
     "output_type": "stream",
     "text": [
      "/home/nomad-lanasc/Documents/Diego Garzon/TF-ChPVK-PV/tf_chpvk_pv/modeling/train.py:248: PerformanceWarning: DataFrame is highly fragmented.  This is usually the result of calling `frame.insert` many times, which has poor performance.  Consider joining all columns at once using pd.concat(axis=1) instead. To get a de-fragmented frame, use `newframe = frame.copy()`\n",
      "  df_acc.loc['train_data', t] = acc_train\n"
     ]
    },
    {
     "name": "stdout",
     "output_type": "stream",
     "text": [
      "\u001b[32m2025-03-06 15:34:12.154\u001b[0m | \u001b[1mINFO    \u001b[0m | \u001b[36mtf_chpvk_pv.modeling.train\u001b[0m:\u001b[36mtrain_tree_sis_features\u001b[0m:\u001b[36m81\u001b[0m - \u001b[1mTraining tree model with SISSO features...\u001b[0m\n",
      "Identified expression for t_sisso: ((exp(rA_rX_ratio) - (rA_rX_ratio - log_rA_rB_ratio)) - (|exp(rB_rX_ratio) - exp(log_rA_rB_ratio)|))\n",
      "Classification tree accuracy (for t_sisso_137) on the train set: 0.867257.\n",
      "Classification tree accuracy (for t_sisso_137) on the train set (5 fold CV): 0.866957.\n",
      "Classification tree accuracy (for t_sisso_137) on the test set: 0.877193.\n",
      "t_sisso_137 < 1.849680 indicates stable perovskites.\n"
     ]
    },
    {
     "name": "stderr",
     "output_type": "stream",
     "text": [
      "/home/nomad-lanasc/Documents/Diego Garzon/TF-ChPVK-PV/tf_chpvk_pv/modeling/train.py:248: PerformanceWarning: DataFrame is highly fragmented.  This is usually the result of calling `frame.insert` many times, which has poor performance.  Consider joining all columns at once using pd.concat(axis=1) instead. To get a de-fragmented frame, use `newframe = frame.copy()`\n",
      "  df_acc.loc['train_data', t] = acc_train\n"
     ]
    },
    {
     "name": "stdout",
     "output_type": "stream",
     "text": [
      "\u001b[32m2025-03-06 15:34:34.957\u001b[0m | \u001b[1mINFO    \u001b[0m | \u001b[36mtf_chpvk_pv.modeling.train\u001b[0m:\u001b[36mtrain_tree_sis_features\u001b[0m:\u001b[36m81\u001b[0m - \u001b[1mTraining tree model with SISSO features...\u001b[0m\n",
      "Identified expression for t_sisso: (((EA_A * rB_rX_ratio) * sqrt(chi_BX_ratio)) * log((rA_rX_ratio * chi_BX_ratio)))\n",
      "Classification tree accuracy (for t_sisso_294) on the train set: 0.805310.\n",
      "Classification tree accuracy (for t_sisso_294) on the train set (5 fold CV): 0.805314.\n",
      "Classification tree accuracy (for t_sisso_294) on the test set: 0.719298.\n",
      "t_sisso_294 < -0.042964 indicates stable perovskites.\n"
     ]
    },
    {
     "name": "stderr",
     "output_type": "stream",
     "text": [
      "/home/nomad-lanasc/Documents/Diego Garzon/TF-ChPVK-PV/tf_chpvk_pv/modeling/train.py:248: PerformanceWarning: DataFrame is highly fragmented.  This is usually the result of calling `frame.insert` many times, which has poor performance.  Consider joining all columns at once using pd.concat(axis=1) instead. To get a de-fragmented frame, use `newframe = frame.copy()`\n",
      "  df_acc.loc['train_data', t] = acc_train\n"
     ]
    },
    {
     "name": "stdout",
     "output_type": "stream",
     "text": [
      "\u001b[32m2025-03-06 15:34:57.421\u001b[0m | \u001b[1mINFO    \u001b[0m | \u001b[36mtf_chpvk_pv.modeling.train\u001b[0m:\u001b[36mtrain_tree_sis_features\u001b[0m:\u001b[36m81\u001b[0m - \u001b[1mTraining tree model with SISSO features...\u001b[0m\n",
      "Identified expression for t_sisso: sqrt((|(|rB_rX_ratio - log_rA_rB_ratio|) - rA_rX_ratio|))\n",
      "Error in /home/nomad-lanasc/Documents/Diego Garzon/TF-ChPVK-PV/data/features_space/features/features/features_sisso_247.csv\n",
      "\u001b[32m2025-03-06 15:35:20.651\u001b[0m | \u001b[1mINFO    \u001b[0m | \u001b[36mtf_chpvk_pv.modeling.train\u001b[0m:\u001b[36mtrain_tree_sis_features\u001b[0m:\u001b[36m81\u001b[0m - \u001b[1mTraining tree model with SISSO features...\u001b[0m\n"
     ]
    },
    {
     "name": "stderr",
     "output_type": "stream",
     "text": [
      "/home/nomad-lanasc/.pyenv/lib/python3.11/site-packages/sklearn/utils/_array_api.py:745: RuntimeWarning: overflow encountered in cast\n",
      "  array = numpy.asarray(array, order=order, dtype=dtype)\n",
      "/home/nomad-lanasc/.pyenv/lib/python3.11/site-packages/sklearn/utils/_array_api.py:745: RuntimeWarning: overflow encountered in cast\n",
      "  array = numpy.asarray(array, order=order, dtype=dtype)\n",
      "/home/nomad-lanasc/.pyenv/lib/python3.11/site-packages/sklearn/utils/_array_api.py:745: RuntimeWarning: overflow encountered in cast\n",
      "  array = numpy.asarray(array, order=order, dtype=dtype)\n",
      "/home/nomad-lanasc/.pyenv/lib/python3.11/site-packages/sklearn/utils/_array_api.py:745: RuntimeWarning: overflow encountered in cast\n",
      "  array = numpy.asarray(array, order=order, dtype=dtype)\n",
      "/home/nomad-lanasc/.pyenv/lib/python3.11/site-packages/sklearn/utils/_array_api.py:745: RuntimeWarning: overflow encountered in cast\n",
      "  array = numpy.asarray(array, order=order, dtype=dtype)\n"
     ]
    },
    {
     "name": "stdout",
     "output_type": "stream",
     "text": [
      "Error in /home/nomad-lanasc/Documents/Diego Garzon/TF-ChPVK-PV/data/features_space/features/features/features_sisso_262.csv\n",
      "\u001b[32m2025-03-06 15:35:30.602\u001b[0m | \u001b[1mINFO    \u001b[0m | \u001b[36mtf_chpvk_pv.modeling.train\u001b[0m:\u001b[36mtrain_tree_sis_features\u001b[0m:\u001b[36m81\u001b[0m - \u001b[1mTraining tree model with SISSO features...\u001b[0m\n",
      "Identified expression for t_sisso: (((chi_BX_ratio**3) - (chi_BX_ratio / log_rA_rB_ratio)) - ((log_rA_rB_ratio / rB_rX_ratio) - log_rA_rB_ratio))\n",
      "Classification tree accuracy (for t_sisso_178) on the train set: 0.853982.\n",
      "Classification tree accuracy (for t_sisso_178) on the train set (5 fold CV): 0.853816.\n",
      "Classification tree accuracy (for t_sisso_178) on the test set: 0.859649.\n",
      "t_sisso_178 < -1.511530 indicates stable perovskites.\n"
     ]
    },
    {
     "name": "stderr",
     "output_type": "stream",
     "text": [
      "/home/nomad-lanasc/Documents/Diego Garzon/TF-ChPVK-PV/tf_chpvk_pv/modeling/train.py:248: PerformanceWarning: DataFrame is highly fragmented.  This is usually the result of calling `frame.insert` many times, which has poor performance.  Consider joining all columns at once using pd.concat(axis=1) instead. To get a de-fragmented frame, use `newframe = frame.copy()`\n",
      "  df_acc.loc['train_data', t] = acc_train\n"
     ]
    },
    {
     "name": "stdout",
     "output_type": "stream",
     "text": [
      "\u001b[32m2025-03-06 15:35:53.880\u001b[0m | \u001b[1mINFO    \u001b[0m | \u001b[36mtf_chpvk_pv.modeling.train\u001b[0m:\u001b[36mtrain_tree_sis_features\u001b[0m:\u001b[36m81\u001b[0m - \u001b[1mTraining tree model with SISSO features...\u001b[0m\n",
      "Identified expression for t_sisso: (((1.0 / rB_rX_ratio) + log_rA_rB_ratio) + ((1.0 / log_rA_rB_ratio) + rA_rX_ratio))\n",
      "Classification tree accuracy (for t_sisso_112) on the train set: 0.871681.\n",
      "Classification tree accuracy (for t_sisso_112) on the train set (5 fold CV): 0.862512.\n",
      "Classification tree accuracy (for t_sisso_112) on the test set: 0.877193.\n",
      "t_sisso_112 < 5.321800 indicates stable perovskites.\n"
     ]
    },
    {
     "name": "stderr",
     "output_type": "stream",
     "text": [
      "/home/nomad-lanasc/Documents/Diego Garzon/TF-ChPVK-PV/tf_chpvk_pv/modeling/train.py:248: PerformanceWarning: DataFrame is highly fragmented.  This is usually the result of calling `frame.insert` many times, which has poor performance.  Consider joining all columns at once using pd.concat(axis=1) instead. To get a de-fragmented frame, use `newframe = frame.copy()`\n",
      "  df_acc.loc['train_data', t] = acc_train\n"
     ]
    },
    {
     "name": "stdout",
     "output_type": "stream",
     "text": [
      "\u001b[32m2025-03-06 15:36:16.903\u001b[0m | \u001b[1mINFO    \u001b[0m | \u001b[36mtf_chpvk_pv.modeling.train\u001b[0m:\u001b[36mtrain_tree_sis_features\u001b[0m:\u001b[36m81\u001b[0m - \u001b[1mTraining tree model with SISSO features...\u001b[0m\n",
      "Identified expression for t_sisso: ((exp(rA_rX_ratio) - (rA_rX_ratio - log_rA_rB_ratio)) - (|exp(rB_rX_ratio) - exp(log_rA_rB_ratio)|))\n",
      "Classification tree accuracy (for t_sisso_2) on the train set: 0.867257.\n",
      "Classification tree accuracy (for t_sisso_2) on the train set (5 fold CV): 0.866957.\n",
      "Classification tree accuracy (for t_sisso_2) on the test set: 0.877193.\n",
      "t_sisso_2 < 1.849680 indicates stable perovskites.\n"
     ]
    },
    {
     "name": "stderr",
     "output_type": "stream",
     "text": [
      "/home/nomad-lanasc/Documents/Diego Garzon/TF-ChPVK-PV/tf_chpvk_pv/modeling/train.py:248: PerformanceWarning: DataFrame is highly fragmented.  This is usually the result of calling `frame.insert` many times, which has poor performance.  Consider joining all columns at once using pd.concat(axis=1) instead. To get a de-fragmented frame, use `newframe = frame.copy()`\n",
      "  df_acc.loc['train_data', t] = acc_train\n"
     ]
    },
    {
     "name": "stdout",
     "output_type": "stream",
     "text": [
      "\u001b[32m2025-03-06 15:36:40.202\u001b[0m | \u001b[1mINFO    \u001b[0m | \u001b[36mtf_chpvk_pv.modeling.train\u001b[0m:\u001b[36mtrain_tree_sis_features\u001b[0m:\u001b[36m81\u001b[0m - \u001b[1mTraining tree model with SISSO features...\u001b[0m\n",
      "Identified expression for t_sisso: (((rA_rX_ratio * rB_rX_ratio) * (|rA_rX_ratio - chi_BX_ratio|)) + (|(|rB_rX_ratio - log_rA_rB_ratio|) - (rB_rX_ratio + log_rA_rB_ratio)|))\n",
      "Error in /home/nomad-lanasc/Documents/Diego Garzon/TF-ChPVK-PV/data/features_space/features/features/features_sisso_41.csv\n",
      "\u001b[32m2025-03-06 15:37:03.131\u001b[0m | \u001b[1mINFO    \u001b[0m | \u001b[36mtf_chpvk_pv.modeling.train\u001b[0m:\u001b[36mtrain_tree_sis_features\u001b[0m:\u001b[36m81\u001b[0m - \u001b[1mTraining tree model with SISSO features...\u001b[0m\n",
      "Identified expression for t_sisso: (|(log(log_rA_rB_ratio)**3) - (|exp(log_rA_rB_ratio) - rA_rX_ratio|)|)\n",
      "Error in /home/nomad-lanasc/Documents/Diego Garzon/TF-ChPVK-PV/data/features_space/features/features/features_sisso_248.csv\n",
      "\u001b[32m2025-03-06 15:37:26.370\u001b[0m | \u001b[1mINFO    \u001b[0m | \u001b[36mtf_chpvk_pv.modeling.train\u001b[0m:\u001b[36mtrain_tree_sis_features\u001b[0m:\u001b[36m81\u001b[0m - \u001b[1mTraining tree model with SISSO features...\u001b[0m\n",
      "Identified expression for t_sisso: (|(|log(rA_rX_ratio) - (|rB_rX_ratio - log_rA_rB_ratio|)|) - (|sqrt(rA_rX_ratio) - sqrt(chi_BX_ratio)|)|)\n",
      "Error in /home/nomad-lanasc/Documents/Diego Garzon/TF-ChPVK-PV/data/features_space/features/features/features_sisso_249.csv\n",
      "\u001b[32m2025-03-06 15:37:49.271\u001b[0m | \u001b[1mINFO    \u001b[0m | \u001b[36mtf_chpvk_pv.modeling.train\u001b[0m:\u001b[36mtrain_tree_sis_features\u001b[0m:\u001b[36m81\u001b[0m - \u001b[1mTraining tree model with SISSO features...\u001b[0m\n",
      "Identified expression for t_sisso: (((1.0 / rB_rX_ratio) + (rB_rX_ratio * log_rA_rB_ratio)) + ((1.0 / log_rA_rB_ratio) + rA_rX_ratio))\n",
      "Classification tree accuracy (for t_sisso_75) on the train set: 0.800885.\n",
      "Classification tree accuracy (for t_sisso_75) on the train set (5 fold CV): 0.783285.\n",
      "Classification tree accuracy (for t_sisso_75) on the test set: 0.771930.\n",
      "t_sisso_75 < 5.023425 indicates stable perovskites.\n"
     ]
    },
    {
     "name": "stderr",
     "output_type": "stream",
     "text": [
      "/home/nomad-lanasc/Documents/Diego Garzon/TF-ChPVK-PV/tf_chpvk_pv/modeling/train.py:248: PerformanceWarning: DataFrame is highly fragmented.  This is usually the result of calling `frame.insert` many times, which has poor performance.  Consider joining all columns at once using pd.concat(axis=1) instead. To get a de-fragmented frame, use `newframe = frame.copy()`\n",
      "  df_acc.loc['train_data', t] = acc_train\n"
     ]
    },
    {
     "name": "stdout",
     "output_type": "stream",
     "text": [
      "\u001b[32m2025-03-06 15:38:12.521\u001b[0m | \u001b[1mINFO    \u001b[0m | \u001b[36mtf_chpvk_pv.modeling.train\u001b[0m:\u001b[36mtrain_tree_sis_features\u001b[0m:\u001b[36m81\u001b[0m - \u001b[1mTraining tree model with SISSO features...\u001b[0m\n",
      "Identified expression for t_sisso: (((rA_rX_ratio - log_rA_rB_ratio) - (log_rA_rB_ratio / rA_rX_ratio)) - ((rB_rX_ratio / log_rA_rB_ratio) + (log_rA_rB_ratio / rA_rX_ratio)))\n",
      "Classification tree accuracy (for t_sisso_16) on the train set: 0.845133.\n",
      "Classification tree accuracy (for t_sisso_16) on the train set (5 fold CV): 0.822899.\n",
      "Classification tree accuracy (for t_sisso_16) on the test set: 0.877193.\n",
      "t_sisso_16 < -1.955215 indicates stable perovskites.\n"
     ]
    },
    {
     "name": "stderr",
     "output_type": "stream",
     "text": [
      "/home/nomad-lanasc/Documents/Diego Garzon/TF-ChPVK-PV/tf_chpvk_pv/modeling/train.py:248: PerformanceWarning: DataFrame is highly fragmented.  This is usually the result of calling `frame.insert` many times, which has poor performance.  Consider joining all columns at once using pd.concat(axis=1) instead. To get a de-fragmented frame, use `newframe = frame.copy()`\n",
      "  df_acc.loc['train_data', t] = acc_train\n"
     ]
    },
    {
     "name": "stdout",
     "output_type": "stream",
     "text": [
      "\u001b[32m2025-03-06 15:38:35.532\u001b[0m | \u001b[1mINFO    \u001b[0m | \u001b[36mtf_chpvk_pv.modeling.train\u001b[0m:\u001b[36mtrain_tree_sis_features\u001b[0m:\u001b[36m81\u001b[0m - \u001b[1mTraining tree model with SISSO features...\u001b[0m\n",
      "Identified expression for t_sisso: (((rA_rX_ratio / log_rA_rB_ratio) + (log_rA_rB_ratio / chi_BX_ratio)) / ((rA_rX_ratio + rB_rX_ratio) + (rB_rX_ratio / chi_BX_ratio)))\n",
      "Classification tree accuracy (for t_sisso_91) on the train set: 0.840708.\n",
      "Classification tree accuracy (for t_sisso_91) on the train set (5 fold CV): 0.831884.\n",
      "Classification tree accuracy (for t_sisso_91) on the test set: 0.859649.\n",
      "t_sisso_91 < 1.151516 indicates stable perovskites.\n"
     ]
    },
    {
     "name": "stderr",
     "output_type": "stream",
     "text": [
      "/home/nomad-lanasc/Documents/Diego Garzon/TF-ChPVK-PV/tf_chpvk_pv/modeling/train.py:248: PerformanceWarning: DataFrame is highly fragmented.  This is usually the result of calling `frame.insert` many times, which has poor performance.  Consider joining all columns at once using pd.concat(axis=1) instead. To get a de-fragmented frame, use `newframe = frame.copy()`\n",
      "  df_acc.loc['train_data', t] = acc_train\n"
     ]
    },
    {
     "name": "stdout",
     "output_type": "stream",
     "text": [
      "\u001b[32m2025-03-06 15:38:58.922\u001b[0m | \u001b[1mINFO    \u001b[0m | \u001b[36mtf_chpvk_pv.modeling.train\u001b[0m:\u001b[36mtrain_tree_sis_features\u001b[0m:\u001b[36m81\u001b[0m - \u001b[1mTraining tree model with SISSO features...\u001b[0m\n",
      "Identified expression for t_sisso: (((chi_BX_ratio**3) - (chi_BX_ratio / log_rA_rB_ratio)) - (|(log_rA_rB_ratio / rB_rX_ratio) - log_rA_rB_ratio|))\n",
      "Classification tree accuracy (for t_sisso_130) on the train set: 0.853982.\n",
      "Classification tree accuracy (for t_sisso_130) on the train set (5 fold CV): 0.853816.\n",
      "Classification tree accuracy (for t_sisso_130) on the test set: 0.859649.\n",
      "t_sisso_130 < -1.511530 indicates stable perovskites.\n"
     ]
    },
    {
     "name": "stderr",
     "output_type": "stream",
     "text": [
      "/home/nomad-lanasc/Documents/Diego Garzon/TF-ChPVK-PV/tf_chpvk_pv/modeling/train.py:248: PerformanceWarning: DataFrame is highly fragmented.  This is usually the result of calling `frame.insert` many times, which has poor performance.  Consider joining all columns at once using pd.concat(axis=1) instead. To get a de-fragmented frame, use `newframe = frame.copy()`\n",
      "  df_acc.loc['train_data', t] = acc_train\n"
     ]
    },
    {
     "name": "stdout",
     "output_type": "stream",
     "text": [
      "\u001b[32m2025-03-06 15:39:21.962\u001b[0m | \u001b[1mINFO    \u001b[0m | \u001b[36mtf_chpvk_pv.modeling.train\u001b[0m:\u001b[36mtrain_tree_sis_features\u001b[0m:\u001b[36m81\u001b[0m - \u001b[1mTraining tree model with SISSO features...\u001b[0m\n",
      "Identified expression for t_sisso: (((rA_rX_ratio + log_rA_rB_ratio) + (rB_rX_ratio + log_rA_rB_ratio)) * log((rB_rX_ratio * log_rA_rB_ratio)))\n",
      "Classification tree accuracy (for t_sisso_78) on the train set: 0.827434.\n",
      "Classification tree accuracy (for t_sisso_78) on the train set (5 fold CV): 0.822705.\n",
      "Classification tree accuracy (for t_sisso_78) on the test set: 0.807018.\n",
      "t_sisso_78 < -3.214773 indicates stable perovskites.\n"
     ]
    },
    {
     "name": "stderr",
     "output_type": "stream",
     "text": [
      "/home/nomad-lanasc/Documents/Diego Garzon/TF-ChPVK-PV/tf_chpvk_pv/modeling/train.py:248: PerformanceWarning: DataFrame is highly fragmented.  This is usually the result of calling `frame.insert` many times, which has poor performance.  Consider joining all columns at once using pd.concat(axis=1) instead. To get a de-fragmented frame, use `newframe = frame.copy()`\n",
      "  df_acc.loc['train_data', t] = acc_train\n"
     ]
    },
    {
     "name": "stdout",
     "output_type": "stream",
     "text": [
      "\u001b[32m2025-03-06 15:39:45.553\u001b[0m | \u001b[1mINFO    \u001b[0m | \u001b[36mtf_chpvk_pv.modeling.train\u001b[0m:\u001b[36mtrain_tree_sis_features\u001b[0m:\u001b[36m81\u001b[0m - \u001b[1mTraining tree model with SISSO features...\u001b[0m\n",
      "Identified expression for t_sisso: (|((rA_rX_ratio * rB_rX_ratio) * (rB_rX_ratio**2)) - (|(rA_rX_ratio**2) - (|rB_rX_ratio - log_rA_rB_ratio|)|)|)\n",
      "Error in /home/nomad-lanasc/Documents/Diego Garzon/TF-ChPVK-PV/data/features_space/features/features/features_sisso_206.csv\n",
      "\u001b[32m2025-03-06 15:40:08.853\u001b[0m | \u001b[1mINFO    \u001b[0m | \u001b[36mtf_chpvk_pv.modeling.train\u001b[0m:\u001b[36mtrain_tree_sis_features\u001b[0m:\u001b[36m81\u001b[0m - \u001b[1mTraining tree model with SISSO features...\u001b[0m\n",
      "Identified expression for t_sisso: (1.0 / (|(|rB_rX_ratio - log_rA_rB_ratio|) - rA_rX_ratio|))\n",
      "Error in /home/nomad-lanasc/Documents/Diego Garzon/TF-ChPVK-PV/data/features_space/features/features/features_sisso_241.csv\n",
      "\u001b[32m2025-03-06 15:40:31.984\u001b[0m | \u001b[1mINFO    \u001b[0m | \u001b[36mtf_chpvk_pv.modeling.train\u001b[0m:\u001b[36mtrain_tree_sis_features\u001b[0m:\u001b[36m81\u001b[0m - \u001b[1mTraining tree model with SISSO features...\u001b[0m\n",
      "Identified expression for t_sisso: (exp((1.0 / rB_rX_ratio)) * exp((1.0 / log_rA_rB_ratio)))\n",
      "Classification tree accuracy (for t_sisso_275) on the train set: 0.814159.\n",
      "Classification tree accuracy (for t_sisso_275) on the train set (5 fold CV): 0.814106.\n",
      "Classification tree accuracy (for t_sisso_275) on the test set: 0.771930.\n",
      "t_sisso_275 < 46.304499 indicates stable perovskites.\n"
     ]
    },
    {
     "name": "stderr",
     "output_type": "stream",
     "text": [
      "/home/nomad-lanasc/Documents/Diego Garzon/TF-ChPVK-PV/tf_chpvk_pv/modeling/train.py:248: PerformanceWarning: DataFrame is highly fragmented.  This is usually the result of calling `frame.insert` many times, which has poor performance.  Consider joining all columns at once using pd.concat(axis=1) instead. To get a de-fragmented frame, use `newframe = frame.copy()`\n",
      "  df_acc.loc['train_data', t] = acc_train\n"
     ]
    },
    {
     "name": "stdout",
     "output_type": "stream",
     "text": [
      "\u001b[32m2025-03-06 15:40:54.876\u001b[0m | \u001b[1mINFO    \u001b[0m | \u001b[36mtf_chpvk_pv.modeling.train\u001b[0m:\u001b[36mtrain_tree_sis_features\u001b[0m:\u001b[36m81\u001b[0m - \u001b[1mTraining tree model with SISSO features...\u001b[0m\n",
      "Identified expression for t_sisso: (((rA_rX_ratio * log_rA_rB_ratio) - exp(log_rA_rB_ratio)) * ((|rB_rX_ratio - log_rA_rB_ratio|) - rA_rX_ratio))\n",
      "Classification tree accuracy (for t_sisso_121) on the train set: 0.858407.\n",
      "Classification tree accuracy (for t_sisso_121) on the train set (5 fold CV): 0.858068.\n",
      "Classification tree accuracy (for t_sisso_121) on the test set: 0.894737.\n",
      "t_sisso_121 < 0.925551 indicates stable perovskites.\n"
     ]
    },
    {
     "name": "stderr",
     "output_type": "stream",
     "text": [
      "/home/nomad-lanasc/Documents/Diego Garzon/TF-ChPVK-PV/tf_chpvk_pv/modeling/train.py:248: PerformanceWarning: DataFrame is highly fragmented.  This is usually the result of calling `frame.insert` many times, which has poor performance.  Consider joining all columns at once using pd.concat(axis=1) instead. To get a de-fragmented frame, use `newframe = frame.copy()`\n",
      "  df_acc.loc['train_data', t] = acc_train\n"
     ]
    },
    {
     "name": "stdout",
     "output_type": "stream",
     "text": [
      "\u001b[32m2025-03-06 15:41:18.023\u001b[0m | \u001b[1mINFO    \u001b[0m | \u001b[36mtf_chpvk_pv.modeling.train\u001b[0m:\u001b[36mtrain_tree_sis_features\u001b[0m:\u001b[36m81\u001b[0m - \u001b[1mTraining tree model with SISSO features...\u001b[0m\n",
      "Identified expression for t_sisso: (((rA_rX_ratio * log_rA_rB_ratio) * rB_rX_ratio) + ((chi_BX_ratio**3) + (1.0 / chi_BX_ratio)))\n",
      "Classification tree accuracy (for t_sisso_76) on the train set: 0.787611.\n",
      "Classification tree accuracy (for t_sisso_76) on the train set (5 fold CV): 0.787826.\n",
      "Classification tree accuracy (for t_sisso_76) on the test set: 0.736842.\n",
      "t_sisso_76 < 3.109661 indicates stable perovskites.\n"
     ]
    },
    {
     "name": "stderr",
     "output_type": "stream",
     "text": [
      "/home/nomad-lanasc/Documents/Diego Garzon/TF-ChPVK-PV/tf_chpvk_pv/modeling/train.py:248: PerformanceWarning: DataFrame is highly fragmented.  This is usually the result of calling `frame.insert` many times, which has poor performance.  Consider joining all columns at once using pd.concat(axis=1) instead. To get a de-fragmented frame, use `newframe = frame.copy()`\n",
      "  df_acc.loc['train_data', t] = acc_train\n"
     ]
    },
    {
     "name": "stdout",
     "output_type": "stream",
     "text": [
      "\u001b[32m2025-03-06 15:41:40.920\u001b[0m | \u001b[1mINFO    \u001b[0m | \u001b[36mtf_chpvk_pv.modeling.train\u001b[0m:\u001b[36mtrain_tree_sis_features\u001b[0m:\u001b[36m81\u001b[0m - \u001b[1mTraining tree model with SISSO features...\u001b[0m\n",
      "Identified expression for t_sisso: (((rA_rX_ratio / rB_rX_ratio) / sqrt(rB_rX_ratio)) / log_rA_rB_ratio)\n",
      "Classification tree accuracy (for t_sisso_308) on the train set: 0.805310.\n",
      "Classification tree accuracy (for t_sisso_308) on the train set (5 fold CV): 0.796425.\n",
      "Classification tree accuracy (for t_sisso_308) on the test set: 0.771930.\n",
      "t_sisso_308 < 4.470306 indicates stable perovskites.\n"
     ]
    },
    {
     "name": "stderr",
     "output_type": "stream",
     "text": [
      "/home/nomad-lanasc/Documents/Diego Garzon/TF-ChPVK-PV/tf_chpvk_pv/modeling/train.py:248: PerformanceWarning: DataFrame is highly fragmented.  This is usually the result of calling `frame.insert` many times, which has poor performance.  Consider joining all columns at once using pd.concat(axis=1) instead. To get a de-fragmented frame, use `newframe = frame.copy()`\n",
      "  df_acc.loc['train_data', t] = acc_train\n"
     ]
    },
    {
     "name": "stdout",
     "output_type": "stream",
     "text": [
      "\u001b[32m2025-03-06 15:42:04.057\u001b[0m | \u001b[1mINFO    \u001b[0m | \u001b[36mtf_chpvk_pv.modeling.train\u001b[0m:\u001b[36mtrain_tree_sis_features\u001b[0m:\u001b[36m81\u001b[0m - \u001b[1mTraining tree model with SISSO features...\u001b[0m\n",
      "Identified expression for t_sisso: ((|log(rB_rX_ratio) - rA_rX_ratio|) * (|(|rB_rX_ratio - log_rA_rB_ratio|) - rA_rX_ratio|))\n",
      "Error in /home/nomad-lanasc/Documents/Diego Garzon/TF-ChPVK-PV/data/features_space/features/features/features_sisso_218.csv\n",
      "\u001b[32m2025-03-06 15:42:26.853\u001b[0m | \u001b[1mINFO    \u001b[0m | \u001b[36mtf_chpvk_pv.modeling.train\u001b[0m:\u001b[36mtrain_tree_sis_features\u001b[0m:\u001b[36m81\u001b[0m - \u001b[1mTraining tree model with SISSO features...\u001b[0m\n",
      "Identified expression for t_sisso: (((EA_A * chi_BX_ratio) * sqrt(rB_rX_ratio)) * log((rA_rX_ratio * chi_BX_ratio)))\n",
      "Classification tree accuracy (for t_sisso_274) on the train set: 0.805310.\n",
      "Classification tree accuracy (for t_sisso_274) on the train set (5 fold CV): 0.800966.\n",
      "Classification tree accuracy (for t_sisso_274) on the test set: 0.736842.\n",
      "t_sisso_274 < -0.048670 indicates stable perovskites.\n"
     ]
    },
    {
     "name": "stderr",
     "output_type": "stream",
     "text": [
      "/home/nomad-lanasc/Documents/Diego Garzon/TF-ChPVK-PV/tf_chpvk_pv/modeling/train.py:248: PerformanceWarning: DataFrame is highly fragmented.  This is usually the result of calling `frame.insert` many times, which has poor performance.  Consider joining all columns at once using pd.concat(axis=1) instead. To get a de-fragmented frame, use `newframe = frame.copy()`\n",
      "  df_acc.loc['train_data', t] = acc_train\n"
     ]
    },
    {
     "name": "stdout",
     "output_type": "stream",
     "text": [
      "\u001b[32m2025-03-06 15:42:50.068\u001b[0m | \u001b[1mINFO    \u001b[0m | \u001b[36mtf_chpvk_pv.modeling.train\u001b[0m:\u001b[36mtrain_tree_sis_features\u001b[0m:\u001b[36m81\u001b[0m - \u001b[1mTraining tree model with SISSO features...\u001b[0m\n",
      "Identified expression for t_sisso: (((rB_rX_ratio / log_rA_rB_ratio) + exp(log_rA_rB_ratio)) / (exp(rA_rX_ratio) + (rB_rX_ratio / rA_rX_ratio)))\n",
      "Classification tree accuracy (for t_sisso_88) on the train set: 0.862832.\n",
      "Classification tree accuracy (for t_sisso_88) on the train set (5 fold CV): 0.858164.\n",
      "Classification tree accuracy (for t_sisso_88) on the test set: 0.842105.\n",
      "t_sisso_88 < 0.915715 indicates stable perovskites.\n"
     ]
    },
    {
     "name": "stderr",
     "output_type": "stream",
     "text": [
      "/home/nomad-lanasc/Documents/Diego Garzon/TF-ChPVK-PV/tf_chpvk_pv/modeling/train.py:248: PerformanceWarning: DataFrame is highly fragmented.  This is usually the result of calling `frame.insert` many times, which has poor performance.  Consider joining all columns at once using pd.concat(axis=1) instead. To get a de-fragmented frame, use `newframe = frame.copy()`\n",
      "  df_acc.loc['train_data', t] = acc_train\n"
     ]
    },
    {
     "name": "stdout",
     "output_type": "stream",
     "text": [
      "\u001b[32m2025-03-06 15:43:12.972\u001b[0m | \u001b[1mINFO    \u001b[0m | \u001b[36mtf_chpvk_pv.modeling.train\u001b[0m:\u001b[36mtrain_tree_sis_features\u001b[0m:\u001b[36m81\u001b[0m - \u001b[1mTraining tree model with SISSO features...\u001b[0m\n",
      "Identified expression for t_sisso: (|(|(1.0 / rA_rX_ratio) - (log_rA_rB_ratio**2)|) - ((1.0 / rB_rX_ratio) + (1.0 / log_rA_rB_ratio))|)\n",
      "Error in /home/nomad-lanasc/Documents/Diego Garzon/TF-ChPVK-PV/data/features_space/features/features/features_sisso_54.csv\n",
      "\u001b[32m2025-03-06 15:43:36.133\u001b[0m | \u001b[1mINFO    \u001b[0m | \u001b[36mtf_chpvk_pv.modeling.train\u001b[0m:\u001b[36mtrain_tree_sis_features\u001b[0m:\u001b[36m81\u001b[0m - \u001b[1mTraining tree model with SISSO features...\u001b[0m\n",
      "Identified expression for t_sisso: (((rA_rX_ratio * log_rA_rB_ratio) * log(log_rA_rB_ratio)) * log_rA_rB_ratio)\n",
      "Classification tree accuracy (for t_sisso_287) on the train set: 0.858407.\n",
      "Classification tree accuracy (for t_sisso_287) on the train set (5 fold CV): 0.849179.\n",
      "Classification tree accuracy (for t_sisso_287) on the test set: 0.842105.\n",
      "t_sisso_287 < -0.146395 indicates stable perovskites.\n"
     ]
    },
    {
     "name": "stderr",
     "output_type": "stream",
     "text": [
      "/home/nomad-lanasc/Documents/Diego Garzon/TF-ChPVK-PV/tf_chpvk_pv/modeling/train.py:248: PerformanceWarning: DataFrame is highly fragmented.  This is usually the result of calling `frame.insert` many times, which has poor performance.  Consider joining all columns at once using pd.concat(axis=1) instead. To get a de-fragmented frame, use `newframe = frame.copy()`\n",
      "  df_acc.loc['train_data', t] = acc_train\n"
     ]
    },
    {
     "name": "stdout",
     "output_type": "stream",
     "text": [
      "\u001b[32m2025-03-06 15:43:59.127\u001b[0m | \u001b[1mINFO    \u001b[0m | \u001b[36mtf_chpvk_pv.modeling.train\u001b[0m:\u001b[36mtrain_tree_sis_features\u001b[0m:\u001b[36m81\u001b[0m - \u001b[1mTraining tree model with SISSO features...\u001b[0m\n",
      "Identified expression for t_sisso: (((1.0 / rB_rX_ratio) + rA_rX_ratio) + ((1.0 / log_rA_rB_ratio) + log_rA_rB_ratio))\n",
      "Classification tree accuracy (for t_sisso_102) on the train set: 0.871681.\n",
      "Classification tree accuracy (for t_sisso_102) on the train set (5 fold CV): 0.862512.\n",
      "Classification tree accuracy (for t_sisso_102) on the test set: 0.877193.\n",
      "t_sisso_102 < 5.321800 indicates stable perovskites.\n"
     ]
    },
    {
     "name": "stderr",
     "output_type": "stream",
     "text": [
      "/home/nomad-lanasc/Documents/Diego Garzon/TF-ChPVK-PV/tf_chpvk_pv/modeling/train.py:248: PerformanceWarning: DataFrame is highly fragmented.  This is usually the result of calling `frame.insert` many times, which has poor performance.  Consider joining all columns at once using pd.concat(axis=1) instead. To get a de-fragmented frame, use `newframe = frame.copy()`\n",
      "  df_acc.loc['train_data', t] = acc_train\n"
     ]
    },
    {
     "name": "stdout",
     "output_type": "stream",
     "text": [
      "\u001b[32m2025-03-06 15:44:22.478\u001b[0m | \u001b[1mINFO    \u001b[0m | \u001b[36mtf_chpvk_pv.modeling.train\u001b[0m:\u001b[36mtrain_tree_sis_features\u001b[0m:\u001b[36m81\u001b[0m - \u001b[1mTraining tree model with SISSO features...\u001b[0m\n",
      "Identified expression for t_sisso: ((log(rB_rX_ratio) - log_rA_rB_ratio) + (log(log_rA_rB_ratio)**3))\n",
      "Classification tree accuracy (for t_sisso_34) on the train set: 0.858407.\n",
      "Classification tree accuracy (for t_sisso_34) on the train set (5 fold CV): 0.849275.\n",
      "Classification tree accuracy (for t_sisso_34) on the test set: 0.842105.\n",
      "t_sisso_34 < -1.534128 indicates stable perovskites.\n"
     ]
    },
    {
     "name": "stderr",
     "output_type": "stream",
     "text": [
      "/home/nomad-lanasc/Documents/Diego Garzon/TF-ChPVK-PV/tf_chpvk_pv/modeling/train.py:248: PerformanceWarning: DataFrame is highly fragmented.  This is usually the result of calling `frame.insert` many times, which has poor performance.  Consider joining all columns at once using pd.concat(axis=1) instead. To get a de-fragmented frame, use `newframe = frame.copy()`\n",
      "  df_acc.loc['train_data', t] = acc_train\n"
     ]
    },
    {
     "name": "stdout",
     "output_type": "stream",
     "text": [
      "\u001b[32m2025-03-06 15:44:45.518\u001b[0m | \u001b[1mINFO    \u001b[0m | \u001b[36mtf_chpvk_pv.modeling.train\u001b[0m:\u001b[36mtrain_tree_sis_features\u001b[0m:\u001b[36m81\u001b[0m - \u001b[1mTraining tree model with SISSO features...\u001b[0m\n",
      "Identified expression for t_sisso: (((rA_rX_ratio / log_rA_rB_ratio) / exp(rB_rX_ratio)) - ((rA_rX_ratio - log_rA_rB_ratio) / rA_rX_ratio))\n",
      "Classification tree accuracy (for t_sisso_170) on the train set: 0.858407.\n",
      "Classification tree accuracy (for t_sisso_170) on the train set (5 fold CV): 0.849275.\n",
      "Classification tree accuracy (for t_sisso_170) on the test set: 0.877193.\n",
      "t_sisso_170 < 0.606103 indicates stable perovskites.\n"
     ]
    },
    {
     "name": "stderr",
     "output_type": "stream",
     "text": [
      "/home/nomad-lanasc/Documents/Diego Garzon/TF-ChPVK-PV/tf_chpvk_pv/modeling/train.py:248: PerformanceWarning: DataFrame is highly fragmented.  This is usually the result of calling `frame.insert` many times, which has poor performance.  Consider joining all columns at once using pd.concat(axis=1) instead. To get a de-fragmented frame, use `newframe = frame.copy()`\n",
      "  df_acc.loc['train_data', t] = acc_train\n"
     ]
    },
    {
     "name": "stdout",
     "output_type": "stream",
     "text": [
      "\u001b[32m2025-03-06 15:45:08.750\u001b[0m | \u001b[1mINFO    \u001b[0m | \u001b[36mtf_chpvk_pv.modeling.train\u001b[0m:\u001b[36mtrain_tree_sis_features\u001b[0m:\u001b[36m81\u001b[0m - \u001b[1mTraining tree model with SISSO features...\u001b[0m\n",
      "Identified expression for t_sisso: (((rA_rX_ratio - rB_rX_ratio) - rB_rX_ratio) - ((rB_rX_ratio - log_rA_rB_ratio) - (1.0 / log_rA_rB_ratio)))\n",
      "Classification tree accuracy (for t_sisso_194) on the train set: 0.840708.\n",
      "Classification tree accuracy (for t_sisso_194) on the train set (5 fold CV): 0.840580.\n",
      "Classification tree accuracy (for t_sisso_194) on the test set: 0.842105.\n",
      "t_sisso_194 < 1.711579 indicates stable perovskites.\n"
     ]
    },
    {
     "name": "stderr",
     "output_type": "stream",
     "text": [
      "/home/nomad-lanasc/Documents/Diego Garzon/TF-ChPVK-PV/tf_chpvk_pv/modeling/train.py:248: PerformanceWarning: DataFrame is highly fragmented.  This is usually the result of calling `frame.insert` many times, which has poor performance.  Consider joining all columns at once using pd.concat(axis=1) instead. To get a de-fragmented frame, use `newframe = frame.copy()`\n",
      "  df_acc.loc['train_data', t] = acc_train\n"
     ]
    },
    {
     "name": "stdout",
     "output_type": "stream",
     "text": [
      "\u001b[32m2025-03-06 15:45:31.624\u001b[0m | \u001b[1mINFO    \u001b[0m | \u001b[36mtf_chpvk_pv.modeling.train\u001b[0m:\u001b[36mtrain_tree_sis_features\u001b[0m:\u001b[36m81\u001b[0m - \u001b[1mTraining tree model with SISSO features...\u001b[0m\n",
      "Identified expression for t_sisso: (((chi_BX_ratio**2) - (chi_BX_ratio / log_rA_rB_ratio)) - (sqrt(log_rA_rB_ratio) / rB_rX_ratio))\n",
      "Classification tree accuracy (for t_sisso_179) on the train set: 0.862832.\n",
      "Classification tree accuracy (for t_sisso_179) on the train set (5 fold CV): 0.858261.\n",
      "Classification tree accuracy (for t_sisso_179) on the test set: 0.877193.\n",
      "t_sisso_179 < -2.380380 indicates stable perovskites.\n"
     ]
    },
    {
     "name": "stderr",
     "output_type": "stream",
     "text": [
      "/home/nomad-lanasc/Documents/Diego Garzon/TF-ChPVK-PV/tf_chpvk_pv/modeling/train.py:248: PerformanceWarning: DataFrame is highly fragmented.  This is usually the result of calling `frame.insert` many times, which has poor performance.  Consider joining all columns at once using pd.concat(axis=1) instead. To get a de-fragmented frame, use `newframe = frame.copy()`\n",
      "  df_acc.loc['train_data', t] = acc_train\n"
     ]
    },
    {
     "name": "stdout",
     "output_type": "stream",
     "text": [
      "\u001b[32m2025-03-06 15:45:54.871\u001b[0m | \u001b[1mINFO    \u001b[0m | \u001b[36mtf_chpvk_pv.modeling.train\u001b[0m:\u001b[36mtrain_tree_sis_features\u001b[0m:\u001b[36m81\u001b[0m - \u001b[1mTraining tree model with SISSO features...\u001b[0m\n",
      "Identified expression for t_sisso: (exp((1.0 / rB_rX_ratio)) * exp((1.0 / log_rA_rB_ratio)))\n",
      "Classification tree accuracy (for t_sisso_277) on the train set: 0.814159.\n",
      "Classification tree accuracy (for t_sisso_277) on the train set (5 fold CV): 0.814106.\n",
      "Classification tree accuracy (for t_sisso_277) on the test set: 0.771930.\n",
      "t_sisso_277 < 46.304499 indicates stable perovskites.\n"
     ]
    },
    {
     "name": "stderr",
     "output_type": "stream",
     "text": [
      "/home/nomad-lanasc/Documents/Diego Garzon/TF-ChPVK-PV/tf_chpvk_pv/modeling/train.py:248: PerformanceWarning: DataFrame is highly fragmented.  This is usually the result of calling `frame.insert` many times, which has poor performance.  Consider joining all columns at once using pd.concat(axis=1) instead. To get a de-fragmented frame, use `newframe = frame.copy()`\n",
      "  df_acc.loc['train_data', t] = acc_train\n"
     ]
    },
    {
     "name": "stdout",
     "output_type": "stream",
     "text": [
      "\u001b[32m2025-03-06 15:46:17.852\u001b[0m | \u001b[1mINFO    \u001b[0m | \u001b[36mtf_chpvk_pv.modeling.train\u001b[0m:\u001b[36mtrain_tree_sis_features\u001b[0m:\u001b[36m81\u001b[0m - \u001b[1mTraining tree model with SISSO features...\u001b[0m\n",
      "Identified expression for t_sisso: (((rA_rX_ratio * log_rA_rB_ratio) - exp(log_rA_rB_ratio)) - (exp(rB_rX_ratio) - rA_rX_ratio))\n",
      "Classification tree accuracy (for t_sisso_9) on the train set: 0.840708.\n",
      "Classification tree accuracy (for t_sisso_9) on the train set (5 fold CV): 0.818551.\n",
      "Classification tree accuracy (for t_sisso_9) on the test set: 0.842105.\n",
      "t_sisso_9 < -2.062076 indicates stable perovskites.\n"
     ]
    },
    {
     "name": "stderr",
     "output_type": "stream",
     "text": [
      "/home/nomad-lanasc/Documents/Diego Garzon/TF-ChPVK-PV/tf_chpvk_pv/modeling/train.py:248: PerformanceWarning: DataFrame is highly fragmented.  This is usually the result of calling `frame.insert` many times, which has poor performance.  Consider joining all columns at once using pd.concat(axis=1) instead. To get a de-fragmented frame, use `newframe = frame.copy()`\n",
      "  df_acc.loc['train_data', t] = acc_train\n"
     ]
    },
    {
     "name": "stdout",
     "output_type": "stream",
     "text": [
      "\u001b[32m2025-03-06 15:46:40.980\u001b[0m | \u001b[1mINFO    \u001b[0m | \u001b[36mtf_chpvk_pv.modeling.train\u001b[0m:\u001b[36mtrain_tree_sis_features\u001b[0m:\u001b[36m81\u001b[0m - \u001b[1mTraining tree model with SISSO features...\u001b[0m\n",
      "Identified expression for t_sisso: (((rA_rX_ratio / log_rA_rB_ratio) + (log_rA_rB_ratio / chi_BX_ratio)) / ((rA_rX_ratio + rB_rX_ratio) + (rB_rX_ratio / chi_BX_ratio)))\n",
      "Classification tree accuracy (for t_sisso_99) on the train set: 0.840708.\n",
      "Classification tree accuracy (for t_sisso_99) on the train set (5 fold CV): 0.831884.\n",
      "Classification tree accuracy (for t_sisso_99) on the test set: 0.859649.\n",
      "t_sisso_99 < 1.151516 indicates stable perovskites.\n"
     ]
    },
    {
     "name": "stderr",
     "output_type": "stream",
     "text": [
      "/home/nomad-lanasc/Documents/Diego Garzon/TF-ChPVK-PV/tf_chpvk_pv/modeling/train.py:248: PerformanceWarning: DataFrame is highly fragmented.  This is usually the result of calling `frame.insert` many times, which has poor performance.  Consider joining all columns at once using pd.concat(axis=1) instead. To get a de-fragmented frame, use `newframe = frame.copy()`\n",
      "  df_acc.loc['train_data', t] = acc_train\n"
     ]
    },
    {
     "name": "stdout",
     "output_type": "stream",
     "text": [
      "\u001b[32m2025-03-06 15:47:03.982\u001b[0m | \u001b[1mINFO    \u001b[0m | \u001b[36mtf_chpvk_pv.modeling.train\u001b[0m:\u001b[36mtrain_tree_sis_features\u001b[0m:\u001b[36m81\u001b[0m - \u001b[1mTraining tree model with SISSO features...\u001b[0m\n",
      "Identified expression for t_sisso: (((rA_rX_ratio * rB_rX_ratio) - (rA_rX_ratio - log_rA_rB_ratio)) * ((1.0 / rA_rX_ratio) - (1.0 / log_rA_rB_ratio)))\n",
      "Classification tree accuracy (for t_sisso_159) on the train set: 0.831858.\n",
      "Classification tree accuracy (for t_sisso_159) on the train set (5 fold CV): 0.827053.\n",
      "Classification tree accuracy (for t_sisso_159) on the test set: 0.824561.\n",
      "t_sisso_159 < -0.068372 indicates stable perovskites.\n"
     ]
    },
    {
     "name": "stderr",
     "output_type": "stream",
     "text": [
      "/home/nomad-lanasc/Documents/Diego Garzon/TF-ChPVK-PV/tf_chpvk_pv/modeling/train.py:248: PerformanceWarning: DataFrame is highly fragmented.  This is usually the result of calling `frame.insert` many times, which has poor performance.  Consider joining all columns at once using pd.concat(axis=1) instead. To get a de-fragmented frame, use `newframe = frame.copy()`\n",
      "  df_acc.loc['train_data', t] = acc_train\n"
     ]
    },
    {
     "name": "stdout",
     "output_type": "stream",
     "text": [
      "\u001b[32m2025-03-06 15:47:27.259\u001b[0m | \u001b[1mINFO    \u001b[0m | \u001b[36mtf_chpvk_pv.modeling.train\u001b[0m:\u001b[36mtrain_tree_sis_features\u001b[0m:\u001b[36m81\u001b[0m - \u001b[1mTraining tree model with SISSO features...\u001b[0m\n",
      "Identified expression for t_sisso: (((chi_BX_ratio**2) - (chi_BX_ratio / log_rA_rB_ratio)) - log((log_rA_rB_ratio / rB_rX_ratio)))\n",
      "Classification tree accuracy (for t_sisso_180) on the train set: 0.853982.\n",
      "Classification tree accuracy (for t_sisso_180) on the train set (5 fold CV): 0.849275.\n",
      "Classification tree accuracy (for t_sisso_180) on the test set: 0.859649.\n",
      "t_sisso_180 < -0.924173 indicates stable perovskites.\n"
     ]
    },
    {
     "name": "stderr",
     "output_type": "stream",
     "text": [
      "/home/nomad-lanasc/Documents/Diego Garzon/TF-ChPVK-PV/tf_chpvk_pv/modeling/train.py:248: PerformanceWarning: DataFrame is highly fragmented.  This is usually the result of calling `frame.insert` many times, which has poor performance.  Consider joining all columns at once using pd.concat(axis=1) instead. To get a de-fragmented frame, use `newframe = frame.copy()`\n",
      "  df_acc.loc['train_data', t] = acc_train\n"
     ]
    },
    {
     "name": "stdout",
     "output_type": "stream",
     "text": [
      "\u001b[32m2025-03-06 15:47:50.254\u001b[0m | \u001b[1mINFO    \u001b[0m | \u001b[36mtf_chpvk_pv.modeling.train\u001b[0m:\u001b[36mtrain_tree_sis_features\u001b[0m:\u001b[36m81\u001b[0m - \u001b[1mTraining tree model with SISSO features...\u001b[0m\n",
      "Identified expression for t_sisso: (((rA_rX_ratio * rB_rX_ratio) - (rA_rX_ratio - log_rA_rB_ratio)) * ((1.0 / rA_rX_ratio) - (1.0 / log_rA_rB_ratio)))\n",
      "Classification tree accuracy (for t_sisso_162) on the train set: 0.831858.\n",
      "Classification tree accuracy (for t_sisso_162) on the train set (5 fold CV): 0.827053.\n",
      "Classification tree accuracy (for t_sisso_162) on the test set: 0.824561.\n",
      "t_sisso_162 < -0.068372 indicates stable perovskites.\n"
     ]
    },
    {
     "name": "stderr",
     "output_type": "stream",
     "text": [
      "/home/nomad-lanasc/Documents/Diego Garzon/TF-ChPVK-PV/tf_chpvk_pv/modeling/train.py:248: PerformanceWarning: DataFrame is highly fragmented.  This is usually the result of calling `frame.insert` many times, which has poor performance.  Consider joining all columns at once using pd.concat(axis=1) instead. To get a de-fragmented frame, use `newframe = frame.copy()`\n",
      "  df_acc.loc['train_data', t] = acc_train\n"
     ]
    },
    {
     "name": "stdout",
     "output_type": "stream",
     "text": [
      "\u001b[32m2025-03-06 15:48:13.485\u001b[0m | \u001b[1mINFO    \u001b[0m | \u001b[36mtf_chpvk_pv.modeling.train\u001b[0m:\u001b[36mtrain_tree_sis_features\u001b[0m:\u001b[36m81\u001b[0m - \u001b[1mTraining tree model with SISSO features...\u001b[0m\n",
      "Identified expression for t_sisso: (|(|(rA_rX_ratio + rB_rX_ratio) - (log_rA_rB_ratio**3)|) - ((rB_rX_ratio / log_rA_rB_ratio) + (log_rA_rB_ratio / rA_rX_ratio))|)\n",
      "Error in /home/nomad-lanasc/Documents/Diego Garzon/TF-ChPVK-PV/data/features_space/features/features/features_sisso_46.csv\n",
      "\u001b[32m2025-03-06 15:48:36.344\u001b[0m | \u001b[1mINFO    \u001b[0m | \u001b[36mtf_chpvk_pv.modeling.train\u001b[0m:\u001b[36mtrain_tree_sis_features\u001b[0m:\u001b[36m81\u001b[0m - \u001b[1mTraining tree model with SISSO features...\u001b[0m\n",
      "Identified expression for t_sisso: (|(|(rA_rX_ratio**2) - (|rB_rX_ratio - log_rA_rB_ratio|)|) - (|sqrt(log_rA_rB_ratio) - rA_rX_ratio|)|)\n",
      "Error in /home/nomad-lanasc/Documents/Diego Garzon/TF-ChPVK-PV/data/features_space/features/features/features_sisso_251.csv\n",
      "\u001b[32m2025-03-06 15:48:59.411\u001b[0m | \u001b[1mINFO    \u001b[0m | \u001b[36mtf_chpvk_pv.modeling.train\u001b[0m:\u001b[36mtrain_tree_sis_features\u001b[0m:\u001b[36m81\u001b[0m - \u001b[1mTraining tree model with SISSO features...\u001b[0m\n",
      "Identified expression for t_sisso: ((log(rB_rX_ratio)**2) + (log(log_rA_rB_ratio)**2))\n",
      "Classification tree accuracy (for t_sisso_118) on the train set: 0.827434.\n",
      "Classification tree accuracy (for t_sisso_118) on the train set (5 fold CV): 0.814010.\n",
      "Classification tree accuracy (for t_sisso_118) on the test set: 0.771930.\n",
      "t_sisso_118 < 0.928798 indicates stable perovskites.\n"
     ]
    },
    {
     "name": "stderr",
     "output_type": "stream",
     "text": [
      "/home/nomad-lanasc/Documents/Diego Garzon/TF-ChPVK-PV/tf_chpvk_pv/modeling/train.py:248: PerformanceWarning: DataFrame is highly fragmented.  This is usually the result of calling `frame.insert` many times, which has poor performance.  Consider joining all columns at once using pd.concat(axis=1) instead. To get a de-fragmented frame, use `newframe = frame.copy()`\n",
      "  df_acc.loc['train_data', t] = acc_train\n"
     ]
    },
    {
     "name": "stdout",
     "output_type": "stream",
     "text": [
      "\u001b[32m2025-03-06 15:49:22.322\u001b[0m | \u001b[1mINFO    \u001b[0m | \u001b[36mtf_chpvk_pv.modeling.train\u001b[0m:\u001b[36mtrain_tree_sis_features\u001b[0m:\u001b[36m81\u001b[0m - \u001b[1mTraining tree model with SISSO features...\u001b[0m\n",
      "Identified expression for t_sisso: (((chi_BX_ratio - log_rA_rB_ratio) * log_rA_rB_ratio) / ((rB_rX_ratio - chi_BX_ratio) - sqrt(rB_rX_ratio)))\n",
      "Classification tree accuracy (for t_sisso_152) on the train set: 0.783186.\n",
      "Classification tree accuracy (for t_sisso_152) on the train set (5 fold CV): 0.783285.\n",
      "Classification tree accuracy (for t_sisso_152) on the test set: 0.771930.\n",
      "t_sisso_152 < -0.265759 indicates stable perovskites.\n"
     ]
    },
    {
     "name": "stderr",
     "output_type": "stream",
     "text": [
      "/home/nomad-lanasc/Documents/Diego Garzon/TF-ChPVK-PV/tf_chpvk_pv/modeling/train.py:248: PerformanceWarning: DataFrame is highly fragmented.  This is usually the result of calling `frame.insert` many times, which has poor performance.  Consider joining all columns at once using pd.concat(axis=1) instead. To get a de-fragmented frame, use `newframe = frame.copy()`\n",
      "  df_acc.loc['train_data', t] = acc_train\n"
     ]
    },
    {
     "name": "stdout",
     "output_type": "stream",
     "text": [
      "\u001b[32m2025-03-06 15:49:45.604\u001b[0m | \u001b[1mINFO    \u001b[0m | \u001b[36mtf_chpvk_pv.modeling.train\u001b[0m:\u001b[36mtrain_tree_sis_features\u001b[0m:\u001b[36m81\u001b[0m - \u001b[1mTraining tree model with SISSO features...\u001b[0m\n",
      "Identified expression for t_sisso: (log((rA_rX_ratio * chi_BX_ratio)) * ((rB_rX_ratio * chi_BX_ratio) * EA_A))\n",
      "Classification tree accuracy (for t_sisso_292) on the train set: 0.805310.\n",
      "Classification tree accuracy (for t_sisso_292) on the train set (5 fold CV): 0.800870.\n",
      "Classification tree accuracy (for t_sisso_292) on the test set: 0.736842.\n",
      "t_sisso_292 < -0.033733 indicates stable perovskites.\n"
     ]
    },
    {
     "name": "stderr",
     "output_type": "stream",
     "text": [
      "/home/nomad-lanasc/Documents/Diego Garzon/TF-ChPVK-PV/tf_chpvk_pv/modeling/train.py:248: PerformanceWarning: DataFrame is highly fragmented.  This is usually the result of calling `frame.insert` many times, which has poor performance.  Consider joining all columns at once using pd.concat(axis=1) instead. To get a de-fragmented frame, use `newframe = frame.copy()`\n",
      "  df_acc.loc['train_data', t] = acc_train\n"
     ]
    },
    {
     "name": "stdout",
     "output_type": "stream",
     "text": [
      "\u001b[32m2025-03-06 15:50:08.577\u001b[0m | \u001b[1mINFO    \u001b[0m | \u001b[36mtf_chpvk_pv.modeling.train\u001b[0m:\u001b[36mtrain_tree_sis_features\u001b[0m:\u001b[36m81\u001b[0m - \u001b[1mTraining tree model with SISSO features...\u001b[0m\n",
      "Identified expression for t_sisso: (((rA_rX_ratio * chi_BX_ratio) * (chi_BX_ratio**3)) * exp((chi_BX_ratio**3)))\n",
      "Classification tree accuracy (for t_sisso_279) on the train set: 0.783186.\n",
      "Classification tree accuracy (for t_sisso_279) on the train set (5 fold CV): 0.783285.\n",
      "Classification tree accuracy (for t_sisso_279) on the test set: 0.736842.\n",
      "t_sisso_279 < 18.278926 indicates stable perovskites.\n"
     ]
    },
    {
     "name": "stderr",
     "output_type": "stream",
     "text": [
      "/home/nomad-lanasc/Documents/Diego Garzon/TF-ChPVK-PV/tf_chpvk_pv/modeling/train.py:248: PerformanceWarning: DataFrame is highly fragmented.  This is usually the result of calling `frame.insert` many times, which has poor performance.  Consider joining all columns at once using pd.concat(axis=1) instead. To get a de-fragmented frame, use `newframe = frame.copy()`\n",
      "  df_acc.loc['train_data', t] = acc_train\n"
     ]
    },
    {
     "name": "stdout",
     "output_type": "stream",
     "text": [
      "\u001b[32m2025-03-06 15:50:31.865\u001b[0m | \u001b[1mINFO    \u001b[0m | \u001b[36mtf_chpvk_pv.modeling.train\u001b[0m:\u001b[36mtrain_tree_sis_features\u001b[0m:\u001b[36m81\u001b[0m - \u001b[1mTraining tree model with SISSO features...\u001b[0m\n",
      "Identified expression for t_sisso: (((rA_rX_ratio / log_rA_rB_ratio) + (log_rA_rB_ratio / rA_rX_ratio)) / ((rB_rX_ratio / chi_BX_ratio) + (rB_rX_ratio + chi_BX_ratio)))\n",
      "Classification tree accuracy (for t_sisso_66) on the train set: 0.831858.\n",
      "Classification tree accuracy (for t_sisso_66) on the train set (5 fold CV): 0.822802.\n",
      "Classification tree accuracy (for t_sisso_66) on the test set: 0.842105.\n",
      "t_sisso_66 < 1.157727 indicates stable perovskites.\n"
     ]
    },
    {
     "name": "stderr",
     "output_type": "stream",
     "text": [
      "/home/nomad-lanasc/Documents/Diego Garzon/TF-ChPVK-PV/tf_chpvk_pv/modeling/train.py:248: PerformanceWarning: DataFrame is highly fragmented.  This is usually the result of calling `frame.insert` many times, which has poor performance.  Consider joining all columns at once using pd.concat(axis=1) instead. To get a de-fragmented frame, use `newframe = frame.copy()`\n",
      "  df_acc.loc['train_data', t] = acc_train\n"
     ]
    },
    {
     "name": "stdout",
     "output_type": "stream",
     "text": [
      "\u001b[32m2025-03-06 15:50:54.870\u001b[0m | \u001b[1mINFO    \u001b[0m | \u001b[36mtf_chpvk_pv.modeling.train\u001b[0m:\u001b[36mtrain_tree_sis_features\u001b[0m:\u001b[36m81\u001b[0m - \u001b[1mTraining tree model with SISSO features...\u001b[0m\n"
     ]
    },
    {
     "name": "stderr",
     "output_type": "stream",
     "text": [
      "/home/nomad-lanasc/.pyenv/lib/python3.11/site-packages/sklearn/utils/_array_api.py:745: RuntimeWarning: overflow encountered in cast\n",
      "  array = numpy.asarray(array, order=order, dtype=dtype)\n",
      "/home/nomad-lanasc/.pyenv/lib/python3.11/site-packages/sklearn/utils/_array_api.py:745: RuntimeWarning: overflow encountered in cast\n",
      "  array = numpy.asarray(array, order=order, dtype=dtype)\n",
      "/home/nomad-lanasc/.pyenv/lib/python3.11/site-packages/sklearn/utils/_array_api.py:745: RuntimeWarning: overflow encountered in cast\n",
      "  array = numpy.asarray(array, order=order, dtype=dtype)\n",
      "/home/nomad-lanasc/.pyenv/lib/python3.11/site-packages/sklearn/utils/_array_api.py:745: RuntimeWarning: overflow encountered in cast\n",
      "  array = numpy.asarray(array, order=order, dtype=dtype)\n",
      "/home/nomad-lanasc/.pyenv/lib/python3.11/site-packages/sklearn/utils/_array_api.py:745: RuntimeWarning: overflow encountered in cast\n",
      "  array = numpy.asarray(array, order=order, dtype=dtype)\n"
     ]
    },
    {
     "name": "stdout",
     "output_type": "stream",
     "text": [
      "Error in /home/nomad-lanasc/Documents/Diego Garzon/TF-ChPVK-PV/data/features_space/features/features/features_sisso_264.csv\n",
      "\u001b[32m2025-03-06 15:51:10.379\u001b[0m | \u001b[1mINFO    \u001b[0m | \u001b[36mtf_chpvk_pv.modeling.train\u001b[0m:\u001b[36mtrain_tree_sis_features\u001b[0m:\u001b[36m81\u001b[0m - \u001b[1mTraining tree model with SISSO features...\u001b[0m\n",
      "Identified expression for t_sisso: (((rA_rX_ratio / log_rA_rB_ratio)**2) / (rB_rX_ratio**3))\n",
      "Classification tree accuracy (for t_sisso_305) on the train set: 0.805310.\n",
      "Classification tree accuracy (for t_sisso_305) on the train set (5 fold CV): 0.796425.\n",
      "Classification tree accuracy (for t_sisso_305) on the test set: 0.771930.\n",
      "t_sisso_305 < 19.983641 indicates stable perovskites.\n"
     ]
    },
    {
     "name": "stderr",
     "output_type": "stream",
     "text": [
      "/home/nomad-lanasc/Documents/Diego Garzon/TF-ChPVK-PV/tf_chpvk_pv/modeling/train.py:248: PerformanceWarning: DataFrame is highly fragmented.  This is usually the result of calling `frame.insert` many times, which has poor performance.  Consider joining all columns at once using pd.concat(axis=1) instead. To get a de-fragmented frame, use `newframe = frame.copy()`\n",
      "  df_acc.loc['train_data', t] = acc_train\n"
     ]
    },
    {
     "name": "stdout",
     "output_type": "stream",
     "text": [
      "\u001b[32m2025-03-06 15:51:33.341\u001b[0m | \u001b[1mINFO    \u001b[0m | \u001b[36mtf_chpvk_pv.modeling.train\u001b[0m:\u001b[36mtrain_tree_sis_features\u001b[0m:\u001b[36m81\u001b[0m - \u001b[1mTraining tree model with SISSO features...\u001b[0m\n"
     ]
    },
    {
     "name": "stderr",
     "output_type": "stream",
     "text": [
      "/home/nomad-lanasc/.pyenv/lib/python3.11/site-packages/sklearn/utils/_array_api.py:745: RuntimeWarning: overflow encountered in cast\n",
      "  array = numpy.asarray(array, order=order, dtype=dtype)\n",
      "/home/nomad-lanasc/.pyenv/lib/python3.11/site-packages/sklearn/utils/_array_api.py:745: RuntimeWarning: overflow encountered in cast\n",
      "  array = numpy.asarray(array, order=order, dtype=dtype)\n",
      "/home/nomad-lanasc/.pyenv/lib/python3.11/site-packages/sklearn/utils/_array_api.py:745: RuntimeWarning: overflow encountered in cast\n",
      "  array = numpy.asarray(array, order=order, dtype=dtype)\n",
      "/home/nomad-lanasc/.pyenv/lib/python3.11/site-packages/sklearn/utils/_array_api.py:745: RuntimeWarning: overflow encountered in cast\n",
      "  array = numpy.asarray(array, order=order, dtype=dtype)\n",
      "/home/nomad-lanasc/.pyenv/lib/python3.11/site-packages/sklearn/utils/_array_api.py:745: RuntimeWarning: overflow encountered in cast\n",
      "  array = numpy.asarray(array, order=order, dtype=dtype)\n"
     ]
    },
    {
     "name": "stdout",
     "output_type": "stream",
     "text": [
      "Error in /home/nomad-lanasc/Documents/Diego Garzon/TF-ChPVK-PV/data/features_space/features/features/features_sisso_263.csv\n",
      "\u001b[32m2025-03-06 15:51:39.976\u001b[0m | \u001b[1mINFO    \u001b[0m | \u001b[36mtf_chpvk_pv.modeling.train\u001b[0m:\u001b[36mtrain_tree_sis_features\u001b[0m:\u001b[36m81\u001b[0m - \u001b[1mTraining tree model with SISSO features...\u001b[0m\n",
      "Identified expression for t_sisso: (((rA_rX_ratio / log_rA_rB_ratio) + (log_rA_rB_ratio / chi_BX_ratio)) / ((rA_rX_ratio + rB_rX_ratio) + (rB_rX_ratio / chi_BX_ratio)))\n",
      "Classification tree accuracy (for t_sisso_90) on the train set: 0.840708.\n",
      "Classification tree accuracy (for t_sisso_90) on the train set (5 fold CV): 0.831884.\n",
      "Classification tree accuracy (for t_sisso_90) on the test set: 0.859649.\n",
      "t_sisso_90 < 1.151516 indicates stable perovskites.\n"
     ]
    },
    {
     "name": "stderr",
     "output_type": "stream",
     "text": [
      "/home/nomad-lanasc/Documents/Diego Garzon/TF-ChPVK-PV/tf_chpvk_pv/modeling/train.py:248: PerformanceWarning: DataFrame is highly fragmented.  This is usually the result of calling `frame.insert` many times, which has poor performance.  Consider joining all columns at once using pd.concat(axis=1) instead. To get a de-fragmented frame, use `newframe = frame.copy()`\n",
      "  df_acc.loc['train_data', t] = acc_train\n"
     ]
    },
    {
     "name": "stdout",
     "output_type": "stream",
     "text": [
      "\u001b[32m2025-03-06 15:52:03.089\u001b[0m | \u001b[1mINFO    \u001b[0m | \u001b[36mtf_chpvk_pv.modeling.train\u001b[0m:\u001b[36mtrain_tree_sis_features\u001b[0m:\u001b[36m81\u001b[0m - \u001b[1mTraining tree model with SISSO features...\u001b[0m\n",
      "Identified expression for t_sisso: ((log(log_rA_rB_ratio) - rA_rX_ratio) - (log(log_rA_rB_ratio)**3))\n",
      "Classification tree accuracy (for t_sisso_198) on the train set: 0.876106.\n",
      "Classification tree accuracy (for t_sisso_198) on the train set (5 fold CV): 0.871401.\n",
      "Classification tree accuracy (for t_sisso_198) on the test set: 0.877193.\n",
      "t_sisso_198 < -1.192592 indicates stable perovskites.\n"
     ]
    },
    {
     "name": "stderr",
     "output_type": "stream",
     "text": [
      "/home/nomad-lanasc/Documents/Diego Garzon/TF-ChPVK-PV/tf_chpvk_pv/modeling/train.py:248: PerformanceWarning: DataFrame is highly fragmented.  This is usually the result of calling `frame.insert` many times, which has poor performance.  Consider joining all columns at once using pd.concat(axis=1) instead. To get a de-fragmented frame, use `newframe = frame.copy()`\n",
      "  df_acc.loc['train_data', t] = acc_train\n"
     ]
    },
    {
     "name": "stdout",
     "output_type": "stream",
     "text": [
      "\u001b[32m2025-03-06 15:52:26.061\u001b[0m | \u001b[1mINFO    \u001b[0m | \u001b[36mtf_chpvk_pv.modeling.train\u001b[0m:\u001b[36mtrain_tree_sis_features\u001b[0m:\u001b[36m81\u001b[0m - \u001b[1mTraining tree model with SISSO features...\u001b[0m\n",
      "Identified expression for t_sisso: (|(|(|rA_rX_ratio - log_rA_rB_ratio|) - (rB_rX_ratio**2)|) - (|(|rB_rX_ratio - log_rA_rB_ratio|) - rA_rX_ratio|)|)\n",
      "Error in /home/nomad-lanasc/Documents/Diego Garzon/TF-ChPVK-PV/data/features_space/features/features/features_sisso_244.csv\n",
      "\u001b[32m2025-03-06 15:52:48.945\u001b[0m | \u001b[1mINFO    \u001b[0m | \u001b[36mtf_chpvk_pv.modeling.train\u001b[0m:\u001b[36mtrain_tree_sis_features\u001b[0m:\u001b[36m81\u001b[0m - \u001b[1mTraining tree model with SISSO features...\u001b[0m\n",
      "Identified expression for t_sisso: ((sqrt(rB_rX_ratio) - (rB_rX_ratio - log_rA_rB_ratio)) - ((rB_rX_ratio - log_rA_rB_ratio) - (1.0 / log_rA_rB_ratio)))\n",
      "Classification tree accuracy (for t_sisso_199) on the train set: 0.858407.\n",
      "Classification tree accuracy (for t_sisso_199) on the train set (5 fold CV): 0.853720.\n",
      "Classification tree accuracy (for t_sisso_199) on the test set: 0.877193.\n",
      "t_sisso_199 < 2.627082 indicates stable perovskites.\n"
     ]
    },
    {
     "name": "stderr",
     "output_type": "stream",
     "text": [
      "/home/nomad-lanasc/Documents/Diego Garzon/TF-ChPVK-PV/tf_chpvk_pv/modeling/train.py:248: PerformanceWarning: DataFrame is highly fragmented.  This is usually the result of calling `frame.insert` many times, which has poor performance.  Consider joining all columns at once using pd.concat(axis=1) instead. To get a de-fragmented frame, use `newframe = frame.copy()`\n",
      "  df_acc.loc['train_data', t] = acc_train\n"
     ]
    },
    {
     "name": "stdout",
     "output_type": "stream",
     "text": [
      "\u001b[32m2025-03-06 15:53:11.997\u001b[0m | \u001b[1mINFO    \u001b[0m | \u001b[36mtf_chpvk_pv.modeling.train\u001b[0m:\u001b[36mtrain_tree_sis_features\u001b[0m:\u001b[36m81\u001b[0m - \u001b[1mTraining tree model with SISSO features...\u001b[0m\n",
      "Identified expression for t_sisso: (|(|(|rB_rX_ratio - log_rA_rB_ratio|) - rA_rX_ratio|) - (|(log_rA_rB_ratio**2) - log_rA_rB_ratio|)|)\n",
      "Error in /home/nomad-lanasc/Documents/Diego Garzon/TF-ChPVK-PV/data/features_space/features/features/features_sisso_235.csv\n",
      "\u001b[32m2025-03-06 15:53:34.924\u001b[0m | \u001b[1mINFO    \u001b[0m | \u001b[36mtf_chpvk_pv.modeling.train\u001b[0m:\u001b[36mtrain_tree_sis_features\u001b[0m:\u001b[36m81\u001b[0m - \u001b[1mTraining tree model with SISSO features...\u001b[0m\n",
      "Identified expression for t_sisso: ((exp(rB_rX_ratio) * exp(log_rA_rB_ratio)) * log((rB_rX_ratio * log_rA_rB_ratio)))\n",
      "Classification tree accuracy (for t_sisso_278) on the train set: 0.836283.\n",
      "Classification tree accuracy (for t_sisso_278) on the train set (5 fold CV): 0.822899.\n",
      "Classification tree accuracy (for t_sisso_278) on the test set: 0.824561.\n",
      "t_sisso_278 < -3.718539 indicates stable perovskites.\n"
     ]
    },
    {
     "name": "stderr",
     "output_type": "stream",
     "text": [
      "/home/nomad-lanasc/Documents/Diego Garzon/TF-ChPVK-PV/tf_chpvk_pv/modeling/train.py:248: PerformanceWarning: DataFrame is highly fragmented.  This is usually the result of calling `frame.insert` many times, which has poor performance.  Consider joining all columns at once using pd.concat(axis=1) instead. To get a de-fragmented frame, use `newframe = frame.copy()`\n",
      "  df_acc.loc['train_data', t] = acc_train\n"
     ]
    },
    {
     "name": "stdout",
     "output_type": "stream",
     "text": [
      "\u001b[32m2025-03-06 15:53:57.973\u001b[0m | \u001b[1mINFO    \u001b[0m | \u001b[36mtf_chpvk_pv.modeling.train\u001b[0m:\u001b[36mtrain_tree_sis_features\u001b[0m:\u001b[36m81\u001b[0m - \u001b[1mTraining tree model with SISSO features...\u001b[0m\n",
      "Identified expression for t_sisso: (((rA_rX_ratio / rB_rX_ratio) / (chi_BX_ratio * log_rA_rB_ratio)) * sqrt((rA_rX_ratio / rB_rX_ratio)))\n",
      "Classification tree accuracy (for t_sisso_267) on the train set: 0.783186.\n",
      "Classification tree accuracy (for t_sisso_267) on the train set (5 fold CV): 0.761159.\n",
      "Classification tree accuracy (for t_sisso_267) on the test set: 0.789474.\n",
      "t_sisso_267 < 3.550933 indicates stable perovskites.\n"
     ]
    },
    {
     "name": "stderr",
     "output_type": "stream",
     "text": [
      "/home/nomad-lanasc/Documents/Diego Garzon/TF-ChPVK-PV/tf_chpvk_pv/modeling/train.py:248: PerformanceWarning: DataFrame is highly fragmented.  This is usually the result of calling `frame.insert` many times, which has poor performance.  Consider joining all columns at once using pd.concat(axis=1) instead. To get a de-fragmented frame, use `newframe = frame.copy()`\n",
      "  df_acc.loc['train_data', t] = acc_train\n"
     ]
    },
    {
     "name": "stdout",
     "output_type": "stream",
     "text": [
      "\u001b[32m2025-03-06 15:54:21.011\u001b[0m | \u001b[1mINFO    \u001b[0m | \u001b[36mtf_chpvk_pv.modeling.train\u001b[0m:\u001b[36mtrain_tree_sis_features\u001b[0m:\u001b[36m81\u001b[0m - \u001b[1mTraining tree model with SISSO features...\u001b[0m\n",
      "Identified expression for t_sisso: (((rA_rX_ratio - log_rA_rB_ratio) * (log_rA_rB_ratio**3)) * (sqrt(log_rA_rB_ratio) - (log_rA_rB_ratio**3)))\n",
      "Classification tree accuracy (for t_sisso_166) on the train set: 0.840708.\n",
      "Classification tree accuracy (for t_sisso_166) on the train set (5 fold CV): 0.840676.\n",
      "Classification tree accuracy (for t_sisso_166) on the test set: 0.824561.\n",
      "t_sisso_166 < 0.024361 indicates stable perovskites.\n"
     ]
    },
    {
     "name": "stderr",
     "output_type": "stream",
     "text": [
      "/home/nomad-lanasc/Documents/Diego Garzon/TF-ChPVK-PV/tf_chpvk_pv/modeling/train.py:248: PerformanceWarning: DataFrame is highly fragmented.  This is usually the result of calling `frame.insert` many times, which has poor performance.  Consider joining all columns at once using pd.concat(axis=1) instead. To get a de-fragmented frame, use `newframe = frame.copy()`\n",
      "  df_acc.loc['train_data', t] = acc_train\n"
     ]
    },
    {
     "name": "stdout",
     "output_type": "stream",
     "text": [
      "\u001b[32m2025-03-06 15:54:44.119\u001b[0m | \u001b[1mINFO    \u001b[0m | \u001b[36mtf_chpvk_pv.modeling.train\u001b[0m:\u001b[36mtrain_tree_sis_features\u001b[0m:\u001b[36m81\u001b[0m - \u001b[1mTraining tree model with SISSO features...\u001b[0m\n",
      "Identified expression for t_sisso: (((rA_rX_ratio**2) - log_rA_rB_ratio) - ((rA_rX_ratio / log_rA_rB_ratio) - (rB_rX_ratio - log_rA_rB_ratio)))\n",
      "Classification tree accuracy (for t_sisso_174) on the train set: 0.849558.\n",
      "Classification tree accuracy (for t_sisso_174) on the train set (5 fold CV): 0.840386.\n",
      "Classification tree accuracy (for t_sisso_174) on the test set: 0.859649.\n",
      "t_sisso_174 < -1.457048 indicates stable perovskites.\n"
     ]
    },
    {
     "name": "stderr",
     "output_type": "stream",
     "text": [
      "/home/nomad-lanasc/Documents/Diego Garzon/TF-ChPVK-PV/tf_chpvk_pv/modeling/train.py:248: PerformanceWarning: DataFrame is highly fragmented.  This is usually the result of calling `frame.insert` many times, which has poor performance.  Consider joining all columns at once using pd.concat(axis=1) instead. To get a de-fragmented frame, use `newframe = frame.copy()`\n",
      "  df_acc.loc['train_data', t] = acc_train\n"
     ]
    },
    {
     "name": "stdout",
     "output_type": "stream",
     "text": [
      "\u001b[32m2025-03-06 15:55:07.099\u001b[0m | \u001b[1mINFO    \u001b[0m | \u001b[36mtf_chpvk_pv.modeling.train\u001b[0m:\u001b[36mtrain_tree_sis_features\u001b[0m:\u001b[36m81\u001b[0m - \u001b[1mTraining tree model with SISSO features...\u001b[0m\n",
      "Identified expression for t_sisso: (|(|(rA_rX_ratio - rB_rX_ratio) - rB_rX_ratio|) - (|(|rB_rX_ratio - log_rA_rB_ratio|) - rA_rX_ratio|)|)\n",
      "Error in /home/nomad-lanasc/Documents/Diego Garzon/TF-ChPVK-PV/data/features_space/features/features/features_sisso_141.csv\n",
      "\u001b[32m2025-03-06 15:55:30.045\u001b[0m | \u001b[1mINFO    \u001b[0m | \u001b[36mtf_chpvk_pv.modeling.train\u001b[0m:\u001b[36mtrain_tree_sis_features\u001b[0m:\u001b[36m81\u001b[0m - \u001b[1mTraining tree model with SISSO features...\u001b[0m\n",
      "Identified expression for t_sisso: (((chi_BX_ratio**3) - (chi_BX_ratio / log_rA_rB_ratio)) - ((log_rA_rB_ratio / rB_rX_ratio) - log_rA_rB_ratio))\n",
      "Classification tree accuracy (for t_sisso_175) on the train set: 0.853982.\n",
      "Classification tree accuracy (for t_sisso_175) on the train set (5 fold CV): 0.853816.\n",
      "Classification tree accuracy (for t_sisso_175) on the test set: 0.859649.\n",
      "t_sisso_175 < -1.511530 indicates stable perovskites.\n"
     ]
    },
    {
     "name": "stderr",
     "output_type": "stream",
     "text": [
      "/home/nomad-lanasc/Documents/Diego Garzon/TF-ChPVK-PV/tf_chpvk_pv/modeling/train.py:248: PerformanceWarning: DataFrame is highly fragmented.  This is usually the result of calling `frame.insert` many times, which has poor performance.  Consider joining all columns at once using pd.concat(axis=1) instead. To get a de-fragmented frame, use `newframe = frame.copy()`\n",
      "  df_acc.loc['train_data', t] = acc_train\n"
     ]
    },
    {
     "name": "stdout",
     "output_type": "stream",
     "text": [
      "\u001b[32m2025-03-06 15:55:53.078\u001b[0m | \u001b[1mINFO    \u001b[0m | \u001b[36mtf_chpvk_pv.modeling.train\u001b[0m:\u001b[36mtrain_tree_sis_features\u001b[0m:\u001b[36m81\u001b[0m - \u001b[1mTraining tree model with SISSO features...\u001b[0m\n",
      "Identified expression for t_sisso: (((|rA_rX_ratio - chi_BX_ratio|) * (|rB_rX_ratio - chi_BX_ratio|)) + (|(|rB_rX_ratio - log_rA_rB_ratio|) - (rB_rX_ratio + log_rA_rB_ratio)|))\n",
      "Error in /home/nomad-lanasc/Documents/Diego Garzon/TF-ChPVK-PV/data/features_space/features/features/features_sisso_42.csv\n",
      "\u001b[32m2025-03-06 15:56:16.225\u001b[0m | \u001b[1mINFO    \u001b[0m | \u001b[36mtf_chpvk_pv.modeling.train\u001b[0m:\u001b[36mtrain_tree_sis_features\u001b[0m:\u001b[36m81\u001b[0m - \u001b[1mTraining tree model with SISSO features...\u001b[0m\n",
      "Identified expression for t_sisso: (((rA_rX_ratio / log_rA_rB_ratio) + (log_rA_rB_ratio / rA_rX_ratio)) / ((rB_rX_ratio / chi_BX_ratio) + (rB_rX_ratio + chi_BX_ratio)))\n",
      "Classification tree accuracy (for t_sisso_97) on the train set: 0.831858.\n",
      "Classification tree accuracy (for t_sisso_97) on the train set (5 fold CV): 0.822802.\n",
      "Classification tree accuracy (for t_sisso_97) on the test set: 0.842105.\n",
      "t_sisso_97 < 1.157727 indicates stable perovskites.\n"
     ]
    },
    {
     "name": "stderr",
     "output_type": "stream",
     "text": [
      "/home/nomad-lanasc/Documents/Diego Garzon/TF-ChPVK-PV/tf_chpvk_pv/modeling/train.py:248: PerformanceWarning: DataFrame is highly fragmented.  This is usually the result of calling `frame.insert` many times, which has poor performance.  Consider joining all columns at once using pd.concat(axis=1) instead. To get a de-fragmented frame, use `newframe = frame.copy()`\n",
      "  df_acc.loc['train_data', t] = acc_train\n"
     ]
    },
    {
     "name": "stdout",
     "output_type": "stream",
     "text": [
      "\u001b[32m2025-03-06 15:56:39.278\u001b[0m | \u001b[1mINFO    \u001b[0m | \u001b[36mtf_chpvk_pv.modeling.train\u001b[0m:\u001b[36mtrain_tree_sis_features\u001b[0m:\u001b[36m81\u001b[0m - \u001b[1mTraining tree model with SISSO features...\u001b[0m\n",
      "Identified expression for t_sisso: (((rB_rX_ratio * chi_BX_ratio) * (chi_BX_ratio * log_rA_rB_ratio)) / ((rA_rX_ratio / chi_BX_ratio)**2))\n",
      "Classification tree accuracy (for t_sisso_265) on the train set: 0.769912.\n",
      "Classification tree accuracy (for t_sisso_265) on the train set (5 fold CV): 0.752271.\n",
      "Classification tree accuracy (for t_sisso_265) on the test set: 0.754386.\n",
      "t_sisso_265 < 0.736383 indicates stable perovskites.\n"
     ]
    },
    {
     "name": "stderr",
     "output_type": "stream",
     "text": [
      "/home/nomad-lanasc/Documents/Diego Garzon/TF-ChPVK-PV/tf_chpvk_pv/modeling/train.py:248: PerformanceWarning: DataFrame is highly fragmented.  This is usually the result of calling `frame.insert` many times, which has poor performance.  Consider joining all columns at once using pd.concat(axis=1) instead. To get a de-fragmented frame, use `newframe = frame.copy()`\n",
      "  df_acc.loc['train_data', t] = acc_train\n"
     ]
    },
    {
     "name": "stdout",
     "output_type": "stream",
     "text": [
      "\u001b[32m2025-03-06 15:57:02.677\u001b[0m | \u001b[1mINFO    \u001b[0m | \u001b[36mtf_chpvk_pv.modeling.train\u001b[0m:\u001b[36mtrain_tree_sis_features\u001b[0m:\u001b[36m81\u001b[0m - \u001b[1mTraining tree model with SISSO features...\u001b[0m\n",
      "Identified expression for t_sisso: ((sqrt(rB_rX_ratio) + sqrt(log_rA_rB_ratio)) + (exp(chi_BX_ratio) + chi_BX_ratio))\n",
      "Classification tree accuracy (for t_sisso_109) on the train set: 0.787611.\n",
      "Classification tree accuracy (for t_sisso_109) on the train set (5 fold CV): 0.787729.\n",
      "Classification tree accuracy (for t_sisso_109) on the test set: 0.754386.\n",
      "t_sisso_109 < 6.203067 indicates stable perovskites.\n"
     ]
    },
    {
     "name": "stderr",
     "output_type": "stream",
     "text": [
      "/home/nomad-lanasc/Documents/Diego Garzon/TF-ChPVK-PV/tf_chpvk_pv/modeling/train.py:248: PerformanceWarning: DataFrame is highly fragmented.  This is usually the result of calling `frame.insert` many times, which has poor performance.  Consider joining all columns at once using pd.concat(axis=1) instead. To get a de-fragmented frame, use `newframe = frame.copy()`\n",
      "  df_acc.loc['train_data', t] = acc_train\n"
     ]
    },
    {
     "name": "stdout",
     "output_type": "stream",
     "text": [
      "\u001b[32m2025-03-06 15:57:25.622\u001b[0m | \u001b[1mINFO    \u001b[0m | \u001b[36mtf_chpvk_pv.modeling.train\u001b[0m:\u001b[36mtrain_tree_sis_features\u001b[0m:\u001b[36m81\u001b[0m - \u001b[1mTraining tree model with SISSO features...\u001b[0m\n",
      "Identified expression for t_sisso: ((sqrt(rB_rX_ratio) * rA_rX_ratio) - ((|rB_rX_ratio - log_rA_rB_ratio|) - sqrt(log_rA_rB_ratio)))\n",
      "Classification tree accuracy (for t_sisso_125) on the train set: 0.858407.\n",
      "Classification tree accuracy (for t_sisso_125) on the train set (5 fold CV): 0.858068.\n",
      "Classification tree accuracy (for t_sisso_125) on the test set: 0.894737.\n",
      "t_sisso_125 < 1.212377 indicates stable perovskites.\n"
     ]
    },
    {
     "name": "stderr",
     "output_type": "stream",
     "text": [
      "/home/nomad-lanasc/Documents/Diego Garzon/TF-ChPVK-PV/tf_chpvk_pv/modeling/train.py:248: PerformanceWarning: DataFrame is highly fragmented.  This is usually the result of calling `frame.insert` many times, which has poor performance.  Consider joining all columns at once using pd.concat(axis=1) instead. To get a de-fragmented frame, use `newframe = frame.copy()`\n",
      "  df_acc.loc['train_data', t] = acc_train\n"
     ]
    },
    {
     "name": "stdout",
     "output_type": "stream",
     "text": [
      "\u001b[32m2025-03-06 15:57:48.901\u001b[0m | \u001b[1mINFO    \u001b[0m | \u001b[36mtf_chpvk_pv.modeling.train\u001b[0m:\u001b[36mtrain_tree_sis_features\u001b[0m:\u001b[36m81\u001b[0m - \u001b[1mTraining tree model with SISSO features...\u001b[0m\n",
      "Identified expression for t_sisso: (((rA_rX_ratio * rB_rX_ratio) - sqrt(log_rA_rB_ratio)) - ((rA_rX_ratio - log_rA_rB_ratio) * exp(log_rA_rB_ratio)))\n",
      "Classification tree accuracy (for t_sisso_157) on the train set: 0.845133.\n",
      "Classification tree accuracy (for t_sisso_157) on the train set (5 fold CV): 0.836135.\n",
      "Classification tree accuracy (for t_sisso_157) on the test set: 0.859649.\n",
      "t_sisso_157 < -0.844917 indicates stable perovskites.\n"
     ]
    },
    {
     "name": "stderr",
     "output_type": "stream",
     "text": [
      "/home/nomad-lanasc/Documents/Diego Garzon/TF-ChPVK-PV/tf_chpvk_pv/modeling/train.py:248: PerformanceWarning: DataFrame is highly fragmented.  This is usually the result of calling `frame.insert` many times, which has poor performance.  Consider joining all columns at once using pd.concat(axis=1) instead. To get a de-fragmented frame, use `newframe = frame.copy()`\n",
      "  df_acc.loc['train_data', t] = acc_train\n"
     ]
    },
    {
     "name": "stdout",
     "output_type": "stream",
     "text": [
      "\u001b[32m2025-03-06 15:58:11.884\u001b[0m | \u001b[1mINFO    \u001b[0m | \u001b[36mtf_chpvk_pv.modeling.train\u001b[0m:\u001b[36mtrain_tree_sis_features\u001b[0m:\u001b[36m81\u001b[0m - \u001b[1mTraining tree model with SISSO features...\u001b[0m\n",
      "Identified expression for t_sisso: (sqrt(sqrt(rA_rX_ratio)) * ((chi_BX_ratio**2)**2))\n",
      "Classification tree accuracy (for t_sisso_280) on the train set: 0.783186.\n",
      "Classification tree accuracy (for t_sisso_280) on the train set (5 fold CV): 0.783382.\n",
      "Classification tree accuracy (for t_sisso_280) on the test set: 0.754386.\n",
      "t_sisso_280 < 2.361793 indicates stable perovskites.\n"
     ]
    },
    {
     "name": "stderr",
     "output_type": "stream",
     "text": [
      "/home/nomad-lanasc/Documents/Diego Garzon/TF-ChPVK-PV/tf_chpvk_pv/modeling/train.py:248: PerformanceWarning: DataFrame is highly fragmented.  This is usually the result of calling `frame.insert` many times, which has poor performance.  Consider joining all columns at once using pd.concat(axis=1) instead. To get a de-fragmented frame, use `newframe = frame.copy()`\n",
      "  df_acc.loc['train_data', t] = acc_train\n"
     ]
    },
    {
     "name": "stdout",
     "output_type": "stream",
     "text": [
      "\u001b[32m2025-03-06 15:58:34.975\u001b[0m | \u001b[1mINFO    \u001b[0m | \u001b[36mtf_chpvk_pv.modeling.train\u001b[0m:\u001b[36mtrain_tree_sis_features\u001b[0m:\u001b[36m81\u001b[0m - \u001b[1mTraining tree model with SISSO features...\u001b[0m\n",
      "Identified expression for t_sisso: ((sqrt(rB_rX_ratio) * (rB_rX_ratio * log_rA_rB_ratio)) * ((chi_BX_ratio**3)**3))\n",
      "Classification tree accuracy (for t_sisso_291) on the train set: 0.787611.\n",
      "Classification tree accuracy (for t_sisso_291) on the train set (5 fold CV): 0.787729.\n",
      "Classification tree accuracy (for t_sisso_291) on the test set: 0.736842.\n",
      "t_sisso_291 < 1.955000 indicates stable perovskites.\n"
     ]
    },
    {
     "name": "stderr",
     "output_type": "stream",
     "text": [
      "/home/nomad-lanasc/Documents/Diego Garzon/TF-ChPVK-PV/tf_chpvk_pv/modeling/train.py:248: PerformanceWarning: DataFrame is highly fragmented.  This is usually the result of calling `frame.insert` many times, which has poor performance.  Consider joining all columns at once using pd.concat(axis=1) instead. To get a de-fragmented frame, use `newframe = frame.copy()`\n",
      "  df_acc.loc['train_data', t] = acc_train\n"
     ]
    },
    {
     "data": {
      "image/png": "[encoded data removed]",
      "text/plain": [
       "<Figure size 640x480 with 1 Axes>"
      ]
     },
     "metadata": {},
     "output_type": "display_data"
    }
   ],
   "source": [
    "from tf_chpvk_pv.modeling.train import *\n",
    "\n",
    "train_df, test_df, tolerance_factor_dict = evaluate_t_sisso('')\n",
    "\n",
    "tfs = ['t', 'tau', 't_jess']\n",
    "tf_tresh = [2, 1, 2]\n",
    "df_acc =pd.DataFrame()\n",
    "clfs = {}\n",
    "\n",
    "for tf, tresh in zip(tfs, tf_tresh):\n",
    "    df_acc, clf_t = test_tolerance_factor(tf, train_df, test_df, tolerance_factor_dict, df_acc, n_tresh=tresh)\n",
    "    clfs[tf] = clf_t\n",
    "\n",
    "for feat in files:\n",
    "    try:\n",
    "        idx = int(feat.split('/')[-1].split('.csv')[0].split('_')[-1])\n",
    "        tf = 't_sisso_' + str(idx)\n",
    "        df = pd.read_csv(feat)\n",
    "        t_sisso_expression = train_tree_sis_features(feat)\n",
    "        train_df, test_df, tolerance_factor_dict = evaluate_t_sisso(t_sisso_expression, idx)\n",
    "        df_acc, clf_t = test_tolerance_factor(tf, train_df, test_df, tolerance_factor_dict, df_acc, n_tresh=1)\n",
    "        clfs[tf] = clf_t\n",
    "    except:\n",
    "        print('Error in %s' % feat)\n",
    "        continue"
   ]
  },
  {
   "cell_type": "code",
   "execution_count": 6,
   "metadata": {},
   "outputs": [],
   "source": [
    "df_acc.to_csv('/home/nomad-lanasc/Documents/Diego Garzon/TF-ChPVK-PV/models/results/tolerance factors accuracy for several operations.csv')"
   ]
  },
  {
   "cell_type": "code",
   "execution_count": null,
   "metadata": {},
   "outputs": [],
   "source": []
  }
 ],
 "metadata": {
  "kernelspec": {
   "display_name": ".pyenv",
   "language": "python",
   "name": "python3"
  },
  "language_info": {
   "codemirror_mode": {
    "name": "ipython",
    "version": 3
   },
   "file_extension": ".py",
   "mimetype": "text/x-python",
   "name": "python",
   "nbconvert_exporter": "python",
   "pygments_lexer": "ipython3",
   "version": "3.11.11"
  }
 },
 "nbformat": 4,
 "nbformat_minor": 2
}
