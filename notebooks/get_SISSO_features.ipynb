{
 "cells": [
  {
   "cell_type": "markdown",
   "metadata": {},
   "source": [
    "Get the complete data_set, together with the train and test data_set"
   ]
  },
  {
   "cell_type": "code",
   "execution_count": 2,
   "metadata": {},
   "outputs": [
    {
     "name": "stdout",
     "output_type": "stream",
     "text": [
      "\u001b[32m2025-02-04 11:29:37.021\u001b[0m | \u001b[1mINFO    \u001b[0m | \u001b[36mtf_chpvk_pv.dataset\u001b[0m:\u001b[36mcreate_dataset\u001b[0m:\u001b[36m37\u001b[0m - \u001b[1mProcessing dataset...\u001b[0m\n",
      "\u001b[32m2025-02-04 11:29:38.295\u001b[0m | \u001b[32m\u001b[1mSUCCESS \u001b[0m | \u001b[36mtf_chpvk_pv.dataset\u001b[0m:\u001b[36mcreate_dataset\u001b[0m:\u001b[36m122\u001b[0m - \u001b[32m\u001b[1mProcessing dataset complete.\u001b[0m\n",
      "\u001b[32m2025-02-04 11:29:38.295\u001b[0m | \u001b[1mINFO    \u001b[0m | \u001b[36mtf_chpvk_pv.dataset\u001b[0m:\u001b[36mtrain_test_split\u001b[0m:\u001b[36m132\u001b[0m - \u001b[1mCreating train and test dataset...\u001b[0m\n",
      "\u001b[32m2025-02-04 11:29:38.307\u001b[0m | \u001b[32m\u001b[1mSUCCESS \u001b[0m | \u001b[36mtf_chpvk_pv.dataset\u001b[0m:\u001b[36mtrain_test_split\u001b[0m:\u001b[36m170\u001b[0m - \u001b[32m\u001b[1mCreating train and test dataset complete.\u001b[0m\n"
     ]
    }
   ],
   "source": [
    "from tf_chpvk_pv.dataset import *\n",
    "import pandas as pd\n",
    "\n",
    "df = create_dataset()\n",
    "\n",
    "train_df, test_df = train_test_split()"
   ]
  },
  {
   "cell_type": "markdown",
   "metadata": {},
   "source": [
    "Train the SISSO model to obtain the features"
   ]
  },
  {
   "cell_type": "code",
   "execution_count": 5,
   "metadata": {},
   "outputs": [
    {
     "name": "stdout",
     "output_type": "stream",
     "text": [
      "\u001b[32m2025-02-04 11:33:49.420\u001b[0m | \u001b[32m\u001b[1mSUCCESS \u001b[0m | \u001b[36mtf_chpvk_pv.features\u001b[0m:\u001b[36mrun_SISSO_model\u001b[0m:\u001b[36m66\u001b[0m - \u001b[32m\u001b[1mSISSO Features were already generated.\u001b[0m\n"
     ]
    }
   ],
   "source": [
    "from tf_chpvk_pv.features import run_SISSO_model\n",
    "\n",
    "Inputs = run_SISSO_model()"
   ]
  },
  {
   "cell_type": "markdown",
   "metadata": {},
   "source": [
    "Train tree models with the SISSO features, to decide the best t_sisso"
   ]
  },
  {
   "cell_type": "code",
   "execution_count": 15,
   "metadata": {},
   "outputs": [
    {
     "ename": "ImportError",
     "evalue": "cannot import name 'TREES_DIR' from 'tf_chpvk_pv.config' (/home/dagar/TF-ChPVK-PV/tf_chpvk_pv/config.py)",
     "output_type": "error",
     "traceback": [
      "\u001b[0;31m---------------------------------------------------------------------------\u001b[0m",
      "\u001b[0;31mImportError\u001b[0m                               Traceback (most recent call last)",
      "Cell \u001b[0;32mIn[15], line 1\u001b[0m\n\u001b[0;32m----> 1\u001b[0m \u001b[38;5;28;01mfrom\u001b[39;00m\u001b[38;5;250m \u001b[39m\u001b[38;5;21;01mtf_chpvk_pv\u001b[39;00m\u001b[38;5;21;01m.\u001b[39;00m\u001b[38;5;21;01mmodeling\u001b[39;00m\u001b[38;5;21;01m.\u001b[39;00m\u001b[38;5;21;01mtrain\u001b[39;00m\u001b[38;5;250m \u001b[39m\u001b[38;5;28;01mimport\u001b[39;00m \u001b[38;5;241m*\u001b[39m\n\u001b[1;32m      3\u001b[0m t_sisso_expression \u001b[38;5;241m=\u001b[39m train_tree_sis_features()\n\u001b[1;32m      4\u001b[0m train_df, test_df, tolerance_factor_dict \u001b[38;5;241m=\u001b[39m evaluate_t_sisso(t_sisso_expression)\n",
      "File \u001b[0;32m~/TF-ChPVK-PV/tf_chpvk_pv/modeling/train.py:14\u001b[0m\n\u001b[1;32m     11\u001b[0m \u001b[38;5;28;01mimport\u001b[39;00m\u001b[38;5;250m \u001b[39m\u001b[38;5;21;01mmatplotlib\u001b[39;00m\u001b[38;5;21;01m.\u001b[39;00m\u001b[38;5;21;01mpyplot\u001b[39;00m\u001b[38;5;250m \u001b[39m\u001b[38;5;28;01mas\u001b[39;00m\u001b[38;5;250m \u001b[39m\u001b[38;5;21;01mplt\u001b[39;00m\n\u001b[1;32m     12\u001b[0m \u001b[38;5;28;01mimport\u001b[39;00m\u001b[38;5;250m \u001b[39m\u001b[38;5;21;01mpickle\u001b[39;00m\n\u001b[0;32m---> 14\u001b[0m \u001b[38;5;28;01mfrom\u001b[39;00m\u001b[38;5;250m \u001b[39m\u001b[38;5;21;01mtf_chpvk_pv\u001b[39;00m\u001b[38;5;21;01m.\u001b[39;00m\u001b[38;5;21;01mconfig\u001b[39;00m\u001b[38;5;250m \u001b[39m\u001b[38;5;28;01mimport\u001b[39;00m PROCESSED_DATA_DIR, INTERIM_DATA_DIR, TREES_DIR, RESULTS_DIR\n\u001b[1;32m     16\u001b[0m app \u001b[38;5;241m=\u001b[39m typer\u001b[38;5;241m.\u001b[39mTyper()\n\u001b[1;32m     19\u001b[0m \u001b[38;5;129m@app\u001b[39m\u001b[38;5;241m.\u001b[39mcommand()\n\u001b[1;32m     20\u001b[0m \u001b[38;5;28;01mdef\u001b[39;00m\u001b[38;5;250m \u001b[39m\u001b[38;5;21mmain\u001b[39m():\n\u001b[1;32m     21\u001b[0m     \u001b[38;5;66;03m# ---- REPLACE THIS WITH YOUR OWN CODE ----\u001b[39;00m\n",
      "\u001b[0;31mImportError\u001b[0m: cannot import name 'TREES_DIR' from 'tf_chpvk_pv.config' (/home/dagar/TF-ChPVK-PV/tf_chpvk_pv/config.py)"
     ]
    }
   ],
   "source": [
    "from tf_chpvk_pv.modeling.train import *\n",
    "\n",
    "t_sisso_expression = train_tree_sis_features()\n",
    "train_df, test_df, tolerance_factor_dict = evaluate_t_sisso(t_sisso_expression)\n",
    "\n",
    "tfs = ['t_sisso', 't', 'tau', 't_jess']\n",
    "tf_tresh = [1, 2, 1, 2]\n",
    "\n",
    "df_acc =pd.DataFrame()\n",
    "clfs = {}\n",
    "\n",
    "\n",
    "for tf, tresh in zip(tfs, tf_tresh):\n",
    "    df_acc, clf_t = test_tolerance_factor(tf, train_df, test_df, tolerance_factor_dict, df_acc, n_tresh=tresh)\n",
    "    clfs[tf] = clf_t"
   ]
  },
  {
   "cell_type": "code",
   "execution_count": null,
   "metadata": {},
   "outputs": [],
   "source": []
  }
 ],
 "metadata": {
  "kernelspec": {
   "display_name": "tf_chpvk_pv",
   "language": "python",
   "name": "python3"
  },
  "language_info": {
   "codemirror_mode": {
    "name": "ipython",
    "version": 3
   },
   "file_extension": ".py",
   "mimetype": "text/x-python",
   "name": "python",
   "nbconvert_exporter": "python",
   "pygments_lexer": "ipython3",
   "version": "3.13.1"
  }
 },
 "nbformat": 4,
 "nbformat_minor": 2
}
