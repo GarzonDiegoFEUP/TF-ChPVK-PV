{
 "cells": [
  {
   "cell_type": "markdown",
   "metadata": {},
   "source": [
    "Get the complete data_set, together with the train and test data_set"
   ]
  },
  {
   "cell_type": "code",
   "execution_count": 2,
   "metadata": {},
   "outputs": [
    {
     "name": "stdout",
     "output_type": "stream",
     "text": [
      "\u001b[32m2025-02-04 11:29:37.021\u001b[0m | \u001b[1mINFO    \u001b[0m | \u001b[36mtf_chpvk_pv.dataset\u001b[0m:\u001b[36mcreate_dataset\u001b[0m:\u001b[36m37\u001b[0m - \u001b[1mProcessing dataset...\u001b[0m\n",
      "\u001b[32m2025-02-04 11:29:38.295\u001b[0m | \u001b[32m\u001b[1mSUCCESS \u001b[0m | \u001b[36mtf_chpvk_pv.dataset\u001b[0m:\u001b[36mcreate_dataset\u001b[0m:\u001b[36m122\u001b[0m - \u001b[32m\u001b[1mProcessing dataset complete.\u001b[0m\n",
      "\u001b[32m2025-02-04 11:29:38.295\u001b[0m | \u001b[1mINFO    \u001b[0m | \u001b[36mtf_chpvk_pv.dataset\u001b[0m:\u001b[36mtrain_test_split\u001b[0m:\u001b[36m132\u001b[0m - \u001b[1mCreating train and test dataset...\u001b[0m\n",
      "\u001b[32m2025-02-04 11:29:38.307\u001b[0m | \u001b[32m\u001b[1mSUCCESS \u001b[0m | \u001b[36mtf_chpvk_pv.dataset\u001b[0m:\u001b[36mtrain_test_split\u001b[0m:\u001b[36m170\u001b[0m - \u001b[32m\u001b[1mCreating train and test dataset complete.\u001b[0m\n"
     ]
    }
   ],
   "source": [
    "from tf_chpvk_pv.dataset import *\n",
    "import pandas as pd\n",
    "\n",
    "df = create_dataset()\n",
    "\n",
    "train_df, test_df = train_test_split()"
   ]
  },
  {
   "cell_type": "markdown",
   "metadata": {},
   "source": [
    "Train the SISSO model to obtain the features"
   ]
  },
  {
   "cell_type": "code",
   "execution_count": 5,
   "metadata": {},
   "outputs": [
    {
     "name": "stdout",
     "output_type": "stream",
     "text": [
      "\u001b[32m2025-02-04 11:33:49.420\u001b[0m | \u001b[32m\u001b[1mSUCCESS \u001b[0m | \u001b[36mtf_chpvk_pv.features\u001b[0m:\u001b[36mrun_SISSO_model\u001b[0m:\u001b[36m66\u001b[0m - \u001b[32m\u001b[1mSISSO Features were already generated.\u001b[0m\n"
     ]
    }
   ],
   "source": [
    "from tf_chpvk_pv.features import run_SISSO_model\n",
    "\n",
    "Inputs = run_SISSO_model()"
   ]
  },
  {
   "cell_type": "code",
   "execution_count": null,
   "metadata": {},
   "outputs": [],
   "source": []
  }
 ],
 "metadata": {
  "kernelspec": {
   "display_name": "tf_chpvk_pv",
   "language": "python",
   "name": "python3"
  },
  "language_info": {
   "codemirror_mode": {
    "name": "ipython",
    "version": 3
   },
   "file_extension": ".py",
   "mimetype": "text/x-python",
   "name": "python",
   "nbconvert_exporter": "python",
   "pygments_lexer": "ipython3",
   "version": "3.13.1"
  }
 },
 "nbformat": 4,
 "nbformat_minor": 2
}
