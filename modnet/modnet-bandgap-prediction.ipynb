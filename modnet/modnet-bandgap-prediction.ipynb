{
 "cells": [
  {
   "cell_type": "code",
   "execution_count": 15,
   "metadata": {},
   "outputs": [],
   "source": [
    "import numpy as np\n",
    "import pandas as pd\n",
    "from modnet.models import MODNetModel\n",
    "from modnet.preprocessing import MODData\n",
    "from modnet.featurizers.presets import CompositionOnlyMatminer2023Featurizer\n",
    "import matplotlib.pyplot as plt \n",
    "from pymatgen.core import Composition\n",
    "\n",
    "from matminer.utils.warnings import IMPUTE_NAN_WARNING\n",
    "import warnings\n",
    "warnings.filterwarnings(\"ignore\", message=f\".*{IMPUTE_NAN_WARNING}\")\n",
    "warnings.filterwarnings(\"ignore\", f\".*(impute_nan=False).*\", category=UserWarning)\n",
    "\n",
    "featurizer = CompositionOnlyMatminer2023Featurizer()\n",
    "featurizer.composition_featurizers = [f for f in featurizer.composition_featurizers if f.__class__.__name__ != \"IonProperty\"]"
   ]
  },
  {
   "cell_type": "code",
   "execution_count": 16,
   "metadata": {},
   "outputs": [
    {
     "data": {
      "text/html": [
       "<div>\n",
       "<style scoped>\n",
       "    .dataframe tbody tr th:only-of-type {\n",
       "        vertical-align: middle;\n",
       "    }\n",
       "\n",
       "    .dataframe tbody tr th {\n",
       "        vertical-align: top;\n",
       "    }\n",
       "\n",
       "    .dataframe thead th {\n",
       "        text-align: right;\n",
       "    }\n",
       "</style>\n",
       "<table border=\"1\" class=\"dataframe\">\n",
       "  <thead>\n",
       "    <tr style=\"text-align: right;\">\n",
       "      <th></th>\n",
       "      <th>composition</th>\n",
       "      <th>gap expt</th>\n",
       "    </tr>\n",
       "  </thead>\n",
       "  <tbody>\n",
       "    <tr>\n",
       "      <th>0</th>\n",
       "      <td>(Ag, In, Zn, S)</td>\n",
       "      <td>2.30</td>\n",
       "    </tr>\n",
       "    <tr>\n",
       "      <th>1</th>\n",
       "      <td>(Ag, Cu, In, Ga, Se)</td>\n",
       "      <td>0.07</td>\n",
       "    </tr>\n",
       "    <tr>\n",
       "      <th>2</th>\n",
       "      <td>(Ag, Eu, Ge, S)</td>\n",
       "      <td>2.14</td>\n",
       "    </tr>\n",
       "    <tr>\n",
       "      <th>3</th>\n",
       "      <td>(Ag, Pb, Ge, S)</td>\n",
       "      <td>1.83</td>\n",
       "    </tr>\n",
       "    <tr>\n",
       "      <th>4</th>\n",
       "      <td>(Ag, Pb, Ge, Se)</td>\n",
       "      <td>1.51</td>\n",
       "    </tr>\n",
       "  </tbody>\n",
       "</table>\n",
       "</div>"
      ],
      "text/plain": [
       "            composition  gap expt\n",
       "0       (Ag, In, Zn, S)      2.30\n",
       "1  (Ag, Cu, In, Ga, Se)      0.07\n",
       "2       (Ag, Eu, Ge, S)      2.14\n",
       "3       (Ag, Pb, Ge, S)      1.83\n",
       "4      (Ag, Pb, Ge, Se)      1.51"
      ]
     },
     "execution_count": 16,
     "metadata": {},
     "output_type": "execute_result"
    }
   ],
   "source": [
    "df = pd.read_csv('data/df_grouped_formula_complete_dataset.csv')\n",
    "\n",
    "df[\"composition\"] = df['formula'].map(Composition)\n",
    "df.rename(columns={'target':'gap expt'}, inplace=True)\n",
    "df.drop(columns=['index', 'formula'], inplace=True)\n",
    "df.dropna(subset=['gap expt'], inplace=True)\n",
    "df = df[['composition', 'gap expt']]\n",
    "df.head()"
   ]
  },
  {
   "cell_type": "code",
   "execution_count": 17,
   "metadata": {},
   "outputs": [
    {
     "data": {
      "image/png": "[encoded data removed]",
      "text/plain": [
       "<Figure size 640x480 with 1 Axes>"
      ]
     },
     "metadata": {},
     "output_type": "display_data"
    }
   ],
   "source": [
    "fig, ax = plt.subplots(facecolor=\"w\")\n",
    "ax.hist(df[\"gap expt\"], bins=11, density=False)\n",
    "ax.set_ylabel(\"Frequency\")\n",
    "ax.set_xlabel(\"Band gap (eV)\")\n",
    "plt.show()"
   ]
  },
  {
   "cell_type": "code",
   "execution_count": 19,
   "metadata": {},
   "outputs": [
    {
     "name": "stdout",
     "output_type": "stream",
     "text": [
      "2025-03-17 15:41:48,448 - modnet - INFO - Loaded CompositionOnlyMatminer2023Featurizer featurizer.\n"
     ]
    }
   ],
   "source": [
    "# This instantiates the MODData\n",
    "data = MODData(\n",
    "    materials=df[\"composition\"], # you can provide composition objects to MODData\n",
    "    targets=df[\"gap expt\"], \n",
    "    target_names=[\"gap_expt_eV\"],\n",
    "    featurizer=featurizer\n",
    ")"
   ]
  },
  {
   "cell_type": "code",
   "execution_count": 20,
   "metadata": {},
   "outputs": [
    {
     "name": "stdout",
     "output_type": "stream",
     "text": [
      "2025-03-17 15:41:51,593 - modnet - INFO - Computing features, this can take time...\n",
      "2025-03-17 15:41:51,594 - modnet - INFO - Applying composition featurizers...\n",
      "2025-03-17 15:41:51,598 - modnet - INFO - Applying featurizers [AtomicOrbitals(), AtomicPackingEfficiency(), BandCenter(), ElementFraction(), ElementProperty(data_source=<matminer.utils.data.MagpieData object at 0x71be110ac9a0>,\n",
      "                features=['Number', 'MendeleevNumber', 'AtomicWeight',\n",
      "                          'MeltingT', 'Column', 'Row', 'CovalentRadius',\n",
      "                          'Electronegativity', 'NsValence', 'NpValence',\n",
      "                          'NdValence', 'NfValence', 'NValence', 'NsUnfilled',\n",
      "                          'NpUnfilled', 'NdUnfilled', 'NfUnfilled', 'NUnfilled',\n",
      "                          'GSvolume_pa', 'GSbandgap', 'GSmagmom',\n",
      "                          'SpaceGroupNumber'],\n",
      "                stats=['minimum', 'maximum', 'range', 'mean', 'avg_dev',\n",
      "                       'mode']), Miedema(ss_types=['min'], struct_types=['inter', 'amor', 'ss']), Stoichiometry(), TMetalFraction(), ValenceOrbital(), YangSolidSolution()] to column 'composition'.\n"
     ]
    },
    {
     "name": "stderr",
     "output_type": "stream",
     "text": [
      "MultipleFeaturizer:  83%|████████▎ | 2980/3605 [19:46<02:55,  3.56it/s]  /home/nomad-lanasc/anaconda3/envs/modnet/lib/python3.9/site-packages/pymatgen/core/periodic_table.py:216: UserWarning: No data available for atomic_orbitals for Pu\n",
      "  warnings.warn(f\"No data available for {item} for {self.symbol}\")\n",
      "MultipleFeaturizer:  83%|████████▎ | 3010/3605 [19:49<01:29,  6.63it/s]/home/nomad-lanasc/anaconda3/envs/modnet/lib/python3.9/site-packages/pymatgen/core/periodic_table.py:216: UserWarning: No data available for atomic_orbitals for Pu\n",
      "  warnings.warn(f\"No data available for {item} for {self.symbol}\")\n",
      "MultipleFeaturizer:  86%|████████▌ | 3100/3605 [20:13<01:53,  4.44it/s]/home/nomad-lanasc/anaconda3/envs/modnet/lib/python3.9/site-packages/pymatgen/core/periodic_table.py:216: UserWarning: No data available for atomic_orbitals for Am\n",
      "  warnings.warn(f\"No data available for {item} for {self.symbol}\")\n",
      "MultipleFeaturizer: 100%|██████████| 3605/3605 [22:04<00:00,  2.72it/s]\n"
     ]
    },
    {
     "name": "stdout",
     "output_type": "stream",
     "text": [
      "2025-03-17 16:04:09,405 - modnet - INFO - Data has successfully been featurized!\n"
     ]
    }
   ],
   "source": [
    "data.featurize()"
   ]
  },
  {
   "cell_type": "code",
   "execution_count": 32,
   "metadata": {},
   "outputs": [],
   "source": [
    "from sklearn.model_selection import train_test_split\n",
    "split = train_test_split(range(100), test_size=0.1, random_state=1234)\n",
    "train, test = data.split(split)"
   ]
  },
  {
   "cell_type": "code",
   "execution_count": 33,
   "metadata": {},
   "outputs": [
    {
     "name": "stderr",
     "output_type": "stream",
     "text": [
      "/home/nomad-lanasc/anaconda3/envs/modnet/lib/python3.9/site-packages/sklearn/utils/_array_api.py:776: RuntimeWarning: All-NaN slice encountered\n",
      "  return xp.asarray(numpy.nanmin(X, axis=axis))\n",
      "/home/nomad-lanasc/anaconda3/envs/modnet/lib/python3.9/site-packages/sklearn/utils/_array_api.py:793: RuntimeWarning: All-NaN slice encountered\n",
      "  return xp.asarray(numpy.nanmax(X, axis=axis))\n"
     ]
    },
    {
     "name": "stdout",
     "output_type": "stream",
     "text": [
      "2025-03-17 16:13:34,747 - modnet - INFO - Multiprocessing on 1 workers.\n",
      "2025-03-17 16:13:34,748 - modnet - INFO - Computing \"self\" MI (i.e. information entropy) of features\n"
     ]
    },
    {
     "name": "stderr",
     "output_type": "stream",
     "text": [
      "100%|██████████| 283/283 [00:00<00:00, 575.63it/s]"
     ]
    },
    {
     "name": "stdout",
     "output_type": "stream",
     "text": [
      "2025-03-17 16:13:35,253 - modnet - INFO - Computing cross NMI between all features...\n"
     ]
    },
    {
     "name": "stderr",
     "output_type": "stream",
     "text": [
      "\n",
      "100%|██████████| 11628/11628 [00:19<00:00, 598.61it/s]"
     ]
    },
    {
     "name": "stdout",
     "output_type": "stream",
     "text": [
      "2025-03-17 16:13:54,754 - modnet - INFO - Starting target 1/1: gap_expt_eV ...\n",
      "2025-03-17 16:13:54,755 - modnet - INFO - Computing mutual information between features and target...\n"
     ]
    },
    {
     "name": "stderr",
     "output_type": "stream",
     "text": [
      "\n",
      "/home/nomad-lanasc/anaconda3/envs/modnet/lib/python3.9/site-packages/sklearn/utils/_array_api.py:776: RuntimeWarning: All-NaN slice encountered\n",
      "  return xp.asarray(numpy.nanmin(X, axis=axis))\n",
      "/home/nomad-lanasc/anaconda3/envs/modnet/lib/python3.9/site-packages/sklearn/utils/_array_api.py:793: RuntimeWarning: All-NaN slice encountered\n",
      "  return xp.asarray(numpy.nanmax(X, axis=axis))\n"
     ]
    },
    {
     "name": "stdout",
     "output_type": "stream",
     "text": [
      "2025-03-17 16:13:55,251 - modnet - INFO - Computing optimal features...\n",
      "2025-03-17 16:13:57,341 - modnet - INFO - Selected 50/142 features...\n",
      "2025-03-17 16:13:58,650 - modnet - INFO - Selected 100/142 features...\n",
      "2025-03-17 16:13:59,083 - modnet - INFO - Done with target 1/1: gap_expt_eV.\n",
      "2025-03-17 16:13:59,084 - modnet - INFO - Merging all features...\n",
      "2025-03-17 16:13:59,084 - modnet - INFO - Done.\n"
     ]
    }
   ],
   "source": [
    "train.feature_selection(n=142)"
   ]
  },
  {
   "cell_type": "code",
   "execution_count": 34,
   "metadata": {},
   "outputs": [],
   "source": [
    "model = MODNetModel([[['gap_expt_eV']]],\n",
    "                    weights={'gap_expt_eV':1},\n",
    "                    num_neurons = [[256], [128], [16], [16]],\n",
    "                    n_feat = 142,\n",
    "                    act =  \"elu\"\n",
    "                   )"
   ]
  },
  {
   "cell_type": "code",
   "execution_count": 35,
   "metadata": {},
   "outputs": [
    {
     "name": "stdout",
     "output_type": "stream",
     "text": [
      "epoch 0: loss: 1.700, val_loss:0.945 val_mae:0.945\n",
      "epoch 1: loss: 1.284, val_loss:0.588 val_mae:0.588\n",
      "epoch 2: loss: 0.946, val_loss:0.391 val_mae:0.391\n",
      "epoch 3: loss: 0.747, val_loss:0.548 val_mae:0.548\n",
      "epoch 4: loss: 0.666, val_loss:0.718 val_mae:0.718\n",
      "epoch 5: loss: 0.671, val_loss:0.788 val_mae:0.788\n",
      "epoch 6: loss: 0.695, val_loss:0.785 val_mae:0.785\n",
      "epoch 7: loss: 0.665, val_loss:0.722 val_mae:0.722\n",
      "epoch 8: loss: 0.607, val_loss:0.628 val_mae:0.628\n",
      "epoch 9: loss: 0.554, val_loss:0.542 val_mae:0.542\n",
      "epoch 10: loss: 0.530, val_loss:0.477 val_mae:0.477\n",
      "epoch 11: loss: 0.531, val_loss:0.441 val_mae:0.441\n",
      "epoch 12: loss: 0.527, val_loss:0.441 val_mae:0.441\n",
      "epoch 13: loss: 0.509, val_loss:0.474 val_mae:0.474\n",
      "epoch 14: loss: 0.493, val_loss:0.510 val_mae:0.510\n",
      "epoch 15: loss: 0.481, val_loss:0.531 val_mae:0.531\n",
      "epoch 16: loss: 0.470, val_loss:0.540 val_mae:0.540\n",
      "epoch 17: loss: 0.462, val_loss:0.537 val_mae:0.537\n",
      "epoch 18: loss: 0.447, val_loss:0.517 val_mae:0.517\n",
      "epoch 19: loss: 0.433, val_loss:0.487 val_mae:0.487\n",
      "epoch 20: loss: 0.419, val_loss:0.461 val_mae:0.461\n",
      "epoch 21: loss: 0.408, val_loss:0.446 val_mae:0.446\n",
      "epoch 22: loss: 0.395, val_loss:0.445 val_mae:0.445\n",
      "epoch 23: loss: 0.379, val_loss:0.458 val_mae:0.458\n",
      "epoch 24: loss: 0.376, val_loss:0.459 val_mae:0.459\n",
      "epoch 25: loss: 0.371, val_loss:0.437 val_mae:0.437\n",
      "epoch 26: loss: 0.360, val_loss:0.417 val_mae:0.417\n",
      "epoch 27: loss: 0.357, val_loss:0.411 val_mae:0.411\n",
      "epoch 28: loss: 0.352, val_loss:0.412 val_mae:0.412\n",
      "epoch 29: loss: 0.345, val_loss:0.414 val_mae:0.414\n",
      "epoch 30: loss: 0.339, val_loss:0.411 val_mae:0.411\n",
      "epoch 31: loss: 0.335, val_loss:0.408 val_mae:0.408\n",
      "epoch 32: loss: 0.336, val_loss:0.417 val_mae:0.417\n",
      "epoch 33: loss: 0.332, val_loss:0.429 val_mae:0.429\n",
      "epoch 34: loss: 0.328, val_loss:0.428 val_mae:0.428\n",
      "epoch 35: loss: 0.321, val_loss:0.398 val_mae:0.398\n",
      "epoch 36: loss: 0.324, val_loss:0.384 val_mae:0.384\n",
      "epoch 37: loss: 0.328, val_loss:0.384 val_mae:0.384\n",
      "epoch 38: loss: 0.316, val_loss:0.392 val_mae:0.392\n",
      "epoch 39: loss: 0.314, val_loss:0.426 val_mae:0.426\n",
      "epoch 40: loss: 0.316, val_loss:0.447 val_mae:0.447\n",
      "epoch 41: loss: 0.314, val_loss:0.449 val_mae:0.449\n",
      "epoch 42: loss: 0.309, val_loss:0.428 val_mae:0.428\n",
      "epoch 43: loss: 0.307, val_loss:0.406 val_mae:0.406\n",
      "epoch 44: loss: 0.308, val_loss:0.394 val_mae:0.394\n",
      "epoch 45: loss: 0.306, val_loss:0.395 val_mae:0.395\n",
      "epoch 46: loss: 0.296, val_loss:0.401 val_mae:0.401\n",
      "epoch 47: loss: 0.293, val_loss:0.398 val_mae:0.398\n",
      "epoch 48: loss: 0.295, val_loss:0.379 val_mae:0.379\n",
      "epoch 49: loss: 0.292, val_loss:0.363 val_mae:0.363\n",
      "epoch 50: loss: 0.289, val_loss:0.360 val_mae:0.360\n",
      "epoch 51: loss: 0.287, val_loss:0.368 val_mae:0.368\n",
      "epoch 52: loss: 0.282, val_loss:0.386 val_mae:0.386\n",
      "epoch 53: loss: 0.284, val_loss:0.397 val_mae:0.397\n",
      "epoch 54: loss: 0.286, val_loss:0.382 val_mae:0.382\n",
      "epoch 55: loss: 0.281, val_loss:0.367 val_mae:0.367\n",
      "epoch 56: loss: 0.282, val_loss:0.363 val_mae:0.363\n",
      "epoch 57: loss: 0.272, val_loss:0.371 val_mae:0.371\n",
      "epoch 58: loss: 0.284, val_loss:0.368 val_mae:0.368\n",
      "epoch 59: loss: 0.282, val_loss:0.348 val_mae:0.348\n",
      "epoch 60: loss: 0.271, val_loss:0.347 val_mae:0.347\n",
      "epoch 61: loss: 0.277, val_loss:0.360 val_mae:0.360\n",
      "epoch 62: loss: 0.276, val_loss:0.377 val_mae:0.377\n",
      "epoch 63: loss: 0.268, val_loss:0.374 val_mae:0.374\n",
      "epoch 64: loss: 0.266, val_loss:0.352 val_mae:0.352\n",
      "epoch 65: loss: 0.265, val_loss:0.337 val_mae:0.337\n",
      "epoch 66: loss: 0.268, val_loss:0.341 val_mae:0.341\n",
      "epoch 67: loss: 0.262, val_loss:0.359 val_mae:0.359\n",
      "epoch 68: loss: 0.260, val_loss:0.368 val_mae:0.368\n",
      "epoch 69: loss: 0.262, val_loss:0.362 val_mae:0.362\n",
      "epoch 70: loss: 0.256, val_loss:0.362 val_mae:0.362\n",
      "epoch 71: loss: 0.251, val_loss:0.370 val_mae:0.370\n",
      "epoch 72: loss: 0.251, val_loss:0.374 val_mae:0.374\n",
      "epoch 73: loss: 0.251, val_loss:0.370 val_mae:0.370\n",
      "epoch 74: loss: 0.247, val_loss:0.372 val_mae:0.372\n",
      "epoch 75: loss: 0.245, val_loss:0.370 val_mae:0.370\n",
      "epoch 76: loss: 0.247, val_loss:0.369 val_mae:0.369\n",
      "epoch 77: loss: 0.247, val_loss:0.374 val_mae:0.374\n",
      "epoch 78: loss: 0.243, val_loss:0.374 val_mae:0.374\n",
      "epoch 79: loss: 0.243, val_loss:0.370 val_mae:0.370\n",
      "epoch 80: loss: 0.242, val_loss:0.368 val_mae:0.368\n",
      "epoch 81: loss: 0.238, val_loss:0.369 val_mae:0.369\n",
      "epoch 82: loss: 0.242, val_loss:0.369 val_mae:0.369\n",
      "epoch 83: loss: 0.238, val_loss:0.371 val_mae:0.371\n",
      "epoch 84: loss: 0.243, val_loss:0.370 val_mae:0.370\n",
      "epoch 85: loss: 0.238, val_loss:0.364 val_mae:0.364\n",
      "epoch 86: loss: 0.242, val_loss:0.355 val_mae:0.355\n",
      "epoch 87: loss: 0.238, val_loss:0.359 val_mae:0.359\n",
      "epoch 88: loss: 0.244, val_loss:0.363 val_mae:0.363\n",
      "epoch 89: loss: 0.234, val_loss:0.369 val_mae:0.369\n",
      "epoch 90: loss: 0.242, val_loss:0.369 val_mae:0.369\n",
      "epoch 91: loss: 0.233, val_loss:0.364 val_mae:0.364\n",
      "epoch 92: loss: 0.236, val_loss:0.367 val_mae:0.367\n",
      "epoch 93: loss: 0.232, val_loss:0.375 val_mae:0.375\n",
      "epoch 94: loss: 0.244, val_loss:0.377 val_mae:0.377\n",
      "epoch 95: loss: 0.235, val_loss:0.378 val_mae:0.378\n",
      "epoch 96: loss: 0.238, val_loss:0.376 val_mae:0.376\n",
      "epoch 97: loss: 0.227, val_loss:0.377 val_mae:0.377\n",
      "epoch 98: loss: 0.238, val_loss:0.371 val_mae:0.371\n",
      "epoch 99: loss: 0.230, val_loss:0.369 val_mae:0.369\n",
      "2025-03-17 16:14:01,380 - modnet - INFO - Model successfully saved as models/modnet_gap_expt.tgz!\n"
     ]
    }
   ],
   "source": [
    "model.fit(train,\n",
    "          val_fraction = 0.1,\n",
    "          lr = 0.0002,\n",
    "          batch_size = 64,\n",
    "          loss = 'mae',\n",
    "          epochs = 100,\n",
    "          verbose = 1,\n",
    "         )\n",
    "\n",
    "\n",
    "model.save(\"models/modnet_gap_expt.tgz\")"
   ]
  },
  {
   "cell_type": "code",
   "execution_count": 36,
   "metadata": {},
   "outputs": [
    {
     "name": "stdout",
     "output_type": "stream",
     "text": [
      "1/1 [==============================] - 0s 72ms/step\n"
     ]
    },
    {
     "data": {
      "text/html": [
       "<div>\n",
       "<style scoped>\n",
       "    .dataframe tbody tr th:only-of-type {\n",
       "        vertical-align: middle;\n",
       "    }\n",
       "\n",
       "    .dataframe tbody tr th {\n",
       "        vertical-align: top;\n",
       "    }\n",
       "\n",
       "    .dataframe thead th {\n",
       "        text-align: right;\n",
       "    }\n",
       "</style>\n",
       "<table border=\"1\" class=\"dataframe\">\n",
       "  <thead>\n",
       "    <tr style=\"text-align: right;\">\n",
       "      <th></th>\n",
       "      <th>gap_expt_eV</th>\n",
       "    </tr>\n",
       "  </thead>\n",
       "  <tbody>\n",
       "    <tr>\n",
       "      <th>id40</th>\n",
       "      <td>1.924583</td>\n",
       "    </tr>\n",
       "    <tr>\n",
       "      <th>id35</th>\n",
       "      <td>2.476603</td>\n",
       "    </tr>\n",
       "    <tr>\n",
       "      <th>id81</th>\n",
       "      <td>0.349069</td>\n",
       "    </tr>\n",
       "    <tr>\n",
       "      <th>id61</th>\n",
       "      <td>1.585564</td>\n",
       "    </tr>\n",
       "    <tr>\n",
       "      <th>id98</th>\n",
       "      <td>2.379502</td>\n",
       "    </tr>\n",
       "  </tbody>\n",
       "</table>\n",
       "</div>"
      ],
      "text/plain": [
       "      gap_expt_eV\n",
       "id40     1.924583\n",
       "id35     2.476603\n",
       "id81     0.349069\n",
       "id61     1.585564\n",
       "id98     2.379502"
      ]
     },
     "execution_count": 36,
     "metadata": {},
     "output_type": "execute_result"
    }
   ],
   "source": [
    "pred = model.predict(test)\n",
    "pred.head()"
   ]
  },
  {
   "cell_type": "code",
   "execution_count": 38,
   "metadata": {},
   "outputs": [
    {
     "data": {
      "text/html": [
       "<div>\n",
       "<style scoped>\n",
       "    .dataframe tbody tr th:only-of-type {\n",
       "        vertical-align: middle;\n",
       "    }\n",
       "\n",
       "    .dataframe tbody tr th {\n",
       "        vertical-align: top;\n",
       "    }\n",
       "\n",
       "    .dataframe thead th {\n",
       "        text-align: right;\n",
       "    }\n",
       "</style>\n",
       "<table border=\"1\" class=\"dataframe\">\n",
       "  <thead>\n",
       "    <tr style=\"text-align: right;\">\n",
       "      <th></th>\n",
       "      <th>gap_expt_eV</th>\n",
       "    </tr>\n",
       "  </thead>\n",
       "  <tbody>\n",
       "    <tr>\n",
       "      <th>id40</th>\n",
       "      <td>1.924583</td>\n",
       "    </tr>\n",
       "    <tr>\n",
       "      <th>id35</th>\n",
       "      <td>2.476603</td>\n",
       "    </tr>\n",
       "    <tr>\n",
       "      <th>id81</th>\n",
       "      <td>0.349069</td>\n",
       "    </tr>\n",
       "    <tr>\n",
       "      <th>id61</th>\n",
       "      <td>1.585564</td>\n",
       "    </tr>\n",
       "    <tr>\n",
       "      <th>id98</th>\n",
       "      <td>2.379502</td>\n",
       "    </tr>\n",
       "    <tr>\n",
       "      <th>id68</th>\n",
       "      <td>2.256349</td>\n",
       "    </tr>\n",
       "    <tr>\n",
       "      <th>id85</th>\n",
       "      <td>0.962378</td>\n",
       "    </tr>\n",
       "    <tr>\n",
       "      <th>id27</th>\n",
       "      <td>1.630686</td>\n",
       "    </tr>\n",
       "    <tr>\n",
       "      <th>id39</th>\n",
       "      <td>2.301557</td>\n",
       "    </tr>\n",
       "    <tr>\n",
       "      <th>id42</th>\n",
       "      <td>2.229647</td>\n",
       "    </tr>\n",
       "  </tbody>\n",
       "</table>\n",
       "</div>"
      ],
      "text/plain": [
       "      gap_expt_eV\n",
       "id40     1.924583\n",
       "id35     2.476603\n",
       "id81     0.349069\n",
       "id61     1.585564\n",
       "id98     2.379502\n",
       "id68     2.256349\n",
       "id85     0.962378\n",
       "id27     1.630686\n",
       "id39     2.301557\n",
       "id42     2.229647"
      ]
     },
     "execution_count": 38,
     "metadata": {},
     "output_type": "execute_result"
    }
   ],
   "source": [
    "pred"
   ]
  },
  {
   "cell_type": "code",
   "execution_count": 37,
   "metadata": {},
   "outputs": [
    {
     "name": "stdout",
     "output_type": "stream",
     "text": [
      "mae: 0.6853056003994412\n"
     ]
    }
   ],
   "source": [
    "mae_test = np.absolute(pred.values-test.df_targets.values).mean()\n",
    "print(f'mae: {mae_test}')"
   ]
  },
  {
   "cell_type": "code",
   "execution_count": 39,
   "metadata": {},
   "outputs": [
    {
     "data": {
      "text/plain": [
       "<modnet.preprocessing.MODData at 0x71be89bf7580>"
      ]
     },
     "execution_count": 39,
     "metadata": {},
     "output_type": "execute_result"
    }
   ],
   "source": [
    "data"
   ]
  },
  {
   "cell_type": "code",
   "execution_count": null,
   "metadata": {},
   "outputs": [],
   "source": []
  }
 ],
 "metadata": {
  "kernelspec": {
   "display_name": "modnet",
   "language": "python",
   "name": "python3"
  },
  "language_info": {
   "codemirror_mode": {
    "name": "ipython",
    "version": 3
   },
   "file_extension": ".py",
   "mimetype": "text/x-python",
   "name": "python",
   "nbconvert_exporter": "python",
   "pygments_lexer": "ipython3",
   "version": "3.9.21"
  }
 },
 "nbformat": 4,
 "nbformat_minor": 2
}
