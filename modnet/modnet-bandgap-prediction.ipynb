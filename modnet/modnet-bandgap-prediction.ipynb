{
 "cells": [
  {
   "cell_type": "code",
   "execution_count": 1,
   "metadata": {},
   "outputs": [
    {
     "name": "stderr",
     "output_type": "stream",
     "text": [
      "2025-03-18 15:53:14.043244: I tensorflow/core/platform/cpu_feature_guard.cc:193] This TensorFlow binary is optimized with oneAPI Deep Neural Network Library (oneDNN) to use the following CPU instructions in performance-critical operations:  AVX2 FMA\n",
      "To enable them in other operations, rebuild TensorFlow with the appropriate compiler flags.\n",
      "2025-03-18 15:53:14.120667: W tensorflow/compiler/xla/stream_executor/platform/default/dso_loader.cc:64] Could not load dynamic library 'libcudart.so.11.0'; dlerror: libcudart.so.11.0: cannot open shared object file: No such file or directory\n",
      "2025-03-18 15:53:14.120683: I tensorflow/compiler/xla/stream_executor/cuda/cudart_stub.cc:29] Ignore above cudart dlerror if you do not have a GPU set up on your machine.\n",
      "2025-03-18 15:53:14.621617: W tensorflow/compiler/xla/stream_executor/platform/default/dso_loader.cc:64] Could not load dynamic library 'libnvinfer.so.7'; dlerror: libnvinfer.so.7: cannot open shared object file: No such file or directory\n",
      "2025-03-18 15:53:14.621675: W tensorflow/compiler/xla/stream_executor/platform/default/dso_loader.cc:64] Could not load dynamic library 'libnvinfer_plugin.so.7'; dlerror: libnvinfer_plugin.so.7: cannot open shared object file: No such file or directory\n",
      "2025-03-18 15:53:14.621681: W tensorflow/compiler/tf2tensorrt/utils/py_utils.cc:38] TF-TRT Warning: Cannot dlopen some TensorRT libraries. If you would like to use Nvidia GPU with TensorRT, please make sure the missing libraries mentioned above are installed properly.\n",
      "/home/nomad-lanasc/anaconda3/envs/modnet/lib/python3.9/site-packages/tqdm/auto.py:21: TqdmWarning: IProgress not found. Please update jupyter and ipywidgets. See https://ipywidgets.readthedocs.io/en/stable/user_install.html\n",
      "  from .autonotebook import tqdm as notebook_tqdm\n"
     ]
    }
   ],
   "source": [
    "import numpy as np\n",
    "import pandas as pd\n",
    "from modnet.models import MODNetModel\n",
    "from modnet.preprocessing import MODData\n",
    "from modnet.featurizers.presets import CompositionOnlyMatminer2023Featurizer\n",
    "import matplotlib.pyplot as plt \n",
    "from pymatgen.core import Composition\n",
    "\n",
    "from matminer.utils.warnings import IMPUTE_NAN_WARNING\n",
    "import warnings\n",
    "warnings.filterwarnings(\"ignore\", message=f\".*{IMPUTE_NAN_WARNING}\")\n",
    "warnings.filterwarnings(\"ignore\", f\".*(impute_nan=False).*\", category=UserWarning)\n",
    "\n",
    "featurizer = CompositionOnlyMatminer2023Featurizer()\n",
    "featurizer.composition_featurizers = [f for f in featurizer.composition_featurizers if f.__class__.__name__ != \"IonProperty\"]"
   ]
  },
  {
   "cell_type": "code",
   "execution_count": 2,
   "metadata": {},
   "outputs": [
    {
     "data": {
      "text/html": [
       "<div>\n",
       "<style scoped>\n",
       "    .dataframe tbody tr th:only-of-type {\n",
       "        vertical-align: middle;\n",
       "    }\n",
       "\n",
       "    .dataframe tbody tr th {\n",
       "        vertical-align: top;\n",
       "    }\n",
       "\n",
       "    .dataframe thead th {\n",
       "        text-align: right;\n",
       "    }\n",
       "</style>\n",
       "<table border=\"1\" class=\"dataframe\">\n",
       "  <thead>\n",
       "    <tr style=\"text-align: right;\">\n",
       "      <th></th>\n",
       "      <th>composition</th>\n",
       "      <th>gap expt</th>\n",
       "    </tr>\n",
       "  </thead>\n",
       "  <tbody>\n",
       "    <tr>\n",
       "      <th>0</th>\n",
       "      <td>(Ag, In, Zn, S)</td>\n",
       "      <td>2.30</td>\n",
       "    </tr>\n",
       "    <tr>\n",
       "      <th>1</th>\n",
       "      <td>(Ag, Cu, In, Ga, Se)</td>\n",
       "      <td>0.07</td>\n",
       "    </tr>\n",
       "    <tr>\n",
       "      <th>2</th>\n",
       "      <td>(Ag, Eu, Ge, S)</td>\n",
       "      <td>2.14</td>\n",
       "    </tr>\n",
       "    <tr>\n",
       "      <th>3</th>\n",
       "      <td>(Ag, Pb, Ge, S)</td>\n",
       "      <td>1.83</td>\n",
       "    </tr>\n",
       "    <tr>\n",
       "      <th>4</th>\n",
       "      <td>(Ag, Pb, Ge, Se)</td>\n",
       "      <td>1.51</td>\n",
       "    </tr>\n",
       "  </tbody>\n",
       "</table>\n",
       "</div>"
      ],
      "text/plain": [
       "            composition  gap expt\n",
       "0       (Ag, In, Zn, S)      2.30\n",
       "1  (Ag, Cu, In, Ga, Se)      0.07\n",
       "2       (Ag, Eu, Ge, S)      2.14\n",
       "3       (Ag, Pb, Ge, S)      1.83\n",
       "4      (Ag, Pb, Ge, Se)      1.51"
      ]
     },
     "execution_count": 2,
     "metadata": {},
     "output_type": "execute_result"
    }
   ],
   "source": [
    "df = pd.read_csv('data/df_grouped_formula_complete_dataset.csv')\n",
    "\n",
    "df[\"composition\"] = df['formula'].map(Composition)\n",
    "df.rename(columns={'target':'gap expt'}, inplace=True)\n",
    "df.drop(columns=['index', 'formula'], inplace=True)\n",
    "df.dropna(subset=['gap expt'], inplace=True)\n",
    "df = df[['composition', 'gap expt']]\n",
    "df.head()"
   ]
  },
  {
   "cell_type": "code",
   "execution_count": 3,
   "metadata": {},
   "outputs": [
    {
     "data": {
      "image/png": "[encoded data removed]",
      "text/plain": [
       "<Figure size 640x480 with 1 Axes>"
      ]
     },
     "metadata": {},
     "output_type": "display_data"
    }
   ],
   "source": [
    "fig, ax = plt.subplots(facecolor=\"w\")\n",
    "ax.hist(df[\"gap expt\"], bins=11, density=False)\n",
    "ax.set_ylabel(\"Frequency\")\n",
    "ax.set_xlabel(\"Band gap (eV)\")\n",
    "plt.show()"
   ]
  },
  {
   "cell_type": "code",
   "execution_count": 4,
   "metadata": {},
   "outputs": [
    {
     "name": "stdout",
     "output_type": "stream",
     "text": [
      "2025-03-18 15:53:17,088 - modnet - INFO - Loaded CompositionOnlyMatminer2023Featurizer featurizer.\n"
     ]
    }
   ],
   "source": [
    "# This instantiates the MODData\n",
    "data = MODData(\n",
    "    materials=df[\"composition\"], # you can provide composition objects to MODData\n",
    "    targets=df[\"gap expt\"], \n",
    "    target_names=[\"gap_expt_eV\"],\n",
    "    featurizer=featurizer\n",
    ")"
   ]
  },
  {
   "cell_type": "code",
   "execution_count": 5,
   "metadata": {},
   "outputs": [
    {
     "name": "stdout",
     "output_type": "stream",
     "text": [
      "2025-03-18 15:53:17,097 - modnet - INFO - Computing features, this can take time...\n",
      "2025-03-18 15:53:17,099 - modnet - INFO - Applying composition featurizers...\n",
      "2025-03-18 15:53:17,103 - modnet - INFO - Applying featurizers [AtomicOrbitals(), AtomicPackingEfficiency(), BandCenter(), ElementFraction(), ElementProperty(data_source=<matminer.utils.data.MagpieData object at 0x79e9986e8c70>,\n",
      "                features=['Number', 'MendeleevNumber', 'AtomicWeight',\n",
      "                          'MeltingT', 'Column', 'Row', 'CovalentRadius',\n",
      "                          'Electronegativity', 'NsValence', 'NpValence',\n",
      "                          'NdValence', 'NfValence', 'NValence', 'NsUnfilled',\n",
      "                          'NpUnfilled', 'NdUnfilled', 'NfUnfilled', 'NUnfilled',\n",
      "                          'GSvolume_pa', 'GSbandgap', 'GSmagmom',\n",
      "                          'SpaceGroupNumber'],\n",
      "                stats=['minimum', 'maximum', 'range', 'mean', 'avg_dev',\n",
      "                       'mode']), Miedema(ss_types=['min'], struct_types=['inter', 'amor', 'ss']), Stoichiometry(), TMetalFraction(), ValenceOrbital(), YangSolidSolution()] to column 'composition'.\n"
     ]
    },
    {
     "name": "stderr",
     "output_type": "stream",
     "text": [
      "MultipleFeaturizer:  83%|████████▎ | 2980/3605 [19:28<02:28,  4.21it/s]  /home/nomad-lanasc/anaconda3/envs/modnet/lib/python3.9/site-packages/pymatgen/core/periodic_table.py:216: UserWarning: No data available for atomic_orbitals for Pu\n",
      "  warnings.warn(f\"No data available for {item} for {self.symbol}\")\n",
      "MultipleFeaturizer:  83%|████████▎ | 3010/3605 [19:31<01:31,  6.51it/s]/home/nomad-lanasc/anaconda3/envs/modnet/lib/python3.9/site-packages/pymatgen/core/periodic_table.py:216: UserWarning: No data available for atomic_orbitals for Pu\n",
      "  warnings.warn(f\"No data available for {item} for {self.symbol}\")\n",
      "MultipleFeaturizer:  86%|████████▌ | 3100/3605 [19:53<01:39,  5.09it/s]/home/nomad-lanasc/anaconda3/envs/modnet/lib/python3.9/site-packages/pymatgen/core/periodic_table.py:216: UserWarning: No data available for atomic_orbitals for Am\n",
      "  warnings.warn(f\"No data available for {item} for {self.symbol}\")\n",
      "MultipleFeaturizer: 100%|██████████| 3605/3605 [21:46<00:00,  2.76it/s]\n"
     ]
    },
    {
     "name": "stdout",
     "output_type": "stream",
     "text": [
      "2025-03-18 16:15:18,717 - modnet - INFO - Data has successfully been featurized!\n"
     ]
    }
   ],
   "source": [
    "data.featurize()"
   ]
  },
  {
   "cell_type": "code",
   "execution_count": 6,
   "metadata": {},
   "outputs": [],
   "source": [
    "from sklearn.model_selection import train_test_split\n",
    "split = train_test_split(range(100), test_size=0.1, random_state=1234)\n",
    "train, test = data.split(split)"
   ]
  },
  {
   "cell_type": "code",
   "execution_count": 10,
   "metadata": {},
   "outputs": [
    {
     "name": "stdout",
     "output_type": "stream",
     "text": [
      "2025-03-18 16:16:37,201 - modnet - INFO - Starting target 1/1: gap_expt_eV ...\n",
      "2025-03-18 16:16:37,202 - modnet - INFO - Computing mutual information between features and target...\n"
     ]
    },
    {
     "name": "stderr",
     "output_type": "stream",
     "text": [
      "/home/nomad-lanasc/anaconda3/envs/modnet/lib/python3.9/site-packages/sklearn/utils/_array_api.py:776: RuntimeWarning: All-NaN slice encountered\n",
      "  return xp.asarray(numpy.nanmin(X, axis=axis))\n",
      "/home/nomad-lanasc/anaconda3/envs/modnet/lib/python3.9/site-packages/sklearn/utils/_array_api.py:793: RuntimeWarning: All-NaN slice encountered\n",
      "  return xp.asarray(numpy.nanmax(X, axis=axis))\n"
     ]
    },
    {
     "name": "stdout",
     "output_type": "stream",
     "text": [
      "2025-03-18 16:16:37,801 - modnet - INFO - Computing optimal features...\n",
      "2025-03-18 16:16:39,777 - modnet - INFO - Selected 50/139 features...\n",
      "2025-03-18 16:16:40,983 - modnet - INFO - Selected 100/139 features...\n",
      "2025-03-18 16:16:41,313 - modnet - INFO - Done with target 1/1: gap_expt_eV.\n",
      "2025-03-18 16:16:41,314 - modnet - INFO - Merging all features...\n",
      "2025-03-18 16:16:41,314 - modnet - INFO - Done.\n"
     ]
    }
   ],
   "source": [
    "n_features = 139\n",
    "\n",
    "train.feature_selection(n=n_features)"
   ]
  },
  {
   "cell_type": "code",
   "execution_count": 11,
   "metadata": {},
   "outputs": [],
   "source": [
    "model = MODNetModel([[['gap_expt_eV']]],\n",
    "                    weights={'gap_expt_eV':1},\n",
    "                    num_neurons = [[256], [128], [16], [16]],\n",
    "                    n_feat = n_features,\n",
    "                    act =  \"elu\"\n",
    "                   )"
   ]
  },
  {
   "cell_type": "code",
   "execution_count": 18,
   "metadata": {},
   "outputs": [
    {
     "name": "stdout",
     "output_type": "stream",
     "text": [
      "epoch 0: loss: 0.136, val_loss:0.429 val_mae:0.429\n",
      "epoch 1: loss: 0.165, val_loss:0.447 val_mae:0.447\n",
      "epoch 2: loss: 0.132, val_loss:0.440 val_mae:0.440\n",
      "epoch 3: loss: 0.115, val_loss:0.449 val_mae:0.449\n",
      "epoch 4: loss: 0.134, val_loss:0.449 val_mae:0.449\n",
      "epoch 5: loss: 0.118, val_loss:0.430 val_mae:0.430\n",
      "epoch 6: loss: 0.114, val_loss:0.427 val_mae:0.427\n",
      "epoch 7: loss: 0.114, val_loss:0.443 val_mae:0.443\n",
      "epoch 8: loss: 0.119, val_loss:0.437 val_mae:0.437\n",
      "epoch 9: loss: 0.120, val_loss:0.419 val_mae:0.419\n",
      "epoch 10: loss: 0.114, val_loss:0.405 val_mae:0.405\n",
      "epoch 11: loss: 0.121, val_loss:0.400 val_mae:0.400\n",
      "epoch 12: loss: 0.115, val_loss:0.421 val_mae:0.421\n",
      "epoch 13: loss: 0.120, val_loss:0.447 val_mae:0.447\n",
      "epoch 14: loss: 0.131, val_loss:0.443 val_mae:0.443\n",
      "epoch 15: loss: 0.116, val_loss:0.419 val_mae:0.419\n",
      "epoch 16: loss: 0.119, val_loss:0.412 val_mae:0.412\n",
      "epoch 17: loss: 0.123, val_loss:0.413 val_mae:0.413\n",
      "epoch 18: loss: 0.110, val_loss:0.436 val_mae:0.436\n",
      "epoch 19: loss: 0.116, val_loss:0.436 val_mae:0.436\n",
      "epoch 20: loss: 0.114, val_loss:0.425 val_mae:0.425\n",
      "epoch 21: loss: 0.112, val_loss:0.431 val_mae:0.431\n",
      "epoch 22: loss: 0.109, val_loss:0.431 val_mae:0.431\n",
      "epoch 23: loss: 0.110, val_loss:0.432 val_mae:0.432\n",
      "epoch 24: loss: 0.113, val_loss:0.451 val_mae:0.451\n",
      "epoch 25: loss: 0.112, val_loss:0.459 val_mae:0.459\n",
      "epoch 26: loss: 0.118, val_loss:0.437 val_mae:0.437\n",
      "epoch 27: loss: 0.112, val_loss:0.427 val_mae:0.427\n",
      "epoch 28: loss: 0.110, val_loss:0.435 val_mae:0.435\n",
      "epoch 29: loss: 0.115, val_loss:0.432 val_mae:0.432\n",
      "epoch 30: loss: 0.107, val_loss:0.431 val_mae:0.431\n",
      "epoch 31: loss: 0.116, val_loss:0.437 val_mae:0.437\n",
      "epoch 32: loss: 0.109, val_loss:0.431 val_mae:0.431\n",
      "epoch 33: loss: 0.105, val_loss:0.421 val_mae:0.421\n",
      "epoch 34: loss: 0.105, val_loss:0.433 val_mae:0.433\n",
      "epoch 35: loss: 0.105, val_loss:0.432 val_mae:0.432\n",
      "epoch 36: loss: 0.102, val_loss:0.423 val_mae:0.423\n",
      "epoch 37: loss: 0.103, val_loss:0.433 val_mae:0.433\n",
      "epoch 38: loss: 0.109, val_loss:0.433 val_mae:0.433\n",
      "epoch 39: loss: 0.112, val_loss:0.435 val_mae:0.435\n",
      "epoch 40: loss: 0.115, val_loss:0.438 val_mae:0.438\n",
      "epoch 41: loss: 0.110, val_loss:0.427 val_mae:0.427\n",
      "epoch 42: loss: 0.106, val_loss:0.417 val_mae:0.417\n",
      "epoch 43: loss: 0.121, val_loss:0.425 val_mae:0.425\n",
      "epoch 44: loss: 0.117, val_loss:0.445 val_mae:0.445\n",
      "epoch 45: loss: 0.103, val_loss:0.445 val_mae:0.445\n",
      "epoch 46: loss: 0.104, val_loss:0.429 val_mae:0.429\n",
      "epoch 47: loss: 0.105, val_loss:0.426 val_mae:0.426\n",
      "epoch 48: loss: 0.101, val_loss:0.427 val_mae:0.427\n",
      "epoch 49: loss: 0.102, val_loss:0.423 val_mae:0.423\n",
      "epoch 50: loss: 0.104, val_loss:0.418 val_mae:0.418\n",
      "epoch 51: loss: 0.104, val_loss:0.418 val_mae:0.418\n",
      "epoch 52: loss: 0.106, val_loss:0.425 val_mae:0.425\n",
      "epoch 53: loss: 0.100, val_loss:0.427 val_mae:0.427\n",
      "epoch 54: loss: 0.106, val_loss:0.430 val_mae:0.430\n",
      "epoch 55: loss: 0.104, val_loss:0.418 val_mae:0.418\n",
      "epoch 56: loss: 0.107, val_loss:0.422 val_mae:0.422\n",
      "epoch 57: loss: 0.106, val_loss:0.445 val_mae:0.445\n",
      "epoch 58: loss: 0.109, val_loss:0.452 val_mae:0.452\n",
      "epoch 59: loss: 0.107, val_loss:0.437 val_mae:0.437\n",
      "epoch 60: loss: 0.110, val_loss:0.433 val_mae:0.433\n",
      "epoch 61: loss: 0.101, val_loss:0.442 val_mae:0.442\n",
      "epoch 62: loss: 0.115, val_loss:0.436 val_mae:0.436\n",
      "epoch 63: loss: 0.107, val_loss:0.432 val_mae:0.432\n",
      "epoch 64: loss: 0.107, val_loss:0.445 val_mae:0.445\n",
      "epoch 65: loss: 0.102, val_loss:0.443 val_mae:0.443\n",
      "epoch 66: loss: 0.102, val_loss:0.432 val_mae:0.432\n",
      "epoch 67: loss: 0.101, val_loss:0.432 val_mae:0.432\n",
      "epoch 68: loss: 0.103, val_loss:0.438 val_mae:0.438\n",
      "epoch 69: loss: 0.103, val_loss:0.437 val_mae:0.437\n",
      "epoch 70: loss: 0.100, val_loss:0.432 val_mae:0.432\n",
      "epoch 71: loss: 0.103, val_loss:0.439 val_mae:0.439\n",
      "epoch 72: loss: 0.107, val_loss:0.439 val_mae:0.439\n",
      "epoch 73: loss: 0.110, val_loss:0.431 val_mae:0.431\n",
      "epoch 74: loss: 0.101, val_loss:0.438 val_mae:0.438\n",
      "epoch 75: loss: 0.100, val_loss:0.435 val_mae:0.435\n",
      "epoch 76: loss: 0.097, val_loss:0.436 val_mae:0.436\n",
      "epoch 77: loss: 0.096, val_loss:0.441 val_mae:0.441\n",
      "epoch 78: loss: 0.098, val_loss:0.429 val_mae:0.429\n",
      "epoch 79: loss: 0.097, val_loss:0.435 val_mae:0.435\n",
      "epoch 80: loss: 0.099, val_loss:0.445 val_mae:0.445\n",
      "epoch 81: loss: 0.102, val_loss:0.443 val_mae:0.443\n",
      "epoch 82: loss: 0.099, val_loss:0.439 val_mae:0.439\n",
      "epoch 83: loss: 0.101, val_loss:0.447 val_mae:0.447\n",
      "epoch 84: loss: 0.097, val_loss:0.449 val_mae:0.449\n",
      "epoch 85: loss: 0.101, val_loss:0.447 val_mae:0.447\n",
      "epoch 86: loss: 0.114, val_loss:0.434 val_mae:0.434\n",
      "epoch 87: loss: 0.106, val_loss:0.425 val_mae:0.425\n",
      "epoch 88: loss: 0.115, val_loss:0.431 val_mae:0.431\n",
      "epoch 89: loss: 0.103, val_loss:0.437 val_mae:0.437\n",
      "epoch 90: loss: 0.103, val_loss:0.429 val_mae:0.429\n",
      "epoch 91: loss: 0.099, val_loss:0.430 val_mae:0.430\n",
      "epoch 92: loss: 0.099, val_loss:0.433 val_mae:0.433\n",
      "epoch 93: loss: 0.099, val_loss:0.425 val_mae:0.425\n",
      "epoch 94: loss: 0.099, val_loss:0.427 val_mae:0.427\n",
      "epoch 95: loss: 0.098, val_loss:0.433 val_mae:0.433\n",
      "epoch 96: loss: 0.103, val_loss:0.421 val_mae:0.421\n",
      "epoch 97: loss: 0.099, val_loss:0.421 val_mae:0.421\n",
      "epoch 98: loss: 0.098, val_loss:0.445 val_mae:0.445\n",
      "epoch 99: loss: 0.116, val_loss:0.451 val_mae:0.451\n",
      "epoch 100: loss: 0.111, val_loss:0.429 val_mae:0.429\n",
      "epoch 101: loss: 0.110, val_loss:0.426 val_mae:0.426\n",
      "epoch 102: loss: 0.101, val_loss:0.441 val_mae:0.441\n",
      "epoch 103: loss: 0.104, val_loss:0.435 val_mae:0.435\n",
      "epoch 104: loss: 0.101, val_loss:0.425 val_mae:0.425\n",
      "epoch 105: loss: 0.104, val_loss:0.433 val_mae:0.433\n",
      "epoch 106: loss: 0.097, val_loss:0.438 val_mae:0.438\n",
      "epoch 107: loss: 0.102, val_loss:0.429 val_mae:0.429\n",
      "epoch 108: loss: 0.117, val_loss:0.433 val_mae:0.433\n",
      "epoch 109: loss: 0.100, val_loss:0.435 val_mae:0.435\n",
      "epoch 110: loss: 0.104, val_loss:0.431 val_mae:0.431\n",
      "epoch 111: loss: 0.098, val_loss:0.437 val_mae:0.437\n",
      "epoch 112: loss: 0.097, val_loss:0.427 val_mae:0.427\n",
      "epoch 113: loss: 0.099, val_loss:0.431 val_mae:0.431\n",
      "epoch 114: loss: 0.095, val_loss:0.458 val_mae:0.458\n",
      "epoch 115: loss: 0.107, val_loss:0.461 val_mae:0.461\n",
      "epoch 116: loss: 0.101, val_loss:0.435 val_mae:0.435\n",
      "epoch 117: loss: 0.108, val_loss:0.436 val_mae:0.436\n",
      "epoch 118: loss: 0.104, val_loss:0.454 val_mae:0.454\n",
      "epoch 119: loss: 0.099, val_loss:0.449 val_mae:0.449\n",
      "epoch 120: loss: 0.097, val_loss:0.431 val_mae:0.431\n",
      "epoch 121: loss: 0.098, val_loss:0.435 val_mae:0.435\n",
      "epoch 122: loss: 0.109, val_loss:0.436 val_mae:0.436\n",
      "epoch 123: loss: 0.096, val_loss:0.422 val_mae:0.422\n",
      "epoch 124: loss: 0.110, val_loss:0.425 val_mae:0.425\n",
      "epoch 125: loss: 0.097, val_loss:0.441 val_mae:0.441\n",
      "epoch 126: loss: 0.103, val_loss:0.436 val_mae:0.436\n",
      "epoch 127: loss: 0.101, val_loss:0.433 val_mae:0.433\n",
      "epoch 128: loss: 0.096, val_loss:0.438 val_mae:0.438\n",
      "epoch 129: loss: 0.100, val_loss:0.443 val_mae:0.443\n",
      "epoch 130: loss: 0.103, val_loss:0.451 val_mae:0.451\n",
      "epoch 131: loss: 0.099, val_loss:0.442 val_mae:0.442\n",
      "epoch 132: loss: 0.097, val_loss:0.419 val_mae:0.419\n",
      "epoch 133: loss: 0.106, val_loss:0.419 val_mae:0.419\n",
      "epoch 134: loss: 0.101, val_loss:0.439 val_mae:0.439\n",
      "epoch 135: loss: 0.102, val_loss:0.444 val_mae:0.444\n",
      "epoch 136: loss: 0.100, val_loss:0.427 val_mae:0.427\n",
      "epoch 137: loss: 0.103, val_loss:0.431 val_mae:0.431\n",
      "epoch 138: loss: 0.097, val_loss:0.446 val_mae:0.446\n",
      "epoch 139: loss: 0.106, val_loss:0.441 val_mae:0.441\n",
      "epoch 140: loss: 0.100, val_loss:0.429 val_mae:0.429\n",
      "epoch 141: loss: 0.108, val_loss:0.442 val_mae:0.442\n",
      "epoch 142: loss: 0.098, val_loss:0.457 val_mae:0.457\n",
      "epoch 143: loss: 0.102, val_loss:0.448 val_mae:0.448\n",
      "epoch 144: loss: 0.118, val_loss:0.440 val_mae:0.440\n",
      "epoch 145: loss: 0.104, val_loss:0.451 val_mae:0.451\n",
      "epoch 146: loss: 0.133, val_loss:0.462 val_mae:0.462\n",
      "epoch 147: loss: 0.111, val_loss:0.452 val_mae:0.452\n",
      "epoch 148: loss: 0.134, val_loss:0.439 val_mae:0.439\n",
      "epoch 149: loss: 0.141, val_loss:0.437 val_mae:0.437\n",
      "epoch 150: loss: 0.111, val_loss:0.441 val_mae:0.441\n",
      "epoch 151: loss: 0.139, val_loss:0.439 val_mae:0.439\n",
      "epoch 152: loss: 0.107, val_loss:0.449 val_mae:0.449\n",
      "epoch 153: loss: 0.115, val_loss:0.464 val_mae:0.464\n",
      "epoch 154: loss: 0.107, val_loss:0.458 val_mae:0.458\n",
      "epoch 155: loss: 0.099, val_loss:0.434 val_mae:0.434\n",
      "epoch 156: loss: 0.106, val_loss:0.427 val_mae:0.427\n",
      "epoch 157: loss: 0.115, val_loss:0.442 val_mae:0.442\n",
      "epoch 158: loss: 0.094, val_loss:0.455 val_mae:0.455\n",
      "epoch 159: loss: 0.109, val_loss:0.442 val_mae:0.442\n",
      "epoch 160: loss: 0.100, val_loss:0.424 val_mae:0.424\n",
      "epoch 161: loss: 0.106, val_loss:0.428 val_mae:0.428\n",
      "epoch 162: loss: 0.101, val_loss:0.447 val_mae:0.447\n",
      "epoch 163: loss: 0.101, val_loss:0.457 val_mae:0.457\n",
      "epoch 164: loss: 0.104, val_loss:0.446 val_mae:0.446\n",
      "epoch 165: loss: 0.110, val_loss:0.431 val_mae:0.431\n",
      "epoch 166: loss: 0.105, val_loss:0.429 val_mae:0.429\n",
      "epoch 167: loss: 0.109, val_loss:0.439 val_mae:0.439\n",
      "epoch 168: loss: 0.094, val_loss:0.452 val_mae:0.452\n",
      "epoch 169: loss: 0.107, val_loss:0.453 val_mae:0.453\n",
      "epoch 170: loss: 0.101, val_loss:0.446 val_mae:0.446\n",
      "epoch 171: loss: 0.090, val_loss:0.446 val_mae:0.446\n",
      "epoch 172: loss: 0.090, val_loss:0.441 val_mae:0.441\n",
      "epoch 173: loss: 0.089, val_loss:0.437 val_mae:0.437\n",
      "epoch 174: loss: 0.091, val_loss:0.429 val_mae:0.429\n",
      "epoch 175: loss: 0.094, val_loss:0.421 val_mae:0.421\n",
      "epoch 176: loss: 0.097, val_loss:0.432 val_mae:0.432\n",
      "epoch 177: loss: 0.090, val_loss:0.446 val_mae:0.446\n",
      "epoch 178: loss: 0.095, val_loss:0.441 val_mae:0.441\n",
      "epoch 179: loss: 0.095, val_loss:0.430 val_mae:0.430\n",
      "epoch 180: loss: 0.092, val_loss:0.433 val_mae:0.433\n",
      "epoch 181: loss: 0.105, val_loss:0.430 val_mae:0.430\n",
      "epoch 182: loss: 0.095, val_loss:0.436 val_mae:0.436\n",
      "epoch 183: loss: 0.097, val_loss:0.445 val_mae:0.445\n",
      "epoch 184: loss: 0.092, val_loss:0.439 val_mae:0.439\n",
      "epoch 185: loss: 0.098, val_loss:0.434 val_mae:0.434\n",
      "epoch 186: loss: 0.095, val_loss:0.445 val_mae:0.445\n",
      "epoch 187: loss: 0.099, val_loss:0.434 val_mae:0.434\n",
      "epoch 188: loss: 0.090, val_loss:0.425 val_mae:0.425\n",
      "epoch 189: loss: 0.097, val_loss:0.433 val_mae:0.433\n",
      "epoch 190: loss: 0.089, val_loss:0.438 val_mae:0.438\n",
      "epoch 191: loss: 0.087, val_loss:0.441 val_mae:0.441\n",
      "epoch 192: loss: 0.087, val_loss:0.438 val_mae:0.438\n",
      "epoch 193: loss: 0.089, val_loss:0.440 val_mae:0.440\n",
      "epoch 194: loss: 0.087, val_loss:0.432 val_mae:0.432\n",
      "epoch 195: loss: 0.094, val_loss:0.429 val_mae:0.429\n",
      "epoch 196: loss: 0.095, val_loss:0.431 val_mae:0.431\n",
      "epoch 197: loss: 0.089, val_loss:0.440 val_mae:0.440\n",
      "epoch 198: loss: 0.091, val_loss:0.440 val_mae:0.440\n",
      "epoch 199: loss: 0.100, val_loss:0.431 val_mae:0.431\n",
      "2025-03-18 16:17:19,312 - modnet - INFO - Model successfully saved as models/modnet_gap_expt.tgz!\n"
     ]
    }
   ],
   "source": [
    "model.fit(train,\n",
    "          val_fraction = 0.1,\n",
    "          lr = 0.0002,\n",
    "          batch_size = 64,\n",
    "          loss = 'mae',\n",
    "          epochs = 200,\n",
    "          verbose = 1,\n",
    "         )\n",
    "\n",
    "\n",
    "model.save(\"models/modnet_gap_expt.tgz\")"
   ]
  },
  {
   "cell_type": "code",
   "execution_count": 19,
   "metadata": {},
   "outputs": [
    {
     "name": "stdout",
     "output_type": "stream",
     "text": [
      "1/1 [==============================] - 0s 36ms/step\n"
     ]
    },
    {
     "data": {
      "text/html": [
       "<div>\n",
       "<style scoped>\n",
       "    .dataframe tbody tr th:only-of-type {\n",
       "        vertical-align: middle;\n",
       "    }\n",
       "\n",
       "    .dataframe tbody tr th {\n",
       "        vertical-align: top;\n",
       "    }\n",
       "\n",
       "    .dataframe thead th {\n",
       "        text-align: right;\n",
       "    }\n",
       "</style>\n",
       "<table border=\"1\" class=\"dataframe\">\n",
       "  <thead>\n",
       "    <tr style=\"text-align: right;\">\n",
       "      <th></th>\n",
       "      <th>gap_expt_eV</th>\n",
       "      <th>material</th>\n",
       "    </tr>\n",
       "  </thead>\n",
       "  <tbody>\n",
       "    <tr>\n",
       "      <th>id40</th>\n",
       "      <td>1.799299</td>\n",
       "      <td>(Ag, In, Al, S)</td>\n",
       "    </tr>\n",
       "    <tr>\n",
       "      <th>id35</th>\n",
       "      <td>2.660298</td>\n",
       "      <td>(Ag, Ga, Si, Se)</td>\n",
       "    </tr>\n",
       "    <tr>\n",
       "      <th>id81</th>\n",
       "      <td>0.622000</td>\n",
       "      <td>(Ag, Ge, Se)</td>\n",
       "    </tr>\n",
       "    <tr>\n",
       "      <th>id61</th>\n",
       "      <td>1.798734</td>\n",
       "      <td>(Ag, Sb, S)</td>\n",
       "    </tr>\n",
       "    <tr>\n",
       "      <th>id98</th>\n",
       "      <td>2.048262</td>\n",
       "      <td>(Ag, As, S)</td>\n",
       "    </tr>\n",
       "  </tbody>\n",
       "</table>\n",
       "</div>"
      ],
      "text/plain": [
       "      gap_expt_eV          material\n",
       "id40     1.799299   (Ag, In, Al, S)\n",
       "id35     2.660298  (Ag, Ga, Si, Se)\n",
       "id81     0.622000      (Ag, Ge, Se)\n",
       "id61     1.798734       (Ag, Sb, S)\n",
       "id98     2.048262       (Ag, As, S)"
      ]
     },
     "execution_count": 19,
     "metadata": {},
     "output_type": "execute_result"
    }
   ],
   "source": [
    "pred = model.predict(test)\n",
    "index = pred.index.str.replace('id', '').astype(int)\n",
    "pred['material'] = [df.loc[x, 'composition'] for x in index] \n",
    "pred.head()"
   ]
  },
  {
   "cell_type": "code",
   "execution_count": 20,
   "metadata": {},
   "outputs": [
    {
     "name": "stdout",
     "output_type": "stream",
     "text": [
      "mae: 0.9550843278461031\n"
     ]
    }
   ],
   "source": [
    "mae_test = np.absolute(pred['gap_expt_eV'].values-test.df_targets.values).mean()\n",
    "print(f'mae: {mae_test}')"
   ]
  },
  {
   "cell_type": "markdown",
   "metadata": {},
   "source": [
    "Predict new structures"
   ]
  },
  {
   "cell_type": "code",
   "execution_count": 21,
   "metadata": {},
   "outputs": [
    {
     "name": "stdout",
     "output_type": "stream",
     "text": [
      "2025-03-18 16:17:22,827 - modnet - INFO - Loaded CompositionOnlyMatminer2023Featurizer featurizer.\n",
      "2025-03-18 16:17:22,829 - modnet - INFO - Computing features, this can take time...\n",
      "2025-03-18 16:17:22,829 - modnet - INFO - Applying composition featurizers...\n",
      "2025-03-18 16:17:22,831 - modnet - INFO - Applying featurizers (AtomicOrbitals(), AtomicPackingEfficiency(), BandCenter(), ElementFraction(), ElementProperty(data_source=<matminer.utils.data.MagpieData object at 0x79ea1c6c6760>,\n",
      "                features=['Number', 'MendeleevNumber', 'AtomicWeight',\n",
      "                          'MeltingT', 'Column', 'Row', 'CovalentRadius',\n",
      "                          'Electronegativity', 'NsValence', 'NpValence',\n",
      "                          'NdValence', 'NfValence', 'NValence', 'NsUnfilled',\n",
      "                          'NpUnfilled', 'NdUnfilled', 'NfUnfilled', 'NUnfilled',\n",
      "                          'GSvolume_pa', 'GSbandgap', 'GSmagmom',\n",
      "                          'SpaceGroupNumber'],\n",
      "                stats=['minimum', 'maximum', 'range', 'mean', 'avg_dev',\n",
      "                       'mode']), IonProperty(data_source=<matminer.utils.data.PymatgenData object at 0x79ea1c6c6880>), Miedema(ss_types=['min'], struct_types=['inter', 'amor', 'ss']), Stoichiometry(), TMetalFraction(), ValenceOrbital(), YangSolidSolution()) to column 'composition'.\n"
     ]
    },
    {
     "name": "stderr",
     "output_type": "stream",
     "text": [
      "MultipleFeaturizer: 100%|██████████| 385/385 [00:59<00:00,  6.48it/s]\n"
     ]
    },
    {
     "name": "stdout",
     "output_type": "stream",
     "text": [
      "2025-03-18 16:18:33,744 - modnet - INFO - Data has successfully been featurized!\n",
      "2025-03-18 16:18:33,772 - modnet - INFO - Loaded <modnet.models.vanilla.MODNetModel object at 0x79ea1cf044f0> object, created with modnet version 0.4.4\n",
      "13/13 [==============================] - 0s 796us/step\n"
     ]
    }
   ],
   "source": [
    "new_df = pd.read_csv('data/stable_compositions.csv')\n",
    "\n",
    "new_df.rename(columns={'Unnamed: 0':'formula'}, inplace=True)\n",
    "\n",
    "new_df[\"composition\"] = new_df['formula'].map(Composition)\n",
    "\n",
    "new_structures = MODData(materials=new_df['composition'])\n",
    "new_structures.featurize()\n",
    "\n",
    "model = MODNetModel.load(\"models/modnet_gap_expt.tgz\")\n",
    "\n",
    "new_pred = model.predict(new_structures)"
   ]
  },
  {
   "cell_type": "code",
   "execution_count": 22,
   "metadata": {},
   "outputs": [
    {
     "data": {
      "text/html": [
       "<div>\n",
       "<style scoped>\n",
       "    .dataframe tbody tr th:only-of-type {\n",
       "        vertical-align: middle;\n",
       "    }\n",
       "\n",
       "    .dataframe tbody tr th {\n",
       "        vertical-align: top;\n",
       "    }\n",
       "\n",
       "    .dataframe thead th {\n",
       "        text-align: right;\n",
       "    }\n",
       "</style>\n",
       "<table border=\"1\" class=\"dataframe\">\n",
       "  <thead>\n",
       "    <tr style=\"text-align: right;\">\n",
       "      <th></th>\n",
       "      <th>gap_expt_eV</th>\n",
       "      <th>material</th>\n",
       "    </tr>\n",
       "  </thead>\n",
       "  <tbody>\n",
       "    <tr>\n",
       "      <th>id0</th>\n",
       "      <td>1.092098</td>\n",
       "      <td>BaPbS3</td>\n",
       "    </tr>\n",
       "    <tr>\n",
       "      <th>id1</th>\n",
       "      <td>2.144469</td>\n",
       "      <td>BaPrS3</td>\n",
       "    </tr>\n",
       "    <tr>\n",
       "      <th>id2</th>\n",
       "      <td>2.675981</td>\n",
       "      <td>BaCeS3</td>\n",
       "    </tr>\n",
       "    <tr>\n",
       "      <th>id3</th>\n",
       "      <td>0.784368</td>\n",
       "      <td>BaHfS3</td>\n",
       "    </tr>\n",
       "    <tr>\n",
       "      <th>id4</th>\n",
       "      <td>1.718189</td>\n",
       "      <td>BaZrS3</td>\n",
       "    </tr>\n",
       "  </tbody>\n",
       "</table>\n",
       "</div>"
      ],
      "text/plain": [
       "     gap_expt_eV material\n",
       "id0     1.092098   BaPbS3\n",
       "id1     2.144469   BaPrS3\n",
       "id2     2.675981   BaCeS3\n",
       "id3     0.784368   BaHfS3\n",
       "id4     1.718189   BaZrS3"
      ]
     },
     "execution_count": 22,
     "metadata": {},
     "output_type": "execute_result"
    }
   ],
   "source": [
    "index = new_pred.index.str.replace('id', '').astype(int)\n",
    "new_pred['material'] = [new_df.loc[x, 'formula'] for x in index]\n",
    "new_pred.head()"
   ]
  },
  {
   "cell_type": "code",
   "execution_count": 23,
   "metadata": {},
   "outputs": [
    {
     "data": {
      "image/png": "[encoded data removed]",
      "text/plain": [
       "<Figure size 640x480 with 1 Axes>"
      ]
     },
     "metadata": {},
     "output_type": "display_data"
    }
   ],
   "source": [
    "new_pred.gap_expt_eV.hist(bins=11, density=False)\n",
    "ax.set_ylabel(\"Frequency\")\n",
    "ax.set_xlabel(\"Band gap (eV)\")\n",
    "plt.show()"
   ]
  },
  {
   "cell_type": "code",
   "execution_count": 24,
   "metadata": {},
   "outputs": [
    {
     "data": {
      "text/html": [
       "<div>\n",
       "<style scoped>\n",
       "    .dataframe tbody tr th:only-of-type {\n",
       "        vertical-align: middle;\n",
       "    }\n",
       "\n",
       "    .dataframe tbody tr th {\n",
       "        vertical-align: top;\n",
       "    }\n",
       "\n",
       "    .dataframe thead th {\n",
       "        text-align: right;\n",
       "    }\n",
       "</style>\n",
       "<table border=\"1\" class=\"dataframe\">\n",
       "  <thead>\n",
       "    <tr style=\"text-align: right;\">\n",
       "      <th></th>\n",
       "      <th>gap_expt_eV</th>\n",
       "      <th>material</th>\n",
       "    </tr>\n",
       "  </thead>\n",
       "  <tbody>\n",
       "    <tr>\n",
       "      <th>id0</th>\n",
       "      <td>1.092098</td>\n",
       "      <td>BaPbS3</td>\n",
       "    </tr>\n",
       "    <tr>\n",
       "      <th>id1</th>\n",
       "      <td>2.144469</td>\n",
       "      <td>BaPrS3</td>\n",
       "    </tr>\n",
       "    <tr>\n",
       "      <th>id2</th>\n",
       "      <td>2.675981</td>\n",
       "      <td>BaCeS3</td>\n",
       "    </tr>\n",
       "    <tr>\n",
       "      <th>id3</th>\n",
       "      <td>0.784368</td>\n",
       "      <td>BaHfS3</td>\n",
       "    </tr>\n",
       "    <tr>\n",
       "      <th>id4</th>\n",
       "      <td>1.718189</td>\n",
       "      <td>BaZrS3</td>\n",
       "    </tr>\n",
       "    <tr>\n",
       "      <th>id5</th>\n",
       "      <td>1.520072</td>\n",
       "      <td>BaTbS3</td>\n",
       "    </tr>\n",
       "    <tr>\n",
       "      <th>id6</th>\n",
       "      <td>1.763275</td>\n",
       "      <td>BaUS3</td>\n",
       "    </tr>\n",
       "    <tr>\n",
       "      <th>id7</th>\n",
       "      <td>1.598196</td>\n",
       "      <td>EuCuS3</td>\n",
       "    </tr>\n",
       "    <tr>\n",
       "      <th>id8</th>\n",
       "      <td>0.857723</td>\n",
       "      <td>EuCuSe3</td>\n",
       "    </tr>\n",
       "    <tr>\n",
       "      <th>id9</th>\n",
       "      <td>1.805027</td>\n",
       "      <td>EuScS3</td>\n",
       "    </tr>\n",
       "    <tr>\n",
       "      <th>id10</th>\n",
       "      <td>1.183670</td>\n",
       "      <td>EuScSe3</td>\n",
       "    </tr>\n",
       "    <tr>\n",
       "      <th>id11</th>\n",
       "      <td>1.140849</td>\n",
       "      <td>EuRhS3</td>\n",
       "    </tr>\n",
       "    <tr>\n",
       "      <th>id12</th>\n",
       "      <td>1.125856</td>\n",
       "      <td>EuRhSe3</td>\n",
       "    </tr>\n",
       "    <tr>\n",
       "      <th>id13</th>\n",
       "      <td>1.262820</td>\n",
       "      <td>EuMoS3</td>\n",
       "    </tr>\n",
       "    <tr>\n",
       "      <th>id14</th>\n",
       "      <td>1.131436</td>\n",
       "      <td>EuMoSe3</td>\n",
       "    </tr>\n",
       "    <tr>\n",
       "      <th>id15</th>\n",
       "      <td>1.376447</td>\n",
       "      <td>EuNiS3</td>\n",
       "    </tr>\n",
       "    <tr>\n",
       "      <th>id16</th>\n",
       "      <td>1.032141</td>\n",
       "      <td>EuNiSe3</td>\n",
       "    </tr>\n",
       "    <tr>\n",
       "      <th>id17</th>\n",
       "      <td>1.275937</td>\n",
       "      <td>EuCoS3</td>\n",
       "    </tr>\n",
       "    <tr>\n",
       "      <th>id18</th>\n",
       "      <td>0.992277</td>\n",
       "      <td>EuCoSe3</td>\n",
       "    </tr>\n",
       "    <tr>\n",
       "      <th>id19</th>\n",
       "      <td>1.948377</td>\n",
       "      <td>EuGaS3</td>\n",
       "    </tr>\n",
       "  </tbody>\n",
       "</table>\n",
       "</div>"
      ],
      "text/plain": [
       "      gap_expt_eV material\n",
       "id0      1.092098   BaPbS3\n",
       "id1      2.144469   BaPrS3\n",
       "id2      2.675981   BaCeS3\n",
       "id3      0.784368   BaHfS3\n",
       "id4      1.718189   BaZrS3\n",
       "id5      1.520072   BaTbS3\n",
       "id6      1.763275    BaUS3\n",
       "id7      1.598196   EuCuS3\n",
       "id8      0.857723  EuCuSe3\n",
       "id9      1.805027   EuScS3\n",
       "id10     1.183670  EuScSe3\n",
       "id11     1.140849   EuRhS3\n",
       "id12     1.125856  EuRhSe3\n",
       "id13     1.262820   EuMoS3\n",
       "id14     1.131436  EuMoSe3\n",
       "id15     1.376447   EuNiS3\n",
       "id16     1.032141  EuNiSe3\n",
       "id17     1.275937   EuCoS3\n",
       "id18     0.992277  EuCoSe3\n",
       "id19     1.948377   EuGaS3"
      ]
     },
     "execution_count": 24,
     "metadata": {},
     "output_type": "execute_result"
    }
   ],
   "source": [
    "new_pred.head(20)"
   ]
  },
  {
   "cell_type": "code",
   "execution_count": null,
   "metadata": {},
   "outputs": [],
   "source": []
  }
 ],
 "metadata": {
  "kernelspec": {
   "display_name": "modnet",
   "language": "python",
   "name": "python3"
  },
  "language_info": {
   "codemirror_mode": {
    "name": "ipython",
    "version": 3
   },
   "file_extension": ".py",
   "mimetype": "text/x-python",
   "name": "python",
   "nbconvert_exporter": "python",
   "pygments_lexer": "ipython3",
   "version": "3.9.21"
  }
 },
 "nbformat": 4,
 "nbformat_minor": 2
}
